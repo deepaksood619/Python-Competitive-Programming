{
 "cells": [
  {
   "cell_type": "code",
   "execution_count": null,
   "metadata": {},
   "outputs": [],
   "source": [
    "def find_opt_dimen(n):\n",
    "    max_cols = 8\n",
    "    \n",
    "    num_r = 1\n",
    "    for c in range(max_cols, 1, -1):\n",
    "        if n%c == 0:\n",
    "            num_c = c\n",
    "            \n",
    "#             num_r = c\n",
    "#             num_c = n // c\n",
    "\n",
    "# #             print (n, num_r, num_c)\n",
    "#             if num_c > max_cols:\n",
    "#                 continue\n",
    "            \n",
    "\n",
    "            return (num_r, num_c)"
   ]
  },
  {
   "cell_type": "code",
   "execution_count": null,
   "metadata": {},
   "outputs": [],
   "source": [
    "# return row, col\n",
    "def find_dimen(n):\n",
    "    if n == 1:\n",
    "        return (1, 1)\n",
    "        \n",
    "    # prime\n",
    "    i = 0\n",
    "    while True:\n",
    "        sol = find_opt_dimen(n+i)\n",
    "        if sol:\n",
    "            return sol\n",
    "        i += 1"
   ]
  },
  {
   "cell_type": "code",
   "execution_count": null,
   "metadata": {},
   "outputs": [],
   "source": [
    "find_dimen(65)"
   ]
  },
  {
   "cell_type": "code",
   "execution_count": null,
   "metadata": {},
   "outputs": [],
   "source": [
    "def solution(n):\n",
    "#     rows = n // 8 + min(1, n % 8)\n",
    "    rows = (n + 7) // 8\n",
    "    cols = min(n, 8)\n",
    "    return (rows, cols)"
   ]
  },
  {
   "cell_type": "code",
   "execution_count": null,
   "metadata": {},
   "outputs": [],
   "source": [
    "for n in range(1, 100):\n",
    "    print (n, solution(n))"
   ]
  },
  {
   "cell_type": "code",
   "execution_count": null,
   "metadata": {},
   "outputs": [],
   "source": [
    "from time import sleep\n",
    "duration = 5\n",
    "print(\"Getting sleepy. See you in\", duration, \"seconds\")\n",
    "sleep(duration)\n",
    "print(\"I'm back. What did I miss?\")"
   ]
  },
  {
   "cell_type": "code",
   "execution_count": 70,
   "metadata": {},
   "outputs": [],
   "source": [
    "from time import time, sleep\n",
    "def time_call(fn, arg):\n",
    "    \"\"\"Return the amount of time the given function takes (in seconds) when called with the given argument.\n",
    "    \"\"\"\n",
    "    start_time = time()\n",
    "    fn(arg)\n",
    "    end_time = time()\n",
    "    return round(end_time - start_time, 2)"
   ]
  },
  {
   "cell_type": "code",
   "execution_count": 71,
   "metadata": {},
   "outputs": [
    {
     "data": {
      "text/plain": [
       "2.0"
      ]
     },
     "execution_count": 71,
     "metadata": {},
     "output_type": "execute_result"
    }
   ],
   "source": [
    "time_call(sleep, 2)"
   ]
  }
 ],
 "metadata": {
  "kernelspec": {
   "display_name": "Python 3",
   "language": "python",
   "name": "python3"
  },
  "language_info": {
   "codemirror_mode": {
    "name": "ipython",
    "version": 3
   },
   "file_extension": ".py",
   "mimetype": "text/x-python",
   "name": "python",
   "nbconvert_exporter": "python",
   "pygments_lexer": "ipython3",
   "version": "3.6.5"
  }
 },
 "nbformat": 4,
 "nbformat_minor": 2
}
