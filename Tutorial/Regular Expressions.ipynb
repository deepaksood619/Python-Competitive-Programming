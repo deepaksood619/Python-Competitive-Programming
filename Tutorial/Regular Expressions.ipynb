{
 "cells": [
  {
   "cell_type": "code",
   "execution_count": 4,
   "metadata": {},
   "outputs": [
    {
     "name": "stdout",
     "output_type": "stream",
     "text": [
      "(4, 8)\n",
      "ape \n",
      "(12, 16)\n",
      "apex\n"
     ]
    }
   ],
   "source": [
    "import re\n",
    "theStr = 'The ape was apex'\n",
    "\n",
    "for i in re.finditer('ape.', theStr):\n",
    "    locTuple = i.span()\n",
    "    print(locTuple)\n",
    "    print(theStr[locTuple[0]:locTuple[1]])"
   ]
  },
  {
   "cell_type": "code",
   "execution_count": 6,
   "metadata": {},
   "outputs": [
    {
     "name": "stdout",
     "output_type": "stream",
     "text": [
      "[('555', '1212')]\n",
      "<class 'list'>\n",
      "1\n",
      "555\n",
      "1212\n"
     ]
    }
   ],
   "source": [
    "import re\n",
    "randStr = \"My number is 412-555-1212\"\n",
    "regex = re.compile(r\"412-(.*)-(.*)\")\n",
    "matches = re.findall(regex, randStr)\n",
    "print(matches)\n",
    "print(type(matches))\n",
    "\n",
    "print(len(matches))\n",
    "\n",
    "print(matches[0][0])\n",
    "print(matches[0][1])"
   ]
  },
  {
   "cell_type": "code",
   "execution_count": 10,
   "metadata": {},
   "outputs": [
    {
     "name": "stdout",
     "output_type": "stream",
     "text": [
      "(412)555-1212\n"
     ]
    }
   ],
   "source": [
    "import re\n",
    "randStr = \"412-555-1212\"\n",
    "regex = re.compile(r\"([\\d]{3})-([\\d]{3}-[\\d]{4})\")\n",
    "randStr = re.sub(regex, r'(\\1)\\2', randStr)\n",
    "print(randStr)"
   ]
  },
  {
   "cell_type": "code",
   "execution_count": 36,
   "metadata": {},
   "outputs": [
    {
     "name": "stdout",
     "output_type": "stream",
     "text": [
      "[('https://www.youtube.com', 'www.youtube.com'), ('https://www.google.com', 'www.google.com')]\n",
      "<a href='https://www.youtube.com'>www.youtube.com</a>\n",
      " <a href='https://www.google.com'>www.google.com</a>\n",
      "\n"
     ]
    }
   ],
   "source": [
    "import re\n",
    "randStr = \"https://www.youtube.com https://www.google.com\"\n",
    "\n",
    "# regex = re.compile(r'https?://(.*?)\\s?')\n",
    "# regex = re.compile(r'https?://(.*?)[\\s]')\n",
    "regex = re.compile(r'(https?://([\\w.]+))')\n",
    "\n",
    "print(re.findall(regex, randStr))\n",
    "\n",
    "randStr = re.sub(regex, r\"<a href='\\1'>\\2</a>\\n\", randStr)\n",
    "print(randStr)"
   ]
  },
  {
   "cell_type": "code",
   "execution_count": 44,
   "metadata": {},
   "outputs": [
    {
     "name": "stdout",
     "output_type": "stream",
     "text": [
      "['One', 'two', 'three', 'four']\n"
     ]
    }
   ],
   "source": [
    "import re\n",
    "randStr = \"One two three four\"\n",
    "\n",
    "regex = re.compile(r\"\\b\\w+\")\n",
    "# regex = re.compile(r'\\w+(?=\\b)')\n",
    "print(re.findall(regex, randStr))"
   ]
  },
  {
   "cell_type": "code",
   "execution_count": 48,
   "metadata": {},
   "outputs": [
    {
     "name": "stdout",
     "output_type": "stream",
     "text": [
      "['12345', '12345-1234']\n"
     ]
    }
   ],
   "source": [
    "randStr = \"12345 12345-1234 1234 123456-123\"\n",
    "\n",
    "regex = re.compile(r'\\b\\d{5}(?:-\\d{4})?\\b')\n",
    "\n",
    "print(re.findall(regex, randStr))"
   ]
  },
  {
   "cell_type": "code",
   "execution_count": 51,
   "metadata": {},
   "outputs": [
    {
     "name": "stdout",
     "output_type": "stream",
     "text": [
      "December 21 1994\n",
      "December\n"
     ]
    }
   ],
   "source": [
    "import re\n",
    "randStr = \"December 21 1994\"\n",
    "\n",
    "regex = r'^(?P<month>\\w+)\\s(?P<day>\\d+)\\s(?P<year>\\d+)'\n",
    "\n",
    "matches = re.search(regex, randStr)\n",
    "print(matches.group())\n",
    "print(matches.group('month'))"
   ]
  },
  {
   "cell_type": "markdown",
   "metadata": {},
   "source": [
    "### Regex match codin game"
   ]
  },
  {
   "cell_type": "code",
   "execution_count": 5,
   "metadata": {},
   "outputs": [
    {
     "name": "stdout",
     "output_type": "stream",
     "text": [
      "None\n",
      "None\n"
     ]
    }
   ],
   "source": [
    "import re\n",
    "\n",
    "val = 'I neeed HELP'\n",
    "\n",
    "if val.isupper():\n",
    "    print ('upper')\n",
    "elif val[-3:] == '!!!':\n",
    "    print('exp')\n",
    "\n",
    "print (re.match(r'^[A-Z]+$', val))\n",
    "\n",
    "subj = 'I need Help'\n",
    "print (re.match(r'^H.*?E.*?L.*?P$', subj))\n"
   ]
  },
  {
   "cell_type": "code",
   "execution_count": 39,
   "metadata": {},
   "outputs": [
    {
     "name": "stdout",
     "output_type": "stream",
     "text": [
      "Done! Go Check it!\n"
     ]
    }
   ],
   "source": [
    "import re\n",
    "\n",
    "def is_stressful(subj):\n",
    "    if subj.isupper():\n",
    "        return True;\n",
    "    elif subj[-3:] == '!!!':\n",
    "        return True\n",
    "    elif re.match(r'^.*?[Hh][!-Hh]*?[Ee][!-Ee]*?[Ll][!-Ll]*?[Pp][Pp]*?$', subj):\n",
    "        return True\n",
    "    elif re.match(r'^.*?[Aa].*?[Ss].*?[Aa].*?[Pp].*?$', subj):\n",
    "        return True\n",
    "    elif re.match(r'^.*?[Uu].*?[Rr].*?[Gg].*?[Ee].*?[Nn].*?[Tt].*?$', subj):\n",
    "        return True\n",
    "    else:\n",
    "        return False\n",
    "\n",
    "if __name__ == '__main__':\n",
    "    #These \"asserts\" using only for self-checking and not necessary for auto-testing\n",
    "    assert is_stressful(\"Hi\") == False, \"First\"\n",
    "    assert is_stressful(\"I neeed HELP\") == True, \"Second\"\n",
    "    print('Done! Go Check it!')"
   ]
  }
 ],
 "metadata": {
  "kernelspec": {
   "display_name": "Python 3",
   "language": "python",
   "name": "python3"
  },
  "language_info": {
   "codemirror_mode": {
    "name": "ipython",
    "version": 3
   },
   "file_extension": ".py",
   "mimetype": "text/x-python",
   "name": "python",
   "nbconvert_exporter": "python",
   "pygments_lexer": "ipython3",
   "version": "3.7.0"
  }
 },
 "nbformat": 4,
 "nbformat_minor": 2
}
