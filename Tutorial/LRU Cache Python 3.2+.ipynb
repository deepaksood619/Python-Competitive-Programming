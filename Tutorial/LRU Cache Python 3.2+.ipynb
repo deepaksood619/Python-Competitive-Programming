{
 "cells": [
  {
   "cell_type": "markdown",
   "metadata": {},
   "source": [
    "# Without LRU Cache"
   ]
  },
  {
   "cell_type": "code",
   "execution_count": 1,
   "metadata": {},
   "outputs": [
    {
     "name": "stdout",
     "output_type": "stream",
     "text": [
      "Duration: 51.715471029281616s\n"
     ]
    }
   ],
   "source": [
    "import time\n",
    "\n",
    "def fib(number: int) -> int:\n",
    "    if number == 0: return 0\n",
    "    if number == 1: return 1\n",
    "    \n",
    "    return fib(number-1) + fib(number-2)\n",
    "\n",
    "start = time.time()\n",
    "fib(40)\n",
    "print(f'Duration: {time.time() - start}s')"
   ]
  },
  {
   "cell_type": "markdown",
   "metadata": {},
   "source": [
    "# With LRU Cache"
   ]
  },
  {
   "cell_type": "code",
   "execution_count": 7,
   "metadata": {},
   "outputs": [
    {
     "name": "stdout",
     "output_type": "stream",
     "text": [
      "Duration: 9.703636169433594e-05s\n"
     ]
    }
   ],
   "source": [
    "from functools import lru_cache\n",
    "\n",
    "@lru_cache(maxsize=512)\n",
    "def fib_memorization(number: int) -> int:\n",
    "    if number == 0: return 0\n",
    "    if number == 1: return 1\n",
    "    \n",
    "    return fib_memorization(number-1) + fib_memorization(number-2)\n",
    "\n",
    "start = time.time()\n",
    "fib_memorization(40)\n",
    "print(f'Duration: {time.time() - start}s')"
   ]
  }
 ],
 "metadata": {
  "kernelspec": {
   "display_name": "Python 3",
   "language": "python",
   "name": "python3"
  },
  "language_info": {
   "codemirror_mode": {
    "name": "ipython",
    "version": 3
   },
   "file_extension": ".py",
   "mimetype": "text/x-python",
   "name": "python",
   "nbconvert_exporter": "python",
   "pygments_lexer": "ipython3",
   "version": "3.7.0"
  }
 },
 "nbformat": 4,
 "nbformat_minor": 2
}
