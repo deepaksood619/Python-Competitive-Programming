{
 "cells": [
  {
   "cell_type": "code",
   "execution_count": 1,
   "metadata": {},
   "outputs": [],
   "source": [
    "import sqlite3\n",
    "\n",
    "db = sqlite3.connect(':memory:')  # Using an in-memory database\n",
    "cur = db.cursor()"
   ]
  },
  {
   "cell_type": "code",
   "execution_count": 2,
   "metadata": {},
   "outputs": [
    {
     "data": {
      "text/plain": [
       "<sqlite3.Cursor at 0x103695490>"
      ]
     },
     "execution_count": 2,
     "metadata": {},
     "output_type": "execute_result"
    }
   ],
   "source": [
    "cur.execute('''CREATE TABLE IF NOT EXISTS Customer (\n",
    "                id integer PRIMARY KEY,\n",
    "                firstname varchar(255),\n",
    "                lastname varchar(255) )''')\n",
    "cur.execute('''CREATE TABLE IF NOT EXISTS Item (\n",
    "                id integer PRIMARY KEY,\n",
    "                title varchar(255),\n",
    "                price decimal )''')\n",
    "cur.execute('''CREATE TABLE IF NOT EXISTS BoughtItem (\n",
    "                ordernumber integer PRIMARY KEY,\n",
    "                customerid integer,\n",
    "                itemid integer,\n",
    "                price decimal,\n",
    "                CONSTRAINT customerid\n",
    "                    FOREIGN KEY (customerid) REFERENCES Customer(id),\n",
    "                CONSTRAINT itemid\n",
    "                    FOREIGN KEY (itemid) REFERENCES Item(id) )''')"
   ]
  },
  {
   "cell_type": "code",
   "execution_count": 3,
   "metadata": {},
   "outputs": [
    {
     "data": {
      "text/plain": [
       "<sqlite3.Cursor at 0x103695490>"
      ]
     },
     "execution_count": 3,
     "metadata": {},
     "output_type": "execute_result"
    }
   ],
   "source": [
    "cur.execute('''INSERT INTO Customer(firstname, lastname)\n",
    "               VALUES ('Bob', 'Adams'),\n",
    "                      ('Amy', 'Smith'),\n",
    "                      ('Rob', 'Bennet');''')\n",
    "cur.execute('''INSERT INTO Item(title, price)\n",
    "               VALUES ('USB', 10.2),\n",
    "                      ('Mouse', 12.23),\n",
    "                      ('Monitor', 199.99);''')\n",
    "cur.execute('''INSERT INTO BoughtItem(customerid, itemid, price)\n",
    "               VALUES (1, 1, 10.2),\n",
    "                      (1, 2, 12.23),\n",
    "                      (1, 3, 199.99),\n",
    "                      (2, 3, 180.00),\n",
    "                      (3, 2, 11.23);''') # Discounted price "
   ]
  },
  {
   "cell_type": "code",
   "execution_count": 4,
   "metadata": {},
   "outputs": [
    {
     "name": "stdout",
     "output_type": "stream",
     "text": [
      "[(1, 10.2), (2, 11.73), (3, 189.995)]\n"
     ]
    }
   ],
   "source": [
    "cur.execute('''SELECT itemid, AVG(price) FROM BoughtItem GROUP BY itemid''')\n",
    "print(cur.fetchall())"
   ]
  },
  {
   "cell_type": "code",
   "execution_count": 5,
   "metadata": {},
   "outputs": [
    {
     "name": "stdout",
     "output_type": "stream",
     "text": [
      "[('USB', 10.2), ('Mouse', 11.73), ('Monitor', 189.995)]\n"
     ]
    }
   ],
   "source": [
    "cur.execute('''SELECT item.title, AVG(boughtitem.price) FROM BoughtItem as boughtitem INNER JOIN Item as item on (item.id = boughtitem.itemid) GROUP BY boughtitem.itemid''')\n",
    "print(cur.fetchall())"
   ]
  },
  {
   "cell_type": "code",
   "execution_count": 7,
   "metadata": {},
   "outputs": [
    {
     "name": "stdout",
     "output_type": "stream",
     "text": [
      "[('Amy', 180), ('Bob', 222.42000000000002), ('Rob', 11.23)]\n"
     ]
    }
   ],
   "source": [
    "cur.execute('''SELECT customer.firstname, SUM(boughtitem.price) FROM BoughtItem as boughtitem INNER JOIN Customer as customer on (customer.id = boughtitem.customerid) GROUP BY customer.firstname''')\n",
    "print(cur.fetchall())"
   ]
  },
  {
   "cell_type": "code",
   "execution_count": 6,
   "metadata": {},
   "outputs": [
    {
     "name": "stdout",
     "output_type": "stream",
     "text": [
      "[(0, 0, 0, 'SCAN TABLE BoughtItem AS boughtitem'), (0, 1, 1, 'SEARCH TABLE Customer AS customer USING INTEGER PRIMARY KEY (rowid=?)'), (0, 2, 2, 'SEARCH TABLE Item AS item USING INTEGER PRIMARY KEY (rowid=?)')]\n"
     ]
    }
   ],
   "source": [
    "cur.execute('''EXPLAIN QUERY PLAN SELECT customer.firstname, item.title, \n",
    "...                item.price, boughtitem.price FROM BoughtItem as boughtitem\n",
    "...                INNER JOIN Customer as customer on (customer.id = boughtitem.customerid)\n",
    "...                INNER JOIN Item as item on (item.id = boughtitem.itemid)''')\n",
    "...\n",
    "print(cur.fetchall())"
   ]
  },
  {
   "cell_type": "code",
   "execution_count": 7,
   "metadata": {},
   "outputs": [
    {
     "name": "stdout",
     "output_type": "stream",
     "text": [
      "Collecting pymongo\n",
      "\u001b[?25l  Downloading https://files.pythonhosted.org/packages/67/03/1c09350e8f5763be113b2274bc80f9d5e1a5d2a3184e6c26de4c4082d9cd/pymongo-3.10.0-cp37-cp37m-macosx_10_9_x86_64.whl (350kB)\n",
      "\u001b[K     |████████████████████████████████| 358kB 4.6MB/s eta 0:00:01\n",
      "\u001b[?25hInstalling collected packages: pymongo\n",
      "Successfully installed pymongo-3.10.0\n",
      "\u001b[33mWARNING: You are using pip version 19.2.1, however version 19.3.1 is available.\n",
      "You should consider upgrading via the 'pip install --upgrade pip' command.\u001b[0m\n"
     ]
    }
   ],
   "source": [
    "!pip install pymongo"
   ]
  },
  {
   "cell_type": "code",
   "execution_count": 2,
   "metadata": {},
   "outputs": [
    {
     "ename": "ModuleNotFoundError",
     "evalue": "No module named 'pymongo'",
     "output_type": "error",
     "traceback": [
      "\u001b[0;31m---------------------------------------------------------------------------\u001b[0m",
      "\u001b[0;31mModuleNotFoundError\u001b[0m                       Traceback (most recent call last)",
      "\u001b[0;32m<ipython-input-2-81dac2f7ce25>\u001b[0m in \u001b[0;36m<module>\u001b[0;34m\u001b[0m\n\u001b[0;32m----> 1\u001b[0;31m \u001b[0;32mimport\u001b[0m \u001b[0mpymongo\u001b[0m\u001b[0;34m\u001b[0m\u001b[0m\n\u001b[0m\u001b[1;32m      2\u001b[0m \u001b[0;34m\u001b[0m\u001b[0m\n\u001b[1;32m      3\u001b[0m \u001b[0mclient\u001b[0m \u001b[0;34m=\u001b[0m \u001b[0mpymongo\u001b[0m\u001b[0;34m.\u001b[0m\u001b[0mMongoClient\u001b[0m\u001b[0;34m(\u001b[0m\u001b[0;34m\"mongodb://localhost:27017/\"\u001b[0m\u001b[0;34m)\u001b[0m\u001b[0;34m\u001b[0m\u001b[0m\n\u001b[1;32m      4\u001b[0m \u001b[0;34m\u001b[0m\u001b[0m\n\u001b[1;32m      5\u001b[0m \u001b[0;31m# Note: This database is not created until it is populated by some data\u001b[0m\u001b[0;34m\u001b[0m\u001b[0;34m\u001b[0m\u001b[0m\n",
      "\u001b[0;31mModuleNotFoundError\u001b[0m: No module named 'pymongo'"
     ]
    }
   ],
   "source": [
    "import pymongo\n",
    "\n",
    "client = pymongo.MongoClient(\"mongodb://localhost:27017/\")\n",
    "\n",
    "# Note: This database is not created until it is populated by some data\n",
    "db = client[\"example_database\"]\n",
    "\n",
    "customers = db[\"customers\"]\n",
    "items = db[\"items\"]\n",
    "\n",
    "customers_data = [{ \"firstname\": \"Bob\", \"lastname\": \"Adams\" },\n",
    "                  { \"firstname\": \"Amy\", \"lastname\": \"Smith\" },\n",
    "                  { \"firstname\": \"Rob\", \"lastname\": \"Bennet\" },]\n",
    "items_data = [{ \"title\": \"USB\", \"price\": 10.2 },\n",
    "              { \"title\": \"Mouse\", \"price\": 12.23 },\n",
    "              { \"title\": \"Monitor\", \"price\": 199.99 },]\n",
    "\n",
    "customers.insert_many(customers_data)\n",
    "items.insert_many(items_data)"
   ]
  }
 ],
 "metadata": {
  "kernelspec": {
   "display_name": "Python 3",
   "language": "python",
   "name": "python3"
  },
  "language_info": {
   "codemirror_mode": {
    "name": "ipython",
    "version": 3
   },
   "file_extension": ".py",
   "mimetype": "text/x-python",
   "name": "python",
   "nbconvert_exporter": "python",
   "pygments_lexer": "ipython3",
   "version": "3.7.0"
  }
 },
 "nbformat": 4,
 "nbformat_minor": 4
}
