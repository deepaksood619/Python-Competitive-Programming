{
 "cells": [
  {
   "cell_type": "code",
   "execution_count": null,
   "metadata": {},
   "outputs": [],
   "source": [
    "graph = {'1' :}"
   ]
  },
  {
   "cell_type": "code",
   "execution_count": 2,
   "metadata": {},
   "outputs": [
    {
     "name": "stdout",
     "output_type": "stream",
     "text": [
      "2\n"
     ]
    }
   ],
   "source": [
    "# Python3 program to find minimum edge  \n",
    "# between given two vertex of Graph \n",
    "import queue  \n",
    "  \n",
    "# function for finding minimum  \n",
    "# no. of edge using BFS  \n",
    "def minEdgeBFS(edges, u, v, n): \n",
    "      \n",
    "    # visited[n] for keeping track  \n",
    "    # of visited node in BFS  \n",
    "    visited = [0] * n  \n",
    "  \n",
    "    # Initialize distances as 0  \n",
    "    distance = [0] * n \n",
    "  \n",
    "    # queue to do BFS.  \n",
    "    Q = queue.Queue()\n",
    "    distance[u] = 0\n",
    "  \n",
    "    Q.put(u)  \n",
    "    visited[u] = True\n",
    "    while (not Q.empty()): \n",
    "        x = Q.get()\n",
    "          \n",
    "        for i in range(len(edges[x])): \n",
    "            if (visited[edges[x][i]]): \n",
    "                continue\n",
    "  \n",
    "            # update distance for i  \n",
    "            distance[edges[x][i]] = distance[x] + 1\n",
    "            Q.put(edges[x][i])  \n",
    "            visited[edges[x][i]] = 1\n",
    "    return distance[v] \n",
    "  \n",
    "# function for addition of edge  \n",
    "def addEdge(edges, u, v): \n",
    "    edges[u].append(v)  \n",
    "    edges[v].append(u) \n",
    "  \n",
    "# Driver  Code \n",
    "if __name__ == '__main__': \n",
    "  \n",
    "    # To store adjacency list of graph  \n",
    "    n = 9\n",
    "    edges = [[] for i in range(n)] \n",
    "    addEdge(edges, 0, 1)  \n",
    "    addEdge(edges, 0, 7)  \n",
    "    addEdge(edges, 1, 7)  \n",
    "    addEdge(edges, 1, 2)  \n",
    "    addEdge(edges, 2, 3)  \n",
    "    addEdge(edges, 2, 5)  \n",
    "    addEdge(edges, 2, 8)  \n",
    "    addEdge(edges, 3, 4)  \n",
    "    addEdge(edges, 3, 5)  \n",
    "    addEdge(edges, 4, 5)  \n",
    "    addEdge(edges, 5, 6)  \n",
    "    addEdge(edges, 6, 7)  \n",
    "    addEdge(edges, 7, 8)  \n",
    "    u = 0\n",
    "    v = 8\n",
    "    print(minEdgeBFS(edges, u, v, n)) "
   ]
  },
  {
   "cell_type": "code",
   "execution_count": 3,
   "metadata": {},
   "outputs": [
    {
     "data": {
      "text/plain": [
       "[[1, 7],\n",
       " [0, 7, 2],\n",
       " [1, 3, 5, 8],\n",
       " [2, 4, 5],\n",
       " [3, 5],\n",
       " [2, 3, 4, 6],\n",
       " [5, 7],\n",
       " [0, 1, 6, 8],\n",
       " [2, 7]]"
      ]
     },
     "execution_count": 3,
     "metadata": {},
     "output_type": "execute_result"
    }
   ],
   "source": [
    "edges"
   ]
  }
 ],
 "metadata": {
  "kernelspec": {
   "display_name": "Python 3",
   "language": "python",
   "name": "python3"
  },
  "language_info": {
   "codemirror_mode": {
    "name": "ipython",
    "version": 3
   },
   "file_extension": ".py",
   "mimetype": "text/x-python",
   "name": "python",
   "nbconvert_exporter": "python",
   "pygments_lexer": "ipython3",
   "version": "3.7.0"
  }
 },
 "nbformat": 4,
 "nbformat_minor": 2
}
