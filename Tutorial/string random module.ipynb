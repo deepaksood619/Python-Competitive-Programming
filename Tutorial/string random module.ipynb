{
 "cells": [
  {
   "cell_type": "code",
   "execution_count": null,
   "metadata": {},
   "outputs": [],
   "source": [
    "import string\n",
    "import random"
   ]
  },
  {
   "cell_type": "code",
   "execution_count": 10,
   "metadata": {},
   "outputs": [
    {
     "name": "stdout",
     "output_type": "stream",
     "text": [
      "abcdefghijklmnopqrstuvwxyzABCDEFGHIJKLMNOPQRSTUVWXYZ\n",
      "abcdefghijklmnopqrstuvwxyz\n",
      "ABCDEFGHIJKLMNOPQRSTUVWXYZ\n",
      "<function capwords at 0x1026e0a60>\n",
      "0123456789\n",
      "0123456789abcdefABCDEF\n",
      "01234567\n",
      "!\"#$%&'()*+,-./:;<=>?@[\\]^_`{|}~\n",
      " \t\n",
      "\r",
      "\u000b",
      "\f",
      "\n"
     ]
    }
   ],
   "source": [
    "print (string.ascii_letters)\n",
    "print (string.ascii_lowercase)\n",
    "print (string.ascii_uppercase)\n",
    "print (string.capwords)\n",
    "print (string.digits)\n",
    "print (string.hexdigits)\n",
    "print (string.octdigits)\n",
    "print (string.punctuation)\n",
    "print (string.whitespace)"
   ]
  },
  {
   "cell_type": "code",
   "execution_count": 2,
   "metadata": {},
   "outputs": [],
   "source": [
    "def get_ticket_number():\n",
    "    return ''.join(random.choices(string.digits, k=4))"
   ]
  },
  {
   "cell_type": "code",
   "execution_count": 5,
   "metadata": {},
   "outputs": [
    {
     "name": "stdout",
     "output_type": "stream",
     "text": [
      "200\n",
      "['8894', '9184', '1058', '9786', '5794', '3913', '6675', '4395', '1993', '8619', '6893', '2907', '0858', '4609', '9581', '5423', '1369', '7978', '7846', '9181', '6761', '6997', '6202', '2226', '7367', '4633', '0739', '3047', '2827', '0955', '1287', '2906', '8522', '6512', '4792', '0642', '7458', '2139', '0949', '7836', '0858', '8379', '1757', '3703', '8457', '0994', '5476', '1553', '2513', '2703', '8233', '3720', '3432', '0257', '7353', '8879', '1982', '1262', '8580', '7581', '1517', '8842', '9676', '5726', '3146', '7111', '1242', '7243', '8705', '1301', '4544', '8165', '7586', '0538', '6753', '9328', '3641', '1661', '6013', '5217', '3889', '1603', '3206', '5863', '8199', '2158', '7481', '6815', '1930', '5911', '5815', '0539', '6055', '1343', '1661', '0491', '9416', '2636', '9227', '7067', '4762', '1306', '2875', '6807', '5285', '3603', '0777', '4130', '4296', '4851', '3797', '7403', '7282', '4680', '0971', '7876', '8866', '9372', '0604', '1279', '9636', '4209', '5206', '3186', '6486', '8370', '8659', '8446', '6116', '4506', '5386', '8195', '6087', '5633', '8470', '0699', '8830', '0740', '4627', '9844', '7026', '9474', '6624', '3030', '4437', '2364', '8476', '4693', '4024', '6312', '3764', '3946', '2484', '2936', '6537', '7518', '3686', '2834', '9232', '0168', '7620', '3169', '9382', '9818', '3039', '8797', '4431', '2283', '2645', '2456', '7865', '3524', '0637', '2709', '4352', '7767', '7901', '2335', '7727', '3027', '2611', '9710', '8559', '2513', '3790', '2365', '2606', '8683', '1347', '0973', '0430', '2108', '7665', '2748', '0573', '2023', '0742', '3349', '4347', '6391']\n"
     ]
    }
   ],
   "source": [
    "lst = []\n",
    "\n",
    "for i in range(200):\n",
    "    lst.append(get_ticket_number())\n",
    "    \n",
    "print(len(lst))\n",
    "print(lst)"
   ]
  }
 ],
 "metadata": {
  "kernelspec": {
   "display_name": "Python 3",
   "language": "python",
   "name": "python3"
  },
  "language_info": {
   "codemirror_mode": {
    "name": "ipython",
    "version": 3
   },
   "file_extension": ".py",
   "mimetype": "text/x-python",
   "name": "python",
   "nbconvert_exporter": "python",
   "pygments_lexer": "ipython3",
   "version": "3.6.5"
  }
 },
 "nbformat": 4,
 "nbformat_minor": 2
}
