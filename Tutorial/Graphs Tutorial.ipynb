{
 "cells": [
  {
   "cell_type": "markdown",
   "metadata": {},
   "source": [
    "## https://www.python.org/doc/essays/graphs/"
   ]
  },
  {
   "cell_type": "code",
   "execution_count": 15,
   "metadata": {},
   "outputs": [],
   "source": [
    "graph = {'A': ['B', 'C'],\n",
    "             'B': ['C', 'D'],\n",
    "             'C': ['D'],\n",
    "             'D': ['C'],\n",
    "             'E': ['F'],\n",
    "             'F': ['C']}"
   ]
  },
  {
   "cell_type": "code",
   "execution_count": 9,
   "metadata": {},
   "outputs": [],
   "source": [
    "def find_path(graph, start, end, path=[]):\n",
    "    print (start)\n",
    "    path = path + [start]\n",
    "    if start == end:\n",
    "        return path\n",
    "    if not start in graph:\n",
    "        return None\n",
    "    for node in graph[start]:\n",
    "        if node not in path:\n",
    "            newpath = find_path(graph, node, end, path)\n",
    "            if newpath: return newpath\n",
    "    return None"
   ]
  },
  {
   "cell_type": "code",
   "execution_count": 13,
   "metadata": {},
   "outputs": [
    {
     "name": "stdout",
     "output_type": "stream",
     "text": [
      "A\n",
      "B\n",
      "C\n",
      "D\n"
     ]
    },
    {
     "data": {
      "text/plain": [
       "['A', 'B', 'D']"
      ]
     },
     "execution_count": 13,
     "metadata": {},
     "output_type": "execute_result"
    }
   ],
   "source": [
    "find_path(graph, 'A', 'D')"
   ]
  },
  {
   "cell_type": "code",
   "execution_count": 37,
   "metadata": {},
   "outputs": [],
   "source": [
    "# why path += [start] and path = path + [start] \n",
    "# is giving different answers\n",
    "\n",
    "def find_all_paths(graph, start, end, path=[]):\n",
    "    print('path before:', path)\n",
    "    print('start:', start)\n",
    "#     path += [start]\n",
    "    path = path + [start]\n",
    "    print('final path', path)\n",
    "    if start == end:\n",
    "        return [path]\n",
    "    if not start in graph:\n",
    "        return []\n",
    "    paths = []\n",
    "    for node in graph[start]:\n",
    "        if node not in path:\n",
    "            newpaths = find_all_paths(graph, node, end, path)\n",
    "            for newpath in newpaths:\n",
    "                paths.append(newpath)\n",
    "    return paths"
   ]
  },
  {
   "cell_type": "code",
   "execution_count": 38,
   "metadata": {},
   "outputs": [
    {
     "name": "stdout",
     "output_type": "stream",
     "text": [
      "path before: []\n",
      "start: A\n",
      "final path ['A']\n",
      "path before: ['A']\n",
      "start: B\n",
      "final path ['A', 'B']\n",
      "path before: ['A', 'B']\n",
      "start: C\n",
      "final path ['A', 'B', 'C']\n",
      "path before: ['A', 'B', 'C']\n",
      "start: D\n",
      "final path ['A', 'B', 'C', 'D']\n",
      "path before: ['A', 'B']\n",
      "start: D\n",
      "final path ['A', 'B', 'D']\n",
      "path before: ['A']\n",
      "start: C\n",
      "final path ['A', 'C']\n",
      "path before: ['A', 'C']\n",
      "start: D\n",
      "final path ['A', 'C', 'D']\n"
     ]
    },
    {
     "data": {
      "text/plain": [
       "[['A', 'B', 'C', 'D'], ['A', 'B', 'D'], ['A', 'C', 'D']]"
      ]
     },
     "execution_count": 38,
     "metadata": {},
     "output_type": "execute_result"
    }
   ],
   "source": [
    "find_all_paths(graph, 'A', 'D')"
   ]
  },
  {
   "cell_type": "code",
   "execution_count": 36,
   "metadata": {},
   "outputs": [
    {
     "name": "stdout",
     "output_type": "stream",
     "text": [
      "path before: []\n",
      "start: A\n",
      "final path ['A']\n",
      "path before: ['A']\n",
      "start: B\n",
      "final path ['A', 'B']\n",
      "path before: ['A', 'B']\n",
      "start: C\n",
      "final path ['A', 'B', 'C']\n",
      "path before: ['A', 'B', 'C']\n",
      "start: D\n",
      "final path ['A', 'B', 'C', 'D']\n"
     ]
    },
    {
     "data": {
      "text/plain": [
       "[['A', 'B', 'C', 'D']]"
      ]
     },
     "execution_count": 36,
     "metadata": {},
     "output_type": "execute_result"
    }
   ],
   "source": [
    "find_all_paths(graph, 'A', 'D')"
   ]
  },
  {
   "cell_type": "code",
   "execution_count": 29,
   "metadata": {},
   "outputs": [
    {
     "name": "stdout",
     "output_type": "stream",
     "text": [
      "[1, 2, 2, 2, 2, 2]\n",
      "[1, 2, 2, 2, 2, 2]\n"
     ]
    }
   ],
   "source": [
    "val = [1]\n",
    "for i in range(5):\n",
    "    val += [2]\n",
    "print(val)\n",
    "\n",
    "val2= []\n",
    "for i in range(5):\n",
    "    val2 = val2 + [2]\n",
    "print(val)"
   ]
  },
  {
   "cell_type": "code",
   "execution_count": 44,
   "metadata": {},
   "outputs": [],
   "source": [
    "# shortest path\n",
    "def find_shortest_path(graph, start, end, path=[]):\n",
    "    path = path + [start]\n",
    "    if start == end:\n",
    "        return path\n",
    "    if not start in graph:\n",
    "        return None\n",
    "    shortest = None\n",
    "    for node in graph[start]:\n",
    "        if node not in path:\n",
    "            newpath = find_shortest_path(graph, node, end, path)\n",
    "            if newpath:\n",
    "                if not shortest or len(newpath) < len(shortest):\n",
    "                    shortest = newpath\n",
    "    return shortest"
   ]
  },
  {
   "cell_type": "code",
   "execution_count": 45,
   "metadata": {},
   "outputs": [
    {
     "data": {
      "text/plain": [
       "['A', 'B', 'D']"
      ]
     },
     "execution_count": 45,
     "metadata": {},
     "output_type": "execute_result"
    }
   ],
   "source": [
    "find_shortest_path(graph, 'A', 'D')"
   ]
  },
  {
   "cell_type": "markdown",
   "metadata": {},
   "source": [
    "### https://www.python-course.eu/graphs_python.php"
   ]
  },
  {
   "cell_type": "code",
   "execution_count": 1,
   "metadata": {},
   "outputs": [
    {
     "name": "stdout",
     "output_type": "stream",
     "text": [
      "['e', 'b', 'd', 'a', 'c']\n",
      "['a', 'c', 'e', 'b']\n"
     ]
    }
   ],
   "source": [
    "graph ={\n",
    "'a':['c'],\n",
    "'b':['d'],\n",
    "'c':['e'],\n",
    "'d':['a', 'd'],\n",
    "'e':['b']\n",
    "}\n",
    " \n",
    "# function to find the shortest path\n",
    "def find_shortest_path(graph, start, end, path =[]):\n",
    "        path = path + [start]\n",
    "        if start == end:\n",
    "            return path\n",
    "        shortest = None\n",
    "        for node in graph[start]:\n",
    "            if node not in path:\n",
    "                newpath = find_shortest_path(graph, node, end, path)\n",
    "                if newpath:\n",
    "                    if not shortest or len(newpath) < len(shortest):\n",
    "                        shortest = newpath\n",
    "        return shortest\n",
    "         \n",
    "# Driver function call to print\n",
    "# the shortest path\n",
    "print(find_shortest_path(graph, 'e', 'c'))\n",
    "print(find_shortest_path(graph, 'a', 'b'))"
   ]
  },
  {
   "cell_type": "markdown",
   "metadata": {},
   "source": [
    "### Djakstra's Single Source to All Vertices Weighted Shortest Path Algorithm"
   ]
  },
  {
   "cell_type": "code",
   "execution_count": 10,
   "metadata": {},
   "outputs": [
    {
     "name": "stdout",
     "output_type": "stream",
     "text": [
      "Vertex \tDistance from Source\n",
      "0 \t 11\n",
      "1 \t 12\n",
      "2 \t 4\n",
      "3 \t 11\n",
      "4 \t 10\n",
      "5 \t 0\n",
      "6 \t 2\n",
      "7 \t 3\n",
      "8 \t 6\n"
     ]
    }
   ],
   "source": [
    "import sys \n",
    "  \n",
    "class Graph(): \n",
    "  \n",
    "    def __init__(self, vertices): \n",
    "        self.V = vertices \n",
    "        self.graph = [[0 for column in range(vertices)]  \n",
    "                    for row in range(vertices)] \n",
    "  \n",
    "    def printSolution(self, dist): \n",
    "        print(\"Vertex \\tDistance from Source\")\n",
    "        for node in range(self.V): \n",
    "            print(node, \"\\t\", dist[node])\n",
    "  \n",
    "    # A utility function to find the vertex with  \n",
    "    # minimum distance value, from the set of vertices  \n",
    "    # not yet included in shortest path tree \n",
    "    def minDistance(self, dist, sptSet): \n",
    "  \n",
    "        # Initilaize minimum distance for next node \n",
    "        min = sys.maxsize \n",
    "  \n",
    "        # Search not nearest vertex not in the  \n",
    "        # shortest path tree \n",
    "        for v in range(self.V): \n",
    "            if dist[v] < min and sptSet[v] == False: \n",
    "                min = dist[v] \n",
    "                min_index = v \n",
    "  \n",
    "        return min_index \n",
    "  \n",
    "    # Funtion that implements Dijkstra's single source  \n",
    "    # shortest path algorithm for a graph represented  \n",
    "    # using adjacency matrix representation \n",
    "    def dijkstra(self, src): \n",
    "  \n",
    "        dist = [sys.maxsize] * self.V \n",
    "        dist[src] = 0\n",
    "        sptSet = [False] * self.V \n",
    "  \n",
    "        for cout in range(self.V): \n",
    "  \n",
    "            # Pick the minimum distance vertex from  \n",
    "            # the set of vertices not yet processed.  \n",
    "            # u is always equal to src in first iteration \n",
    "            u = self.minDistance(dist, sptSet) \n",
    "  \n",
    "            # Put the minimum distance vertex in the  \n",
    "            # shotest path tree \n",
    "            sptSet[u] = True\n",
    "  \n",
    "            # Update dist value of the adjacent vertices  \n",
    "            # of the picked vertex only if the current  \n",
    "            # distance is greater than new distance and \n",
    "            # the vertex in not in the shotest path tree \n",
    "            for v in range(self.V): \n",
    "                if self.graph[u][v] > 0 and sptSet[v] == False and dist[v] > dist[u] + self.graph[u][v]: \n",
    "                        dist[v] = dist[u] + self.graph[u][v] \n",
    "  \n",
    "        self.printSolution(dist) \n",
    "  \n",
    "# Driver program \n",
    "g = Graph(9) \n",
    "\n",
    "g.graph = [[0, 4, 0, 0, 0, 0, 0, 8, 0],\n",
    "        [4, 0, 8, 0, 0, 0, 0, 11, 0],\n",
    "        [0, 8, 0, 7, 0, 4, 0, 0, 2],\n",
    "        [0, 0, 7, 0, 9, 14, 0, 0, 0],\n",
    "        [0, 0, 0, 9, 0, 10, 0, 0, 0],\n",
    "        [0, 0, 4, 14, 10, 0, 2, 0, 0],\n",
    "        [0, 0, 0, 0, 0, 2, 0, 1, 6],\n",
    "        [8, 11, 0, 0, 0, 0, 1, 0, 7],\n",
    "        [0, 0, 2, 0, 0, 0, 6, 7, 0]\n",
    "        ]; \n",
    "  \n",
    "g.dijkstra(5)"
   ]
  },
  {
   "cell_type": "code",
   "execution_count": 34,
   "metadata": {},
   "outputs": [
    {
     "name": "stdout",
     "output_type": "stream",
     "text": [
      "Vertex\tDistance from source\n",
      "0\t\t2\n",
      "1\t\t3\n",
      "2\t\t0\n",
      "3\t\t9223372036854775807\n",
      "4\t\t1\n"
     ]
    }
   ],
   "source": [
    "from collections import defaultdict \n",
    "import sys \n",
    "  \n",
    "class Heap(): \n",
    "  \n",
    "    def __init__(self): \n",
    "        self.array = [] \n",
    "        self.size = 0\n",
    "        self.pos = [] \n",
    "  \n",
    "    def newMinHeapNode(self, v, dist): \n",
    "        minHeapNode = [v, dist] \n",
    "        return minHeapNode \n",
    "  \n",
    "    # A utility function to swap two nodes  \n",
    "    # of min heap. Needed for min heapify \n",
    "    def swapMinHeapNode(self,a, b): \n",
    "        t = self.array[a] \n",
    "        self.array[a] = self.array[b] \n",
    "        self.array[b] = t \n",
    "  \n",
    "    # A standard function to heapify at given idx \n",
    "    # This function also updates position of nodes  \n",
    "    # when they are swapped.Position is needed  \n",
    "    # for decreaseKey() \n",
    "    def minHeapify(self, idx): \n",
    "        smallest = idx \n",
    "        left = 2*idx + 1\n",
    "        right = 2*idx + 2\n",
    "  \n",
    "        if left < self.size and self.array[left][1] < self.array[smallest][1]: \n",
    "            smallest = left \n",
    "  \n",
    "        if right < self.size and self.array[right][1] < self.array[smallest][1]: \n",
    "            smallest = right \n",
    "  \n",
    "        # The nodes to be swapped in min  \n",
    "        # heap if idx is not smallest \n",
    "        if smallest != idx: \n",
    "  \n",
    "            # Swap positions \n",
    "            self.pos[ self.array[smallest][0] ] = idx \n",
    "            self.pos[ self.array[idx][0] ] = smallest \n",
    "  \n",
    "            # Swap nodes \n",
    "            self.swapMinHeapNode(smallest, idx) \n",
    "  \n",
    "            self.minHeapify(smallest) \n",
    "  \n",
    "    # Standard function to extract minimum  \n",
    "    # node from heap \n",
    "    def extractMin(self): \n",
    "  \n",
    "        # Return NULL wif heap is empty \n",
    "        if self.isEmpty() == True: \n",
    "            return\n",
    "  \n",
    "        # Store the root node \n",
    "        root = self.array[0] \n",
    "  \n",
    "        # Replace root node with last node \n",
    "        lastNode = self.array[self.size - 1] \n",
    "        self.array[0] = lastNode \n",
    "  \n",
    "        # Update position of last node \n",
    "        self.pos[lastNode[0]] = 0\n",
    "        self.pos[root[0]] = self.size - 1\n",
    "  \n",
    "        # Reduce heap size and heapify root \n",
    "        self.size -= 1\n",
    "        self.minHeapify(0) \n",
    "  \n",
    "        return root \n",
    "  \n",
    "    def isEmpty(self): \n",
    "        return True if self.size == 0 else False\n",
    "  \n",
    "    def decreaseKey(self, v, dist): \n",
    "  \n",
    "        # Get the index of v in  heap array \n",
    "  \n",
    "        i = self.pos[v] \n",
    "  \n",
    "        # Get the node and update its dist value \n",
    "        self.array[i][1] = dist \n",
    "  \n",
    "        # Travel up while the complete tree is  \n",
    "        # not hepified. This is a O(Logn) loop\n",
    "        val = (i - 1) // 2\n",
    "        while i > 0 and self.array[i][1] < self.array[val][1]:\n",
    "            # Swap this node with its parent \n",
    "            self.pos[ self.array[i][0] ] = (i-1)//2\n",
    "            self.pos[ self.array[(i-1)//2][0] ] = i\n",
    "            self.swapMinHeapNode(i, (i - 1)//2 )\n",
    "  \n",
    "            # move to parent index \n",
    "            i = (i - 1) // 2;\n",
    "  \n",
    "    # A utility function to check if a given  \n",
    "    # vertex 'v' is in min heap or not \n",
    "    def isInMinHeap(self, v): \n",
    "  \n",
    "        if self.pos[v] < self.size: \n",
    "            return True\n",
    "        return False\n",
    "  \n",
    "  \n",
    "def printArr(dist, n): \n",
    "    print(\"Vertex\\tDistance from source\")\n",
    "    for i in range(n): \n",
    "        print(\"%d\\t\\t%d\" % (i,dist[i]))\n",
    "\n",
    "\n",
    "class Graph(): \n",
    "  \n",
    "    def __init__(self, V): \n",
    "        self.V = V \n",
    "        self.graph = defaultdict(list) \n",
    "  \n",
    "    # Adds an edge to an undirected graph \n",
    "    def addEdge(self, src, dest, weight): \n",
    "  \n",
    "        # Add an edge from src to dest.  A new node  \n",
    "        # is added to the adjacency list of src. The  \n",
    "        # node is added at the beginning. The first  \n",
    "        # element of the node has the destination  \n",
    "        # and the second elements has the weight \n",
    "        newNode = [dest, weight] \n",
    "        self.graph[src].insert(0, newNode) \n",
    "  \n",
    "        # Since graph is undirected, add an edge  \n",
    "        # from dest to src also \n",
    "        newNode = [src, weight] \n",
    "        self.graph[dest].insert(0, newNode) \n",
    "  \n",
    "    # The main function that calulates distances  \n",
    "    # of shortest paths from src to all vertices.  \n",
    "    # It is a O(ELogV) function \n",
    "    def dijkstra(self, src): \n",
    "  \n",
    "        V = self.V  # Get the number of vertices in graph \n",
    "        dist = []   # dist values used to pick minimum  \n",
    "                    # weight edge in cut \n",
    "  \n",
    "        # minHeap represents set E \n",
    "        minHeap = Heap() \n",
    "  \n",
    "        #  Initialize min heap with all vertices.  \n",
    "        # dist value of all vertices \n",
    "        for v in range(V): \n",
    "            dist.append(sys.maxsize) \n",
    "            minHeap.array.append( minHeap.newMinHeapNode(v, dist[v])) \n",
    "            minHeap.pos.append(v) \n",
    "  \n",
    "        # Make dist value of src vertex as 0 so  \n",
    "        # that it is extracted first \n",
    "        minHeap.pos[src] = src \n",
    "        dist[src] = 0\n",
    "        minHeap.decreaseKey(src, dist[src]) \n",
    "  \n",
    "        # Initially size of min heap is equal to V \n",
    "        minHeap.size = V; \n",
    "  \n",
    "        # In the following loop, min heap contains all nodes \n",
    "        # whose shortest distance is not yet finalized. \n",
    "        while minHeap.isEmpty() == False: \n",
    "  \n",
    "            # Extract the vertex with minimum distance value \n",
    "            newHeapNode = minHeap.extractMin() \n",
    "            u = newHeapNode[0] \n",
    "  \n",
    "            # Traverse through all adjacent vertices of  \n",
    "            # u (the extracted vertex) and update their  \n",
    "            # distance values \n",
    "            for pCrawl in self.graph[u]: \n",
    "  \n",
    "                v = pCrawl[0] \n",
    "  \n",
    "                # If shortest distance to v is not finalized  \n",
    "                # yet, and distance to v through u is less  \n",
    "                # than its previously calculated distance \n",
    "                if minHeap.isInMinHeap(v) and dist[u] != sys.maxsize and pCrawl[1] + dist[u] < dist[v]: \n",
    "                        dist[v] = pCrawl[1] + dist[u] \n",
    "  \n",
    "                        # update distance value  \n",
    "                        # in min heap also \n",
    "                        minHeap.decreaseKey(v, dist[v]) \n",
    "  \n",
    "        printArr(dist,V) \n",
    "  \n",
    "  \n",
    "# Driver program to test the above functions \n",
    "graph = Graph(5) \n",
    "# graph.addEdge(0, 1, 4) \n",
    "# graph.addEdge(0, 7, 8) \n",
    "# graph.addEdge(1, 2, 8) \n",
    "# graph.addEdge(1, 7, 11) \n",
    "# graph.addEdge(2, 3, 7) \n",
    "# graph.addEdge(2, 8, 2) \n",
    "# graph.addEdge(2, 5, 4) \n",
    "# graph.addEdge(3, 4, 9) \n",
    "# graph.addEdge(3, 5, 14) \n",
    "# graph.addEdge(4, 5, 10) \n",
    "# graph.addEdge(5, 6, 2) \n",
    "# graph.addEdge(6, 7, 1) \n",
    "# graph.addEdge(6, 8, 6) \n",
    "# graph.addEdge(7, 8, 7)\n",
    "graph.addEdge(0,1,5)\n",
    "graph.addEdge(2,1,3)\n",
    "graph.addEdge(2,4,1)\n",
    "graph.addEdge(0,4,1)\n",
    "# graph.addEdge(4,5,1)\n",
    "graph.dijkstra(2)"
   ]
  },
  {
   "cell_type": "code",
   "execution_count": null,
   "metadata": {},
   "outputs": [],
   "source": [
    "dic = {\n",
    "    1: [(2,5),(5,1)],\n",
    "    2: [(1,5), (3,3)],\n",
    "    3: [(2,3), (5,1)],\n",
    "    5: [(3,1),(1,1)]\n",
    "      }"
   ]
  }
 ],
 "metadata": {
  "kernelspec": {
   "display_name": "Python 3",
   "language": "python",
   "name": "python3"
  },
  "language_info": {
   "codemirror_mode": {
    "name": "ipython",
    "version": 3
   },
   "file_extension": ".py",
   "mimetype": "text/x-python",
   "name": "python",
   "nbconvert_exporter": "python",
   "pygments_lexer": "ipython3",
   "version": "3.7.0"
  }
 },
 "nbformat": 4,
 "nbformat_minor": 2
}
