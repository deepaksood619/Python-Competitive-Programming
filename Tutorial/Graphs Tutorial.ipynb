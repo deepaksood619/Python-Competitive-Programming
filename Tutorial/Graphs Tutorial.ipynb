{
 "cells": [
  {
   "cell_type": "markdown",
   "metadata": {},
   "source": [
    "## https://www.python.org/doc/essays/graphs/"
   ]
  },
  {
   "cell_type": "code",
   "execution_count": 15,
   "metadata": {},
   "outputs": [],
   "source": [
    "graph = {'A': ['B', 'C'],\n",
    "             'B': ['C', 'D'],\n",
    "             'C': ['D'],\n",
    "             'D': ['C'],\n",
    "             'E': ['F'],\n",
    "             'F': ['C']}"
   ]
  },
  {
   "cell_type": "code",
   "execution_count": 9,
   "metadata": {},
   "outputs": [],
   "source": [
    "def find_path(graph, start, end, path=[]):\n",
    "    print (start)\n",
    "    path = path + [start]\n",
    "    if start == end:\n",
    "        return path\n",
    "    if not start in graph:\n",
    "        return None\n",
    "    for node in graph[start]:\n",
    "        if node not in path:\n",
    "            newpath = find_path(graph, node, end, path)\n",
    "            if newpath: return newpath\n",
    "    return None"
   ]
  },
  {
   "cell_type": "code",
   "execution_count": 13,
   "metadata": {},
   "outputs": [
    {
     "name": "stdout",
     "output_type": "stream",
     "text": [
      "A\n",
      "B\n",
      "C\n",
      "D\n"
     ]
    },
    {
     "data": {
      "text/plain": [
       "['A', 'B', 'D']"
      ]
     },
     "execution_count": 13,
     "metadata": {},
     "output_type": "execute_result"
    }
   ],
   "source": [
    "find_path(graph, 'A', 'D')"
   ]
  },
  {
   "cell_type": "code",
   "execution_count": 37,
   "metadata": {},
   "outputs": [],
   "source": [
    "# why path += [start] and path = path + [start] \n",
    "# is giving different answers\n",
    "\n",
    "def find_all_paths(graph, start, end, path=[]):\n",
    "    print('path before:', path)\n",
    "    print('start:', start)\n",
    "#     path += [start]\n",
    "    path = path + [start]\n",
    "    print('final path', path)\n",
    "    if start == end:\n",
    "        return [path]\n",
    "    if not start in graph:\n",
    "        return []\n",
    "    paths = []\n",
    "    for node in graph[start]:\n",
    "        if node not in path:\n",
    "            newpaths = find_all_paths(graph, node, end, path)\n",
    "            for newpath in newpaths:\n",
    "                paths.append(newpath)\n",
    "    return paths"
   ]
  },
  {
   "cell_type": "code",
   "execution_count": 38,
   "metadata": {},
   "outputs": [
    {
     "name": "stdout",
     "output_type": "stream",
     "text": [
      "path before: []\n",
      "start: A\n",
      "final path ['A']\n",
      "path before: ['A']\n",
      "start: B\n",
      "final path ['A', 'B']\n",
      "path before: ['A', 'B']\n",
      "start: C\n",
      "final path ['A', 'B', 'C']\n",
      "path before: ['A', 'B', 'C']\n",
      "start: D\n",
      "final path ['A', 'B', 'C', 'D']\n",
      "path before: ['A', 'B']\n",
      "start: D\n",
      "final path ['A', 'B', 'D']\n",
      "path before: ['A']\n",
      "start: C\n",
      "final path ['A', 'C']\n",
      "path before: ['A', 'C']\n",
      "start: D\n",
      "final path ['A', 'C', 'D']\n"
     ]
    },
    {
     "data": {
      "text/plain": [
       "[['A', 'B', 'C', 'D'], ['A', 'B', 'D'], ['A', 'C', 'D']]"
      ]
     },
     "execution_count": 38,
     "metadata": {},
     "output_type": "execute_result"
    }
   ],
   "source": [
    "find_all_paths(graph, 'A', 'D')"
   ]
  },
  {
   "cell_type": "code",
   "execution_count": 36,
   "metadata": {},
   "outputs": [
    {
     "name": "stdout",
     "output_type": "stream",
     "text": [
      "path before: []\n",
      "start: A\n",
      "final path ['A']\n",
      "path before: ['A']\n",
      "start: B\n",
      "final path ['A', 'B']\n",
      "path before: ['A', 'B']\n",
      "start: C\n",
      "final path ['A', 'B', 'C']\n",
      "path before: ['A', 'B', 'C']\n",
      "start: D\n",
      "final path ['A', 'B', 'C', 'D']\n"
     ]
    },
    {
     "data": {
      "text/plain": [
       "[['A', 'B', 'C', 'D']]"
      ]
     },
     "execution_count": 36,
     "metadata": {},
     "output_type": "execute_result"
    }
   ],
   "source": [
    "find_all_paths(graph, 'A', 'D')"
   ]
  },
  {
   "cell_type": "code",
   "execution_count": 29,
   "metadata": {},
   "outputs": [
    {
     "name": "stdout",
     "output_type": "stream",
     "text": [
      "[1, 2, 2, 2, 2, 2]\n",
      "[1, 2, 2, 2, 2, 2]\n"
     ]
    }
   ],
   "source": [
    "val = [1]\n",
    "for i in range(5):\n",
    "    val += [2]\n",
    "print(val)\n",
    "\n",
    "val2= []\n",
    "for i in range(5):\n",
    "    val2 = val2 + [2]\n",
    "print(val)"
   ]
  },
  {
   "cell_type": "code",
   "execution_count": 44,
   "metadata": {},
   "outputs": [],
   "source": [
    "# shortest path\n",
    "def find_shortest_path(graph, start, end, path=[]):\n",
    "    path = path + [start]\n",
    "    if start == end:\n",
    "        return path\n",
    "    if not start in graph:\n",
    "        return None\n",
    "    shortest = None\n",
    "    for node in graph[start]:\n",
    "        if node not in path:\n",
    "            newpath = find_shortest_path(graph, node, end, path)\n",
    "            if newpath:\n",
    "                if not shortest or len(newpath) < len(shortest):\n",
    "                    shortest = newpath\n",
    "    return shortest"
   ]
  },
  {
   "cell_type": "code",
   "execution_count": 45,
   "metadata": {},
   "outputs": [
    {
     "data": {
      "text/plain": [
       "['A', 'B', 'D']"
      ]
     },
     "execution_count": 45,
     "metadata": {},
     "output_type": "execute_result"
    }
   ],
   "source": [
    "find_shortest_path(graph, 'A', 'D')"
   ]
  },
  {
   "cell_type": "markdown",
   "metadata": {},
   "source": [
    "### https://www.python-course.eu/graphs_python.php"
   ]
  },
  {
   "cell_type": "code",
   "execution_count": null,
   "metadata": {},
   "outputs": [],
   "source": []
  }
 ],
 "metadata": {
  "kernelspec": {
   "display_name": "Python 3",
   "language": "python",
   "name": "python3"
  },
  "language_info": {
   "codemirror_mode": {
    "name": "ipython",
    "version": 3
   },
   "file_extension": ".py",
   "mimetype": "text/x-python",
   "name": "python",
   "nbconvert_exporter": "python",
   "pygments_lexer": "ipython3",
   "version": "3.6.4"
  }
 },
 "nbformat": 4,
 "nbformat_minor": 2
}
