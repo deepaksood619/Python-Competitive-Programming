{
 "cells": [
  {
   "cell_type": "code",
   "execution_count": null,
   "metadata": {},
   "outputs": [],
   "source": [
    "3\n",
    "2 7 4\n",
    "\n",
    "2"
   ]
  },
  {
   "cell_type": "code",
   "execution_count": 2,
   "metadata": {},
   "outputs": [
    {
     "name": "stdin",
     "output_type": "stream",
     "text": [
      " 1\n",
      " 1\n",
      " 2\n"
     ]
    },
    {
     "name": "stdout",
     "output_type": "stream",
     "text": [
      "1\n"
     ]
    }
   ],
   "source": [
    "def func(n, input_val):\n",
    "    lst = list(map(int, input_val.split()))\n",
    "\n",
    "    lst.sort()\n",
    "\n",
    "    total_plants = 0\n",
    "    \n",
    "    last_added = None\n",
    "    \n",
    "    for index, value in enumerate(lst):\n",
    "        # check i-1\n",
    "        found = False\n",
    "\n",
    "        # check i+1\n",
    "        if index + 1 < n and lst[index+1] == value+1:\n",
    "            found = True\n",
    "        elif index - 1 >= 0 and lst[index-1] == value-1:\n",
    "            found = True\n",
    "        elif last_added != None and last_added + 1 == value:\n",
    "            found = True\n",
    "\n",
    "        if not found:\n",
    "            total_plants += 1\n",
    "            last_added = value+1\n",
    "\n",
    "    return total_plants\n",
    "\n",
    "T = int(input())\n",
    "\n",
    "for _ in range(T):\n",
    "    n = int(input())\n",
    "    lst = input()\n",
    "    \n",
    "    print(func(n, lst))"
   ]
  },
  {
   "cell_type": "code",
   "execution_count": 3,
   "metadata": {},
   "outputs": [],
   "source": [
    "assert func(3, '2 4 7') == 2\n",
    "assert func(1, '2') == 1\n",
    "assert func(3, '1 2 3') == 0"
   ]
  }
 ],
 "metadata": {
  "kernelspec": {
   "display_name": "Python 3",
   "language": "python",
   "name": "python3"
  },
  "language_info": {
   "codemirror_mode": {
    "name": "ipython",
    "version": 3
   },
   "file_extension": ".py",
   "mimetype": "text/x-python",
   "name": "python",
   "nbconvert_exporter": "python",
   "pygments_lexer": "ipython3",
   "version": "3.7.0"
  }
 },
 "nbformat": 4,
 "nbformat_minor": 4
}
