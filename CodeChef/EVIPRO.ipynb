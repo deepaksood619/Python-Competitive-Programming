{
 "cells": [
  {
   "cell_type": "code",
   "execution_count": null,
   "metadata": {},
   "outputs": [],
   "source": [
    "1\n",
    "001\n",
    "\n",
    "6"
   ]
  },
  {
   "cell_type": "code",
   "execution_count": 40,
   "metadata": {},
   "outputs": [
    {
     "name": "stdin",
     "output_type": "stream",
     "text": [
      " 1\n",
      " 01\n"
     ]
    },
    {
     "name": "stdout",
     "output_type": "stream",
     "text": [
      "2\n"
     ]
    }
   ],
   "source": [
    "# optimized solution\n",
    "def func(s):\n",
    "    n = len(s)\n",
    "    count = 0\n",
    "    \n",
    "    tot = (n*(n+1))//2\n",
    "    for i in range(n-1):\n",
    "        if s[i] == s[i+1]:\n",
    "            count += tot-n\n",
    "        else:\n",
    "            count += n\n",
    "\n",
    "    return count\n",
    "\n",
    "t = int(input())\n",
    "\n",
    "for _ in range(t):\n",
    "    s = input()\n",
    "    print(func(s))"
   ]
  },
  {
   "cell_type": "code",
   "execution_count": 41,
   "metadata": {},
   "outputs": [],
   "source": [
    "assert func('001') == 6\n",
    "assert func('100') == 6\n",
    "assert func('00') == 1"
   ]
  },
  {
   "cell_type": "code",
   "execution_count": 22,
   "metadata": {},
   "outputs": [],
   "source": [
    "# not optimized\n",
    "def flip(x, i):\n",
    "    if x[i] == '0':\n",
    "        x[i] = '1'\n",
    "    else:\n",
    "        x[i] = '0'\n",
    "            \n",
    "    return x\n",
    "\n",
    "def calc(x, n):\n",
    "    c = 0\n",
    "    for i in range(n-1):\n",
    "        if x[i] == x[i+1]:\n",
    "            c += 1\n",
    "    \n",
    "    return c\n",
    "\n",
    "def func(s):\n",
    "    n = len(s)\n",
    "    lst = list(s)\n",
    "    count = 0\n",
    "    \n",
    "    for i in range(n):\n",
    "        n_lst = lst[:]\n",
    "        n_lst = flip(n_lst, i)\n",
    "#         print(i, n_lst, calc(n_lst, n))\n",
    "        count += calc(n_lst, n)\n",
    "        \n",
    "        \n",
    "    for i in range(n-1):\n",
    "        for j in range(i+1, n):\n",
    "            n_lst = lst[:]\n",
    "            for k in range(i, j+1):\n",
    "                n_lst = flip(n_lst, k)\n",
    "            \n",
    "#             print(i, j, k, n_lst, calc(n_lst, n))\n",
    "            count += calc(n_lst, n)\n",
    "\n",
    "    return count\n",
    "\n",
    "# t = int(input())\n",
    "\n",
    "# for _ in range(t):\n",
    "#     s = input()\n",
    "#     print(func(s))\n",
    "\n",
    "# def test(st, n):\n",
    "#     return func(list(map(int, st.split())), n)\n",
    "\n",
    "# assert func('001') == 6"
   ]
  }
 ],
 "metadata": {
  "kernelspec": {
   "display_name": "Python 3",
   "language": "python",
   "name": "python3"
  },
  "language_info": {
   "codemirror_mode": {
    "name": "ipython",
    "version": 3
   },
   "file_extension": ".py",
   "mimetype": "text/x-python",
   "name": "python",
   "nbconvert_exporter": "python",
   "pygments_lexer": "ipython3",
   "version": "3.7.0"
  }
 },
 "nbformat": 4,
 "nbformat_minor": 4
}
