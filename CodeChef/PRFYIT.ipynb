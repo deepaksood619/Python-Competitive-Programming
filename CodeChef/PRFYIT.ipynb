{
 "cells": [
  {
   "cell_type": "markdown",
   "metadata": {},
   "source": [
    "https://www.codechef.com/COOK113B/problems/PRFYIT"
   ]
  },
  {
   "cell_type": "code",
   "execution_count": null,
   "metadata": {},
   "outputs": [],
   "source": [
    "We say that a binary string (a string containing only characters '0' and '1') \n",
    "is pure if it does not contain either of the strings \"0101\" or \"1010\" as a subsequence.\n",
    "\n",
    "4\n",
    "010111101\n",
    "1011100001011101\n",
    "0110\n",
    "111111\n",
    "2\n",
    "3\n",
    "0\n",
    "0\n",
    "\n",
    "01111101"
   ]
  },
  {
   "cell_type": "code",
   "execution_count": 17,
   "metadata": {},
   "outputs": [],
   "source": [
    "# find number of 1010 or 0101 non overlapping\n",
    "# 1. consolidate all 0 and 1 together\n",
    "# 2. count 0s and 1s\n",
    "# 3. return min(count 0 and count 1) - 1\n",
    "def func(s):\n",
    "    n = len(s)\n",
    "    \n",
    "    new_str = ''\n",
    "    i = 0\n",
    "    while i < n:\n",
    "        if s[i] == '1':            \n",
    "            while i < n and s[i] == '1':\n",
    "                i += 1\n",
    "            new_str += '1'\n",
    "        else:\n",
    "            while i < n and s[i] == '0':\n",
    "                i += 1\n",
    "            new_str += '0'\n",
    "    \n",
    "    count_0 = 0\n",
    "    count_1 = 0\n",
    "    for i in new_str:\n",
    "        if i == '0':\n",
    "            count_0 += 1\n",
    "        else:\n",
    "            count_1 += 1\n",
    "            \n",
    "    if min(count_1, count_1) <= 1:\n",
    "        return 0\n",
    "    \n",
    "    return min(count_0, count_1) - 1\n",
    "\n",
    "# t = int(input())\n",
    "\n",
    "# for _ in range(t):\n",
    "#     print(func(input()))"
   ]
  },
  {
   "cell_type": "code",
   "execution_count": 20,
   "metadata": {},
   "outputs": [],
   "source": [
    "def func(s):\n",
    "    prev = None\n",
    "    l = []\n",
    "    S = \"\"\n",
    "    cnt = 0\n",
    "    for i in s:\n",
    "        if i != prev:\n",
    "            if cnt != 0:\n",
    "                l.append(cnt)\n",
    "            prev = i\n",
    "            S += i\n",
    "            cnt = 1\n",
    "        else:\n",
    "            cnt += 1\n",
    "    l.append(cnt)\n",
    "    if len(l) <= 3:\n",
    "        return 0\n",
    "    else:\n",
    "        ans = 0\n",
    "        n = len(l)\n",
    "        suf = [None] * (n + 2)\n",
    "        suf[n] = suf[n + 1] = 0\n",
    "        for i in range(n - 1, -1, -1):\n",
    "            suf[i] = (suf[i + 2] + l[i])\n",
    "        curr1 = 0\n",
    "        for i in range(0, n, 2):\n",
    "            curr1 += l[i]\n",
    "            curr2 = 0\n",
    "            for j in range(i + 1, n, 2):\n",
    "                curr2 += l[j]\n",
    "                ans = max(ans, curr1 + curr2 + suf[j + 1])\n",
    "        curr1 = 0\n",
    "        for i in range(1, n, 2):\n",
    "            curr1 += l[i]\n",
    "            curr2 = 0\n",
    "            for j in range(i + 1, n, 2):\n",
    "                curr2 += l[j]\n",
    "                ans = max(ans, curr1 + curr2 + suf[j + 1])\n",
    "\n",
    "        return len(s) - ans"
   ]
  },
  {
   "cell_type": "code",
   "execution_count": 22,
   "metadata": {},
   "outputs": [],
   "source": [
    "assert func('010111101') == 2\n",
    "assert func('1011100001011101') == 3\n",
    "assert func('0110') == 0\n",
    "assert func('111111') == 0\n",
    "assert func('000000') == 0\n",
    "assert func('01010') == 1\n",
    "assert func('1010') == 1\n",
    "assert func('0101') == 1\n",
    "assert func('') == 0\n",
    "assert func('1') == 0\n",
    "assert func('0') == 0\n",
    "assert func('1011101') == 1\n",
    "assert func('01001') == 1\n",
    "assert func('1001') == 0\n",
    "assert func('1010101010') == 4\n",
    "assert func('11100000110') == 1\n",
    "assert func('111000001100') == 2\n",
    "assert func('000110100111') == 3\n",
    "assert func('0001101000111') == 3\n",
    "# 000 11 0 1 000 111\n",
    "# # 0 deleted\n",
    "# 000 111 000 111\n",
    "# # if 1 deleted (correct)\n",
    "# 000 11 0000 111\n",
    "# # now delete 11\n",
    "# 0000000 111"
   ]
  },
  {
   "cell_type": "code",
   "execution_count": null,
   "metadata": {},
   "outputs": [],
   "source": []
  },
  {
   "cell_type": "code",
   "execution_count": 15,
   "metadata": {},
   "outputs": [
    {
     "name": "stdin",
     "output_type": "stream",
     "text": [
      " 1\n",
      " 1011100001011101\n"
     ]
    },
    {
     "name": "stdout",
     "output_type": "stream",
     "text": [
      "3\n"
     ]
    }
   ],
   "source": [
    "# find number of 101 or 010 non overlapping\n",
    "def func(s):\n",
    "    n = len(s)\n",
    "    \n",
    "    count_sub = 0\n",
    "    \n",
    "    i = 0\n",
    "    while i < n-2:\n",
    "        if s[i:i+3] == '101' or s[i:i+3] == '010':\n",
    "            i = i+3\n",
    "            count_sub += 1\n",
    "        else:\n",
    "            i += 1\n",
    "            \n",
    "    return count_sub\n",
    "\n",
    "t = int(input())\n",
    "\n",
    "for _ in range(t):\n",
    "    print(func(input()))"
   ]
  }
 ],
 "metadata": {
  "kernelspec": {
   "display_name": "Python 3",
   "language": "python",
   "name": "python3"
  },
  "language_info": {
   "codemirror_mode": {
    "name": "ipython",
    "version": 3
   },
   "file_extension": ".py",
   "mimetype": "text/x-python",
   "name": "python",
   "nbconvert_exporter": "python",
   "pygments_lexer": "ipython3",
   "version": "3.7.0"
  }
 },
 "nbformat": 4,
 "nbformat_minor": 4
}
