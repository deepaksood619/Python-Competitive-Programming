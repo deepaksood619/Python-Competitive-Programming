{
 "cells": [
  {
   "cell_type": "code",
   "execution_count": 22,
   "metadata": {},
   "outputs": [
    {
     "name": "stdin",
     "output_type": "stream",
     "text": [
      " 2\n",
      " 2 6\n"
     ]
    },
    {
     "name": "stdout",
     "output_type": "stream",
     "text": [
      "3\n"
     ]
    },
    {
     "name": "stdin",
     "output_type": "stream",
     "text": [
      " 6 13\n"
     ]
    },
    {
     "name": "stdout",
     "output_type": "stream",
     "text": [
      "2\n"
     ]
    }
   ],
   "source": [
    "import math\n",
    "\n",
    "t = int(input())\n",
    "for _ in range(t):\n",
    "    a, b = map(int, input().split())\n",
    "    a -= 1\n",
    "    b -= 1\n",
    "    c = 0\n",
    "    fac = abs(a-b)\n",
    "    i = 1\n",
    "    while i <= math.sqrt(fac):\n",
    "        if fac % i == 0:\n",
    "            if (fac // i == i):\n",
    "                c += 1\n",
    "            else:\n",
    "                c += 2\n",
    "        i += 1\n",
    "\n",
    "    print(c)"
   ]
  },
  {
   "cell_type": "code",
   "execution_count": 5,
   "metadata": {},
   "outputs": [
    {
     "name": "stdin",
     "output_type": "stream",
     "text": [
      " 2\n",
      " 5 12\n"
     ]
    },
    {
     "name": "stdout",
     "output_type": "stream",
     "text": [
      "2\n"
     ]
    },
    {
     "name": "stdin",
     "output_type": "stream",
     "text": [
      " 2 6\n"
     ]
    },
    {
     "name": "stdout",
     "output_type": "stream",
     "text": [
      "3\n"
     ]
    }
   ],
   "source": [
    "t = int(input())\n",
    "for _ in range(t):\n",
    "    a, b = map(int, input().split())\n",
    "    c = 0\n",
    "    for i in range(1, max(a, b)):\n",
    "        if a%i == b%i:\n",
    "            c += 1\n",
    "    print(c)"
   ]
  },
  {
   "cell_type": "code",
   "execution_count": 6,
   "metadata": {},
   "outputs": [
    {
     "name": "stdout",
     "output_type": "stream",
     "text": [
      "[1, 7]\n"
     ]
    }
   ],
   "source": [
    "a = 5\n",
    "b = 12\n",
    "\n",
    "lst = []\n",
    "eq = []\n",
    "for i in range(1, 100):\n",
    "    c = a%i\n",
    "    d = b%i\n",
    "    if c == d:\n",
    "        eq.append(i)\n",
    "    lst.append((i, c,d))\n",
    "    \n",
    "print(eq)"
   ]
  }
 ],
 "metadata": {
  "kernelspec": {
   "display_name": "Python 3",
   "language": "python",
   "name": "python3"
  },
  "language_info": {
   "codemirror_mode": {
    "name": "ipython",
    "version": 3
   },
   "file_extension": ".py",
   "mimetype": "text/x-python",
   "name": "python",
   "nbconvert_exporter": "python",
   "pygments_lexer": "ipython3",
   "version": "3.7.0"
  }
 },
 "nbformat": 4,
 "nbformat_minor": 4
}
