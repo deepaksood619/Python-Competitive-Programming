{
 "cells": [
  {
   "cell_type": "code",
   "execution_count": 30,
   "metadata": {},
   "outputs": [
    {
     "name": "stdout",
     "output_type": "stream",
     "text": [
      "3\n",
      "2\n",
      "2 2\n",
      "1\n",
      "3\n",
      "2 1 3\n",
      "1\n",
      "6\n",
      "4 2 5 1 3 5\n",
      "7\n"
     ]
    }
   ],
   "source": [
    "t = int(input())\n",
    "\n",
    "for _ in range(t):\n",
    "    n = int(input())\n",
    "    lst = list(map(int, input().split()))\n",
    "    \n",
    "    # this array is to check if certain number is present in the input numbers\n",
    "    check = [False]*1001\n",
    "    for i in range(n):\n",
    "        check[lst[i]] = True\n",
    "    \n",
    "    count = 0\n",
    "    for i in range(0, n-1):\n",
    "        for j in range(i+1, n):\n",
    "            avg = (lst[i]+lst[j])/2\n",
    "            if avg.is_integer():\n",
    "                if check[int(avg)]:\n",
    "                    count += 1\n",
    "                    \n",
    "    print(count)\n",
    "    \n",
    "# 3\n",
    "# 2\n",
    "# 2 2\n",
    "# 3\n",
    "# 2 1 3\n",
    "# 6\n",
    "# 4 2 5 1 3 5"
   ]
  },
  {
   "cell_type": "code",
   "execution_count": 14,
   "metadata": {},
   "outputs": [
    {
     "name": "stdout",
     "output_type": "stream",
     "text": [
      "False\n",
      "2.5\n",
      "<class 'float'>\n"
     ]
    }
   ],
   "source": [
    "val = 5/2\n",
    "print (val.is_integer())\n",
    "print (val)\n",
    "print (type(val))\n",
    "if type(val) == int:\n",
    "    print ('int')"
   ]
  }
 ],
 "metadata": {
  "kernelspec": {
   "display_name": "Python 3",
   "language": "python",
   "name": "python3"
  },
  "language_info": {
   "codemirror_mode": {
    "name": "ipython",
    "version": 2
   },
   "file_extension": ".py",
   "mimetype": "text/x-python",
   "name": "python",
   "nbconvert_exporter": "python",
   "pygments_lexer": "ipython2",
   "version": "2.7.14"
  }
 },
 "nbformat": 4,
 "nbformat_minor": 2
}
