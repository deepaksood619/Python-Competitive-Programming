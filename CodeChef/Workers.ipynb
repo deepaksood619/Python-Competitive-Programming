{
 "cells": [
  {
   "cell_type": "code",
   "execution_count": 25,
   "metadata": {},
   "outputs": [
    {
     "name": "stdout",
     "output_type": "stream",
     "text": [
      "1 3 8 4 1000001\n",
      "4\n"
     ]
    }
   ],
   "source": [
    "# n = int(input())\n",
    "# coins = list(map(int, input().split()))\n",
    "# workers = list(map(int, input().split()))\n",
    "\n",
    "n = 5\n",
    "coins = [1, 3, 4, 6, 8]\n",
    "workers = [1, 2, 1, 2, 3]\n",
    "\n",
    "min_t = 1000001\n",
    "min_a = 1000001\n",
    "min_ta1 = 1000001\n",
    "min_ta1_index = 0\n",
    "min_ta2 = 1000001\n",
    "\n",
    "for i in range(n):\n",
    "    if workers[i] == 1:\n",
    "        if coins[i] < min_t:\n",
    "            min_t = coins[i]\n",
    "    elif workers[i] == 2:\n",
    "        if coins[i] < min_a:\n",
    "            min_a = coins[i]\n",
    "    else:\n",
    "        if coins[i] < min_ta1:\n",
    "            min_ta1 = coins[i]\n",
    "            min_ta1_index = i\n",
    "            \n",
    "if min_ta1 != 1000001:\n",
    "    for i in range(n):\n",
    "        if workers[i] == 3 and coins[i] < min_ta2 and i != min_ta1_index:\n",
    "            min_ta2 = coins[i]\n",
    "            \n",
    "# print(min_t, min_a, min_ta1, min_ta1_index, min_ta2)\n",
    "# 1 3 8 4 1000001\n",
    "\n",
    "t_a = min_t + min_a\n",
    "a_ta = min_a + min_ta1\n",
    "ta_ta = min_ta1 + min_ta2\n",
    "\n",
    "print(min(t_a, a_ta, ta_ta))\n",
    "\n",
    "# ans = list(zip(coins, workers))\n",
    "# print ('ans', ans)\n",
    "\n",
    "# sort_list = sorted(ans, key=lambda x:x[0])\n",
    "# print(sort_list)\n",
    "\n",
    "\n",
    "\n",
    "# for index in range(n):\n",
    "#     if sort_list[index][1] == 1:\n",
    "#         trans += sort_list[index][0]\n",
    "#     elif sort_list[index][1] == 2:\n",
    "#         trans += sort_list[index][0]\n",
    "#     else:\n",
    "        \n",
    "    \n",
    "\n",
    "# lst = [[-1 for x in range(2)] for y in range(3)]\n",
    "# print(lst)\n",
    "\n",
    "# for i in range(n):\n",
    "#     if workers[i] == 1:\n",
    "        \n",
    "#     elif workers[i] == 2:\n",
    "#     else:\n",
    "        # 3\n",
    "        \n",
    "# a = sorted(coins)\n",
    "\n",
    "\n",
    "\n",
    "# 5\n",
    "# 1 3 4 6 8\n",
    "# 1 2 1 2 3\n",
    "# 4"
   ]
  },
  {
   "cell_type": "code",
   "execution_count": 27,
   "metadata": {},
   "outputs": [
    {
     "name": "stdout",
     "output_type": "stream",
     "text": [
      "5\n",
      "1 2 3 4 5\n",
      "3 3 3 3 3\n",
      "3\n"
     ]
    }
   ],
   "source": [
    "n = int(input())\n",
    "coins = list(map(int, input().split()))\n",
    "workers = list(map(int, input().split()))\n",
    "\n",
    "min_t = 1000001\n",
    "min_a = 1000001\n",
    "min_ta1 = 1000001\n",
    "min_ta1_index = 0\n",
    "min_ta2 = 1000001\n",
    "\n",
    "for i in range(n):\n",
    "    if workers[i] == 1:\n",
    "        if coins[i] < min_t:\n",
    "            min_t = coins[i]\n",
    "    elif workers[i] == 2:\n",
    "        if coins[i] < min_a:\n",
    "            min_a = coins[i]\n",
    "    else:\n",
    "        if coins[i] < min_ta1:\n",
    "            min_ta1 = coins[i]\n",
    "            min_ta1_index = i\n",
    "            \n",
    "if min_ta1 != 1000001:\n",
    "    for i in range(n):\n",
    "        if workers[i] == 3 and coins[i] < min_ta2 and i != min_ta1_index:\n",
    "            min_ta2 = coins[i]\n",
    "            \n",
    "t_a = min_t + min_a\n",
    "a_ta = min_a + min_ta1\n",
    "ta_ta = min_ta1 + min_ta2\n",
    "\n",
    "print(min(t_a, a_ta, ta_ta))"
   ]
  },
  {
   "cell_type": "code",
   "execution_count": 29,
   "metadata": {},
   "outputs": [
    {
     "name": "stdout",
     "output_type": "stream",
     "text": [
      "5\n",
      "1 2 3 4 5\n",
      "3 3 3 3 3\n",
      "2\n"
     ]
    }
   ],
   "source": [
    "# assumption that same author-translator can do the job\n",
    "n = int(input())\n",
    "coins = list(map(int, input().split()))\n",
    "workers = list(map(int, input().split()))\n",
    "\n",
    "min_t = 1000001\n",
    "min_a = 1000001\n",
    "min_ta1 = 1000001\n",
    "\n",
    "for i in range(n):\n",
    "    if workers[i] == 1:\n",
    "        if coins[i] < min_t:\n",
    "            min_t = coins[i]\n",
    "    elif workers[i] == 2:\n",
    "        if coins[i] < min_a:\n",
    "            min_a = coins[i]\n",
    "    else:\n",
    "        if coins[i] < min_ta1:\n",
    "            min_ta1 = coins[i]\n",
    "            \n",
    "t_a = min_t + min_a\n",
    "a_ta = min_a + min_ta1\n",
    "ta_ta = min_ta1 + min_ta1\n",
    "\n",
    "print(min(t_a, a_ta, ta_ta))"
   ]
  },
  {
   "cell_type": "code",
   "execution_count": 30,
   "metadata": {},
   "outputs": [
    {
     "name": "stdout",
     "output_type": "stream",
     "text": [
      "4\n",
      "1 2 3 4 5\n",
      "2 3 1 3 3\n",
      "2\n"
     ]
    }
   ],
   "source": [
    "# assumption that same author-translator can do the job\n",
    "# assumption that one one time payment needs to be done\n",
    "\n",
    "n = int(input())\n",
    "coins = list(map(int, input().split()))\n",
    "workers = list(map(int, input().split()))\n",
    "\n",
    "min_t = 1000001\n",
    "min_a = 1000001\n",
    "min_ta1 = 1000001\n",
    "\n",
    "for i in range(n):\n",
    "    if workers[i] == 1:\n",
    "        if coins[i] < min_t:\n",
    "            min_t = coins[i]\n",
    "    elif workers[i] == 2:\n",
    "        if coins[i] < min_a:\n",
    "            min_a = coins[i]\n",
    "    else:\n",
    "        if coins[i] < min_ta1:\n",
    "            min_ta1 = coins[i]\n",
    "            \n",
    "t_a = min_t + min_a\n",
    "a_ta = min_a + min_ta1\n",
    "ta_ta = min_ta1\n",
    "\n",
    "print(min(t_a, a_ta, ta_ta))"
   ]
  }
 ],
 "metadata": {
  "kernelspec": {
   "display_name": "Python 3",
   "language": "python",
   "name": "python3"
  },
  "language_info": {
   "codemirror_mode": {
    "name": "ipython",
    "version": 3
   },
   "file_extension": ".py",
   "mimetype": "text/x-python",
   "name": "python",
   "nbconvert_exporter": "python",
   "pygments_lexer": "ipython3",
   "version": "3.6.4"
  }
 },
 "nbformat": 4,
 "nbformat_minor": 2
}
