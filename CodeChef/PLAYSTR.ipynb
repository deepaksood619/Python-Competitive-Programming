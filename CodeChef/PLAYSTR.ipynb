{
 "cells": [
  {
   "cell_type": "code",
   "execution_count": 4,
   "metadata": {},
   "outputs": [
    {
     "name": "stdin",
     "output_type": "stream",
     "text": [
      " 1\n",
      " 3\n",
      " 110\n",
      " 001\n"
     ]
    },
    {
     "name": "stdout",
     "output_type": "stream",
     "text": [
      "NO\n",
      "3 ['1', '1', '0'] ['0', '0', '1']\n"
     ]
    }
   ],
   "source": [
    "T = int(input())\n",
    "for i in range(T):\n",
    "    N = int(input())\n",
    "    S = list(map(str, input()))\n",
    "    R = list(map(str, input()))\n",
    "    \n",
    "    count_s_1 = 0\n",
    "    count_r_1 = 0\n",
    "    for j in S:\n",
    "        if j == '1':\n",
    "            count_s_1 += 1\n",
    "    \n",
    "    for j in R:\n",
    "        if j == '1':\n",
    "            count_r_1 += 1\n",
    "            \n",
    "    if count_s_1 == count_r_1:\n",
    "        print('YES')\n",
    "    else:\n",
    "        print('NO')\n",
    "    \n",
    "#     print(N, S, R)"
   ]
  }
 ],
 "metadata": {
  "kernelspec": {
   "display_name": "Python 3",
   "language": "python",
   "name": "python3"
  },
  "language_info": {
   "codemirror_mode": {
    "name": "ipython",
    "version": 3
   },
   "file_extension": ".py",
   "mimetype": "text/x-python",
   "name": "python",
   "nbconvert_exporter": "python",
   "pygments_lexer": "ipython3",
   "version": "3.7.0"
  }
 },
 "nbformat": 4,
 "nbformat_minor": 2
}
