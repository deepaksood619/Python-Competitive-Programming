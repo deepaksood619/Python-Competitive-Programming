{
 "cells": [
  {
   "cell_type": "code",
   "execution_count": 29,
   "metadata": {},
   "outputs": [],
   "source": [
    "def func(n, k, st):\n",
    "    lst = list(map(int, st))\n",
    "    \n",
    "    max_c = 0\n",
    "    \n",
    "    count = 0\n",
    "    min_index = 0\n",
    "    max_index = 0\n",
    "#     index = 0\n",
    "#     while index < n:\n",
    "#         while \n",
    "        \n",
    "    for index, val in enumerate(lst):\n",
    "        print('0', index, val, min_index, max_index, max_c, count)\n",
    "        if val == 1:\n",
    "            count += 1\n",
    "            max_index = index\n",
    "        else:\n",
    "            if min_index == 0 and max_index == 0:\n",
    "                continue\n",
    "                \n",
    "            # if count + k >= max_c\n",
    "            if count >= max_c:\n",
    "                print('1', count, max_c)\n",
    "                # check_left()\n",
    "                min_index_test = min_index - k - 1\n",
    "                while min_index_test >= 0 and lst[min_index_test] == 1:\n",
    "                    min_index_test -= 1\n",
    "                \n",
    "                print('2', min_index_test)\n",
    "                \n",
    "                test = max_index - min_index_test\n",
    "                if test > max_c:\n",
    "                    max_c = test\n",
    "                \n",
    "                print('3', test, max_c)\n",
    "                # check_right()\n",
    "                max_index_test = max_index + k + 1\n",
    "                print('4', max_index_test, n ,lst)\n",
    "                while max_index_test < n and lst[max_index_test] == 1:\n",
    "                    max_index_test += 1\n",
    "                   \n",
    "                test = max_index_test - min_index\n",
    "                if test > max_c:\n",
    "                    max_c = test\n",
    "                \n",
    "            count = 0\n",
    "            min_index = index\n",
    "            max_index = index\n",
    "            \n",
    "#             index += 1\n",
    "            \n",
    "    return max_c"
   ]
  },
  {
   "cell_type": "code",
   "execution_count": 30,
   "metadata": {},
   "outputs": [
    {
     "name": "stdout",
     "output_type": "stream",
     "text": [
      "0 0 0 0 0 0 0\n",
      "0 1 1 0 0 0 0\n",
      "0 2 0 0 1 0 1\n",
      "1 1 0\n",
      "2 -3\n",
      "3 4 4\n",
      "4 4 13 [0, 1, 0, 1, 1, 1, 0, 0, 0, 0, 1, 0, 1]\n",
      "0 3 1 2 2 6 0\n",
      "0 4 1 2 3 6 1\n",
      "0 5 1 2 4 6 2\n",
      "0 6 0 2 5 6 3\n",
      "0 7 0 6 6 6 0\n",
      "0 8 0 7 7 6 0\n",
      "0 9 0 8 8 6 0\n",
      "0 10 1 9 9 6 0\n",
      "0 11 0 9 10 6 1\n",
      "0 12 1 11 11 6 0\n"
     ]
    },
    {
     "data": {
      "text/plain": [
       "6"
      ]
     },
     "execution_count": 30,
     "metadata": {},
     "output_type": "execute_result"
    }
   ],
   "source": [
    "func(13, 2, '0101110000101')"
   ]
  },
  {
   "cell_type": "code",
   "execution_count": 17,
   "metadata": {},
   "outputs": [
    {
     "name": "stdout",
     "output_type": "stream",
     "text": [
      "4 6 [1, 0, 0, 0, 0, 1]\n",
      "3 13 [0, 1, 0, 1, 1, 1, 0, 0, 0, 0, 1, 0, 1]\n"
     ]
    },
    {
     "ename": "AssertionError",
     "evalue": "",
     "output_type": "error",
     "traceback": [
      "\u001b[0;31m---------------------------------------------------------------------------\u001b[0m",
      "\u001b[0;31mAssertionError\u001b[0m                            Traceback (most recent call last)",
      "\u001b[0;32m<ipython-input-17-646a8eedef1b>\u001b[0m in \u001b[0;36m<module>\u001b[0;34m\u001b[0m\n\u001b[1;32m      1\u001b[0m \u001b[0;32massert\u001b[0m \u001b[0mfunc\u001b[0m\u001b[0;34m(\u001b[0m\u001b[0;36m6\u001b[0m\u001b[0;34m,\u001b[0m \u001b[0;36m3\u001b[0m\u001b[0;34m,\u001b[0m \u001b[0;34m'100001'\u001b[0m\u001b[0;34m)\u001b[0m \u001b[0;34m==\u001b[0m \u001b[0;36m4\u001b[0m\u001b[0;34m\u001b[0m\u001b[0m\n\u001b[0;32m----> 2\u001b[0;31m \u001b[0;32massert\u001b[0m \u001b[0mfunc\u001b[0m\u001b[0;34m(\u001b[0m\u001b[0;36m13\u001b[0m\u001b[0;34m,\u001b[0m \u001b[0;36m2\u001b[0m\u001b[0;34m,\u001b[0m \u001b[0;34m'0101110000101'\u001b[0m\u001b[0;34m)\u001b[0m \u001b[0;34m==\u001b[0m \u001b[0;36m5\u001b[0m\u001b[0;34m\u001b[0m\u001b[0m\n\u001b[0m",
      "\u001b[0;31mAssertionError\u001b[0m: "
     ]
    }
   ],
   "source": [
    "assert func(6, 3, '100001') == 4\n",
    "assert func(13, 2, '0101110000101') == 5"
   ]
  }
 ],
 "metadata": {
  "kernelspec": {
   "display_name": "Python 3",
   "language": "python",
   "name": "python3"
  },
  "language_info": {
   "codemirror_mode": {
    "name": "ipython",
    "version": 3
   },
   "file_extension": ".py",
   "mimetype": "text/x-python",
   "name": "python",
   "nbconvert_exporter": "python",
   "pygments_lexer": "ipython3",
   "version": "3.7.0"
  }
 },
 "nbformat": 4,
 "nbformat_minor": 4
}
