{
 "cells": [
  {
   "cell_type": "code",
   "execution_count": 46,
   "metadata": {},
   "outputs": [
    {
     "name": "stdout",
     "output_type": "stream",
     "text": [
      "1\n",
      "2\n",
      "2\n",
      "3\n"
     ]
    }
   ],
   "source": [
    "import random\n",
    "\n",
    "# X - Chef pick a door\n",
    "# Y - host opens a door\n",
    "# Z - Chef should choose from remaining doors to maximize the probability of getting car\n",
    "\n",
    "lst = [1,2,3]\n",
    "X = random.choice(lst)\n",
    "print(X)\n",
    "lst.remove(X)\n",
    "Y = int(input())\n",
    "lst.remove(Y) # because it has goat\n",
    "Z = lst[0]\n",
    "print(Z)"
   ]
  }
 ],
 "metadata": {
  "kernelspec": {
   "display_name": "Python 3",
   "language": "python",
   "name": "python3"
  },
  "language_info": {
   "codemirror_mode": {
    "name": "ipython",
    "version": 3
   },
   "file_extension": ".py",
   "mimetype": "text/x-python",
   "name": "python",
   "nbconvert_exporter": "python",
   "pygments_lexer": "ipython3",
   "version": "3.7.1"
  }
 },
 "nbformat": 4,
 "nbformat_minor": 2
}
