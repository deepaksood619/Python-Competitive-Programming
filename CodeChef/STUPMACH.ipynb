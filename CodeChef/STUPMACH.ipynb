{
 "cells": [
  {
   "cell_type": "code",
   "execution_count": null,
   "metadata": {},
   "outputs": [],
   "source": [
    "Example Input\n",
    "1\n",
    "3\n",
    "2 1 3\n",
    "Example Output\n",
    "4"
   ]
  },
  {
   "cell_type": "code",
   "execution_count": 24,
   "metadata": {},
   "outputs": [
    {
     "name": "stdin",
     "output_type": "stream",
     "text": [
      " 1\n",
      " 3\n",
      " 2 1 3\n"
     ]
    },
    {
     "name": "stdout",
     "output_type": "stream",
     "text": [
      "4\n"
     ]
    }
   ],
   "source": [
    "# new O(n)\n",
    "def func(lst, n):\n",
    "    count = lst[0]\n",
    "    last_max = lst[0]\n",
    "    \n",
    "    for i in range(1, n):\n",
    "        if last_max > lst[i]:\n",
    "            last_max = lst[i]\n",
    "\n",
    "        count += last_max\n",
    "    \n",
    "    return count\n",
    "\n",
    "\n",
    "t = int(input())\n",
    "\n",
    "for _ in range(t):\n",
    "    n = int(input())\n",
    "    lst = list(map(int, input().split()))\n",
    "    print(func(lst, n))"
   ]
  },
  {
   "cell_type": "code",
   "execution_count": 25,
   "metadata": {},
   "outputs": [],
   "source": [
    "assert func([2, 1, 3], 3) == 4\n",
    "assert func([5,1,3], 3) == 7\n",
    "assert func([10], 1) == 10\n",
    "assert func([1,2,3], 3) == 3\n",
    "assert func([10, 10, 10, 5, 1], 5) == 36"
   ]
  },
  {
   "cell_type": "code",
   "execution_count": 21,
   "metadata": {},
   "outputs": [],
   "source": [
    "# old O(n^2)\n",
    "def func(lst, n):\n",
    "    curr_tokens = [0]*n\n",
    "    max_m = n\n",
    "    count = 0\n",
    "    \n",
    "    while max_m > 0:\n",
    "        for i in range(max_m):\n",
    "            if curr_tokens[i] != lst[i]:\n",
    "                curr_tokens[i] += 1\n",
    "                count += 1\n",
    "            else:\n",
    "                max_m = i\n",
    "                break\n",
    "    \n",
    "    return count\n",
    "\n",
    "\n",
    "t = int(input())\n",
    "\n",
    "for _ in range(t):\n",
    "    n = int(input())\n",
    "    lst = list(map(int, input().split()))\n",
    "    print(func(lst, n))"
   ]
  }
 ],
 "metadata": {
  "kernelspec": {
   "display_name": "Python 3",
   "language": "python",
   "name": "python3"
  },
  "language_info": {
   "codemirror_mode": {
    "name": "ipython",
    "version": 3
   },
   "file_extension": ".py",
   "mimetype": "text/x-python",
   "name": "python",
   "nbconvert_exporter": "python",
   "pygments_lexer": "ipython3",
   "version": "3.7.0"
  }
 },
 "nbformat": 4,
 "nbformat_minor": 4
}
