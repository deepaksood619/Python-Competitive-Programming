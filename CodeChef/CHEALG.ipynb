{
 "cells": [
  {
   "cell_type": "code",
   "execution_count": null,
   "metadata": {},
   "outputs": [],
   "source": [
    "Example Input\n",
    "3\n",
    "bbbbbbbbbbaa\n",
    "c\n",
    "aaaaaaaaaabcdefgh\n",
    "Example Output\n",
    "YES\n",
    "NO\n",
    "NO"
   ]
  },
  {
   "cell_type": "code",
   "execution_count": 47,
   "metadata": {},
   "outputs": [],
   "source": [
    "def func(s):\n",
    "    lst = list(s)\n",
    "    n = len(lst)\n",
    "    \n",
    "    c_lst = []\n",
    "    \n",
    "    i = 0\n",
    "    while i < n:\n",
    "        c_lst.append(lst[i])\n",
    "        c = 1\n",
    "        while i+1 < n and lst[i] == lst[i+1]:\n",
    "            c += 1\n",
    "            i += 1\n",
    "            \n",
    "        c_lst.append(c)\n",
    "        i += 1\n",
    "\n",
    "    if len(''.join(str(x) for x in c_lst)) < n:\n",
    "        return 'YES'\n",
    "    else:\n",
    "        return 'NO'\n",
    "\n",
    "t = int(input())\n",
    "\n",
    "for _ in range(t):\n",
    "    s = input()\n",
    "    print(func(s))"
   ]
  },
  {
   "cell_type": "code",
   "execution_count": 48,
   "metadata": {},
   "outputs": [],
   "source": [
    "assert func('bbbbbbbbbbaa') == 'YES'\n",
    "assert func('c') == 'NO'\n",
    "assert func('aaaaaaaaaabcdefgh') == 'NO'\n",
    "assert func('a') == 'NO'"
   ]
  }
 ],
 "metadata": {
  "kernelspec": {
   "display_name": "Python 3",
   "language": "python",
   "name": "python3"
  },
  "language_info": {
   "codemirror_mode": {
    "name": "ipython",
    "version": 3
   },
   "file_extension": ".py",
   "mimetype": "text/x-python",
   "name": "python",
   "nbconvert_exporter": "python",
   "pygments_lexer": "ipython3",
   "version": "3.7.0"
  }
 },
 "nbformat": 4,
 "nbformat_minor": 4
}
