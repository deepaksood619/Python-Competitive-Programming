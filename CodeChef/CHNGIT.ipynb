{
 "cells": [
  {
   "cell_type": "code",
   "execution_count": null,
   "metadata": {},
   "outputs": [],
   "source": [
    "3\n",
    "5\n",
    "1 1 1 1 1\n",
    "4\n",
    "9 8 1 8\n",
    "2\n",
    "1 9"
   ]
  },
  {
   "cell_type": "code",
   "execution_count": 33,
   "metadata": {},
   "outputs": [
    {
     "name": "stdin",
     "output_type": "stream",
     "text": [
      " 1\n",
      " 2\n",
      " 1 1\n"
     ]
    },
    {
     "name": "stdout",
     "output_type": "stream",
     "text": [
      "0\n"
     ]
    }
   ],
   "source": [
    "from collections import defaultdict\n",
    "\n",
    "def func(lst, n):\n",
    "    dic = defaultdict(int)\n",
    "    \n",
    "    for i in lst:\n",
    "        dic[i] += 1\n",
    "        \n",
    "    max_count = 0\n",
    "    \n",
    "    for key, val in dic.items():\n",
    "        if val > max_count:\n",
    "            max_count = val\n",
    "            \n",
    "    return n-max_count\n",
    "\n",
    "t = int(input())\n",
    "\n",
    "for _ in range(t):\n",
    "    n = int(input())\n",
    "    lst = list(map(int, input().split()))\n",
    "    \n",
    "    print(func(lst, n))"
   ]
  },
  {
   "cell_type": "code",
   "execution_count": 34,
   "metadata": {},
   "outputs": [],
   "source": [
    "assert func([1,1,1,1,1], 5) == 0\n",
    "assert func([9,8,1,8], 4) == 2\n",
    "assert func([1,9], 2) == 1\n",
    "assert func([1,1,1,1,1], 5) == 0\n",
    "assert func([1,2,3,3,2,1], 6) == 4\n",
    "assert func([1,1,2,3,4], 5) == 3\n",
    "assert func([1,2,3,4,4], 5) == 3\n",
    "assert func([3,1,2,4,5,3], 6) == 4"
   ]
  }
 ],
 "metadata": {
  "kernelspec": {
   "display_name": "Python 3",
   "language": "python",
   "name": "python3"
  },
  "language_info": {
   "codemirror_mode": {
    "name": "ipython",
    "version": 3
   },
   "file_extension": ".py",
   "mimetype": "text/x-python",
   "name": "python",
   "nbconvert_exporter": "python",
   "pygments_lexer": "ipython3",
   "version": "3.7.0"
  }
 },
 "nbformat": 4,
 "nbformat_minor": 4
}
