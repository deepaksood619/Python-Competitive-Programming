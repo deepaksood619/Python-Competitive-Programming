{
 "cells": [
  {
   "cell_type": "markdown",
   "metadata": {},
   "source": [
    "https://www.codechef.com/APRIL18B/problems/AVGPR"
   ]
  },
  {
   "cell_type": "code",
   "execution_count": 19,
   "metadata": {},
   "outputs": [
    {
     "name": "stdout",
     "output_type": "stream",
     "text": [
      "7\n"
     ]
    }
   ],
   "source": [
    "N = 1000\n",
    "\n",
    "# Function to return the count\n",
    "# of valid pairs\n",
    "def countPairs(arr, n):\n",
    "\n",
    "    # Frequency array\n",
    "    # Twice the original size to hold\n",
    "    # negative elements as well\n",
    "    size = (2 * N) + 1\n",
    "    freq = [0 for i in range(size)]\n",
    "\n",
    "    # Update the frequency of each\n",
    "    # of the array element\n",
    "    for i in range(n):\n",
    "        x = arr[i]\n",
    "\n",
    "        # If say x = -1000 then we will place\n",
    "        # the frequency of -1000 at\n",
    "        # (-1000 + 1000 = 0) a[0] index\n",
    "        freq[x] += 1\n",
    "\n",
    "    # To store the count of valid pairs\n",
    "    ans = 0\n",
    "\n",
    "    # Remember we will check only for (even, even)\n",
    "    # or (odd, odd) pairs of indexes as the average\n",
    "    # of two consecutive elements is\n",
    "    # a floating point number\n",
    "    for i in range(size):\n",
    "        if (freq[i] > 0):\n",
    "            ans += int(((freq[i]) * (freq[i] - 1)) / 2)\n",
    "\n",
    "            for j in range(i + 2, 1001, 2):\n",
    "                if (freq[j] > 0 and (freq[int((i + j) / 2)] > 0)):\n",
    "                    ans += (freq[i] * freq[j])\n",
    "\n",
    "    return ans\n",
    "\n",
    "# Driver code\n",
    "if __name__ == '__main__':\n",
    "    arr = [4, 2, 5, 1, 3, 5, 10]\n",
    "#     arr = [2,2]\n",
    "#     arr = [2,1,3]\n",
    "    n = len(arr)\n",
    "\n",
    "    print(countPairs(arr, n))"
   ]
  },
  {
   "cell_type": "code",
   "execution_count": 20,
   "metadata": {},
   "outputs": [
    {
     "data": {
      "text/plain": [
       "1"
      ]
     },
     "execution_count": 20,
     "metadata": {},
     "output_type": "execute_result"
    }
   ],
   "source": [
    "int(1.5)"
   ]
  },
  {
   "cell_type": "code",
   "execution_count": 1,
   "metadata": {},
   "outputs": [
    {
     "name": "stdin",
     "output_type": "stream",
     "text": [
      " 3\n",
      " 2\n",
      " 2 2\n"
     ]
    },
    {
     "name": "stdout",
     "output_type": "stream",
     "text": [
      "1\n"
     ]
    },
    {
     "name": "stdin",
     "output_type": "stream",
     "text": [
      " 3\n",
      " 2 1 3\n"
     ]
    },
    {
     "name": "stdout",
     "output_type": "stream",
     "text": [
      "1\n"
     ]
    },
    {
     "name": "stdin",
     "output_type": "stream",
     "text": [
      " 6\n",
      " 4 2 5 1 3 5\n"
     ]
    },
    {
     "name": "stdout",
     "output_type": "stream",
     "text": [
      "7\n"
     ]
    }
   ],
   "source": [
    "T = int(input())\n",
    "\n",
    "for _ in range(T):\n",
    "    n = int(input())\n",
    "    lst = list(map(int, input().split()))\n",
    "    \n",
    "    count = 0\n",
    "    for i in range(0, n):\n",
    "        for j in range(i+1, n):\n",
    "            sum_num = lst[i] + lst[j]\n",
    "            if (sum_num/2).is_integer():\n",
    "                if sum_num/2 in lst:\n",
    "                    count += 1\n",
    "    print(count)"
   ]
  },
  {
   "cell_type": "markdown",
   "metadata": {},
   "source": [
    "3\n",
    "2\n",
    "2 2\n",
    "3\n",
    "2 1 3\n",
    "6\n",
    "4 2 5 1 3 5"
   ]
  },
  {
   "cell_type": "code",
   "execution_count": 19,
   "metadata": {},
   "outputs": [
    {
     "name": "stdout",
     "output_type": "stream",
     "text": [
      "4\n",
      "even 4\n",
      "4\n",
      "even 4\n",
      "4\n",
      "even 4\n",
      "3\n"
     ]
    }
   ],
   "source": [
    "lst = [4,2,5,1,3,5,3]\n",
    "lst = [2,2,2]\n",
    "\n",
    "n = len(lst)\n",
    "\n",
    "count = 0\n",
    "for i in range(0, n):\n",
    "    for j in range(i+1, n):\n",
    "        sum_num = lst[i] + lst[j]\n",
    "        print(sum_num)\n",
    "        if (sum_num/2).is_integer():\n",
    "            print('even', sum_num)\n",
    "            if sum_num/2 in lst:\n",
    "                count += 1\n",
    "            \n",
    "print(count)"
   ]
  }
 ],
 "metadata": {
  "kernelspec": {
   "display_name": "Python 3",
   "language": "python",
   "name": "python3"
  },
  "language_info": {
   "codemirror_mode": {
    "name": "ipython",
    "version": 3
   },
   "file_extension": ".py",
   "mimetype": "text/x-python",
   "name": "python",
   "nbconvert_exporter": "python",
   "pygments_lexer": "ipython3",
   "version": "3.7.0"
  }
 },
 "nbformat": 4,
 "nbformat_minor": 2
}
