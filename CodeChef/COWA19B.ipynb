{
 "cells": [
  {
   "cell_type": "code",
   "execution_count": null,
   "metadata": {},
   "outputs": [],
   "source": [
    "https://www.codechef.com/COWR2020/problems/COWA19B"
   ]
  },
  {
   "cell_type": "code",
   "execution_count": 3,
   "metadata": {},
   "outputs": [
    {
     "name": "stdin",
     "output_type": "stream",
     "text": [
      " 5\n",
      " 3\n",
      " 1 3\n",
      " 2 4\n",
      " 1 5\n"
     ]
    },
    {
     "name": "stdout",
     "output_type": "stream",
     "text": [
      "[2, 0, 0, -1, 0, -1] [2, 1, 0, -1, -1, -1]\n",
      "[2, 2, 2, 1, 1, -1] [2, 3, 3, 2, 1, -1]\n",
      "[2, 2, 2, 1, 1, -1] [2, 5, 8, 7, 5, -1]\n"
     ]
    },
    {
     "name": "stdin",
     "output_type": "stream",
     "text": [
      " 3\n",
      " 1\n"
     ]
    },
    {
     "name": "stdout",
     "output_type": "stream",
     "text": [
      "2\n"
     ]
    },
    {
     "name": "stdin",
     "output_type": "stream",
     "text": [
      " 3\n"
     ]
    },
    {
     "name": "stdout",
     "output_type": "stream",
     "text": [
      "8\n"
     ]
    },
    {
     "name": "stdin",
     "output_type": "stream",
     "text": [
      " 5\n"
     ]
    },
    {
     "name": "stdout",
     "output_type": "stream",
     "text": [
      "5\n"
     ]
    }
   ],
   "source": [
    "n = int(input())\n",
    "q = int(input())\n",
    "\n",
    "s = [0 for _ in range(n+1)]\n",
    "x = [0 for _ in range(n+1)]\n",
    "\n",
    "for _ in range(q):\n",
    "    l,r = map(int,input().split())\n",
    "    s[l-1] += (-l+2)\n",
    "    x[l-1] += 1\n",
    "    s[r] -= (-l+2)\n",
    "    x[r] -= 1\n",
    "\n",
    "print(s, x)\n",
    "\n",
    "for i in range(1,n):\n",
    "    s[i] += s[i-1]\n",
    "    x[i] += x[i-1]\n",
    "\n",
    "print(s, x)\n",
    "    \n",
    "for i in range(n):\n",
    "    x[i] = s[i] + i * (x[i])\n",
    "\n",
    "print(s, x)\n",
    "    \n",
    "for _ in range(int(input())):\n",
    "    print(x[int(input())-1])"
   ]
  },
  {
   "cell_type": "code",
   "execution_count": null,
   "metadata": {},
   "outputs": [],
   "source": []
  },
  {
   "cell_type": "code",
   "execution_count": 2,
   "metadata": {},
   "outputs": [
    {
     "name": "stdin",
     "output_type": "stream",
     "text": [
      " 5\n",
      " 3\n",
      " 1 3\n",
      " 2 4\n",
      " 1 5\n",
      " 3\n",
      " 1\n"
     ]
    },
    {
     "name": "stdout",
     "output_type": "stream",
     "text": [
      "2\n"
     ]
    },
    {
     "name": "stdin",
     "output_type": "stream",
     "text": [
      " 3\n"
     ]
    },
    {
     "name": "stdout",
     "output_type": "stream",
     "text": [
      "8\n"
     ]
    },
    {
     "name": "stdin",
     "output_type": "stream",
     "text": [
      " 5\n"
     ]
    },
    {
     "name": "stdout",
     "output_type": "stream",
     "text": [
      "5\n"
     ]
    }
   ],
   "source": [
    "n = int(input())\n",
    "\n",
    "lst = [0]*n\n",
    "\n",
    "q = int(input())\n",
    "\n",
    "for _ in range(q):\n",
    "    l, r = map(int, input().split())\n",
    "    \n",
    "    c = 1\n",
    "    \n",
    "    for i in range(l-1, r):\n",
    "        lst[i] += c\n",
    "        c+= 1\n",
    "        \n",
    "m = int(input())\n",
    "\n",
    "for _ in range(m):\n",
    "    i = int(input())\n",
    "    print(lst[i-1])"
   ]
  },
  {
   "cell_type": "code",
   "execution_count": null,
   "metadata": {},
   "outputs": [],
   "source": [
    "Input:\n",
    "5\n",
    "3 \n",
    "1 3 \n",
    "2 4 \n",
    "1 5 \n",
    "3 \n",
    "1 \n",
    "3\n",
    "5\n",
    "\n",
    "Output:\n",
    "2\n",
    "8\n",
    "5"
   ]
  }
 ],
 "metadata": {
  "kernelspec": {
   "display_name": "Python 3",
   "language": "python",
   "name": "python3"
  },
  "language_info": {
   "codemirror_mode": {
    "name": "ipython",
    "version": 3
   },
   "file_extension": ".py",
   "mimetype": "text/x-python",
   "name": "python",
   "nbconvert_exporter": "python",
   "pygments_lexer": "ipython3",
   "version": "3.7.0"
  }
 },
 "nbformat": 4,
 "nbformat_minor": 4
}
