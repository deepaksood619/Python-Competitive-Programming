{
 "cells": [
  {
   "cell_type": "code",
   "execution_count": 18,
   "metadata": {},
   "outputs": [],
   "source": [
    "# old\n",
    "def func(n, lst):\n",
    "    lst = list(map(int, lst.split()))\n",
    "    \n",
    "    vals = []\n",
    "    buffer = None\n",
    "    \n",
    "    for i in lst:\n",
    "        if not buffer:\n",
    "            vals.append(i)\n",
    "            buffer = i\n",
    "        else:\n",
    "            if i == buffer+1:\n",
    "                buffer = i\n",
    "            else:\n",
    "                if vals[len(vals)-1] == buffer-1:\n",
    "                    vals.append(buffer)\n",
    "                    vals.append(i)\n",
    "                    buffer = i\n",
    "                else:\n",
    "                    vals[len(vals)-1] = str(vals[len(vals)-1]) + '...' + str(buffer)\n",
    "                    vals.append(i)\n",
    "                    buffer = i\n",
    "                    \n",
    "    return ','.join(str(x) for x in vals)"
   ]
  },
  {
   "cell_type": "code",
   "execution_count": 48,
   "metadata": {},
   "outputs": [
    {
     "name": "stdin",
     "output_type": "stream",
     "text": [
      " 1\n",
      " 1\n",
      " 4\n"
     ]
    },
    {
     "name": "stdout",
     "output_type": "stream",
     "text": [
      "4\n"
     ]
    }
   ],
   "source": [
    "# new\n",
    "def func(n, lst):\n",
    "    lst = list(map(int, lst.split()))\n",
    "    \n",
    "    vals = []\n",
    "    index = 0\n",
    "    start = lst[index]\n",
    "    end = lst[index]\n",
    "    for index in range(1, len(lst)):\n",
    "        if lst[index] == end+1:\n",
    "            end = lst[index]\n",
    "        else:\n",
    "            if end-start >= 2:\n",
    "                vals.append('{}...{}'.format(start, end))\n",
    "            elif start!=end:\n",
    "                vals.append('{},{}'.format(start,end))\n",
    "            else:\n",
    "                vals.append('{}'.format(end))\n",
    "            start = lst[index]\n",
    "            end = lst[index]\n",
    "          \n",
    "    if end-start >= 2:\n",
    "        vals.append('{}...{}'.format(start, end))\n",
    "    elif start!=end:\n",
    "        vals.append('{},{}'.format(start,end))\n",
    "    else:\n",
    "        vals.append('{}'.format(end))\n",
    "    \n",
    "    return ','.join(vals)\n",
    "\n",
    "t = int(input())\n",
    "\n",
    "for _ in range(t):\n",
    "    n = int(input())\n",
    "    l = input()\n",
    "    print(func(n, l))"
   ]
  },
  {
   "cell_type": "code",
   "execution_count": 47,
   "metadata": {},
   "outputs": [],
   "source": [
    "assert func(12, '1 2 3 5 6 8 9 10 11 12 15 17') == '1...3,5,6,8...12,15,17'\n",
    "assert func(4, '4 5 7 8') == '4,5,7,8'\n",
    "assert func(1, '4') == '4'"
   ]
  }
 ],
 "metadata": {
  "kernelspec": {
   "display_name": "Python 3",
   "language": "python",
   "name": "python3"
  },
  "language_info": {
   "codemirror_mode": {
    "name": "ipython",
    "version": 3
   },
   "file_extension": ".py",
   "mimetype": "text/x-python",
   "name": "python",
   "nbconvert_exporter": "python",
   "pygments_lexer": "ipython3",
   "version": "3.7.0"
  }
 },
 "nbformat": 4,
 "nbformat_minor": 4
}
