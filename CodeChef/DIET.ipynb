{
 "cells": [
  {
   "cell_type": "code",
   "execution_count": null,
   "metadata": {},
   "outputs": [],
   "source": [
    "3\n",
    "4 5\n",
    "7 3 6 5\n",
    "3 4\n",
    "3 10 10\n",
    "3 4\n",
    "8 1 1"
   ]
  },
  {
   "cell_type": "code",
   "execution_count": 5,
   "metadata": {},
   "outputs": [
    {
     "name": "stdin",
     "output_type": "stream",
     "text": [
      " 3 4\n",
      " 8 1 1\n"
     ]
    },
    {
     "name": "stdout",
     "output_type": "stream",
     "text": [
      "NO 3\n"
     ]
    }
   ],
   "source": [
    "t = int(input())\n",
    "\n",
    "for _ in range(t):\n",
    "    n, k = map(int, input().split())\n",
    "    a = list(map(int, input().split()))\n",
    "\n",
    "    store = 0\n",
    "    diet = True\n",
    "    day = 1\n",
    "\n",
    "    for val in a:\n",
    "        store += val\n",
    "        if store < k:\n",
    "            diet = False\n",
    "            break\n",
    "        else:\n",
    "            store -= k\n",
    "\n",
    "        day += 1\n",
    "\n",
    "    if diet:\n",
    "        print('YES')\n",
    "    else:\n",
    "        print('NO', day)"
   ]
  }
 ],
 "metadata": {
  "kernelspec": {
   "display_name": "Python 3",
   "language": "python",
   "name": "python3"
  },
  "language_info": {
   "codemirror_mode": {
    "name": "ipython",
    "version": 3
   },
   "file_extension": ".py",
   "mimetype": "text/x-python",
   "name": "python",
   "nbconvert_exporter": "python",
   "pygments_lexer": "ipython3",
   "version": "3.7.0"
  }
 },
 "nbformat": 4,
 "nbformat_minor": 4
}
