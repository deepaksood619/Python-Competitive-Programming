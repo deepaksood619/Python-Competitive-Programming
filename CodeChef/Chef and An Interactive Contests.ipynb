{
 "cells": [
  {
   "cell_type": "code",
   "execution_count": 3,
   "metadata": {},
   "outputs": [
    {
     "name": "stdout",
     "output_type": "stream",
     "text": [
      "3 5\n",
      "5\n",
      "Good boi\n",
      "4\n",
      "Bad boi\n",
      "6\n",
      "Good boi\n"
     ]
    }
   ],
   "source": [
    "N, r = map(int, input().split())\n",
    "for i in range(N):\n",
    "    R = int(input())\n",
    "    if R < r:\n",
    "        print('Bad boi')\n",
    "    else:\n",
    "        print('Good boi')"
   ]
  }
 ],
 "metadata": {
  "kernelspec": {
   "display_name": "Python 3",
   "language": "python",
   "name": "python3"
  },
  "language_info": {
   "codemirror_mode": {
    "name": "ipython",
    "version": 3
   },
   "file_extension": ".py",
   "mimetype": "text/x-python",
   "name": "python",
   "nbconvert_exporter": "python",
   "pygments_lexer": "ipython3",
   "version": "3.7.1"
  }
 },
 "nbformat": 4,
 "nbformat_minor": 2
}
