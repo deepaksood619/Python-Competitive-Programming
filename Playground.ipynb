{
 "cells": [
  {
   "cell_type": "code",
   "execution_count": 23,
   "metadata": {},
   "outputs": [
    {
     "name": "stdout",
     "output_type": "stream",
     "text": [
      "2 3 4\n"
     ]
    },
    {
     "data": {
      "text/plain": [
       "[2, 3, 4]"
      ]
     },
     "execution_count": 23,
     "metadata": {},
     "output_type": "execute_result"
    }
   ],
   "source": [
    "list_ = list(map(int, input().split()))\n",
    "list_"
   ]
  },
  {
   "cell_type": "code",
   "execution_count": 24,
   "metadata": {},
   "outputs": [
    {
     "name": "stdout",
     "output_type": "stream",
     "text": [
      "9\n"
     ]
    }
   ],
   "source": [
    "from itertools import chain, combinations\n",
    "\n",
    "def powerset(s):\n",
    "    return chain(*map(lambda x: combinations(s, x), range(len(s)+1)))\n",
    "\n",
    "# x = 0\n",
    "# lst = []\n",
    "# for i in powerset([8,9,9,8]):\n",
    "#     if i:\n",
    "#         for j in i:\n",
    "#             x = x^j\n",
    "            \n",
    "#         lst.append(x)\n",
    "            \n",
    "#         print(i, x)\n",
    "# print('final',lst)\n",
    "# print(len(lst))\n",
    "\n",
    "lst = [8,9,9,8]\n",
    "\n",
    "y = 0\n",
    "for i in lst:\n",
    "    y = y|i\n",
    "print(y)"
   ]
  },
  {
   "cell_type": "code",
   "execution_count": 26,
   "metadata": {},
   "outputs": [
    {
     "name": "stdout",
     "output_type": "stream",
     "text": [
      "1\n",
      "8 9 9 8\n",
      "9\n"
     ]
    }
   ],
   "source": [
    "t = int(input())\n",
    "\n",
    "for k in range(t):\n",
    "\n",
    "    list_ = list(map(int, input().split()))\n",
    "    \n",
    "    y = 0\n",
    "    for i in list_:\n",
    "        y = y|i\n",
    "        \n",
    "    print(y)"
   ]
  },
  {
   "cell_type": "code",
   "execution_count": 2,
   "metadata": {},
   "outputs": [
    {
     "name": "stdout",
     "output_type": "stream",
     "text": [
      "1\n",
      "358 303\n",
      "1174271291386916581352164677042891133392710259904109358530151187111124502379057032061748702978997052581609472.00\n"
     ]
    }
   ],
   "source": [
    "t = int(input())\n",
    "\n",
    "for _ in range(t):\n",
    "    n, m = map(int, input().split())\n",
    "    \n",
    "    a = pow(2, n+1)\n",
    "    b = pow(2, m+1)\n",
    "    \n",
    "    print(str(a-b)+'.00')\n",
    "    "
   ]
  },
  {
   "cell_type": "code",
   "execution_count": 1,
   "metadata": {},
   "outputs": [
    {
     "name": "stdout",
     "output_type": "stream",
     "text": [
      "Number of processors:  8\n"
     ]
    }
   ],
   "source": [
    "import multiprocessing as mp\n",
    "print(\"Number of processors: \", mp.cpu_count())"
   ]
  },
  {
   "cell_type": "code",
   "execution_count": 2,
   "metadata": {},
   "outputs": [
    {
     "name": "stdout",
     "output_type": "stream",
     "text": [
      "Hello\n",
      "world\n"
     ]
    }
   ],
   "source": [
    "sen = 'Hello world'\n",
    "for i in sen.split():\n",
    "    print(i)"
   ]
  },
  {
   "cell_type": "code",
   "execution_count": 3,
   "metadata": {},
   "outputs": [],
   "source": [
    "def four_letter_words(sentence):\n",
    "    num = 0\n",
    "    for i in sentence.split():\n",
    "        if len(i)==4:\n",
    "            num += 1\n",
    "    return num"
   ]
  },
  {
   "cell_type": "code",
   "execution_count": 4,
   "metadata": {},
   "outputs": [
    {
     "data": {
      "text/plain": [
       "1"
      ]
     },
     "execution_count": 4,
     "metadata": {},
     "output_type": "execute_result"
    }
   ],
   "source": [
    "four_letter_words('Hello word')"
   ]
  },
  {
   "cell_type": "code",
   "execution_count": 7,
   "metadata": {},
   "outputs": [],
   "source": [
    "from difflib import SequenceMatcher"
   ]
  },
  {
   "cell_type": "code",
   "execution_count": 9,
   "metadata": {},
   "outputs": [
    {
     "name": "stdout",
     "output_type": "stream",
     "text": [
      "insert    a[0:0] --> b[0:1]       '' --> 'c'\n",
      "equal     a[0:2] --> b[1:3]     'at' --> 'at'\n"
     ]
    }
   ],
   "source": [
    "a = \"at\"\n",
    "b = \"cat\"\n",
    "s = SequenceMatcher(None, a, b)\n",
    "s.get_opcodes()\n",
    "for tag, i1, i2, j1, j2 in s.get_opcodes():\n",
    "    print('{:7}   a[{}:{}] --> b[{}:{}] {!r:>8} --> {!r}'.format(tag, i1, i2, j1, j2, a[i1:i2], b[j1:j2]))"
   ]
  },
  {
   "cell_type": "code",
   "execution_count": 10,
   "metadata": {},
   "outputs": [
    {
     "name": "stdout",
     "output_type": "stream",
     "text": [
      "replace   a[0:1] --> b[0:1]      'b' --> 'g'\n",
      "equal     a[1:2] --> b[1:2]      'o' --> 'o'\n",
      "delete    a[2:3] --> b[2:2]      'a' --> ''\n",
      "equal     a[3:4] --> b[2:3]      't' --> 't'\n"
     ]
    }
   ],
   "source": [
    "a = \"boat\"\n",
    "b = \"got\"\n",
    "s = SequenceMatcher(None, a, b)\n",
    "s.get_opcodes()\n",
    "for tag, i1, i2, j1, j2 in s.get_opcodes():\n",
    "    print('{:7}   a[{}:{}] --> b[{}:{}] {!r:>8} --> {!r}'.format(tag, i1, i2, j1, j2, a[i1:i2], b[j1:j2]))"
   ]
  },
  {
   "cell_type": "code",
   "execution_count": 11,
   "metadata": {},
   "outputs": [
    {
     "name": "stdout",
     "output_type": "stream",
     "text": [
      "replace   a[0:2] --> b[0:2]     'th' --> 'sl'\n",
      "equal     a[2:6] --> b[2:6]   'ough' --> 'ough'\n",
      "replace   a[6:7] --> b[6:7]      't' --> 's'\n"
     ]
    }
   ],
   "source": [
    "a = \"thought\"\n",
    "b = \"sloughs\"\n",
    "s = SequenceMatcher(None, a, b)\n",
    "s.get_opcodes()\n",
    "for tag, i1, i2, j1, j2 in s.get_opcodes():\n",
    "    print('{:7}   a[{}:{}] --> b[{}:{}] {!r:>8} --> {!r}'.format(tag, i1, i2, j1, j2, a[i1:i2], b[j1:j2]))"
   ]
  },
  {
   "cell_type": "code",
   "execution_count": 16,
   "metadata": {},
   "outputs": [
    {
     "name": "stdout",
     "output_type": "stream",
     "text": [
      "insert    a[0:0] --> b[0:3]       '' --> 'bbb'\n",
      "equal     a[0:3] --> b[3:6]    'aaa' --> 'aaa'\n",
      "delete    a[3:6] --> b[6:6]    'bbb' --> ''\n"
     ]
    }
   ],
   "source": [
    "a = \"aaabbb\"\n",
    "b = \"bbbaaa\"\n",
    "s = SequenceMatcher(None, a, b)\n",
    "s.get_opcodes()\n",
    "for tag, i1, i2, j1, j2 in s.get_opcodes():\n",
    "    print('{:7}   a[{}:{}] --> b[{}:{}] {!r:>8} --> {!r}'.format(tag, i1, i2, j1, j2, a[i1:i2], b[j1:j2]))"
   ]
  },
  {
   "cell_type": "code",
   "execution_count": 17,
   "metadata": {},
   "outputs": [
    {
     "name": "stdout",
     "output_type": "stream",
     "text": [
      "insert    a[0:0] --> b[0:2]       '' --> 'xo'\n",
      "equal     a[0:1] --> b[2:3]      'f' --> 'f'\n",
      "delete    a[1:3] --> b[3:3]     'ox' --> ''\n"
     ]
    }
   ],
   "source": [
    "a = \"fox\"\n",
    "b = \"xof\"\n",
    "s = SequenceMatcher(None, a, b)\n",
    "s.get_opcodes()\n",
    "for tag, i1, i2, j1, j2 in s.get_opcodes():\n",
    "    print('{:7}   a[{}:{}] --> b[{}:{}] {!r:>8} --> {!r}'.format(tag, i1, i2, j1, j2, a[i1:i2], b[j1:j2]))"
   ]
  },
  {
   "cell_type": "code",
   "execution_count": 19,
   "metadata": {},
   "outputs": [],
   "source": [
    "from difflib import ndiff"
   ]
  },
  {
   "cell_type": "code",
   "execution_count": 20,
   "metadata": {},
   "outputs": [],
   "source": [
    "diff = ndiff('abc', 'cba')"
   ]
  },
  {
   "cell_type": "code",
   "execution_count": 22,
   "metadata": {},
   "outputs": [
    {
     "name": "stdout",
     "output_type": "stream",
     "text": [
      "+ c\n",
      "+ b\n",
      "  a\n",
      "- b\n",
      "- c\n"
     ]
    }
   ],
   "source": [
    "for i in diff:\n",
    "    print(i)"
   ]
  },
  {
   "cell_type": "code",
   "execution_count": null,
   "metadata": {},
   "outputs": [],
   "source": [
    "a = 'fox'\n",
    "b = 'xof'\n",
    "val = 0\n",
    "for index, i in enumerate(a):\n",
    "    if b[index] != i:\n",
    "       val += 1 \n",
    "return val"
   ]
  },
  {
   "cell_type": "code",
   "execution_count": null,
   "metadata": {},
   "outputs": [],
   "source": [
    "bracket_string = '((()))'\n",
    "ret = 0\n",
    "count = 0\n",
    "for i in bracket_string:\n",
    "    if i == '(':\n",
    "        count += 1\n",
    "    else:\n",
    "        # ')'\n",
    "        if count == 0:\n",
    "            ret += 1 \n",
    "        else:\n",
    "            count -= 1\n",
    "return ret + count"
   ]
  }
 ],
 "metadata": {
  "kernelspec": {
   "display_name": "Python 3",
   "language": "python",
   "name": "python3"
  },
  "language_info": {
   "codemirror_mode": {
    "name": "ipython",
    "version": 3
   },
   "file_extension": ".py",
   "mimetype": "text/x-python",
   "name": "python",
   "nbconvert_exporter": "python",
   "pygments_lexer": "ipython3",
   "version": "3.7.2"
  }
 },
 "nbformat": 4,
 "nbformat_minor": 2
}
