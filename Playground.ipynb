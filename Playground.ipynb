{
 "cells": [
  {
   "cell_type": "markdown",
   "metadata": {},
   "source": [
    "### Decorators"
   ]
  },
  {
   "cell_type": "code",
   "execution_count": 1,
   "metadata": {},
   "outputs": [],
   "source": [
    "def parent():\n",
    "    print(\"Printing from the parent() function.\")\n",
    "\n",
    "    def first_child():\n",
    "        return \"Printing from the first_child() function.\"\n",
    "\n",
    "    def second_child():\n",
    "        return \"Printing from the second_child() function.\"\n",
    "\n",
    "    print(first_child())\n",
    "    print(second_child())"
   ]
  },
  {
   "cell_type": "code",
   "execution_count": 4,
   "metadata": {},
   "outputs": [
    {
     "name": "stdout",
     "output_type": "stream",
     "text": [
      "Printing from the parent() function.\n",
      "Printing from the first_child() function.\n",
      "Printing from the second_child() function.\n"
     ]
    }
   ],
   "source": [
    "parent()"
   ]
  },
  {
   "cell_type": "markdown",
   "metadata": {},
   "source": [
    "### Regex match codin game"
   ]
  },
  {
   "cell_type": "code",
   "execution_count": 23,
   "metadata": {},
   "outputs": [
    {
     "name": "stdout",
     "output_type": "stream",
     "text": [
      "None\n"
     ]
    }
   ],
   "source": [
    "import re\n",
    "\n",
    "val = 'I neeed HELP'\n",
    "\n",
    "if val.isupper():\n",
    "    print ('upper')\n",
    "elif val[-3:] == '!!!':\n",
    "    print('exp')\n",
    "\n",
    "print (re.match(r'^[A-Z]+$', val))\n",
    "\n",
    "subj = 'I need Help'\n",
    "print (re.match(r'^H.*?E.*?L.*?P$', subj))\n"
   ]
  },
  {
   "cell_type": "code",
   "execution_count": 39,
   "metadata": {},
   "outputs": [
    {
     "name": "stdout",
     "output_type": "stream",
     "text": [
      "Done! Go Check it!\n"
     ]
    }
   ],
   "source": [
    "import re\n",
    "\n",
    "def is_stressful(subj):\n",
    "    if subj.isupper():\n",
    "        return True;\n",
    "    elif subj[-3:] == '!!!':\n",
    "        return True\n",
    "    elif re.match(r'^.*?[Hh][!-Hh]*?[Ee][!-Ee]*?[Ll][!-Ll]*?[Pp][Pp]*?$', subj):\n",
    "        return True\n",
    "    elif re.match(r'^.*?[Aa].*?[Ss].*?[Aa].*?[Pp].*?$', subj):\n",
    "        return True\n",
    "    elif re.match(r'^.*?[Uu].*?[Rr].*?[Gg].*?[Ee].*?[Nn].*?[Tt].*?$', subj):\n",
    "        return True\n",
    "    else:\n",
    "        return False\n",
    "\n",
    "if __name__ == '__main__':\n",
    "    #These \"asserts\" using only for self-checking and not necessary for auto-testing\n",
    "    assert is_stressful(\"Hi\") == False, \"First\"\n",
    "    assert is_stressful(\"I neeed HELP\") == True, \"Second\"\n",
    "    print('Done! Go Check it!')"
   ]
  },
  {
   "cell_type": "code",
   "execution_count": 2,
   "metadata": {},
   "outputs": [
    {
     "name": "stdout",
     "output_type": "stream",
     "text": [
      "[\n",
      " {‘type’ : ‘content’,‘order’: ‘1’ , ‘duration’ : ‘null’, ‘name’ : ‘null’},\n",
      " { ‘type’ : ‘question’, ‘order’: ‘2’, ‘duration’ : ‘null‘, ‘name’ : ‘null’},\n",
      " {‘type’ : ‘answer’, ‘order’: ‘3’,duration’ : ‘null’, ‘name’ : ‘null’’}, \n",
      "{ ‘type’ : ‘question’, ‘order’: ‘4’,duration’ : ‘null’, ‘name’ : ‘null’’}, \n",
      "{‘type’ : ‘answer’, ‘order’: ‘5’,duration’ : ‘null’, ‘name’ : ‘null’} \n",
      "]\n",
      "\n"
     ]
    }
   ],
   "source": [
    "foo = \"\"\"[\n",
    " {‘type’ : ‘content’,‘order’: ‘1’ , ‘duration’ : ‘null’, ‘name’ : ‘null’},\n",
    " { ‘type’ : ‘question’, ‘order’: ‘2’, ‘duration’ : ‘null‘, ‘name’ : ‘null’},\n",
    " {‘type’ : ‘answer’, ‘order’: ‘3’,duration’ : ‘null’, ‘name’ : ‘null’’}, \n",
    "{ ‘type’ : ‘question’, ‘order’: ‘4’,duration’ : ‘null’, ‘name’ : ‘null’’}, \n",
    "{‘type’ : ‘answer’, ‘order’: ‘5’,duration’ : ‘null’, ‘name’ : ‘null’} \n",
    "]\n",
    "\"\"\"\n",
    "\n",
    "print (foo)\n"
   ]
  },
  {
   "cell_type": "code",
   "execution_count": 6,
   "metadata": {},
   "outputs": [
    {
     "name": "stdout",
     "output_type": "stream",
     "text": [
      "[\n",
      " {\"type\" : \"content\",\"order\": \"1\" , \"duration\" : \"null\", \"name\" : \"null\"},\n",
      " { \"type\" : \"question\", \"order\": \"2\", \"duration\" : \"null\", \"name\" : \"null\"},\n",
      " {\"type\" : \"answer\", \"order\": \"3\",duration\" : \"null\", \"name\" : \"null\"\"}, \n",
      "{ \"type\" : \"question\", \"order\": \"4\",duration\" : \"null\", \"name\" : \"null\"\"}, \n",
      "{\"type\" : \"answer\", \"order\": \"5\",duration\" : \"null\", \"name\" : \"null\"} \n",
      "]\n",
      "\n"
     ]
    }
   ],
   "source": [
    "foo = foo.replace('‘', \"\\\"\")\n",
    "foo = foo.replace('’', \"\\\"\")\n",
    "print(foo)"
   ]
  },
  {
   "cell_type": "code",
   "execution_count": 10,
   "metadata": {},
   "outputs": [
    {
     "name": "stdout",
     "output_type": "stream",
     "text": [
      "[\n",
      " {\"type\" : \"content\",\"order\": \"1\" , \"duration\" : \"\", \"name\" : \"\"},\n",
      " { \"type\" : \"question\", \"order\": \"2\", \"duration\" : \"\", \"name\" : \"\"},\n",
      " {\"type\" : \"answer\", \"order\": \"3\", \"duration\" : \"\", \"name\" : \"\"}, \n",
      "{ \"type\" : \"question\", \"order\": \"4\", \"duration\" : \"\", \"name\" : \"\"}, \n",
      "{\"type\" : \"answer\", \"order\": \"5\", \"duration\" : \"\", \"name\" : \"\"} \n",
      "]\n",
      "[\n",
      " {'type' : 'content','order': '1' , 'duration' : '', 'name' : ''},\n",
      " { 'type' : 'question', 'order': '2', 'duration' : '', 'name' : ''},\n",
      " {'type' : 'answer', 'order': '3', 'duration' : '', 'name' : ''}, \n",
      "{ 'type' : 'question', 'order': '4', 'duration' : '', 'name' : ''}, \n",
      "{'type' : 'answer', 'order': '5', 'duration' : '', 'name' : ''} \n",
      "]\n"
     ]
    }
   ],
   "source": [
    "bar = \"\"\"[\n",
    " {\"type\" : \"content\",\"order\": \"1\" , \"duration\" : \"null\", \"name\" : \"null\"},\n",
    " { \"type\" : \"question\", \"order\": \"2\", \"duration\" : \"null\", \"name\" : \"null\"},\n",
    " {\"type\" : \"answer\", \"order\": \"3\", \"duration\" : \"null\", \"name\" : \"null\"}, \n",
    "{ \"type\" : \"question\", \"order\": \"4\", \"duration\" : \"null\", \"name\" : \"null\"}, \n",
    "{\"type\" : \"answer\", \"order\": \"5\", \"duration\" : \"null\", \"name\" : \"null\"} \n",
    "]\"\"\"\n",
    "\n",
    "bar = bar.replace('null', \"\")\n",
    "print(bar)\n",
    "bar = bar.replace(\"\\\"\", \"'\")\n",
    "print (bar)"
   ]
  }
 ],
 "metadata": {
  "kernelspec": {
   "display_name": "Python 3",
   "language": "python",
   "name": "python3"
  },
  "language_info": {
   "codemirror_mode": {
    "name": "ipython",
    "version": 2
   },
   "file_extension": ".py",
   "mimetype": "text/x-python",
   "name": "python",
   "nbconvert_exporter": "python",
   "pygments_lexer": "ipython2",
   "version": "2.7.14"
  }
 },
 "nbformat": 4,
 "nbformat_minor": 2
}
