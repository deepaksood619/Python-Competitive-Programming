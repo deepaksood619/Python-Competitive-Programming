{
 "cells": [
  {
   "cell_type": "code",
   "execution_count": 1,
   "metadata": {},
   "outputs": [],
   "source": [
    "from datetime import datetime\n",
    "import base64\n",
    "import zlib"
   ]
  },
  {
   "cell_type": "code",
   "execution_count": 8,
   "metadata": {},
   "outputs": [],
   "source": [
    "payload = b'x\\x9c\\xad\\xd0MO\\x021\\x10\\x80\\xe1\\xbfBzf`\\xfa1\\xed\\xd4\\xab^4j\\x02\"\\x98\\x10\\x0e\\xdd\\xed\\xac!\"\\xca\\xc2\\xaa\\x84\\xf0\\xdf]\\x12\\x0fz\\x10<xk&\\x9d\\xc9\\x93w\\xa7\\xfa\\xa3Z\\x96\\x1b0\\xba?\\x92\\xe7W\\xa9\\xd3\\xa6\\xa9\\xe5N\\x96\\xeb\\x97Z\\xa3\\xed\\x8f\\xd3\\xa2\\x91\\xf5PJ\\x99\\xbfIVg\\x9d\\x9dj\\x9a\\xf9\\xe1\\xa1\\xbc \\x17\\x81<dk\\x10\\xc8p\\x00fSAt\\xc18\\xae\\x92\\x8flT\\xb7\\xa3\\x86\\x92\\xf2|\\xf9\\xb8nw\\xa6SM\\xe4QG\\xa3\\r\"v;z6\\xdb\\xb7_\\x8e\"\\xf8\\xfb\\xf0\\x87\\xa0\\xa4\\x82\\xc5\\xe6\\x12\\xac8\\x06*R\\x80H\\x95@\\x0c\\xa5\\xb7\\xe4\\xb80\\x8c\\xa7\\x04\\xc6\\xf5\\x9c\\xfd\\x93\\xe2H\\nW\\xc6\\xa0%20\\xb2\\x05\\xc2\\xd0B\\x12\\x13D\\x14\\xaf\\xbdD\\x93)\\xfdG\\n\\xfbk\\n\\x1d\\xabL\\xac\\x190\\xfa\\xaa\\x15\\xf8\\xb6\\x02\\xb9\\x0c\\xc6ZN$\\x0e]\\x91O\\xa6\\xf0=\\xfeR<\\xc9\\xf6p5\\xc4\\x89\\xb9\\xddz\\xbd\\xbd\\xf4\\x03?z\\xc8\\x8b4\\xb9\\xb9\\xd7\\x17W\\xab\\x8fU\\x1c\\xaf\\xe4\\xfa}P\\x9f\\xab\\xfd\\'\\r\\xfc\\xa7\\xbb'"
   ]
  },
  {
   "cell_type": "code",
   "execution_count": 19,
   "metadata": {},
   "outputs": [
    {
     "data": {
      "text/plain": [
       "b'{\"/Trent-21/TemperatureSensor103/ValuesReceived\": {\"uuid\": \"6e08b756-d320-5287-882f-947248fa6982\", \"Readings\": [[1556019212000, 1]]}, \"/Trent-21/TemperatureSensor108/Temperature\": {\"uuid\": \"c5b8e3dc-3e48-5ba7-95fe-97c63548b280\", \"Readings\": [[1556019212000, 24.43]]}, \"/Trent-21/TemperatureSensor108/ValuesReceived\": {\"uuid\": \"4c971e98-8083-5077-9a85-90e616e92d5a\", \"Readings\": [[1556019212000, 1]]}, \"/Trent-21/TemperatureSensor103/Temperature\": {\"uuid\": \"19fd5818-096f-506e-954d-2338a5e404bd\", \"Readings\": [[1556019212000, 26.81]]}, \"key\": \"79W2Ny61yI6Q6TXdlaWMU1DJqxq9VqeLwQrC\"}'"
      ]
     },
     "execution_count": 19,
     "metadata": {},
     "output_type": "execute_result"
    }
   ],
   "source": [
    "zlib.decompress(payload)"
   ]
  },
  {
   "cell_type": "code",
   "execution_count": 23,
   "metadata": {},
   "outputs": [
    {
     "name": "stdout",
     "output_type": "stream",
     "text": [
      "2 3 4\n"
     ]
    },
    {
     "data": {
      "text/plain": [
       "[2, 3, 4]"
      ]
     },
     "execution_count": 23,
     "metadata": {},
     "output_type": "execute_result"
    }
   ],
   "source": [
    "list_ = list(map(int, input().split()))\n",
    "list_"
   ]
  },
  {
   "cell_type": "code",
   "execution_count": 24,
   "metadata": {},
   "outputs": [
    {
     "name": "stdout",
     "output_type": "stream",
     "text": [
      "9\n"
     ]
    }
   ],
   "source": [
    "from itertools import chain, combinations\n",
    "\n",
    "def powerset(s):\n",
    "    return chain(*map(lambda x: combinations(s, x), range(len(s)+1)))\n",
    "\n",
    "# x = 0\n",
    "# lst = []\n",
    "# for i in powerset([8,9,9,8]):\n",
    "#     if i:\n",
    "#         for j in i:\n",
    "#             x = x^j\n",
    "            \n",
    "#         lst.append(x)\n",
    "            \n",
    "#         print(i, x)\n",
    "# print('final',lst)\n",
    "# print(len(lst))\n",
    "\n",
    "lst = [8,9,9,8]\n",
    "\n",
    "y = 0\n",
    "for i in lst:\n",
    "    y = y|i\n",
    "print(y)"
   ]
  },
  {
   "cell_type": "code",
   "execution_count": 26,
   "metadata": {},
   "outputs": [
    {
     "name": "stdout",
     "output_type": "stream",
     "text": [
      "1\n",
      "8 9 9 8\n",
      "9\n"
     ]
    }
   ],
   "source": [
    "t = int(input())\n",
    "\n",
    "for k in range(t):\n",
    "\n",
    "    list_ = list(map(int, input().split()))\n",
    "    \n",
    "    y = 0\n",
    "    for i in list_:\n",
    "        y = y|i\n",
    "        \n",
    "    print(y)"
   ]
  },
  {
   "cell_type": "code",
   "execution_count": 2,
   "metadata": {},
   "outputs": [
    {
     "name": "stdout",
     "output_type": "stream",
     "text": [
      "1\n",
      "358 303\n",
      "1174271291386916581352164677042891133392710259904109358530151187111124502379057032061748702978997052581609472.00\n"
     ]
    }
   ],
   "source": [
    "t = int(input())\n",
    "\n",
    "for _ in range(t):\n",
    "    n, m = map(int, input().split())\n",
    "    \n",
    "    a = pow(2, n+1)\n",
    "    b = pow(2, m+1)\n",
    "    \n",
    "    print(str(a-b)+'.00')\n",
    "    "
   ]
  },
  {
   "cell_type": "code",
   "execution_count": 1,
   "metadata": {},
   "outputs": [
    {
     "name": "stdout",
     "output_type": "stream",
     "text": [
      "Number of processors:  8\n"
     ]
    }
   ],
   "source": [
    "import multiprocessing as mp\n",
    "print(\"Number of processors: \", mp.cpu_count())"
   ]
  },
  {
   "cell_type": "code",
   "execution_count": 2,
   "metadata": {},
   "outputs": [
    {
     "name": "stdout",
     "output_type": "stream",
     "text": [
      "Hello\n",
      "world\n"
     ]
    }
   ],
   "source": [
    "sen = 'Hello world'\n",
    "for i in sen.split():\n",
    "    print(i)"
   ]
  },
  {
   "cell_type": "code",
   "execution_count": 3,
   "metadata": {},
   "outputs": [],
   "source": [
    "def four_letter_words(sentence):\n",
    "    num = 0\n",
    "    for i in sentence.split():\n",
    "        if len(i)==4:\n",
    "            num += 1\n",
    "    return num"
   ]
  },
  {
   "cell_type": "code",
   "execution_count": 4,
   "metadata": {},
   "outputs": [
    {
     "data": {
      "text/plain": [
       "1"
      ]
     },
     "execution_count": 4,
     "metadata": {},
     "output_type": "execute_result"
    }
   ],
   "source": [
    "four_letter_words('Hello word')"
   ]
  },
  {
   "cell_type": "code",
   "execution_count": 7,
   "metadata": {},
   "outputs": [],
   "source": [
    "from difflib import SequenceMatcher"
   ]
  },
  {
   "cell_type": "code",
   "execution_count": 9,
   "metadata": {},
   "outputs": [
    {
     "name": "stdout",
     "output_type": "stream",
     "text": [
      "insert    a[0:0] --> b[0:1]       '' --> 'c'\n",
      "equal     a[0:2] --> b[1:3]     'at' --> 'at'\n"
     ]
    }
   ],
   "source": [
    "a = \"at\"\n",
    "b = \"cat\"\n",
    "s = SequenceMatcher(None, a, b)\n",
    "s.get_opcodes()\n",
    "for tag, i1, i2, j1, j2 in s.get_opcodes():\n",
    "    print('{:7}   a[{}:{}] --> b[{}:{}] {!r:>8} --> {!r}'.format(tag, i1, i2, j1, j2, a[i1:i2], b[j1:j2]))"
   ]
  },
  {
   "cell_type": "code",
   "execution_count": 10,
   "metadata": {},
   "outputs": [
    {
     "name": "stdout",
     "output_type": "stream",
     "text": [
      "replace   a[0:1] --> b[0:1]      'b' --> 'g'\n",
      "equal     a[1:2] --> b[1:2]      'o' --> 'o'\n",
      "delete    a[2:3] --> b[2:2]      'a' --> ''\n",
      "equal     a[3:4] --> b[2:3]      't' --> 't'\n"
     ]
    }
   ],
   "source": [
    "a = \"boat\"\n",
    "b = \"got\"\n",
    "s = SequenceMatcher(None, a, b)\n",
    "s.get_opcodes()\n",
    "for tag, i1, i2, j1, j2 in s.get_opcodes():\n",
    "    print('{:7}   a[{}:{}] --> b[{}:{}] {!r:>8} --> {!r}'.format(tag, i1, i2, j1, j2, a[i1:i2], b[j1:j2]))"
   ]
  },
  {
   "cell_type": "code",
   "execution_count": 11,
   "metadata": {},
   "outputs": [
    {
     "name": "stdout",
     "output_type": "stream",
     "text": [
      "replace   a[0:2] --> b[0:2]     'th' --> 'sl'\n",
      "equal     a[2:6] --> b[2:6]   'ough' --> 'ough'\n",
      "replace   a[6:7] --> b[6:7]      't' --> 's'\n"
     ]
    }
   ],
   "source": [
    "a = \"thought\"\n",
    "b = \"sloughs\"\n",
    "s = SequenceMatcher(None, a, b)\n",
    "s.get_opcodes()\n",
    "for tag, i1, i2, j1, j2 in s.get_opcodes():\n",
    "    print('{:7}   a[{}:{}] --> b[{}:{}] {!r:>8} --> {!r}'.format(tag, i1, i2, j1, j2, a[i1:i2], b[j1:j2]))"
   ]
  },
  {
   "cell_type": "code",
   "execution_count": 16,
   "metadata": {},
   "outputs": [
    {
     "name": "stdout",
     "output_type": "stream",
     "text": [
      "insert    a[0:0] --> b[0:3]       '' --> 'bbb'\n",
      "equal     a[0:3] --> b[3:6]    'aaa' --> 'aaa'\n",
      "delete    a[3:6] --> b[6:6]    'bbb' --> ''\n"
     ]
    }
   ],
   "source": [
    "a = \"aaabbb\"\n",
    "b = \"bbbaaa\"\n",
    "s = SequenceMatcher(None, a, b)\n",
    "s.get_opcodes()\n",
    "for tag, i1, i2, j1, j2 in s.get_opcodes():\n",
    "    print('{:7}   a[{}:{}] --> b[{}:{}] {!r:>8} --> {!r}'.format(tag, i1, i2, j1, j2, a[i1:i2], b[j1:j2]))"
   ]
  },
  {
   "cell_type": "code",
   "execution_count": 17,
   "metadata": {},
   "outputs": [
    {
     "name": "stdout",
     "output_type": "stream",
     "text": [
      "insert    a[0:0] --> b[0:2]       '' --> 'xo'\n",
      "equal     a[0:1] --> b[2:3]      'f' --> 'f'\n",
      "delete    a[1:3] --> b[3:3]     'ox' --> ''\n"
     ]
    }
   ],
   "source": [
    "a = \"fox\"\n",
    "b = \"xof\"\n",
    "s = SequenceMatcher(None, a, b)\n",
    "s.get_opcodes()\n",
    "for tag, i1, i2, j1, j2 in s.get_opcodes():\n",
    "    print('{:7}   a[{}:{}] --> b[{}:{}] {!r:>8} --> {!r}'.format(tag, i1, i2, j1, j2, a[i1:i2], b[j1:j2]))"
   ]
  },
  {
   "cell_type": "code",
   "execution_count": 19,
   "metadata": {},
   "outputs": [],
   "source": [
    "from difflib import ndiff"
   ]
  },
  {
   "cell_type": "code",
   "execution_count": 20,
   "metadata": {},
   "outputs": [],
   "source": [
    "diff = ndiff('abc', 'cba')"
   ]
  },
  {
   "cell_type": "code",
   "execution_count": 22,
   "metadata": {},
   "outputs": [
    {
     "name": "stdout",
     "output_type": "stream",
     "text": [
      "+ c\n",
      "+ b\n",
      "  a\n",
      "- b\n",
      "- c\n"
     ]
    }
   ],
   "source": [
    "for i in diff:\n",
    "    print(i)"
   ]
  },
  {
   "cell_type": "code",
   "execution_count": null,
   "metadata": {},
   "outputs": [],
   "source": [
    "a = 'fox'\n",
    "b = 'xof'\n",
    "val = 0\n",
    "for index, i in enumerate(a):\n",
    "    if b[index] != i:\n",
    "       val += 1 \n",
    "return val"
   ]
  },
  {
   "cell_type": "code",
   "execution_count": null,
   "metadata": {},
   "outputs": [],
   "source": [
    "bracket_string = '((()))'\n",
    "ret = 0\n",
    "count = 0\n",
    "for i in bracket_string:\n",
    "    if i == '(':\n",
    "        count += 1\n",
    "    else:\n",
    "        # ')'\n",
    "        if count == 0:\n",
    "            ret += 1 \n",
    "        else:\n",
    "            count -= 1\n",
    "return ret + count"
   ]
  }
 ],
 "metadata": {
  "kernelspec": {
   "display_name": "Python 3",
   "language": "python",
   "name": "python3"
  },
  "language_info": {
   "codemirror_mode": {
    "name": "ipython",
    "version": 3
   },
   "file_extension": ".py",
   "mimetype": "text/x-python",
   "name": "python",
   "nbconvert_exporter": "python",
   "pygments_lexer": "ipython3",
   "version": "3.7.0"
  }
 },
 "nbformat": 4,
 "nbformat_minor": 2
}
