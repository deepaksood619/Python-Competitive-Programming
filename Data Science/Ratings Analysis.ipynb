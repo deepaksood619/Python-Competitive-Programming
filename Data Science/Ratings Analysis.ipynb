{
 "cells": [
  {
   "cell_type": "code",
   "execution_count": null,
   "metadata": {},
   "outputs": [],
   "source": [
    "https://towardsdatascience.com/guide-to-big-data-joins-python-sql-pandas-spark-dask-51b7f4fec810"
   ]
  },
  {
   "cell_type": "code",
   "execution_count": 1,
   "metadata": {},
   "outputs": [
    {
     "name": "stdout",
     "output_type": "stream",
     "text": [
      "userId,movieId,rating,timestamp\n",
      "1,110,1.0,1425941529\n",
      "1,147,4.5,1425942435\n",
      "1,858,5.0,1425941523\n",
      "1,1221,5.0,1425941546\n",
      "1,1246,5.0,1425941556\n",
      "1,1968,4.0,1425942148\n",
      "1,2762,4.5,1425941300\n",
      "1,2918,5.0,1425941593\n",
      "1,2959,4.0,1425941601\n"
     ]
    }
   ],
   "source": [
    "!head ratings.csv"
   ]
  },
  {
   "cell_type": "code",
   "execution_count": 1,
   "metadata": {},
   "outputs": [],
   "source": [
    "import sqlite3\n",
    "import csv"
   ]
  },
  {
   "cell_type": "code",
   "execution_count": 2,
   "metadata": {},
   "outputs": [],
   "source": [
    "con = sqlite3.connect('mydatabase.db')"
   ]
  },
  {
   "cell_type": "code",
   "execution_count": 3,
   "metadata": {},
   "outputs": [],
   "source": [
    "c = con.cursor()"
   ]
  },
  {
   "cell_type": "code",
   "execution_count": 6,
   "metadata": {},
   "outputs": [
    {
     "data": {
      "text/plain": [
       "<sqlite3.Cursor at 0x110511260>"
      ]
     },
     "execution_count": 6,
     "metadata": {},
     "output_type": "execute_result"
    }
   ],
   "source": [
    "c.execute(\"DROP TABLE ratings\")"
   ]
  },
  {
   "cell_type": "code",
   "execution_count": 7,
   "metadata": {},
   "outputs": [
    {
     "data": {
      "text/plain": [
       "<sqlite3.Cursor at 0x110511260>"
      ]
     },
     "execution_count": 7,
     "metadata": {},
     "output_type": "execute_result"
    }
   ],
   "source": [
    "# create table\n",
    "c.execute(\"CREATE TABLE IF NOT EXISTS ratings(userId int, movieId int, rating float, timestamp int)\")"
   ]
  },
  {
   "cell_type": "code",
   "execution_count": 8,
   "metadata": {},
   "outputs": [
    {
     "ename": "AttributeError",
     "evalue": "'sqlite3.Cursor' object has no attribute 'commit'",
     "output_type": "error",
     "traceback": [
      "\u001b[0;31m---------------------------------------------------------------------------\u001b[0m",
      "\u001b[0;31mAttributeError\u001b[0m                            Traceback (most recent call last)",
      "\u001b[0;32m<ipython-input-8-c89576d8c64d>\u001b[0m in \u001b[0;36m<module>\u001b[0;34m\u001b[0m\n\u001b[1;32m      9\u001b[0m         \u001b[0mc\u001b[0m\u001b[0;34m.\u001b[0m\u001b[0mexecute\u001b[0m\u001b[0;34m(\u001b[0m\u001b[0;34m\"INSERT INTO ratings(userId, movieId, rating, timestamp) VALUES (?,?,?,?)\"\u001b[0m\u001b[0;34m,\u001b[0m \u001b[0mrow\u001b[0m\u001b[0;34m)\u001b[0m\u001b[0;34m\u001b[0m\u001b[0;34m\u001b[0m\u001b[0m\n\u001b[1;32m     10\u001b[0m \u001b[0;34m\u001b[0m\u001b[0m\n\u001b[0;32m---> 11\u001b[0;31m     \u001b[0mc\u001b[0m\u001b[0;34m.\u001b[0m\u001b[0mcommit\u001b[0m\u001b[0;34m(\u001b[0m\u001b[0;34m)\u001b[0m\u001b[0;34m\u001b[0m\u001b[0;34m\u001b[0m\u001b[0m\n\u001b[0m",
      "\u001b[0;31mAttributeError\u001b[0m: 'sqlite3.Cursor' object has no attribute 'commit'"
     ]
    }
   ],
   "source": [
    "file = 'ratings.csv'\n",
    "\n",
    "# load file into data array\n",
    "with open(file, 'r', encoding='utf8') as csvfile: \n",
    "    csvreader = csv.reader(csvfile)\n",
    "    fields = next(csvreader)    # strip header\n",
    "    for row in csvreader:\n",
    "        # improvement execute in batch, commit in 500's\n",
    "        c.execute(\"INSERT INTO ratings(userId, movieId, rating, timestamp) VALUES (?,?,?,?)\", row)"
   ]
  },
  {
   "cell_type": "code",
   "execution_count": 4,
   "metadata": {},
   "outputs": [
    {
     "name": "stdout",
     "output_type": "stream",
     "text": [
      "(26024289,)\n",
      "(1, 110, 1.0, 1425941529)\n",
      "(1, 147, 4.5, 1425942435)\n",
      "(1, 858, 5.0, 1425941523)\n",
      "(1, 1221, 5.0, 1425941546)\n",
      "(1, 1246, 5.0, 1425941556)\n",
      "(1, 1968, 4.0, 1425942148)\n",
      "(1, 2762, 4.5, 1425941300)\n",
      "(1, 2918, 5.0, 1425941593)\n",
      "(1, 2959, 4.0, 1425941601)\n",
      "(1, 4226, 4.0, 1425942228)\n",
      "(1, 4878, 5.0, 1425941434)\n",
      "(1, 5577, 5.0, 1425941397)\n",
      "(1, 33794, 4.0, 1425942005)\n",
      "(1, 54503, 3.5, 1425941313)\n",
      "(1, 58559, 4.0, 1425942007)\n",
      "(1, 59315, 5.0, 1425941502)\n",
      "(1, 68358, 5.0, 1425941464)\n",
      "(1, 69844, 5.0, 1425942139)\n",
      "(1, 73017, 5.0, 1425942699)\n",
      "(1, 81834, 5.0, 1425942133)\n",
      "(1, 91500, 2.5, 1425942647)\n",
      "(1, 91542, 5.0, 1425942618)\n",
      "(1, 92439, 5.0, 1425941424)\n",
      "(1, 96821, 5.0, 1425941382)\n",
      "(1, 98809, 0.5, 1425942640)\n",
      "(1, 99114, 4.0, 1425941667)\n",
      "(1, 112552, 5.0, 1425941336)\n"
     ]
    }
   ],
   "source": [
    "for row in c.execute(\"SELECT count(*) FROM ratings\"):\n",
    "    print(row)\n",
    "    break\n",
    "\n",
    "for row in c.execute(\"SELECT * FROM ratings WHERE userid = 1\"):\n",
    "    print(row)\n",
    "#     break"
   ]
  },
  {
   "cell_type": "code",
   "execution_count": 12,
   "metadata": {},
   "outputs": [
    {
     "data": {
      "text/plain": [
       "<sqlite3.Cursor at 0x110511260>"
      ]
     },
     "execution_count": 12,
     "metadata": {},
     "output_type": "execute_result"
    }
   ],
   "source": [
    "# create indexes\n",
    "c.execute(\"create index ridx on ratings(movieId, rating)\")"
   ]
  },
  {
   "cell_type": "code",
   "execution_count": 13,
   "metadata": {},
   "outputs": [],
   "source": [
    "con.commit()"
   ]
  }
 ],
 "metadata": {
  "kernelspec": {
   "display_name": "Python 3",
   "language": "python",
   "name": "python3"
  },
  "language_info": {
   "codemirror_mode": {
    "name": "ipython",
    "version": 3
   },
   "file_extension": ".py",
   "mimetype": "text/x-python",
   "name": "python",
   "nbconvert_exporter": "python",
   "pygments_lexer": "ipython3",
   "version": "3.7.6"
  }
 },
 "nbformat": 4,
 "nbformat_minor": 4
}
