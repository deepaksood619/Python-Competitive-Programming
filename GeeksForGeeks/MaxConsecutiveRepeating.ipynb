{
 "cells": [
  {
   "cell_type": "markdown",
   "metadata": {},
   "source": [
    "https://www.geeksforgeeks.org/maximum-consecutive-repeating-character-string/"
   ]
  },
  {
   "cell_type": "code",
   "execution_count": 4,
   "metadata": {},
   "outputs": [],
   "source": [
    "def func(st):\n",
    "    max_count = 0\n",
    "    max_val = st[0]\n",
    "    i = 0\n",
    "    n = len(st)\n",
    "    while i < n:\n",
    "        count = 1\n",
    "        j = i+1\n",
    "        while j < n and st[j] == st[i]:\n",
    "            count += 1\n",
    "            j += 1\n",
    "        \n",
    "        if count > max_count:\n",
    "            max_count = count\n",
    "            max_val = st[i]\n",
    "        \n",
    "        i = j\n",
    "        \n",
    "    return max_val"
   ]
  },
  {
   "cell_type": "code",
   "execution_count": 17,
   "metadata": {},
   "outputs": [],
   "source": [
    "def func(st):\n",
    "    n = len(st)\n",
    "    count = 0\n",
    "    res = st[0]\n",
    "    curr_count = 1\n",
    "    \n",
    "    for i in range(n):\n",
    "        if i+1 < n and st[i] == st[i+1]:\n",
    "            curr_count += 1\n",
    "        else:\n",
    "            if curr_count > count:\n",
    "                count = curr_count\n",
    "                res = st[i]\n",
    "            curr_count = 1\n",
    "            \n",
    "    return res"
   ]
  },
  {
   "cell_type": "code",
   "execution_count": 18,
   "metadata": {},
   "outputs": [],
   "source": [
    "assert func('aaaabbaaccde') == 'a'\n",
    "assert func('a') == 'a'\n",
    "assert func('abbc') == 'b'"
   ]
  }
 ],
 "metadata": {
  "kernelspec": {
   "display_name": "Python 3",
   "language": "python",
   "name": "python3"
  },
  "language_info": {
   "codemirror_mode": {
    "name": "ipython",
    "version": 3
   },
   "file_extension": ".py",
   "mimetype": "text/x-python",
   "name": "python",
   "nbconvert_exporter": "python",
   "pygments_lexer": "ipython3",
   "version": "3.7.0"
  }
 },
 "nbformat": 4,
 "nbformat_minor": 4
}
