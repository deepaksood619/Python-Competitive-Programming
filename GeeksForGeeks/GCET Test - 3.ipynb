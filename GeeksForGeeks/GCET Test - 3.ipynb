{
 "cells": [
  {
   "cell_type": "markdown",
   "metadata": {},
   "source": [
    "### Geek and the equation\n",
    "\n",
    "Given a number N, find the value of below equation for the given number.\n",
    "\n",
    "Input:\n",
    "First line of input contains testcase T. For each testcase, there will be a single line containing a number N as input.\n",
    "\n",
    "Output:\n",
    "For each testcase, print the resultant of the equation.\n",
    "\n",
    "Constraints:\n",
    "1<=T<=100\n",
    "1<=N<=105\n",
    "\n",
    "Example:\n",
    "Input:\n",
    "4\n",
    "1\n",
    "2\n",
    "121\n",
    "99\n",
    "\n",
    "Output:\n",
    "1\n",
    "5\n",
    "597861\n",
    "328350\n",
    "\n",
    "Explanation:\n",
    "For testcase 2, the resultant of the equation for N = 2 comes out as 5."
   ]
  },
  {
   "cell_type": "code",
   "execution_count": 14,
   "metadata": {},
   "outputs": [
    {
     "name": "stdout",
     "output_type": "stream",
     "text": [
      "1\n",
      "100000\n",
      "333338333350000\n"
     ]
    }
   ],
   "source": [
    "t = int(input())\n",
    "\n",
    "for i in range(t):\n",
    "    n = int(input())\n",
    "    res = 0\n",
    "    for m in range(1, n+1):\n",
    "        res += ((m+1)**2) - ((3*m)+1) + m\n",
    "    print(res)"
   ]
  },
  {
   "cell_type": "markdown",
   "metadata": {},
   "source": [
    "---"
   ]
  },
  {
   "cell_type": "markdown",
   "metadata": {},
   "source": [
    "### Geek and the base\n",
    "\n",
    "The task is to convert decimal numbers(base 10) to the ternary numbers(base 3).\n",
    "\n",
    "Input:\n",
    "First line of input contains testcase T. For each testcase there will be a single line containing a decimal number N as input.\n",
    "\n",
    "Output:\n",
    "For each testcase, print the ternary(base 3) equivalent of the given decimal number.\n",
    "\n",
    "Constraints:\n",
    "1<=T<=120\n",
    "0<=N<=107\n",
    "\n",
    "Example:\n",
    "Input:\n",
    "5\n",
    "1\n",
    "2\n",
    "3\n",
    "4\n",
    "5\n",
    "\n",
    "Output:\n",
    "1\n",
    "2\n",
    "10\n",
    "11\n",
    "12\n",
    "\n",
    "Explanation:\n",
    "For testcase 1, we have input 1: The ternary equivalent of 1 is 1.\n",
    "For testcase 5, we have input 5: The ternary equivalent of 5 is 12."
   ]
  },
  {
   "cell_type": "code",
   "execution_count": 4,
   "metadata": {},
   "outputs": [
    {
     "name": "stdout",
     "output_type": "stream",
     "text": [
      "5\n",
      "1\n",
      "1\n",
      "2\n",
      "2\n",
      "3\n",
      "10\n",
      "4\n",
      "11\n",
      "5\n",
      "12\n"
     ]
    }
   ],
   "source": [
    "# Input:\n",
    "# 5\n",
    "# 1\n",
    "# 2\n",
    "# 3\n",
    "# 4\n",
    "# 5\n",
    "\n",
    "# Output:\n",
    "# 1\n",
    "# 2\n",
    "# 10\n",
    "# 11\n",
    "# 12\n",
    "\n",
    "def ternary (n):\n",
    "    if n == 0:\n",
    "        return '0'\n",
    "    nums = []\n",
    "    while n:\n",
    "        n, r = divmod(n, 3)\n",
    "        nums.append(str(r))\n",
    "    return ''.join(reversed(nums))\n",
    "\n",
    "t = int(input())\n",
    "\n",
    "for i in range(t):\n",
    "    n = int(input())\n",
    "    print(ternary(n))"
   ]
  },
  {
   "cell_type": "markdown",
   "metadata": {},
   "source": [
    "---"
   ]
  },
  {
   "cell_type": "markdown",
   "metadata": {},
   "source": [
    "### Geeks and the test\n",
    "\n",
    "Given a number, find if it is Palindromic Prime ore not.  A Palindromic Prime is any number that is both a palindrome and a prime.\n",
    "\n",
    "Input:\n",
    "First line of input contains testcase T. For each testcase, there will be a single line containing a number N as input.\n",
    "\n",
    "Output:\n",
    "For each testcase, print 1 if N is palindromic prime, else print 0.\n",
    "\n",
    "Constraints:\n",
    "1 <= T <= 200\n",
    "0 <= N <= 107\n",
    "\n",
    "Example:\n",
    "Input:\n",
    "4\n",
    "1\n",
    "11\n",
    "121\n",
    "99\n",
    "\n",
    "Output:\n",
    "0\n",
    "1\n",
    "0\n",
    "0\n",
    "\n",
    "Explanation:\n",
    "For testcase 1, we have input 1: We know 1 is not a prime so we print 0.\n",
    "For testcase 2, we have input 11: 11 is both a prime and palindrome so we print 1."
   ]
  },
  {
   "cell_type": "code",
   "execution_count": 10,
   "metadata": {},
   "outputs": [
    {
     "name": "stdout",
     "output_type": "stream",
     "text": [
      "4\n",
      "1\n",
      "1\n",
      "11\n",
      "1\n",
      "121\n",
      "0\n",
      "99\n",
      "0\n"
     ]
    }
   ],
   "source": [
    "def reverse(s):\n",
    "    return s[::-1]\n",
    " \n",
    "def isPalindrome(s):\n",
    "    # Calling reverse function\n",
    "    rev = reverse(s)\n",
    " \n",
    "    # Checking if both string are equal or not\n",
    "    if (s == rev):\n",
    "        return True\n",
    "    return False\n",
    "\n",
    "def create_sieve(n):\n",
    "    prime = [True for i in range(n+1)]\n",
    "    prime[0] = prime[1] = False\n",
    "    \n",
    "    p = 2\n",
    "    while (p * p <= n):\n",
    "         \n",
    "        # If prime[p] is not changed, then it is a prime\n",
    "        if (prime[p] == True):\n",
    "             \n",
    "            # Update all multiples of p\n",
    "            for i in range(p * 2, n+1, p):\n",
    "                prime[i] = False\n",
    "        p += 1\n",
    "    return prime\n",
    "\n",
    "def prime(n):\n",
    "    return\n",
    "\n",
    "lst = create_sieve(10000000)\n",
    "t = int(input())\n",
    "\n",
    "for i in range(t):\n",
    "    n = int(input())\n",
    "    if isPalindrome(str(n)) and lst[n]:\n",
    "        print('1')\n",
    "    else:\n",
    "        print('0')"
   ]
  },
  {
   "cell_type": "markdown",
   "metadata": {},
   "source": [
    "---"
   ]
  },
  {
   "cell_type": "markdown",
   "metadata": {},
   "source": [
    "### Geek and the lockers\n",
    "\n",
    "Geek's high school has N lockers. On a particular day, Geeks decides to play a game and open only those lockers that are multiple of M. Initially all lockers are closed. Lockers are numbered from 1 to N. Find the number of lockers that remain closed.\n",
    "\n",
    "Input:\n",
    "First line of input contains testcase T. For each testcase, there will be two lines of input:\n",
    "First line contains N, the number of lockers.\n",
    "Second line contains M. Geeks will open lockers that are multiple of M.\n",
    "\n",
    "Output:\n",
    "For each testcase, print the number of lockers that remain closed.\n",
    "\n",
    "Constraints:\n",
    "1 <= T <= 100\n",
    "1 <= N <= 10000000\n",
    "0 <= M <= N\n",
    "\n",
    "Example:\n",
    "Input:\n",
    "2\n",
    "10\n",
    "2\n",
    "12\n",
    "3\n",
    "\n",
    "Output:\n",
    "5\n",
    "8\n",
    "\n",
    "Explanation:\n",
    "For testcase 1:\n",
    "N = 10\n",
    "M = 2\n",
    "We have 10 lockers and Geek opens lockers numbered 2,4,6,8,10. So, the lockers that remain closed are 1,3,5,7,9. Which are a total of 5 lockers."
   ]
  },
  {
   "cell_type": "code",
   "execution_count": 12,
   "metadata": {},
   "outputs": [
    {
     "name": "stdout",
     "output_type": "stream",
     "text": [
      "2\n",
      "10\n",
      "2\n",
      "5\n",
      "12\n",
      "3\n",
      "8\n"
     ]
    }
   ],
   "source": [
    "t = int(input())\n",
    "\n",
    "for i in range(t):\n",
    "    n = int(input())\n",
    "    m = int(input())\n",
    "    \n",
    "    if m == 0:\n",
    "        print(str(n))\n",
    "    else:\n",
    "        print(n - (n//m))"
   ]
  }
 ],
 "metadata": {
  "kernelspec": {
   "display_name": "Python 3",
   "language": "python",
   "name": "python3"
  },
  "language_info": {
   "codemirror_mode": {
    "name": "ipython",
    "version": 3
   },
   "file_extension": ".py",
   "mimetype": "text/x-python",
   "name": "python",
   "nbconvert_exporter": "python",
   "pygments_lexer": "ipython3",
   "version": "3.6.5"
  }
 },
 "nbformat": 4,
 "nbformat_minor": 2
}
