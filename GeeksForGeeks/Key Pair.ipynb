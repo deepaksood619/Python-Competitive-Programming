{
 "cells": [
  {
   "cell_type": "code",
   "execution_count": null,
   "metadata": {},
   "outputs": [],
   "source": [
    "https://practice.geeksforgeeks.org/problems/key-pair/0\n",
    "\n",
    "https://www.geeksforgeeks.org/given-an-array-a-and-a-number-x-check-for-pair-in-a-with-sum-as-x/"
   ]
  },
  {
   "cell_type": "code",
   "execution_count": null,
   "metadata": {},
   "outputs": [],
   "source": [
    "Input:\n",
    "2\n",
    "6 16\n",
    "1 4 45 6 10 8\n",
    "5 10\n",
    "1 2 4 3 6\n",
    "\n",
    "Output:\n",
    "Yes\n",
    "Yes"
   ]
  },
  {
   "cell_type": "code",
   "execution_count": 19,
   "metadata": {},
   "outputs": [
    {
     "name": "stdout",
     "output_type": "stream",
     "text": [
      "[1, 4, 6, 8, 10, 45]\n",
      "0 5\n",
      "0 4\n",
      "1 4\n",
      "2 4\n",
      "\n",
      "[1, 2, 3, 4, 6]\n",
      "0 4\n",
      "1 4\n",
      "2 4\n",
      "3 4\n",
      "\n",
      "[1, 2, 3, 4, 5]\n",
      "0 4\n",
      "1 4\n",
      "2 4\n",
      "3 4\n"
     ]
    }
   ],
   "source": [
    "# n * log n because this uses sorting\n",
    "def func(lst, n, x):\n",
    "    lst.sort()\n",
    "    \n",
    "    print(lst)\n",
    "    \n",
    "    i = 0\n",
    "    j = n-1\n",
    "    \n",
    "    while i < j:\n",
    "        print(i, j)\n",
    "        total = lst[i] + lst[j]\n",
    "        if total == x:\n",
    "            return 'Yes'\n",
    "        elif total < x:\n",
    "            i += 1\n",
    "        else:\n",
    "            i = 0\n",
    "            j -= 1\n",
    "    \n",
    "    return 'No'\n",
    "\n",
    "t = int(input())\n",
    "\n",
    "for _ in range(t):\n",
    "    n, x = map(int, input().split())\n",
    "    lst = list(map(int, input().split()))\n",
    "    print(func(lst, n))\n",
    "\n",
    "def test(st, n, x):\n",
    "    return func(list(map(int, st.split())), n, x)\n",
    "\n",
    "assert test('1 4 45 6 10 8', 6, 16) == 'Yes'\n",
    "print()\n",
    "assert test('1 2 4 3 6', 5, 10) == 'Yes'\n",
    "print()\n",
    "assert test('1 2 4 3 5', 5, 10) == 'No'"
   ]
  },
  {
   "cell_type": "code",
   "execution_count": 24,
   "metadata": {},
   "outputs": [
    {
     "name": "stdout",
     "output_type": "stream",
     "text": [
      "\n",
      "\n"
     ]
    }
   ],
   "source": [
    "# O(n) because uses hasing\n",
    "def func(lst, n, x):\n",
    "    s = set()\n",
    "    \n",
    "    for i in lst:\n",
    "        temp = x - i\n",
    "        if temp in s:\n",
    "            return 'Yes'\n",
    "        \n",
    "        s.add(i)\n",
    "    \n",
    "    return 'No'\n",
    "\n",
    "t = int(input())\n",
    "\n",
    "for _ in range(t):\n",
    "    n, x = map(int, input().split())\n",
    "    lst = list(map(int, input().split()))\n",
    "    print(func(lst, n))\n",
    "\n",
    "def test(st, n, x):\n",
    "    return func(list(map(int, st.split())), n, x)\n",
    "\n",
    "assert test('1 4 45 6 10 8', 6, 16) == 'Yes'\n",
    "print()\n",
    "assert test('1 2 4 3 6', 5, 10) == 'Yes'\n",
    "print()\n",
    "assert test('1 2 4 3 5', 5, 10) == 'No'"
   ]
  }
 ],
 "metadata": {
  "kernelspec": {
   "display_name": "Python 3",
   "language": "python",
   "name": "python3"
  },
  "language_info": {
   "codemirror_mode": {
    "name": "ipython",
    "version": 3
   },
   "file_extension": ".py",
   "mimetype": "text/x-python",
   "name": "python",
   "nbconvert_exporter": "python",
   "pygments_lexer": "ipython3",
   "version": "3.7.0"
  }
 },
 "nbformat": 4,
 "nbformat_minor": 4
}
