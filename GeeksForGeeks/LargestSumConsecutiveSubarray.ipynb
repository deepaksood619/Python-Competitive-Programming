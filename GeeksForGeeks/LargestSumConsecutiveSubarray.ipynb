{
 "cells": [
  {
   "cell_type": "markdown",
   "metadata": {},
   "source": [
    "Kadane's Algorithm\n",
    "Initialize:\n",
    "    max_so_far = 0\n",
    "    max_ending_here = 0\n",
    "\n",
    "Loop for each element of the array\n",
    "  (a) max_ending_here = max_ending_here + a[i]\n",
    "  (b) if(max_ending_here < 0)\n",
    "            max_ending_here = 0\n",
    "  (c) if(max_so_far < max_ending_here)\n",
    "            max_so_far = max_ending_here\n",
    "return max_so_far"
   ]
  },
  {
   "cell_type": "code",
   "execution_count": 2,
   "metadata": {},
   "outputs": [],
   "source": [
    "import sys\n",
    "\n",
    "def maxSubArraySum(a,size):\n",
    "    max_so_far = -sys.maxsize - 1\n",
    "    max_ending_here = 0\n",
    "       \n",
    "    for i in range(0, size): \n",
    "        max_ending_here += a[i] \n",
    "        \n",
    "        if max_ending_here < 0: \n",
    "            max_ending_here = 0\n",
    "        \n",
    "        elif max_so_far < max_ending_here:\n",
    "            max_so_far = max_ending_here \n",
    "            \n",
    "    return max_so_far"
   ]
  },
  {
   "cell_type": "code",
   "execution_count": 11,
   "metadata": {},
   "outputs": [],
   "source": [
    "import sys\n",
    "\n",
    "def maxSubArraySum(a,size):\n",
    "    max_so_far = -sys.maxsize - 1\n",
    "    max_ending_here = 0\n",
    "    start = 0\n",
    "    end = 0\n",
    "    s = 0\n",
    "  \n",
    "    for i in range(0,size): \n",
    "  \n",
    "        max_ending_here += a[i] \n",
    "  \n",
    "        if max_so_far < max_ending_here: \n",
    "            max_so_far = max_ending_here \n",
    "            start = s\n",
    "            end = i\n",
    "  \n",
    "        if max_ending_here < 0: \n",
    "            max_ending_here = 0\n",
    "            s = i+1\n",
    "    \n",
    "    print(f'start {start}, end {end}')\n",
    "    return max_so_far"
   ]
  },
  {
   "cell_type": "code",
   "execution_count": 14,
   "metadata": {},
   "outputs": [
    {
     "name": "stdout",
     "output_type": "stream",
     "text": [
      "start 2, end 6\n",
      "start 1, end 1\n"
     ]
    }
   ],
   "source": [
    "assert maxSubArraySum([-2,-3,4,-1,-2,1,5,-3], 8), 7\n",
    "assert maxSubArraySum([-13, -3, -25, -20, -3, -16, -23, -12, -5, -22, -15, -4, -7], 13), -3"
   ]
  }
 ],
 "metadata": {
  "kernelspec": {
   "display_name": "Python 3",
   "language": "python",
   "name": "python3"
  },
  "language_info": {
   "codemirror_mode": {
    "name": "ipython",
    "version": 3
   },
   "file_extension": ".py",
   "mimetype": "text/x-python",
   "name": "python",
   "nbconvert_exporter": "python",
   "pygments_lexer": "ipython3",
   "version": "3.7.0"
  }
 },
 "nbformat": 4,
 "nbformat_minor": 4
}
