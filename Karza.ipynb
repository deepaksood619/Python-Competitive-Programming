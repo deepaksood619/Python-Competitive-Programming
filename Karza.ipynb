{
 "cells": [
  {
   "cell_type": "code",
   "execution_count": null,
   "metadata": {},
   "outputs": [],
   "source": [
    "[0, -1, 2, -3, 1]\n",
    "0 -1 1\n",
    "2 -3  1\n",
    "\n",
    "[1, -2, 1, 0, 5]\n",
    "1 -2 1"
   ]
  },
  {
   "cell_type": "code",
   "execution_count": 47,
   "metadata": {},
   "outputs": [
    {
     "name": "stdout",
     "output_type": "stream",
     "text": [
      "No Triplet Found\n"
     ]
    }
   ],
   "source": [
    "def findTriplets(arr, n): \n",
    "    found = False\n",
    "    for i in range(n - 1): \n",
    "  \n",
    "        # Find all pairs with sum  \n",
    "        # equals to \"-arr[i]\"  \n",
    "        s = set() \n",
    "        for j in range(i + 1, n): \n",
    "            x = -(arr[i] + arr[j]) \n",
    "            if x in s: \n",
    "                print(x, arr[i], arr[j]) \n",
    "                found = True\n",
    "            else: \n",
    "                s.add(arr[j]) \n",
    "    if found == False: \n",
    "        print(\"No Triplet Found\") \n",
    "  \n",
    "arr = [0, -1, 2, -3, 1] \n",
    "arr = [63, -30, 4, 13, 85, -6, 11]\n",
    "n = len(arr) \n",
    "findTriplets(arr, n) "
   ]
  },
  {
   "cell_type": "code",
   "execution_count": 53,
   "metadata": {},
   "outputs": [
    {
     "data": {
      "text/plain": [
       "0"
      ]
     },
     "execution_count": 53,
     "metadata": {},
     "output_type": "execute_result"
    }
   ],
   "source": [
    "def findTriplets(a):\n",
    "    n = len(a)\n",
    "\n",
    "    s = set([a[0]])\n",
    "    for i in range(1, n-1):\n",
    "        for j in range(i+1, n):\n",
    "            x = - (a[i] + a[j])\n",
    "            \n",
    "            if x in s:\n",
    "                return 1\n",
    "            \n",
    "        s.add(a[i])\n",
    "\n",
    "    return 0\n",
    "\n",
    "findTriplets([97, -27, 2, -34, 61, -39])"
   ]
  },
  {
   "cell_type": "code",
   "execution_count": 58,
   "metadata": {},
   "outputs": [],
   "source": [
    "def func_3(lst):\n",
    "    n = len(lst)\n",
    "    found = set([lst[0]])\n",
    "    final_lst = []\n",
    "    \n",
    "    for i in range(1, n-1):\n",
    "        for j in range(i+1, n):\n",
    "            val = -(lst[i]+lst[j])\n",
    "            \n",
    "            if val in found:\n",
    "                final_lst.append([lst[i], lst[j], val])\n",
    "            \n",
    "        found.add(lst[i])\n",
    "    \n",
    "    return final_lst"
   ]
  },
  {
   "cell_type": "code",
   "execution_count": 64,
   "metadata": {},
   "outputs": [],
   "source": [
    "assert func_3([0, -1, 2, -3, 1]) == [[-1, 1, 0], [-3, 1, 2]]\n",
    "assert func_3([1, -2, 1, 0, 5]) == [[-2, 1, 1]]\n",
    "assert func_3([0]) == []\n",
    "assert func_3([0, -1, 1]) == [[-1, 1, 0]]\n",
    "assert func_3([2,3,4,-4,-3,-2,0]) == [[-4, 0, 4], [-3, 0, 3], [-2, 0, 2]]\n",
    "assert func_3([97, -27, 2, -34, 61, -39]) == [[-34, 61, -27]]"
   ]
  },
  {
   "cell_type": "code",
   "execution_count": null,
   "metadata": {},
   "outputs": [],
   "source": [
    "i like to play football\n",
    "I Like to PLay     Football\n",
    "iLikeToPlayFootball"
   ]
  },
  {
   "cell_type": "code",
   "execution_count": 30,
   "metadata": {},
   "outputs": [],
   "source": [
    "def func_2(s):\n",
    "    new_str = []\n",
    "    for index, value in enumerate(s.split(' ')):\n",
    "        if index == 0:\n",
    "            # first word don't capitalize\n",
    "            new_str.append(value.lower())\n",
    "        else:\n",
    "            # capitalize first words\n",
    "            new_str.append(value.title())\n",
    "            \n",
    "    return ''.join(new_str)"
   ]
  },
  {
   "cell_type": "code",
   "execution_count": 37,
   "metadata": {},
   "outputs": [],
   "source": [
    "assert func_2('I Like to PLay     Football') == 'iLikeToPlayFootball'\n",
    "assert func_2('') == ''\n",
    "assert func_2('i like to play football') == 'iLikeToPlayFootball'\n",
    "assert func_2('i') == 'i'\n",
    "assert func_2('I') == 'i'\n",
    "assert func_2('I AM   ') == 'iAm'"
   ]
  },
  {
   "cell_type": "code",
   "execution_count": 1,
   "metadata": {},
   "outputs": [
    {
     "name": "stdout",
     "output_type": "stream",
     "text": [
      "Hello\n"
     ]
    }
   ],
   "source": [
    "{()}({)}\n",
    "{}\n",
    "{(})\n",
    " \n",
    "{}"
   ]
  },
  {
   "cell_type": "code",
   "execution_count": 11,
   "metadata": {},
   "outputs": [],
   "source": [
    "def func(s):\n",
    "    lst = []\n",
    "    opening_paran = '{(['\n",
    "    lookup_dict = {\n",
    "        '{' : '}',\n",
    "        '[' : ']',\n",
    "        '(' : ')'\n",
    "    }\n",
    "\n",
    "    for i in s:\n",
    "        if i in opening_paran:\n",
    "            # opening paranthesis, push to the stack\n",
    "            lst.append(i)\n",
    "        else:\n",
    "            # closing paranthesis\n",
    "            # check if last entered is opening for the same or not\n",
    "            # if same then continue\n",
    "            # else the following string is not balanced\n",
    "            if i == lookup_dict.get(lst[len(lst)-1]):\n",
    "                lst.pop(len(lst)-1)\n",
    "            else:\n",
    "                return 'Not a balanced string'\n",
    "            \n",
    "    return 'Balanced string'"
   ]
  },
  {
   "cell_type": "code",
   "execution_count": 16,
   "metadata": {},
   "outputs": [],
   "source": [
    "assert func('{}') == 'Balanced string'\n",
    "assert func('{(}') == 'Not a balanced string'\n",
    "assert func('{()}({)}') == 'Not a balanced string'\n",
    "assert func('{()}({})') == 'Balanced string'\n",
    "assert func('') == 'Balanced string'"
   ]
  }
 ],
 "metadata": {
  "kernelspec": {
   "display_name": "Python 3",
   "language": "python",
   "name": "python3"
  },
  "language_info": {
   "codemirror_mode": {
    "name": "ipython",
    "version": 3
   },
   "file_extension": ".py",
   "mimetype": "text/x-python",
   "name": "python",
   "nbconvert_exporter": "python",
   "pygments_lexer": "ipython3",
   "version": "3.7.0"
  }
 },
 "nbformat": 4,
 "nbformat_minor": 4
}
