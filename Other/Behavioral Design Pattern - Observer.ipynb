{
 "cells": [
  {
   "cell_type": "markdown",
   "metadata": {},
   "source": [
    "https://py.checkio.org/blog/design-patterns-part-2/"
   ]
  },
  {
   "cell_type": "code",
   "execution_count": 8,
   "metadata": {},
   "outputs": [
    {
     "name": "stdout",
     "output_type": "stream",
     "text": [
      "Coding complete? Let's try tests!\n"
     ]
    }
   ],
   "source": [
    "class Friend:\n",
    "    def __init__(self, name):\n",
    "        self.name = name\n",
    "        self.invite = 'No party...'\n",
    "        \n",
    "    def add_invite(self, invite):\n",
    "        self.invite = invite\n",
    "    \n",
    "    def show_invite(self):\n",
    "        return self.invite\n",
    "\n",
    "class Party:\n",
    "    \n",
    "    def __init__(self, place):\n",
    "        self.place = place\n",
    "        self.friends_list = []\n",
    "        \n",
    "    def add_friend(self, friend):\n",
    "        self.friends_list.append(friend)\n",
    "        \n",
    "    def del_friend(self, friend):\n",
    "        self.friends_list.remove(friend)\n",
    "        \n",
    "    def send_invites(self, time):\n",
    "        for friend in self.friends_list:\n",
    "            friend.add_invite('{}: {}'.format(self.place, time))\n",
    "\n",
    "\n",
    "if __name__ == '__main__':\n",
    "    #These \"asserts\" using only for self-checking and not necessary for auto-testing\n",
    "\n",
    "    party = Party(\"Midnight Pub\")\n",
    "    nick = Friend(\"Nick\")\n",
    "    john = Friend(\"John\")\n",
    "    lucy = Friend(\"Lucy\")\n",
    "    chuck = Friend(\"Chuck\")\n",
    "\n",
    "    party.add_friend(nick)\n",
    "    party.add_friend(john)\n",
    "    party.add_friend(lucy)\n",
    "    party.send_invites(\"Friday, 9:00 PM\")\n",
    "    party.del_friend(nick)\n",
    "    party.send_invites(\"Saturday, 10:00 AM\")\n",
    "    party.add_friend(chuck)\n",
    "\n",
    "    assert john.show_invite() == \"Midnight Pub: Saturday, 10:00 AM\"\n",
    "    assert lucy.show_invite() == \"Midnight Pub: Saturday, 10:00 AM\"\n",
    "    assert nick.show_invite() == \"Midnight Pub: Friday, 9:00 PM\"\n",
    "    assert chuck.show_invite() == \"No party...\"\n",
    "    print(\"Coding complete? Let's try tests!\")\n"
   ]
  },
  {
   "cell_type": "code",
   "execution_count": 24,
   "metadata": {},
   "outputs": [
    {
     "name": "stdout",
     "output_type": "stream",
     "text": [
      "Coding complete? Let's try tests!\n"
     ]
    }
   ],
   "source": [
    "class Named:\n",
    "    def __init__(self, name):\n",
    "        self.name = name\n",
    "\n",
    "\n",
    "class Friend(Named):\n",
    "    invitation = 'No party...'\n",
    "\n",
    "    def show_invite(self):\n",
    "        return self.invitation\n",
    "\n",
    "\n",
    "class Party(Named, list):\n",
    "    add_friend, del_friend = list.append, list.remove\n",
    "    \n",
    "    def send_invites(self, time):\n",
    "        for f in self: f.invitation = f'{self.name}: {time}'\n",
    "            \n",
    "if __name__ == '__main__':\n",
    "    #These \"asserts\" using only for self-checking and not necessary for auto-testing\n",
    "\n",
    "    party = Party(\"Midnight Pub\")\n",
    "    nick = Friend(\"Nick\")\n",
    "    john = Friend(\"John\")\n",
    "    lucy = Friend(\"Lucy\")\n",
    "    chuck = Friend(\"Chuck\")\n",
    "\n",
    "    party.add_friend(nick)\n",
    "    party.add_friend(john)\n",
    "    party.add_friend(lucy)\n",
    "    party.send_invites(\"Friday, 9:00 PM\")\n",
    "    party.del_friend(nick)\n",
    "    party.send_invites(\"Saturday, 10:00 AM\")\n",
    "    party.add_friend(chuck)\n",
    "\n",
    "    assert john.show_invite() == \"Midnight Pub: Saturday, 10:00 AM\"\n",
    "    assert lucy.show_invite() == \"Midnight Pub: Saturday, 10:00 AM\"\n",
    "    assert nick.show_invite() == \"Midnight Pub: Friday, 9:00 PM\"\n",
    "    assert chuck.show_invite() == \"No party...\"\n",
    "    print(\"Coding complete? Let's try tests!\")"
   ]
  },
  {
   "cell_type": "code",
   "execution_count": 11,
   "metadata": {},
   "outputs": [
    {
     "name": "stdout",
     "output_type": "stream",
     "text": [
      "Tommy is a great dog!\n",
      "Tommy is sitting.\n"
     ]
    }
   ],
   "source": [
    "class Dog():\n",
    "    \"\"\"Represent a dog.\"\"\"\n",
    "\n",
    "    def __init__(self, name):\n",
    "        \"\"\"Initialize dog object.\"\"\"\n",
    "        self.name = name\n",
    "\n",
    "    def sit(self):\n",
    "        \"\"\"Simulate sitting.\"\"\"\n",
    "        print(self.name + ' is sitting.')\n",
    "\n",
    "my_dog = Dog('Tommy')\n",
    "print(my_dog.name + ' is a great dog!')\n",
    "my_dog.sit()"
   ]
  },
  {
   "cell_type": "code",
   "execution_count": 12,
   "metadata": {},
   "outputs": [
    {
     "name": "stdout",
     "output_type": "stream",
     "text": [
      "Lucy is a search dog.\n",
      "Lucy is sitting.\n",
      "Lucy is searching.\n"
     ]
    }
   ],
   "source": [
    "class SDog(Dog):\n",
    "    \"\"\"Represent a search dog.\"\"\"\n",
    "\n",
    "    def __init__(self, name):\n",
    "        \"\"\"Initialize the search dog.\"\"\"\n",
    "        super().__init__(name)\n",
    "\n",
    "    def search(self):\n",
    "        \"\"\"Simulate searching.\"\"\"\n",
    "        print(self.name + ' is searching.')\n",
    "\n",
    "my_dog = SDog('Lucy')\n",
    "\n",
    "print(my_dog.name + ' is a search dog.')\n",
    "my_dog.sit()\n",
    "my_dog.search()"
   ]
  }
 ],
 "metadata": {
  "kernelspec": {
   "display_name": "Python 3",
   "language": "python",
   "name": "python3"
  },
  "language_info": {
   "codemirror_mode": {
    "name": "ipython",
    "version": 3
   },
   "file_extension": ".py",
   "mimetype": "text/x-python",
   "name": "python",
   "nbconvert_exporter": "python",
   "pygments_lexer": "ipython3",
   "version": "3.6.5"
  }
 },
 "nbformat": 4,
 "nbformat_minor": 2
}
