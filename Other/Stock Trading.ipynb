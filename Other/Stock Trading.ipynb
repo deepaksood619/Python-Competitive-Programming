{
 "cells": [
  {
   "cell_type": "markdown",
   "metadata": {},
   "source": [
    "First, I wanna know how much money I could have made yesterday if I'd been trading Apple stocks all day.\n",
    "\n",
    "So I grabbed Apple's stock prices from yesterday and put them in a list called stock_prices, where:\n",
    "\n",
    "The indices are the time (in minutes) past trade opening time, which was 9:30am local time.\n",
    "The values are the price (in US dollars) of one share of Apple stock at that time.\n",
    "So if the stock cost $500 at 10:30am, that means stock_prices[60] = 500.\n",
    "\n",
    "Write an efficient function that takes stock_prices and returns the best profit I could have made from one purchase and one sale of one share of Apple stock yesterday.\n",
    "\n",
    "For example:\n",
    "\n",
    "  stock_prices = [10, 7, 5, 8, 11, 9]\n",
    "\n",
    "get_max_profit(stock_prices)\n",
    "\n",
    "Returns 6 (buying for 5 and selling for 11)\n",
    "\n",
    "No \"shorting\"—you need to buy before you can sell. Also, you can't buy and sell in the same time step—at least 1 minute has to pass."
   ]
  },
  {
   "cell_type": "markdown",
   "metadata": {},
   "source": [
    "#### Things to consider\n",
    "1. what if all are minimum (return 0)\n",
    "2. what if the last stock is minimum"
   ]
  },
  {
   "cell_type": "code",
   "execution_count": 1,
   "metadata": {},
   "outputs": [],
   "source": [
    "def best_profit_from_stock(stock_prices):\n",
    "    profit = 0 \n",
    "    if stock_prices:\n",
    "        min_stock = stock_prices[0]\n",
    "        for i in range(1, len(stock_prices)):\n",
    "            curr_profit = stock_prices[i] - min_stock\n",
    "            if curr_profit > profit:\n",
    "                profit = curr_profit\n",
    "            else:\n",
    "                min_stock = stock_prices[i]\n",
    "\n",
    "    return profit"
   ]
  },
  {
   "cell_type": "code",
   "execution_count": 2,
   "metadata": {},
   "outputs": [],
   "source": [
    "assert best_profit_from_stock([10, 7, 5, 8, 11, 9, 2, 10, 1]) == 8\n",
    "assert best_profit_from_stock([10, 5, 7, 8]) == 3\n",
    "assert best_profit_from_stock([3,2,1]) == 0\n",
    "assert best_profit_from_stock([100,2]) == 0\n",
    "assert best_profit_from_stock([]) == 0\n",
    "assert best_profit_from_stock([1]) == 0\n",
    "assert best_profit_from_stock([1,2]) == 1\n",
    "assert best_profit_from_stock([1,2,3]) == 2\n",
    "assert best_profit_from_stock([1,2,4]) == 3\n",
    "assert best_profit_from_stock([1,2,4,100]) == 99\n",
    "assert best_profit_from_stock([2,100]) == 98\n",
    "assert best_profit_from_stock([-1]) == 0\n",
    "assert best_profit_from_stock([-1,-2]) == 0"
   ]
  }
 ],
 "metadata": {
  "kernelspec": {
   "display_name": "Python 3",
   "language": "python",
   "name": "python3"
  },
  "language_info": {
   "codemirror_mode": {
    "name": "ipython",
    "version": 3
   },
   "file_extension": ".py",
   "mimetype": "text/x-python",
   "name": "python",
   "nbconvert_exporter": "python",
   "pygments_lexer": "ipython3",
   "version": "3.7.2"
  }
 },
 "nbformat": 4,
 "nbformat_minor": 2
}
