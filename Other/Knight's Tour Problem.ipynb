{
 "cells": [
  {
   "cell_type": "markdown",
   "metadata": {},
   "source": [
    "# Knight's Tour Problem"
   ]
  },
  {
   "cell_type": "markdown",
   "metadata": {},
   "source": [
    "### The knight is placed on the first block of an empty board and, moving according to the rules of chess, must visit each square exactly once."
   ]
  },
  {
   "cell_type": "code",
   "execution_count": 1,
   "metadata": {},
   "outputs": [],
   "source": [
    "# using networkx library for graphs\n",
    "import networkx as nx"
   ]
  },
  {
   "cell_type": "code",
   "execution_count": 2,
   "metadata": {},
   "outputs": [],
   "source": [
    "# Using plotly online tooling\n",
    "import plotly as py\n",
    "import plotly.graph_objs as go\n",
    "\n",
    "py.tools.set_credentials_file(username='DeepakSood619', api_key='zMRUg3RlEL2E0LJDyLRd')"
   ]
  },
  {
   "cell_type": "code",
   "execution_count": 3,
   "metadata": {},
   "outputs": [
    {
     "data": {
      "text/html": [
       "<script>requirejs.config({paths: { 'plotly': ['https://cdn.plot.ly/plotly-latest.min']},});if(!window.Plotly) {{require(['plotly'],function(plotly) {window.Plotly=plotly;});}}</script>"
      ],
      "text/vnd.plotly.v1+html": [
       "<script>requirejs.config({paths: { 'plotly': ['https://cdn.plot.ly/plotly-latest.min']},});if(!window.Plotly) {{require(['plotly'],function(plotly) {window.Plotly=plotly;});}}</script>"
      ]
     },
     "metadata": {},
     "output_type": "display_data"
    }
   ],
   "source": [
    "from plotly.offline import download_plotlyjs, init_notebook_mode, plot, iplot\n",
    "\n",
    "import plotly as py\n",
    "import plotly.graph_objs as go\n",
    "init_notebook_mode(connected=True)"
   ]
  },
  {
   "cell_type": "code",
   "execution_count": 4,
   "metadata": {},
   "outputs": [],
   "source": [
    "# since the matrix is 0 indexed, therefore upper limit is less than bdSize and not <=\n",
    "def checkLegal(x, bdSize):\n",
    "    if x >= 0 and x < bdSize:\n",
    "        return True\n",
    "    return False"
   ]
  },
  {
   "cell_type": "code",
   "execution_count": 5,
   "metadata": {},
   "outputs": [],
   "source": [
    "def genLegalMoves(x, y, bdSize):\n",
    "    newMoves = []\n",
    "    \n",
    "    moveOffset = [(-1,-2), (-1,2), (-2,-1), (-2,1), (1,-2), (1,2), (2,-1), (2,1)]\n",
    "    \n",
    "    for eachMove in moveOffset:\n",
    "        newX = x + eachMove[0]\n",
    "        newY = y + eachMove[1]\n",
    "        \n",
    "        if checkLegal(newX, bdSize) and checkLegal(newY, bdSize):\n",
    "            newMoves.append((newX, newY))\n",
    "            \n",
    "    return newMoves"
   ]
  },
  {
   "cell_type": "code",
   "execution_count": 6,
   "metadata": {},
   "outputs": [],
   "source": [
    "def create_board(bdSize):\n",
    "    for i in range(bdSize):\n",
    "        for j in range(bdSize):\n",
    "            source_vertex = i*bdSize+j\n",
    "            legal_moves = genLegalMoves(i, j, bdSize)\n",
    "            for eachmove in legal_moves:\n",
    "                dest_vertex = eachmove[0]*bdSize + eachmove[1]\n",
    "                G.add_edge(source_vertex, dest_vertex)"
   ]
  },
  {
   "cell_type": "code",
   "execution_count": 28,
   "metadata": {},
   "outputs": [],
   "source": [
    "G = nx.Graph()\n",
    "bdSize = 3\n",
    "create_board(bdSize)"
   ]
  },
  {
   "cell_type": "code",
   "execution_count": 29,
   "metadata": {},
   "outputs": [],
   "source": [
    "edge_trace = go.Scatter(\n",
    "    x=[],\n",
    "    y=[],\n",
    "    line=dict(width=2,color='#888'),\n",
    "    hoverinfo='none',\n",
    "    mode='lines')\n",
    "\n",
    "for edge in G.edges():\n",
    "    x0, y0 = edge[0] // bdSize, edge[0]%bdSize\n",
    "    x1, y1 = edge[1] // bdSize, edge[1]%bdSize\n",
    "    edge_trace['x'] += [x0, x1, None]\n",
    "    edge_trace['y'] += [y0, y1, None]\n",
    "\n",
    "node_trace = go.Scatter(\n",
    "    x=[],\n",
    "    y=[],\n",
    "    text=[],\n",
    "    mode='markers',\n",
    "    hoverinfo='text',\n",
    "    marker=dict(\n",
    "        size=10,\n",
    "        color='#000'\n",
    "    ))\n",
    "\n",
    "for node in G.nodes():\n",
    "    x, y = node // bdSize, node%bdSize\n",
    "    node_trace['x'].append(x)\n",
    "    node_trace['y'].append(y)"
   ]
  },
  {
   "cell_type": "code",
   "execution_count": 30,
   "metadata": {},
   "outputs": [
    {
     "name": "stdout",
     "output_type": "stream",
     "text": [
      "High five! You successfully sent some data to your account on plotly. View your plot in your browser at https://plot.ly/~DeepakSood619/0 or inside your plot.ly account where it is named 'networkx'\n"
     ]
    },
    {
     "data": {
      "text/html": [
       "<iframe id=\"igraph\" scrolling=\"no\" style=\"border:none;\" seamless=\"seamless\" src=\"https://plot.ly/~DeepakSood619/0.embed\" height=\"525px\" width=\"100%\"></iframe>"
      ],
      "text/plain": [
       "<plotly.tools.PlotlyDisplay object>"
      ]
     },
     "execution_count": 30,
     "metadata": {},
     "output_type": "execute_result"
    }
   ],
   "source": [
    "fig = go.Figure(data=[edge_trace, node_trace],\n",
    "             layout=go.Layout(\n",
    "                title='<br>Valid positions for Knight',\n",
    "                titlefont=dict(size=16),\n",
    "                showlegend=True,\n",
    "                hovermode='closest',\n",
    "                margin=dict(b=20,l=5,r=5,t=40),\n",
    "                annotations=[ dict(\n",
    "                    text=\"Python code: <a href='https://plot.ly/ipython-notebooks/network-graphs/'> https://plot.ly/ipython-notebooks/network-graphs/</a>\",\n",
    "                    showarrow=False,\n",
    "                    xref=\"paper\", yref=\"paper\",\n",
    "                    x=0.005, y=-0.002 ) ],\n",
    "                xaxis=dict(showgrid=False, zeroline=False, showticklabels=False),\n",
    "                yaxis=dict(showgrid=False, zeroline=False, showticklabels=False)))\n",
    "\n",
    "py.plotly.iplot(fig, filename='networkx')"
   ]
  },
  {
   "cell_type": "markdown",
   "metadata": {},
   "source": [
    "### Using our own Graph API"
   ]
  },
  {
   "cell_type": "code",
   "execution_count": 34,
   "metadata": {},
   "outputs": [],
   "source": [
    "# since the matrix is 0 indexed, therefore upper limit is less than bdSize and not <=\n",
    "def checkLegal(x, bdSize):\n",
    "    if x >= 0 and x < bdSize:\n",
    "        return True\n",
    "    return False"
   ]
  },
  {
   "cell_type": "code",
   "execution_count": 35,
   "metadata": {},
   "outputs": [],
   "source": [
    "def genLegalMoves(x, y, bdSize):\n",
    "    newMoves = []\n",
    "    \n",
    "    moveOffset = [(-1,-2), (-1,2), (-2,-1), (-2,1), (1,-2), (1,2), (2,-1), (2,1)]\n",
    "    \n",
    "    for eachMove in moveOffset:\n",
    "        newX = x + eachMove[0]\n",
    "        newY = y + eachMove[1]\n",
    "        \n",
    "        if checkLegal(newX, bdSize) and checkLegal(newY, bdSize):\n",
    "            newMoves.append((newX, newY))\n",
    "            \n",
    "    return newMoves"
   ]
  },
  {
   "cell_type": "code",
   "execution_count": 47,
   "metadata": {},
   "outputs": [],
   "source": [
    "from collections import defaultdict\n",
    "\n",
    "def create_board(bdSize):\n",
    "    graph_dic = defaultdict(list)\n",
    "    for i in range(bdSize):\n",
    "        for j in range(bdSize):\n",
    "            source_vertex = i*bdSize+j\n",
    "            legal_moves = genLegalMoves(i, j, bdSize)\n",
    "            print(source_vertex, legal_moves)\n",
    "            for eachmove in legal_moves:\n",
    "                dest_vertex = eachmove[0]*bdSize + eachmove[1]\n",
    "                \n",
    "                # since the graph is an undirected graph, so two edges are added\n",
    "                graph_dic[source_vertex].append(dest_vertex)\n",
    "                graph_dic[dest_vertex].append(source_vertex)\n",
    "    \n",
    "    return graph_dic"
   ]
  },
  {
   "cell_type": "code",
   "execution_count": 49,
   "metadata": {},
   "outputs": [
    {
     "name": "stdout",
     "output_type": "stream",
     "text": [
      "0 [(1, 2), (2, 1)]\n",
      "1 [(1, 3), (2, 0), (2, 2)]\n",
      "2 [(1, 0), (1, 4), (2, 1), (2, 3)]\n",
      "3 [(1, 1), (1, 5), (2, 2), (2, 4)]\n",
      "4 [(1, 2), (1, 6), (2, 3), (2, 5)]\n",
      "5 [(1, 3), (1, 7), (2, 4), (2, 6)]\n",
      "6 [(1, 4), (2, 5), (2, 7)]\n",
      "7 [(1, 5), (2, 6)]\n",
      "8 [(0, 2), (2, 2), (3, 1)]\n",
      "9 [(0, 3), (2, 3), (3, 0), (3, 2)]\n",
      "10 [(0, 0), (0, 4), (2, 0), (2, 4), (3, 1), (3, 3)]\n",
      "11 [(0, 1), (0, 5), (2, 1), (2, 5), (3, 2), (3, 4)]\n",
      "12 [(0, 2), (0, 6), (2, 2), (2, 6), (3, 3), (3, 5)]\n",
      "13 [(0, 3), (0, 7), (2, 3), (2, 7), (3, 4), (3, 6)]\n",
      "14 [(0, 4), (2, 4), (3, 5), (3, 7)]\n",
      "15 [(0, 5), (2, 5), (3, 6)]\n",
      "16 [(1, 2), (0, 1), (3, 2), (4, 1)]\n",
      "17 [(1, 3), (0, 0), (0, 2), (3, 3), (4, 0), (4, 2)]\n",
      "18 [(1, 0), (1, 4), (0, 1), (0, 3), (3, 0), (3, 4), (4, 1), (4, 3)]\n",
      "19 [(1, 1), (1, 5), (0, 2), (0, 4), (3, 1), (3, 5), (4, 2), (4, 4)]\n",
      "20 [(1, 2), (1, 6), (0, 3), (0, 5), (3, 2), (3, 6), (4, 3), (4, 5)]\n",
      "21 [(1, 3), (1, 7), (0, 4), (0, 6), (3, 3), (3, 7), (4, 4), (4, 6)]\n",
      "22 [(1, 4), (0, 5), (0, 7), (3, 4), (4, 5), (4, 7)]\n",
      "23 [(1, 5), (0, 6), (3, 5), (4, 6)]\n",
      "24 [(2, 2), (1, 1), (4, 2), (5, 1)]\n",
      "25 [(2, 3), (1, 0), (1, 2), (4, 3), (5, 0), (5, 2)]\n",
      "26 [(2, 0), (2, 4), (1, 1), (1, 3), (4, 0), (4, 4), (5, 1), (5, 3)]\n",
      "27 [(2, 1), (2, 5), (1, 2), (1, 4), (4, 1), (4, 5), (5, 2), (5, 4)]\n",
      "28 [(2, 2), (2, 6), (1, 3), (1, 5), (4, 2), (4, 6), (5, 3), (5, 5)]\n",
      "29 [(2, 3), (2, 7), (1, 4), (1, 6), (4, 3), (4, 7), (5, 4), (5, 6)]\n",
      "30 [(2, 4), (1, 5), (1, 7), (4, 4), (5, 5), (5, 7)]\n",
      "31 [(2, 5), (1, 6), (4, 5), (5, 6)]\n",
      "32 [(3, 2), (2, 1), (5, 2), (6, 1)]\n",
      "33 [(3, 3), (2, 0), (2, 2), (5, 3), (6, 0), (6, 2)]\n",
      "34 [(3, 0), (3, 4), (2, 1), (2, 3), (5, 0), (5, 4), (6, 1), (6, 3)]\n",
      "35 [(3, 1), (3, 5), (2, 2), (2, 4), (5, 1), (5, 5), (6, 2), (6, 4)]\n",
      "36 [(3, 2), (3, 6), (2, 3), (2, 5), (5, 2), (5, 6), (6, 3), (6, 5)]\n",
      "37 [(3, 3), (3, 7), (2, 4), (2, 6), (5, 3), (5, 7), (6, 4), (6, 6)]\n",
      "38 [(3, 4), (2, 5), (2, 7), (5, 4), (6, 5), (6, 7)]\n",
      "39 [(3, 5), (2, 6), (5, 5), (6, 6)]\n",
      "40 [(4, 2), (3, 1), (6, 2), (7, 1)]\n",
      "41 [(4, 3), (3, 0), (3, 2), (6, 3), (7, 0), (7, 2)]\n",
      "42 [(4, 0), (4, 4), (3, 1), (3, 3), (6, 0), (6, 4), (7, 1), (7, 3)]\n",
      "43 [(4, 1), (4, 5), (3, 2), (3, 4), (6, 1), (6, 5), (7, 2), (7, 4)]\n",
      "44 [(4, 2), (4, 6), (3, 3), (3, 5), (6, 2), (6, 6), (7, 3), (7, 5)]\n",
      "45 [(4, 3), (4, 7), (3, 4), (3, 6), (6, 3), (6, 7), (7, 4), (7, 6)]\n",
      "46 [(4, 4), (3, 5), (3, 7), (6, 4), (7, 5), (7, 7)]\n",
      "47 [(4, 5), (3, 6), (6, 5), (7, 6)]\n",
      "48 [(5, 2), (4, 1), (7, 2)]\n",
      "49 [(5, 3), (4, 0), (4, 2), (7, 3)]\n",
      "50 [(5, 0), (5, 4), (4, 1), (4, 3), (7, 0), (7, 4)]\n",
      "51 [(5, 1), (5, 5), (4, 2), (4, 4), (7, 1), (7, 5)]\n",
      "52 [(5, 2), (5, 6), (4, 3), (4, 5), (7, 2), (7, 6)]\n",
      "53 [(5, 3), (5, 7), (4, 4), (4, 6), (7, 3), (7, 7)]\n",
      "54 [(5, 4), (4, 5), (4, 7), (7, 4)]\n",
      "55 [(5, 5), (4, 6), (7, 5)]\n",
      "56 [(6, 2), (5, 1)]\n",
      "57 [(6, 3), (5, 0), (5, 2)]\n",
      "58 [(6, 0), (6, 4), (5, 1), (5, 3)]\n",
      "59 [(6, 1), (6, 5), (5, 2), (5, 4)]\n",
      "60 [(6, 2), (6, 6), (5, 3), (5, 5)]\n",
      "61 [(6, 3), (6, 7), (5, 4), (5, 6)]\n",
      "62 [(6, 4), (5, 5), (5, 7)]\n",
      "63 [(6, 5), (5, 6)]\n"
     ]
    }
   ],
   "source": [
    "graph_dic = create_board(8)"
   ]
  },
  {
   "cell_type": "code",
   "execution_count": 54,
   "metadata": {},
   "outputs": [
    {
     "name": "stdout",
     "output_type": "stream",
     "text": [
      "defaultdict(<class 'list'>, {0: [10, 17, 10, 17], 10: [0, 4, 0, 4, 16, 20, 25, 27, 16, 20, 25, 27], 17: [0, 2, 11, 11, 0, 2, 27, 32, 34, 27, 32, 34], 1: [11, 16, 18, 11, 16, 18], 11: [1, 5, 1, 5, 17, 21, 26, 28, 17, 21, 26, 28], 16: [1, 10, 10, 1, 26, 33, 26, 33], 18: [1, 3, 8, 12, 8, 12, 1, 3, 24, 28, 33, 35, 24, 28, 33, 35], 2: [8, 12, 17, 19, 8, 12, 17, 19], 8: [2, 2, 18, 25, 18, 25], 12: [2, 6, 2, 6, 18, 22, 27, 29, 18, 22, 27, 29], 19: [2, 4, 9, 13, 9, 13, 2, 4, 25, 29, 34, 36, 25, 29, 34, 36], 3: [9, 13, 18, 20, 9, 13, 18, 20], 9: [3, 3, 19, 24, 26, 19, 24, 26], 13: [3, 7, 3, 7, 19, 23, 28, 30, 19, 23, 28, 30], 20: [3, 5, 10, 14, 10, 14, 3, 5, 26, 30, 35, 37, 26, 30, 35, 37], 4: [10, 14, 19, 21, 10, 14, 19, 21], 14: [4, 4, 20, 29, 31, 20, 29, 31], 21: [4, 6, 11, 15, 11, 15, 4, 6, 27, 31, 36, 38, 27, 31, 36, 38], 5: [11, 15, 20, 22, 11, 15, 20, 22], 15: [5, 5, 21, 30, 21, 30], 22: [5, 7, 12, 12, 5, 7, 28, 37, 39, 28, 37, 39], 6: [12, 21, 23, 12, 21, 23], 23: [6, 13, 13, 6, 29, 38, 29, 38], 7: [13, 22, 13, 22], 25: [8, 10, 19, 19, 8, 10, 35, 40, 42, 35, 40, 42], 24: [9, 18, 18, 9, 34, 41, 34, 41], 26: [9, 11, 16, 20, 16, 20, 9, 11, 32, 36, 41, 43, 32, 36, 41, 43], 27: [10, 12, 17, 21, 17, 21, 10, 12, 33, 37, 42, 44, 33, 37, 42, 44], 28: [11, 13, 18, 22, 18, 22, 11, 13, 34, 38, 43, 45, 34, 38, 43, 45], 29: [12, 14, 19, 23, 19, 23, 12, 14, 35, 39, 44, 46, 35, 39, 44, 46], 30: [13, 15, 20, 20, 13, 15, 36, 45, 47, 36, 45, 47], 31: [14, 21, 21, 14, 37, 46, 37, 46], 33: [16, 18, 27, 27, 16, 18, 43, 48, 50, 43, 48, 50], 32: [17, 26, 26, 17, 42, 49, 42, 49], 34: [17, 19, 24, 28, 24, 28, 17, 19, 40, 44, 49, 51, 40, 44, 49, 51], 35: [18, 20, 25, 29, 25, 29, 18, 20, 41, 45, 50, 52, 41, 45, 50, 52], 36: [19, 21, 26, 30, 26, 30, 19, 21, 42, 46, 51, 53, 42, 46, 51, 53], 37: [20, 22, 27, 31, 27, 31, 20, 22, 43, 47, 52, 54, 43, 47, 52, 54], 38: [21, 23, 28, 28, 21, 23, 44, 53, 55, 44, 53, 55], 39: [22, 29, 29, 22, 45, 54, 45, 54], 41: [24, 26, 35, 35, 24, 26, 51, 56, 58, 51, 56, 58], 40: [25, 34, 34, 25, 50, 57, 50, 57], 42: [25, 27, 32, 36, 32, 36, 25, 27, 48, 52, 57, 59, 48, 52, 57, 59], 43: [26, 28, 33, 37, 33, 37, 26, 28, 49, 53, 58, 60, 49, 53, 58, 60], 44: [27, 29, 34, 38, 34, 38, 27, 29, 50, 54, 59, 61, 50, 54, 59, 61], 45: [28, 30, 35, 39, 35, 39, 28, 30, 51, 55, 60, 62, 51, 55, 60, 62], 46: [29, 31, 36, 36, 29, 31, 52, 61, 63, 52, 61, 63], 47: [30, 37, 37, 30, 53, 62, 53, 62], 49: [32, 34, 43, 43, 32, 34, 59, 59], 48: [33, 42, 42, 33, 58, 58], 50: [33, 35, 40, 44, 40, 44, 33, 35, 56, 60, 56, 60], 51: [34, 36, 41, 45, 41, 45, 34, 36, 57, 61, 57, 61], 52: [35, 37, 42, 46, 42, 46, 35, 37, 58, 62, 58, 62], 53: [36, 38, 43, 47, 43, 47, 36, 38, 59, 63, 59, 63], 54: [37, 39, 44, 44, 37, 39, 60, 60], 55: [38, 45, 45, 38, 61, 61], 57: [40, 42, 51, 51, 40, 42], 56: [41, 50, 50, 41], 58: [41, 43, 48, 52, 48, 52, 41, 43], 59: [42, 44, 49, 53, 49, 53, 42, 44], 60: [43, 45, 50, 54, 50, 54, 43, 45], 61: [44, 46, 51, 55, 51, 55, 44, 46], 62: [45, 47, 52, 52, 45, 47], 63: [46, 53, 53, 46]})\n"
     ]
    }
   ],
   "source": [
    "print(graph_dic)"
   ]
  }
 ],
 "metadata": {
  "kernelspec": {
   "display_name": "Python 3",
   "language": "python",
   "name": "python3"
  },
  "language_info": {
   "codemirror_mode": {
    "name": "ipython",
    "version": 3
   },
   "file_extension": ".py",
   "mimetype": "text/x-python",
   "name": "python",
   "nbconvert_exporter": "python",
   "pygments_lexer": "ipython3",
   "version": "3.6.5"
  }
 },
 "nbformat": 4,
 "nbformat_minor": 2
}
