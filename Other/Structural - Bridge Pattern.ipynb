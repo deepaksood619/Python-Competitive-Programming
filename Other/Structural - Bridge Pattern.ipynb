{
 "cells": [
  {
   "cell_type": "code",
   "execution_count": 5,
   "metadata": {},
   "outputs": [
    {
     "name": "stdout",
     "output_type": "stream",
     "text": [
      "Rectangle filled with red color\n",
      "Circle filled with blue color\n",
      "Rectangle filled with blue color\n",
      "Circle filled with red color\n",
      "Rectangle filled with green color\n"
     ]
    }
   ],
   "source": [
    "class Color:\n",
    "    def fill_color(self):\n",
    "        pass\n",
    "\n",
    "class Shape:\n",
    "    def __init__(self, color):\n",
    "        self.color = color\n",
    "\n",
    "    def color_it(self):\n",
    "        pass\n",
    "\n",
    "class Rectangle(Shape):\n",
    "    def __init__(self, color):\n",
    "        super(Rectangle, self).__init__(color)\n",
    "\n",
    "    def color_it(self):\n",
    "        print(\"Rectangle filled with \", end=\"\")\n",
    "        self.color.fill_color()\n",
    "\n",
    "class Circle(Shape):\n",
    "    def __init__(self, color):\n",
    "        super(Circle, self).__init__(color)\n",
    "\n",
    "    def color_it(self):\n",
    "        print(\"Circle filled with \", end=\"\")\n",
    "        self.color.fill_color()\n",
    "\n",
    "class RedColor(Color):\n",
    "    def fill_color(self):\n",
    "        print(\"red color\")\n",
    "\n",
    "class BlueColor(Color):\n",
    "    def fill_color(self):\n",
    "        print(\"blue color\")\n",
    "        \n",
    "class GreenColor(Color):\n",
    "    def fill_color(self):\n",
    "        print('green color')\n",
    "\n",
    "if __name__ == '__main__':\n",
    "    s1 = Rectangle(RedColor())\n",
    "    s1.color_it()\n",
    "\n",
    "    s2 = Circle(BlueColor())\n",
    "    s2.color_it()\n",
    "    \n",
    "    s3 = Rectangle(BlueColor())\n",
    "    s3.color_it()\n",
    "    \n",
    "    s4 = Circle(RedColor())\n",
    "    s4.color_it()\n",
    "    \n",
    "    s5 = Rectangle(GreenColor())\n",
    "    s5.color_it()"
   ]
  }
 ],
 "metadata": {
  "kernelspec": {
   "display_name": "Python 3",
   "language": "python",
   "name": "python3"
  },
  "language_info": {
   "codemirror_mode": {
    "name": "ipython",
    "version": 3
   },
   "file_extension": ".py",
   "mimetype": "text/x-python",
   "name": "python",
   "nbconvert_exporter": "python",
   "pygments_lexer": "ipython3",
   "version": "3.6.5"
  }
 },
 "nbformat": 4,
 "nbformat_minor": 2
}
