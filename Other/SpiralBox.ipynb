{
 "cells": [
  {
   "cell_type": "code",
   "execution_count": 47,
   "metadata": {},
   "outputs": [],
   "source": [
    "# given n * m matrix print in below format\n",
    "# 1 2 3\n",
    "# 8 9 4\n",
    "# 7 6 5"
   ]
  },
  {
   "cell_type": "code",
   "execution_count": 48,
   "metadata": {},
   "outputs": [],
   "source": [
    "def print_m(mat):\n",
    "    for i in mat:\n",
    "        for j in i:\n",
    "            print(j, end='\\t')\n",
    "        print()"
   ]
  },
  {
   "cell_type": "code",
   "execution_count": 145,
   "metadata": {},
   "outputs": [],
   "source": [
    "# using check if None for each element and choosing bounds to move\n",
    "\n",
    "def print_matrix(rows, cols):\n",
    "    \n",
    "    # initialize a rows*cols None matrix\n",
    "    mat = [[None for i in range(cols)] for j in range(rows)]\n",
    "    counter = 1\n",
    "    x, y = 0, 0\n",
    "\n",
    "    while True:\n",
    "        # initialize first element after each turn\n",
    "        mat[x][y] = counter\n",
    "        \n",
    "        # right\n",
    "        if y+1 < cols and mat[x][y+1] == None:\n",
    "            # move right until bounded and not visited\n",
    "            while y+1 < cols and mat[x][y+1] == None:\n",
    "                counter += 1\n",
    "                y += 1\n",
    "                mat[x][y] = counter\n",
    "        \n",
    "        # down\n",
    "        elif x+1 < rows and mat[x+1][y] == None:\n",
    "            # move down until bounded and not visited\n",
    "            while x+1 < rows and mat[x+1][y] == None:\n",
    "                counter += 1\n",
    "                x += 1\n",
    "                mat[x][y] = counter\n",
    "                  \n",
    "        # left\n",
    "        elif y-1 > -1 and mat[x][y-1] == None:\n",
    "            # move left until bounded and not visited\n",
    "            while y-1 > -1 and mat[x][y-1] == None:\n",
    "                counter += 1\n",
    "                y -= 1\n",
    "                mat[x][y] = counter\n",
    "                   \n",
    "        # up\n",
    "        elif x-1 > -1 and mat[x-1][y] == None:\n",
    "            # move up until bounded and not visited\n",
    "            while x-1 > -1 and mat[x-1][y] == None:\n",
    "                counter += 1\n",
    "                x -= 1\n",
    "                mat[x][y] = counter\n",
    "                \n",
    "        else:\n",
    "            break\n",
    "#     print_m(mat)"
   ]
  },
  {
   "cell_type": "code",
   "execution_count": 147,
   "metadata": {},
   "outputs": [
    {
     "name": "stdout",
     "output_type": "stream",
     "text": [
      "16.7 µs ± 239 ns per loop (mean ± std. dev. of 7 runs, 100000 loops each)\n"
     ]
    }
   ],
   "source": [
    "%timeit print_matrix(4, 8)"
   ]
  }
 ],
 "metadata": {
  "kernelspec": {
   "display_name": "Python 3",
   "language": "python",
   "name": "python3"
  },
  "language_info": {
   "codemirror_mode": {
    "name": "ipython",
    "version": 3
   },
   "file_extension": ".py",
   "mimetype": "text/x-python",
   "name": "python",
   "nbconvert_exporter": "python",
   "pygments_lexer": "ipython3",
   "version": "3.6.5"
  }
 },
 "nbformat": 4,
 "nbformat_minor": 2
}
