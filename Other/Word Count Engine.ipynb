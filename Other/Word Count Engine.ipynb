{
 "cells": [
  {
   "cell_type": "markdown",
   "metadata": {},
   "source": [
    "input:  document = \"Practice makes perfect. you'll only\n",
    "                    get Perfect by practice. just practice!\"\n",
    "\n",
    "output: [ [\"practice\", \"3\"], [\"perfect\", \"2\"],\n",
    "          [\"makes\", \"1\"], [\"youll\", \"1\"], [\"only\", \"1\"], \n",
    "          [\"get\", \"1\"], [\"by\", \"1\"], [\"just\", \"1\"] ]"
   ]
  },
  {
   "cell_type": "code",
   "execution_count": 9,
   "metadata": {},
   "outputs": [
    {
     "data": {
      "text/plain": [
       "'[[\"practice\",\"3\"],[\"perfect\",\"2\"],[\"makes\",\"1\"],[\"youll\",\"1\"],[\"only\",\"1\"],[\"get\",\"1\"],[\"by\",\"1\"],[\"just\",\"1\"]]'"
      ]
     },
     "execution_count": 9,
     "metadata": {},
     "output_type": "execute_result"
    }
   ],
   "source": [
    "import string\n",
    "from collections import defaultdict\n",
    "import json\n",
    "\n",
    "def word_count_engine(document):\n",
    "    document = document.lower()\n",
    "    document = document.translate(str.maketrans('', '', string.punctuation))\n",
    "    document = document.split()\n",
    "\n",
    "    count_dict = defaultdict(int)\n",
    "\n",
    "    for word in document:\n",
    "        count_dict[word] += 1\n",
    "\n",
    "    output = []\n",
    "    for key in sorted(count_dict, key=count_dict.get, reverse=True):\n",
    "        output.append([key, str(count_dict[key])])\n",
    "\n",
    "    out = json.dumps(output)\n",
    "    out = out.replace(' ', '')\n",
    "    return out\n",
    "\n",
    "document = \"\"\"Practice makes perfect. you'll only get Perfect by practice. just practice!\"\"\"\n",
    "word_count_engine(document)"
   ]
  },
  {
   "cell_type": "code",
   "execution_count": null,
   "metadata": {},
   "outputs": [],
   "source": [
    "def get_cheapest_cost(rootNode):\n",
    "\tmini = 10000\n",
    "\tfor i in range(len(rootNode.children)):\n",
    "\t\tmini = min(mini, get_cheapest_cost(rootNode.children[i]))\n",
    "\t\n",
    "\treturn mini + rootNode.cost\n",
    "\n",
    "\n",
    "def get_cheapest_cost(rootNode):\n",
    "  leaf_nodes = []\n",
    "  stack = [rootNode]\n",
    "  \n",
    "  while stack:\n",
    "    for child_node in stack[0].children:\n",
    "      child_node.cost += child_node.parent.cost\n",
    "\n",
    "      if not child_node.children:\n",
    "        leaf_nodes.append(child_node.cost)\n",
    "      else:\n",
    "        stack.append(child_node)\n",
    "        \n",
    "    stack.pop(0)\n",
    "  \n",
    "  return min(leaf_nodes)\n",
    "\n",
    "########################################## \n",
    "# Use the helper code below to implement #\n",
    "# and test your function above           #\n",
    "##########################################\n",
    "\n",
    "# A node \n",
    "class Node:\n",
    "\n",
    "  # Constructor to create a new node\n",
    "  def __init__(self, cost):\n",
    "    self.cost = cost\n",
    "    self.children = []\n",
    "    self.parent = None\n",
    " \n",
    "\n",
    "function getCheapestCost(rootNode):\n",
    "    n = rootNode.numberOfChildren()\n",
    "\n",
    "    if (n == 0):\n",
    "        return rootNode.cost\n",
    "    else:\n",
    "        # initialize minCost to the largest integer in the system\n",
    "        minCost = MAX_INT\n",
    "        for i from 0 to n-1:\n",
    "            tempCost = getCheapestCost(rootNode.child[i])\n",
    "            if (tempCost < minCost):\n",
    "                minCost = tempCost\n",
    "\n",
    "    return minCost + rootNode.cost"
   ]
  }
 ],
 "metadata": {
  "kernelspec": {
   "display_name": "Python 3",
   "language": "python",
   "name": "python3"
  },
  "language_info": {
   "codemirror_mode": {
    "name": "ipython",
    "version": 3
   },
   "file_extension": ".py",
   "mimetype": "text/x-python",
   "name": "python",
   "nbconvert_exporter": "python",
   "pygments_lexer": "ipython3",
   "version": "3.6.5"
  }
 },
 "nbformat": 4,
 "nbformat_minor": 2
}
