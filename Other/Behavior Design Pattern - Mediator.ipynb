{
 "cells": [
  {
   "cell_type": "markdown",
   "metadata": {},
   "source": [
    "https://py.checkio.org/blog/design-patterns-part-2/\n",
    "\n",
    "https://py.checkio.org/en/mission/dialogues/share/07bc869edadfc11858e1caeaa4415987/"
   ]
  },
  {
   "cell_type": "code",
   "execution_count": 1,
   "metadata": {},
   "outputs": [
    {
     "data": {
      "text/plain": [
       "{'main': None, 'settings': None, 'help': None}"
      ]
     },
     "execution_count": 1,
     "metadata": {},
     "output_type": "execute_result"
    }
   ],
   "source": [
    "windows = dict.fromkeys(['main', 'settings', 'help'])\n",
    "windows"
   ]
  },
  {
   "cell_type": "code",
   "execution_count": 7,
   "metadata": {},
   "outputs": [
    {
     "data": {
      "text/plain": [
       "\"K0rl s00d: H0! Wh0t's n0w?R2D2 s00d: H0ll0, h0m0n. C00ld w0 sp00k l0t0r 0b00t 0t?\""
      ]
     },
     "execution_count": 7,
     "metadata": {},
     "output_type": "execute_result"
    }
   ],
   "source": [
    "text = \"\"\"Karl said: Hi! What's new?R2D2 said: Hello, human. Could we speak later about it?\"\"\"\n",
    "\n",
    "text = text.replace('a', '0').replace('e', '0').replace('i', '0').replace('o', '0').replace('u', '0').replace('A', '0').replace('E', '0').replace('I', '0').replace('O', '0').replace('U', '0')\n",
    "text.replace()"
   ]
  },
  {
   "cell_type": "code",
   "execution_count": 13,
   "metadata": {},
   "outputs": [
    {
     "name": "stdout",
     "output_type": "stream",
     "text": [
      "101111001111011110111110111111110011110110111010111100111101110011101011010011011\n"
     ]
    }
   ],
   "source": [
    "import re\n",
    "s = \"\"\"Karl said: Hi! What's new?R2D2 said: Hello, human. Could we speak later about it?\"\"\"\n",
    "replaced = re.sub('[aeiouAEIOU]', '0', s)\n",
    "replaced = re.sub('[^0]', '1', replaced)\n",
    "print (replaced )"
   ]
  },
  {
   "cell_type": "code",
   "execution_count": 4,
   "metadata": {},
   "outputs": [
    {
     "ename": "AttributeError",
     "evalue": "'Human' object has no attribute 'human_dialogue'",
     "output_type": "error",
     "traceback": [
      "\u001b[0;31m---------------------------------------------------------------------------\u001b[0m",
      "\u001b[0;31mAttributeError\u001b[0m                            Traceback (most recent call last)",
      "\u001b[0;32m<ipython-input-4-c6fe3ff84858>\u001b[0m in \u001b[0;36m<module>\u001b[0;34m()\u001b[0m\n\u001b[1;32m     55\u001b[0m     \u001b[0mchat\u001b[0m\u001b[0;34m.\u001b[0m\u001b[0mconnect_human\u001b[0m\u001b[0;34m(\u001b[0m\u001b[0mkarl\u001b[0m\u001b[0;34m)\u001b[0m\u001b[0;34m\u001b[0m\u001b[0m\n\u001b[1;32m     56\u001b[0m     \u001b[0mchat\u001b[0m\u001b[0;34m.\u001b[0m\u001b[0mconnect_robot\u001b[0m\u001b[0;34m(\u001b[0m\u001b[0mbot\u001b[0m\u001b[0;34m)\u001b[0m\u001b[0;34m\u001b[0m\u001b[0m\n\u001b[0;32m---> 57\u001b[0;31m     \u001b[0mkarl\u001b[0m\u001b[0;34m.\u001b[0m\u001b[0msend\u001b[0m\u001b[0;34m(\u001b[0m\u001b[0;34m\"Hi! What's new?\"\u001b[0m\u001b[0;34m)\u001b[0m\u001b[0;34m\u001b[0m\u001b[0m\n\u001b[0m\u001b[1;32m     58\u001b[0m     \u001b[0mbot\u001b[0m\u001b[0;34m.\u001b[0m\u001b[0msend\u001b[0m\u001b[0;34m(\u001b[0m\u001b[0;34m\"Hello, human. Could we speak later about it?\"\u001b[0m\u001b[0;34m)\u001b[0m\u001b[0;34m\u001b[0m\u001b[0m\n\u001b[1;32m     59\u001b[0m     assert chat.show_human_dialogue() == \"\"\"Karl said: Hi! What's new?\n",
      "\u001b[0;32m<ipython-input-4-c6fe3ff84858>\u001b[0m in \u001b[0;36msend\u001b[0;34m(self, text)\u001b[0m\n\u001b[1;32m     35\u001b[0m \u001b[0;34m\u001b[0m\u001b[0m\n\u001b[1;32m     36\u001b[0m     \u001b[0;32mdef\u001b[0m \u001b[0msend\u001b[0m\u001b[0;34m(\u001b[0m\u001b[0mself\u001b[0m\u001b[0;34m,\u001b[0m \u001b[0mtext\u001b[0m\u001b[0;34m)\u001b[0m\u001b[0;34m:\u001b[0m\u001b[0;34m\u001b[0m\u001b[0m\n\u001b[0;32m---> 37\u001b[0;31m         \u001b[0mprint\u001b[0m\u001b[0;34m(\u001b[0m\u001b[0;34m'self.human'\u001b[0m\u001b[0;34m+\u001b[0m\u001b[0mself\u001b[0m\u001b[0;34m.\u001b[0m\u001b[0mhuman_dialogue\u001b[0m\u001b[0;34m)\u001b[0m\u001b[0;34m\u001b[0m\u001b[0m\n\u001b[0m\u001b[1;32m     38\u001b[0m         \u001b[0msuper\u001b[0m\u001b[0;34m(\u001b[0m\u001b[0;34m)\u001b[0m\u001b[0;34m.\u001b[0m\u001b[0msend\u001b[0m\u001b[0;34m(\u001b[0m\u001b[0mtext\u001b[0m\u001b[0;34m,\u001b[0m \u001b[0mself\u001b[0m\u001b[0;34m.\u001b[0m\u001b[0mname\u001b[0m\u001b[0;34m)\u001b[0m\u001b[0;34m\u001b[0m\u001b[0m\n\u001b[1;32m     39\u001b[0m \u001b[0;34m\u001b[0m\u001b[0m\n",
      "\u001b[0;31mAttributeError\u001b[0m: 'Human' object has no attribute 'human_dialogue'"
     ]
    }
   ],
   "source": [
    "import re\n",
    "\n",
    "\n",
    "class Chat:\n",
    "    def __init__(self):\n",
    "        self.human = None\n",
    "        self.robot = None\n",
    "        self.human_dialogue = ''\n",
    "        self.robot_dialogue = ''\n",
    "    \n",
    "    def connect_human(self, human):\n",
    "        self.human = human\n",
    "        \n",
    "    def connect_robot(self, robot):\n",
    "        self.robot = robot\n",
    "        \n",
    "    def send(self, text, name):\n",
    "        self.human_dialogue += '{} said: {}'.format(name, text)\n",
    "        self.robot_dialogue += '{} said: {}'.format(name, self.convert_to_robot_lang(text))\n",
    "        \n",
    "    def show_human_dialogue(self):\n",
    "        return self.human_dialogue\n",
    "        \n",
    "    def show_robot_dialogue(self):\n",
    "        return self.robot_dialogue\n",
    "\n",
    "    def convert_to_robot_lang(self, text):\n",
    "        text = re.sub('[aeiou]', '0', text)\n",
    "        return re.sub('[^0]', '1', text)\n",
    "\n",
    "\n",
    "class Human:\n",
    "    def __init__(self, name):\n",
    "        self.name = name\n",
    "        \n",
    "    def send(self, text):\n",
    "        super().send(text, self.name)\n",
    "\n",
    "\n",
    "class Robot:\n",
    "    def __init__(self, serial_number):\n",
    "        self.serial_number = serial_number\n",
    "        \n",
    "    def send(self, text):\n",
    "        super().send(text, self.name)\n",
    "\n",
    "\n",
    "if __name__ == '__main__':\n",
    "    #These \"asserts\" using only for self-checking and not necessary for auto-testing\n",
    "\n",
    "    chat = Chat()\n",
    "    karl = Human(\"Karl\")\n",
    "    bot = Robot(\"R2D2\")\n",
    "    chat.connect_human(karl)\n",
    "    chat.connect_robot(bot)\n",
    "    karl.send(\"Hi! What's new?\")\n",
    "    bot.send(\"Hello, human. Could we speak later about it?\")\n",
    "    assert chat.show_human_dialogue() == \"\"\"Karl said: Hi! What's new?\n",
    "R2D2 said: Hello, human. Could we speak later about it?\"\"\"\n",
    "    assert chat.show_robot_dialogue() == \"\"\"Karl said: 101111011111011\n",
    "R2D2 said: 10110111010111100111101110011101011010011011\"\"\"\n",
    "\n",
    "    print(\"Coding complete? Let's try tests!\")\n"
   ]
  },
  {
   "cell_type": "code",
   "execution_count": 5,
   "metadata": {},
   "outputs": [
    {
     "name": "stdout",
     "output_type": "stream",
     "text": [
      "Child\n",
      "Parent\n"
     ]
    }
   ],
   "source": [
    "class Parent:\n",
    "    \n",
    "    def __init__(self):\n",
    "        self.parent_variable = 'Parent'\n",
    "        \n",
    "class Child(Parent):\n",
    "    def __init__(self):\n",
    "        super().__init__()\n",
    "        self.child_variable = 'Child'\n",
    "    \n",
    "    def print_val(self):\n",
    "        print(self.child_variable)\n",
    "        print(self.parent_variable)\n",
    "        \n",
    "child = Child()\n",
    "child.print_val()"
   ]
  },
  {
   "cell_type": "code",
   "execution_count": 6,
   "metadata": {},
   "outputs": [
    {
     "name": "stdout",
     "output_type": "stream",
     "text": [
      "Tommy is a great dog!\n",
      "Tommy is sitting.\n"
     ]
    }
   ],
   "source": [
    "class Dog():\n",
    "    \"\"\"Represent a dog.\"\"\"\n",
    "\n",
    "    def __init__(self, name):\n",
    "        \"\"\"Initialize dog object.\"\"\"\n",
    "        self.name = name\n",
    "\n",
    "    def sit(self):\n",
    "        \"\"\"Simulate sitting.\"\"\"\n",
    "        print(self.name + ' is sitting.')\n",
    "\n",
    "my_dog = Dog('Tommy')\n",
    "print(my_dog.name + ' is a great dog!')\n",
    "my_dog.sit()"
   ]
  },
  {
   "cell_type": "code",
   "execution_count": 7,
   "metadata": {},
   "outputs": [
    {
     "name": "stdout",
     "output_type": "stream",
     "text": [
      "Lucy is a search dog.\n",
      "Lucy is sitting.\n",
      "Lucy is searching.\n"
     ]
    }
   ],
   "source": [
    "class SDog(Dog):\n",
    "    \"\"\"Represent a search dog.\"\"\"\n",
    "\n",
    "    def __init__(self, name):\n",
    "        \"\"\"Initialize the search dog.\"\"\"\n",
    "        super().__init__(name)\n",
    "\n",
    "    def search(self):\n",
    "        \"\"\"Simulate searching.\"\"\"\n",
    "        print(self.name + ' is searching.')\n",
    "\n",
    "my_dog = SDog('Lucy')\n",
    "\n",
    "print(my_dog.name + ' is a search dog.')\n",
    "my_dog.sit()\n",
    "my_dog.search()"
   ]
  }
 ],
 "metadata": {
  "kernelspec": {
   "display_name": "Python 3",
   "language": "python",
   "name": "python3"
  },
  "language_info": {
   "codemirror_mode": {
    "name": "ipython",
    "version": 3
   },
   "file_extension": ".py",
   "mimetype": "text/x-python",
   "name": "python",
   "nbconvert_exporter": "python",
   "pygments_lexer": "ipython3",
   "version": "3.6.5"
  }
 },
 "nbformat": 4,
 "nbformat_minor": 2
}
