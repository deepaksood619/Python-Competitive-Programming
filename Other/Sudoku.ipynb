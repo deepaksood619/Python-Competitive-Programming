{
 "cells": [
  {
   "cell_type": "code",
   "execution_count": 45,
   "metadata": {},
   "outputs": [],
   "source": [
    "class Sudoku:\n",
    "    def __init__(self):\n",
    "        self.row = 9\n",
    "        self.col = 9\n",
    "        self.matrix = [[0]*self.col]*self.row\n",
    "        \n",
    "    def __str__(self):\n",
    "        s = []\n",
    "        for i in range(self.row):\n",
    "            for j in range(self.col):\n",
    "                s.append(str(self.matrix[i][j]) + ' ')\n",
    "                if j < self.col-1 and j % 3 == 2:\n",
    "                    s.append('| ')\n",
    "            \n",
    "            s.append('\\n')\n",
    "            \n",
    "            if i < self.row-1 and i%3 == 2:\n",
    "                s.append('---------------------\\n')\n",
    "        \n",
    "        return ''.join(s)\n",
    "            "
   ]
  },
  {
   "cell_type": "code",
   "execution_count": 46,
   "metadata": {},
   "outputs": [
    {
     "name": "stdout",
     "output_type": "stream",
     "text": [
      "0 0 0 | 0 0 0 | 0 0 0 \n",
      "0 0 0 | 0 0 0 | 0 0 0 \n",
      "0 0 0 | 0 0 0 | 0 0 0 \n",
      "---------------------\n",
      "0 0 0 | 0 0 0 | 0 0 0 \n",
      "0 0 0 | 0 0 0 | 0 0 0 \n",
      "0 0 0 | 0 0 0 | 0 0 0 \n",
      "---------------------\n",
      "0 0 0 | 0 0 0 | 0 0 0 \n",
      "0 0 0 | 0 0 0 | 0 0 0 \n",
      "0 0 0 | 0 0 0 | 0 0 0 \n",
      "\n"
     ]
    }
   ],
   "source": [
    "s = Sudoku()\n",
    "print(s)"
   ]
  }
 ],
 "metadata": {
  "kernelspec": {
   "display_name": "Python 3",
   "language": "python",
   "name": "python3"
  },
  "language_info": {
   "codemirror_mode": {
    "name": "ipython",
    "version": 3
   },
   "file_extension": ".py",
   "mimetype": "text/x-python",
   "name": "python",
   "nbconvert_exporter": "python",
   "pygments_lexer": "ipython3",
   "version": "3.7.0"
  }
 },
 "nbformat": 4,
 "nbformat_minor": 4
}
