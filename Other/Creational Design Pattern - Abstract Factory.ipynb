{
 "cells": [
  {
   "cell_type": "markdown",
   "metadata": {},
   "source": [
    "### Abstract Factory Design Pattern"
   ]
  },
  {
   "cell_type": "markdown",
   "metadata": {},
   "source": [
    ">An abstract factory is a generative design pattern that allows you to create families of related objects without getting attached to specific classes of created objects. The pattern is being implemented by creating an abstract class (for example - Factory), which is represented as an interface for creating system components. Then the classes that implement this interface are being written."
   ]
  },
  {
   "cell_type": "markdown",
   "metadata": {},
   "source": [
    "https://py.checkio.org/blog/design-patterns-part-1/"
   ]
  },
  {
   "cell_type": "code",
   "execution_count": 10,
   "metadata": {},
   "outputs": [],
   "source": [
    "class AbstractFactory:\n",
    "    def create_chair(self):\n",
    "        raise NotImplementedError()\n",
    "        \n",
    "    def create_sofa(self):\n",
    "        raise NotImplementedError()\n",
    "        \n",
    "    def create_table(self):\n",
    "        raise NotImplementedError()"
   ]
  },
  {
   "cell_type": "code",
   "execution_count": 11,
   "metadata": {},
   "outputs": [],
   "source": [
    "class Chair:\n",
    "    def __init__(self, name):\n",
    "        self._name = name\n",
    "        \n",
    "    def __str__(self):\n",
    "        return self._name\n",
    "    \n",
    "class Sofa:\n",
    "    def __init__(self, name):\n",
    "        self._name = name\n",
    "        \n",
    "    def __str__(self):\n",
    "        return self._name\n",
    "    \n",
    "class Table:\n",
    "    def __init__(self, name):\n",
    "        self._name = name\n",
    "        \n",
    "    def __str__(self):\n",
    "        return self._name"
   ]
  },
  {
   "cell_type": "code",
   "execution_count": 12,
   "metadata": {},
   "outputs": [],
   "source": [
    "class VictorianFactory(AbstractFactory):\n",
    "    def create_chair(self):\n",
    "        return Chair('victorian chair')\n",
    "    \n",
    "    def create_sofa(self):\n",
    "        return Sofa('victorian sofa')\n",
    "    \n",
    "    def create_table(self):\n",
    "        return Table('victorian table')"
   ]
  },
  {
   "cell_type": "code",
   "execution_count": 13,
   "metadata": {},
   "outputs": [],
   "source": [
    "class ModernFactory(AbstractFactory):\n",
    "    def create_chair(self):\n",
    "        return Chair('modern chair')\n",
    "\n",
    "    def create_sofa(self):\n",
    "        return Sofa('modern sofa')\n",
    "\n",
    "    def create_table(self):\n",
    "        return Table('modern table')"
   ]
  },
  {
   "cell_type": "code",
   "execution_count": 14,
   "metadata": {},
   "outputs": [],
   "source": [
    "class FuturisticFactory(AbstractFactory):\n",
    "    def create_chair(self):\n",
    "        return Chair('futuristic chair')\n",
    "\n",
    "    def create_sofa(self):\n",
    "        return Sofa('futuristic sofa')\n",
    "\n",
    "    def create_table(self):\n",
    "        return Table('futuristic table')"
   ]
  },
  {
   "cell_type": "code",
   "execution_count": 16,
   "metadata": {},
   "outputs": [
    {
     "name": "stdout",
     "output_type": "stream",
     "text": [
      "victorian chair\n",
      "victorian sofa\n",
      "victorian table\n",
      "modern chair\n",
      "modern sofa\n",
      "modern table\n",
      "futuristic chair\n",
      "futuristic sofa\n",
      "futuristic table\n"
     ]
    }
   ],
   "source": [
    "factory_1 = VictorianFactory()\n",
    "factory_2 = ModernFactory()\n",
    "factory_3 = FuturisticFactory()\n",
    "print(factory_1.create_chair())\n",
    "print(factory_1.create_sofa())\n",
    "print(factory_1.create_table())\n",
    "print(factory_2.create_chair())\n",
    "print(factory_2.create_sofa())\n",
    "print(factory_2.create_table())\n",
    "print(factory_3.create_chair())\n",
    "print(factory_3.create_sofa())\n",
    "print(factory_3.create_table())"
   ]
  },
  {
   "cell_type": "markdown",
   "metadata": {},
   "source": [
    "Example - https://py.checkio.org/mission/army-units/solve/"
   ]
  },
  {
   "cell_type": "code",
   "execution_count": 20,
   "metadata": {},
   "outputs": [
    {
     "name": "stdout",
     "output_type": "stream",
     "text": [
      "Coding complete? Let's try tests!\n"
     ]
    }
   ],
   "source": [
    "class Army:\n",
    "    def train_swordsman(self, name):\n",
    "        return NotImplementedError()\n",
    "        \n",
    "    def train_lancer(self, name):\n",
    "        return NotImplementedError()\n",
    "        \n",
    "    def train_archer(self, name):\n",
    "        return NotImplementedError()\n",
    "\n",
    "class Swordsman:\n",
    "    def __init__(self, soldier_type, name, army_type):\n",
    "        self.army_type = army_type + ' swordsman'\n",
    "        self.name = name\n",
    "        self.soldier_type = soldier_type\n",
    "        \n",
    "    def introduce(self):\n",
    "        return '{} {}, {}'.format(self.soldier_type, self.name, self.army_type)\n",
    "\n",
    "class Lancer:\n",
    "    def __init__(self, soldier_type, name, army_type):\n",
    "        self.army_type = army_type + ' lancer'\n",
    "        self.name = name\n",
    "        self.soldier_type = soldier_type\n",
    "        \n",
    "    def introduce(self):\n",
    "        return '{} {}, {}'.format(self.soldier_type, self.name, self.army_type)\n",
    "\n",
    "class Archer:\n",
    "    def __init__(self, soldier_type, name, army_type):\n",
    "        self.army_type = army_type + ' archer'\n",
    "        self.name = name\n",
    "        self.soldier_type = soldier_type\n",
    "        \n",
    "    def introduce(self):\n",
    "        return '{} {}, {}'.format(self.soldier_type, self.name, self.army_type)\n",
    "\n",
    "class AsianArmy(Army):\n",
    "    def __init__(self):\n",
    "        self.army_type = 'Asian'\n",
    "    \n",
    "    def train_swordsman(self, name):\n",
    "        return Swordsman('Samurai', name, self.army_type)\n",
    "        \n",
    "    def train_lancer(self, name):\n",
    "        return Lancer('Ronin', name, self.army_type)\n",
    "        \n",
    "    def train_archer(self, name):\n",
    "        return Archer('Shinobi', name, self.army_type)\n",
    "\n",
    "class EuropeanArmy(Army):\n",
    "    def __init__(self):\n",
    "        self.army_type = 'European'\n",
    "    \n",
    "    def train_swordsman(self, name):\n",
    "        return Swordsman('Knight', name, self.army_type)\n",
    "        \n",
    "    def train_lancer(self, name):\n",
    "        return Lancer('Raubritter', name, self.army_type)\n",
    "        \n",
    "    def train_archer(self, name):\n",
    "        return Archer('Ranger', name, self.army_type)\n",
    "\n",
    "\n",
    "if __name__ == '__main__':\n",
    "    #These \"asserts\" using only for self-checking and not necessary for auto-testing\n",
    "\n",
    "    my_army = EuropeanArmy()\n",
    "    enemy_army = AsianArmy()\n",
    "\n",
    "    soldier_1 = my_army.train_swordsman(\"Jaks\")\n",
    "    soldier_2 = my_army.train_lancer(\"Harold\")\n",
    "    soldier_3 = my_army.train_archer(\"Robin\")\n",
    "\n",
    "    soldier_4 = enemy_army.train_swordsman(\"Kishimoto\")\n",
    "    soldier_5 = enemy_army.train_lancer(\"Ayabusa\")\n",
    "    soldier_6 = enemy_army.train_archer(\"Kirigae\")\n",
    "\n",
    "    assert soldier_1.introduce() == \"Knight Jaks, European swordsman\"\n",
    "    assert soldier_2.introduce() == \"Raubritter Harold, European lancer\"\n",
    "    assert soldier_3.introduce() == \"Ranger Robin, European archer\"\n",
    "    \n",
    "    assert soldier_4.introduce() == \"Samurai Kishimoto, Asian swordsman\"\n",
    "    assert soldier_5.introduce() == \"Ronin Ayabusa, Asian lancer\"\n",
    "    assert soldier_6.introduce() == \"Shinobi Kirigae, Asian archer\"\n",
    "\n",
    "    print(\"Coding complete? Let's try tests!\")\n"
   ]
  },
  {
   "cell_type": "code",
   "execution_count": 21,
   "metadata": {},
   "outputs": [
    {
     "name": "stdout",
     "output_type": "stream",
     "text": [
      "Knight Jaks, European swordsman\n",
      "Knight Jaks, European swordsman\n",
      "Raubritter Harold, European lancer\n",
      "Ranger Robin, European archer\n",
      "Coding complete? Let's try tests!\n"
     ]
    }
   ],
   "source": [
    "class Army:\n",
    "    def train_swordsman(self, name):\n",
    "        return Swordsman(self, name)\n",
    "\n",
    "    def train_lancer(self, name):\n",
    "        return Lancer(self, name)\n",
    "\n",
    "    def train_archer(self, name):\n",
    "        return Archer(self, name)\n",
    "\n",
    "    def introduce(self, name, army_type):\n",
    "        return f'{self.title[army_type]} {name}, {self.region} {army_type}'\n",
    "\n",
    "\n",
    "class Fighter:\n",
    "    def __init__(self, army, name):\n",
    "        self.army = army\n",
    "        self.name = name\n",
    "\n",
    "    def introduce(self):\n",
    "        return self.army.introduce(self.name, self.army_type)\n",
    "\n",
    "\n",
    "class Swordsman(Fighter):\n",
    "    army_type = 'swordsman'\n",
    "\n",
    "class Lancer(Fighter):\n",
    "    army_type = 'lancer'\n",
    "\n",
    "class Archer(Fighter):\n",
    "    army_type = 'archer'\n",
    "\n",
    "class AsianArmy(Army):\n",
    "    title = {'swordsman': 'Samurai', 'lancer': 'Ronin', 'archer': 'Shinobi'}\n",
    "    region = 'Asian'\n",
    "\n",
    "class EuropeanArmy(Army):\n",
    "    title = {'swordsman': 'Knight', 'lancer': 'Raubritter', 'archer': 'Ranger'}\n",
    "    region = 'European'\n",
    "\n",
    "\n",
    "\n",
    "if __name__ == '__main__':\n",
    "    #These \"asserts\" using only for self-checking and not necessary for auto-testing\n",
    "\n",
    "    my_army = EuropeanArmy()\n",
    "    enemy_army = AsianArmy()\n",
    "\n",
    "    soldier_1 = my_army.train_swordsman(\"Jaks\")\n",
    "    soldier_2 = my_army.train_lancer(\"Harold\")\n",
    "    soldier_3 = my_army.train_archer(\"Robin\")\n",
    "\n",
    "    soldier_4 = enemy_army.train_swordsman(\"Kishimoto\")\n",
    "    soldier_5 = enemy_army.train_lancer(\"Ayabusa\")\n",
    "    soldier_6 = enemy_army.train_archer(\"Kirigae\")\n",
    "\n",
    "    print(soldier_1.introduce())\n",
    "    print(\"Knight Jaks, European swordsman\")\n",
    "    print(soldier_2.introduce())\n",
    "    print(soldier_3.introduce())\n",
    "    assert soldier_1.introduce() == \"Knight Jaks, European swordsman\"\n",
    "    assert soldier_2.introduce() == \"Raubritter Harold, European lancer\"\n",
    "    assert soldier_3.introduce() == \"Ranger Robin, European archer\"\n",
    "    \n",
    "    assert soldier_4.introduce() == \"Samurai Kishimoto, Asian swordsman\"\n",
    "    assert soldier_5.introduce() == \"Ronin Ayabusa, Asian lancer\"\n",
    "    assert soldier_6.introduce() == \"Shinobi Kirigae, Asian archer\"\n",
    "\n",
    "    print(\"Coding complete? Let's try tests!\")"
   ]
  }
 ],
 "metadata": {
  "kernelspec": {
   "display_name": "Python 3",
   "language": "python",
   "name": "python3"
  },
  "language_info": {
   "codemirror_mode": {
    "name": "ipython",
    "version": 3
   },
   "file_extension": ".py",
   "mimetype": "text/x-python",
   "name": "python",
   "nbconvert_exporter": "python",
   "pygments_lexer": "ipython3",
   "version": "3.6.5"
  }
 },
 "nbformat": 4,
 "nbformat_minor": 2
}
