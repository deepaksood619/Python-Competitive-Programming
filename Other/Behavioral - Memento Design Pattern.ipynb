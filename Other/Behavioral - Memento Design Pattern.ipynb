{
 "cells": [
  {
   "cell_type": "code",
   "execution_count": 9,
   "metadata": {},
   "outputs": [
    {
     "name": "stdout",
     "output_type": "stream",
     "text": [
      "Originator: Setting state to State1\n",
      "Originator: Setting state to State2\n",
      "Originator: Saving to Memento.\n",
      "Originator: Setting state to State3\n",
      "Originator: Saving to Memento.\n",
      "Originator: Setting state to State4\n",
      "Originator: State after restoring from Memento: State2\n"
     ]
    }
   ],
   "source": [
    "class Memento(object):\n",
    "    def __init__(self, state):\n",
    "        self._state = state\n",
    "        \n",
    "    def __str__(self):\n",
    "        return self._state\n",
    "\n",
    "    def get_saved_state(self):\n",
    "        return self._state\n",
    "\n",
    "class Originator(object):\n",
    "    _state = \"\"\n",
    "\n",
    "    def set(self, state):\n",
    "        print(\"Originator: Setting state to\", state)\n",
    "        self._state = state\n",
    "\n",
    "    def save_to_memento(self):\n",
    "        print(\"Originator: Saving to Memento.\")\n",
    "        return Memento(self._state)\n",
    "\n",
    "    def restore_from_memento(self, memento):\n",
    "        self._state = memento.get_saved_state()\n",
    "        print(\"Originator: State after restoring from Memento:\", self._state)\n",
    "\n",
    "saved_states = []\n",
    "originator = Originator()\n",
    "originator.set(\"State1\")\n",
    "originator.set(\"State2\")\n",
    "saved_states.append(originator.save_to_memento())\n",
    "\n",
    "originator.set(\"State3\")\n",
    "saved_states.append(originator.save_to_memento())\n",
    "\n",
    "originator.set(\"State4\")\n",
    "\n",
    "originator.restore_from_memento(saved_states[0])"
   ]
  }
 ],
 "metadata": {
  "kernelspec": {
   "display_name": "Python 3",
   "language": "python",
   "name": "python3"
  },
  "language_info": {
   "codemirror_mode": {
    "name": "ipython",
    "version": 3
   },
   "file_extension": ".py",
   "mimetype": "text/x-python",
   "name": "python",
   "nbconvert_exporter": "python",
   "pygments_lexer": "ipython3",
   "version": "3.6.5"
  }
 },
 "nbformat": 4,
 "nbformat_minor": 2
}
