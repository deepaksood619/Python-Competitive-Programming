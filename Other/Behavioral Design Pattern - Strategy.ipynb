{
 "cells": [
  {
   "cell_type": "markdown",
   "metadata": {},
   "source": [
    "https://py.checkio.org/blog/design-patterns-part-1/\n",
    "\n",
    "https://py.checkio.org/mission/geometry-figures/solve/"
   ]
  },
  {
   "cell_type": "code",
   "execution_count": 65,
   "metadata": {},
   "outputs": [
    {
     "name": "stdout",
     "output_type": "stream",
     "text": [
      "40.0\n",
      "Coding complete? Let's try tests!\n"
     ]
    }
   ],
   "source": [
    "import math\n",
    "from decimal import Decimal\n",
    "\n",
    "class Parameters:\n",
    "    def __init__(self, length):\n",
    "        self.length = length\n",
    "        \n",
    "    def choose_figure(self, figure):\n",
    "        self.figure = figure\n",
    "    \n",
    "    def perimeter(self):\n",
    "        return self.figure.perimeter(self.length)\n",
    "        \n",
    "    def area(self):\n",
    "        return self.figure.area(self.length)\n",
    "        \n",
    "    def volume(self):\n",
    "        return self.figure.volume(self.length)\n",
    "\n",
    "class Circle:\n",
    "    \n",
    "    def perimeter(self, length):\n",
    "        return round(2 * math.pi * length, 2)\n",
    "        \n",
    "    def area(self, length):\n",
    "        return round(math.pi * length * length, 2)\n",
    "        \n",
    "    def volume(self, length):\n",
    "        return 0\n",
    "\n",
    "class Triangle:\n",
    "    def perimeter(self, length):\n",
    "        return round(float(3 * Decimal(str(length))),2)\n",
    "        \n",
    "    def area(self, length):\n",
    "        return round((math.sqrt(3) * length * length)/4, 2)\n",
    "        \n",
    "    def volume(self, length):\n",
    "        return 0\n",
    "\n",
    "class Square:\n",
    "    def perimeter(self, length):\n",
    "        return round(float(4 * Decimal(str(length))),2)\n",
    "        \n",
    "    def area(self, length):\n",
    "        return length * length\n",
    "        \n",
    "    def volume(self, length):\n",
    "        return 0\n",
    "\n",
    "class Pentagon:\n",
    "    def perimeter(self, length):\n",
    "        return round(float(5 * Decimal(str(length))),2)\n",
    "        \n",
    "    def area(self, length):\n",
    "        return round((math.sqrt(((2 * math.sqrt(5)) + 5)*5) * length * length)/4, 2)\n",
    "        \n",
    "    def volume(self, length):\n",
    "        return 0\n",
    "\n",
    "class Hexagon:\n",
    "    def perimeter(self, length):\n",
    "        return round(float(6 * Decimal(str(length))),2)\n",
    "        \n",
    "    def area(self, length):\n",
    "        return round((math.sqrt(3) * 3 * length * length)/2, 2)\n",
    "        \n",
    "    def volume(self, length):\n",
    "        return 0\n",
    "\n",
    "class Cube:\n",
    "    def perimeter(self, length):\n",
    "        return round(float(4 * Decimal(str(length))),2)\n",
    "        \n",
    "    def area(self, length):\n",
    "        return 6 * length * length\n",
    "        \n",
    "    def volume(self, length):\n",
    "        return length*length*length\n",
    "\n",
    "\n",
    "if __name__ == '__main__':\n",
    "    #These \"asserts\" using only for self-checking and not necessary for auto-testing\n",
    "\n",
    "    figure = Parameters(10)\n",
    "    \n",
    "    figure.choose_figure(Circle())\n",
    "    assert figure.area() == 314.16\n",
    "\n",
    "    figure.choose_figure(Triangle())\n",
    "    assert figure.perimeter() == 30\n",
    "\n",
    "    figure.choose_figure(Square())\n",
    "    assert figure.area() == 100\n",
    "\n",
    "    figure.choose_figure(Pentagon())\n",
    "    assert figure.perimeter() == 50\n",
    "\n",
    "    figure.choose_figure(Hexagon())\n",
    "    assert figure.perimeter() == 60\n",
    "\n",
    "    figure.choose_figure(Cube())\n",
    "    assert figure.volume() == 1000\n",
    "    \n",
    "    figure = Parameters(10)\n",
    "    figure.choose_figure(Cube())\n",
    "    print (figure.perimeter())\n",
    "\n",
    "    print(\"Coding complete? Let's try tests!\")"
   ]
  },
  {
   "cell_type": "code",
   "execution_count": null,
   "metadata": {},
   "outputs": [],
   "source": [
    "3.3 *"
   ]
  },
  {
   "cell_type": "code",
   "execution_count": 39,
   "metadata": {},
   "outputs": [
    {
     "data": {
      "text/plain": [
       "9.899999999999999"
      ]
     },
     "execution_count": 39,
     "metadata": {},
     "output_type": "execute_result"
    }
   ],
   "source": [
    "3.3 + 3.3 + 3.3"
   ]
  },
  {
   "cell_type": "code",
   "execution_count": 58,
   "metadata": {},
   "outputs": [
    {
     "name": "stdout",
     "output_type": "stream",
     "text": [
      "<class 'decimal.Decimal'>\n",
      "<class 'float'>\n",
      "<class 'float'>\n",
      "9.9\n",
      "9.9\n"
     ]
    }
   ],
   "source": [
    "length =3.3\n",
    "a = 3*Decimal(str(length))\n",
    "print (type(a))\n",
    "print(type(9.9))\n",
    "print (type(float(a)))\n",
    "print(a)\n",
    "print(round(float(a), 2))"
   ]
  },
  {
   "cell_type": "code",
   "execution_count": 68,
   "metadata": {},
   "outputs": [
    {
     "name": "stdout",
     "output_type": "stream",
     "text": [
      "9.9\n",
      "9.9\n"
     ]
    }
   ],
   "source": [
    "print (Decimal('3.3') * 3)  # output is a Decimal object\n",
    "print (float(Decimal('3.3') * 3)) # output is float"
   ]
  },
  {
   "cell_type": "code",
   "execution_count": 74,
   "metadata": {},
   "outputs": [
    {
     "name": "stdout",
     "output_type": "stream",
     "text": [
      "9.9\n",
      "9.0\n",
      "9.99\n",
      "10.0\n",
      "9.55\n"
     ]
    }
   ],
   "source": [
    "print (round(9.9, 2))\n",
    "print (round(9.0, 2)) # this should output 9\n",
    "print (round(9.99, 2))\n",
    "print (round(9.999, 2)) # this should output 10 and not 10.0\n",
    "print (round(9.548, 2))"
   ]
  },
  {
   "cell_type": "code",
   "execution_count": 18,
   "metadata": {},
   "outputs": [
    {
     "data": {
      "text/plain": [
       "Decimal('9.899999999999999467092948180')"
      ]
     },
     "execution_count": 18,
     "metadata": {},
     "output_type": "execute_result"
    }
   ],
   "source": [
    "from decimal import Decimal\n",
    "Decimal(3.3) * Decimal(3)"
   ]
  },
  {
   "cell_type": "code",
   "execution_count": 39,
   "metadata": {},
   "outputs": [
    {
     "data": {
      "text/plain": [
       "9.899999999999999"
      ]
     },
     "execution_count": 39,
     "metadata": {},
     "output_type": "execute_result"
    }
   ],
   "source": [
    "3.3 + 3.3 + 3.3"
   ]
  },
  {
   "cell_type": "code",
   "execution_count": 19,
   "metadata": {},
   "outputs": [
    {
     "data": {
      "text/plain": [
       "9.899999999999999"
      ]
     },
     "execution_count": 19,
     "metadata": {},
     "output_type": "execute_result"
    }
   ],
   "source": [
    "3 * 3.3"
   ]
  },
  {
   "cell_type": "code",
   "execution_count": 22,
   "metadata": {},
   "outputs": [
    {
     "data": {
      "text/plain": [
       "3.3000000000000003"
      ]
     },
     "execution_count": 22,
     "metadata": {},
     "output_type": "execute_result"
    }
   ],
   "source": [
    "1.1 * 3"
   ]
  },
  {
   "cell_type": "code",
   "execution_count": 23,
   "metadata": {},
   "outputs": [
    {
     "data": {
      "text/plain": [
       "2.5"
      ]
     },
     "execution_count": 23,
     "metadata": {},
     "output_type": "execute_result"
    }
   ],
   "source": [
    "5/2"
   ]
  },
  {
   "cell_type": "code",
   "execution_count": 27,
   "metadata": {},
   "outputs": [
    {
     "name": "stdout",
     "output_type": "stream",
     "text": [
      "16.014\n",
      "20.4\n"
     ]
    }
   ],
   "source": [
    "a     = Decimal('5.1')\n",
    "b     = Decimal('3.14')\n",
    "c     = 4\n",
    "d     = 3.14\n",
    "\n",
    "\n",
    "print (a * b)\n",
    "print (a * c)"
   ]
  },
  {
   "cell_type": "code",
   "execution_count": 24,
   "metadata": {},
   "outputs": [
    {
     "data": {
      "text/plain": [
       "56.00000000000001"
      ]
     },
     "execution_count": 24,
     "metadata": {},
     "output_type": "execute_result"
    }
   ],
   "source": [
    "100 * .56"
   ]
  },
  {
   "cell_type": "code",
   "execution_count": 31,
   "metadata": {},
   "outputs": [
    {
     "name": "stdout",
     "output_type": "stream",
     "text": [
      "9.9\n"
     ]
    }
   ],
   "source": [
    "print (Decimal('3.3')*Decimal('3'))"
   ]
  },
  {
   "cell_type": "code",
   "execution_count": 34,
   "metadata": {},
   "outputs": [
    {
     "name": "stdout",
     "output_type": "stream",
     "text": [
      "9.99\n"
     ]
    }
   ],
   "source": [
    "print (Decimal('3.33') * Decimal('3'))"
   ]
  },
  {
   "cell_type": "code",
   "execution_count": 35,
   "metadata": {},
   "outputs": [
    {
     "name": "stdout",
     "output_type": "stream",
     "text": [
      "9.99\n"
     ]
    }
   ],
   "source": [
    "print(Decimal('3.33') * 3)"
   ]
  },
  {
   "cell_type": "code",
   "execution_count": 33,
   "metadata": {},
   "outputs": [
    {
     "data": {
      "text/plain": [
       "9.99"
      ]
     },
     "execution_count": 33,
     "metadata": {},
     "output_type": "execute_result"
    }
   ],
   "source": [
    "3 * 3.33"
   ]
  },
  {
   "cell_type": "code",
   "execution_count": 32,
   "metadata": {},
   "outputs": [
    {
     "name": "stdout",
     "output_type": "stream",
     "text": [
      "9.899999999999999467092948180\n"
     ]
    }
   ],
   "source": [
    "print (Decimal(3.3) * Decimal(3))"
   ]
  },
  {
   "cell_type": "code",
   "execution_count": 12,
   "metadata": {},
   "outputs": [
    {
     "data": {
      "text/plain": [
       "0.1"
      ]
     },
     "execution_count": 12,
     "metadata": {},
     "output_type": "execute_result"
    }
   ],
   "source": [
    "0.1"
   ]
  }
 ],
 "metadata": {
  "kernelspec": {
   "display_name": "Python 3",
   "language": "python",
   "name": "python3"
  },
  "language_info": {
   "codemirror_mode": {
    "name": "ipython",
    "version": 3
   },
   "file_extension": ".py",
   "mimetype": "text/x-python",
   "name": "python",
   "nbconvert_exporter": "python",
   "pygments_lexer": "ipython3",
   "version": "3.6.5"
  }
 },
 "nbformat": 4,
 "nbformat_minor": 2
}
