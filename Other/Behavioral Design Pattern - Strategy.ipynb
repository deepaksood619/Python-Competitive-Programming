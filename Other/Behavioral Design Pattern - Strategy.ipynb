{
 "cells": [
  {
   "cell_type": "markdown",
   "metadata": {},
   "source": [
    "https://py.checkio.org/blog/design-patterns-part-1/\n",
    "\n",
    "https://py.checkio.org/mission/geometry-figures/solve/"
   ]
  },
  {
   "cell_type": "code",
   "execution_count": 65,
   "metadata": {},
   "outputs": [
    {
     "name": "stdout",
     "output_type": "stream",
     "text": [
      "40.0\n",
      "Coding complete? Let's try tests!\n"
     ]
    }
   ],
   "source": [
    "import math\n",
    "from decimal import Decimal\n",
    "\n",
    "class Parameters:\n",
    "    def __init__(self, length):\n",
    "        self.length = length\n",
    "        \n",
    "    def choose_figure(self, figure):\n",
    "        self.figure = figure\n",
    "    \n",
    "    def perimeter(self):\n",
    "        return self.figure.perimeter(self.length)\n",
    "        \n",
    "    def area(self):\n",
    "        return self.figure.area(self.length)\n",
    "        \n",
    "    def volume(self):\n",
    "        return self.figure.volume(self.length)\n",
    "\n",
    "class Circle:\n",
    "    \n",
    "    def perimeter(self, length):\n",
    "        return round(2 * math.pi * length, 2)\n",
    "        \n",
    "    def area(self, length):\n",
    "        return round(math.pi * length * length, 2)\n",
    "        \n",
    "    def volume(self, length):\n",
    "        return 0\n",
    "\n",
    "class Triangle:\n",
    "    def perimeter(self, length):\n",
    "        return round(float(3 * Decimal(str(length))),2)\n",
    "        \n",
    "    def area(self, length):\n",
    "        return round((math.sqrt(3) * length * length)/4, 2)\n",
    "        \n",
    "    def volume(self, length):\n",
    "        return 0\n",
    "\n",
    "class Square:\n",
    "    def perimeter(self, length):\n",
    "        return round(float(4 * Decimal(str(length))),2)\n",
    "        \n",
    "    def area(self, length):\n",
    "        return length * length\n",
    "        \n",
    "    def volume(self, length):\n",
    "        return 0\n",
    "\n",
    "class Pentagon:\n",
    "    def perimeter(self, length):\n",
    "        return round(float(5 * Decimal(str(length))),2)\n",
    "        \n",
    "    def area(self, length):\n",
    "        return round((math.sqrt(((2 * math.sqrt(5)) + 5)*5) * length * length)/4, 2)\n",
    "        \n",
    "    def volume(self, length):\n",
    "        return 0\n",
    "\n",
    "class Hexagon:\n",
    "    def perimeter(self, length):\n",
    "        return round(float(6 * Decimal(str(length))),2)\n",
    "        \n",
    "    def area(self, length):\n",
    "        return round((math.sqrt(3) * 3 * length * length)/2, 2)\n",
    "        \n",
    "    def volume(self, length):\n",
    "        return 0\n",
    "\n",
    "class Cube:\n",
    "    def perimeter(self, length):\n",
    "        return round(float(4 * Decimal(str(length))),2)\n",
    "        \n",
    "    def area(self, length):\n",
    "        return 6 * length * length\n",
    "        \n",
    "    def volume(self, length):\n",
    "        return length*length*length\n",
    "\n",
    "\n",
    "if __name__ == '__main__':\n",
    "    #These \"asserts\" using only for self-checking and not necessary for auto-testing\n",
    "\n",
    "    figure = Parameters(10)\n",
    "    \n",
    "    figure.choose_figure(Circle())\n",
    "    assert figure.area() == 314.16\n",
    "\n",
    "    figure.choose_figure(Triangle())\n",
    "    assert figure.perimeter() == 30\n",
    "\n",
    "    figure.choose_figure(Square())\n",
    "    assert figure.area() == 100\n",
    "\n",
    "    figure.choose_figure(Pentagon())\n",
    "    assert figure.perimeter() == 50\n",
    "\n",
    "    figure.choose_figure(Hexagon())\n",
    "    assert figure.perimeter() == 60\n",
    "\n",
    "    figure.choose_figure(Cube())\n",
    "    assert figure.volume() == 1000\n",
    "    \n",
    "    figure = Parameters(10)\n",
    "    figure.choose_figure(Cube())\n",
    "    print (figure.perimeter())\n",
    "\n",
    "    print(\"Coding complete? Let's try tests!\")"
   ]
  },
  {
   "cell_type": "code",
   "execution_count": 74,
   "metadata": {},
   "outputs": [
    {
     "name": "stdout",
     "output_type": "stream",
     "text": [
      "9.9\n",
      "9.0\n",
      "9.99\n",
      "10.0\n",
      "9.55\n"
     ]
    }
   ],
   "source": [
    "print (round(9.9, 2))\n",
    "print (round(9.0, 2)) # this should output 9\n",
    "print (round(9.99, 2))\n",
    "print (round(9.999, 2)) # this should output 10 and not 10.0\n",
    "print (round(9.548, 2))"
   ]
  }
 ],
 "metadata": {
  "kernelspec": {
   "display_name": "Python 3",
   "language": "python",
   "name": "python3"
  },
  "language_info": {
   "codemirror_mode": {
    "name": "ipython",
    "version": 3
   },
   "file_extension": ".py",
   "mimetype": "text/x-python",
   "name": "python",
   "nbconvert_exporter": "python",
   "pygments_lexer": "ipython3",
   "version": "3.6.5"
  }
 },
 "nbformat": 4,
 "nbformat_minor": 2
}
