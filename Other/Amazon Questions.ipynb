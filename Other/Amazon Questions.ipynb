{
 "cells": [
  {
   "cell_type": "code",
   "execution_count": 120,
   "metadata": {},
   "outputs": [],
   "source": [
    "def updateAdjacent(i, j, rows, columns, grid):\n",
    "    flag = False\n",
    "    \n",
    "    # update up\n",
    "    if i-1 >= 0 and grid[i-1][j] == 0:\n",
    "        grid[i-1][j] = -1\n",
    "        flag = True\n",
    "    \n",
    "    # update down\n",
    "    if i+1 < rows and grid[i+1][j] == 0:\n",
    "        grid[i+1][j] = -1\n",
    "        flag = True\n",
    "    \n",
    "    # update left\n",
    "    if j-1 >= 0 and grid[i][j-1] == 0:\n",
    "        grid[i][j-1] = -1\n",
    "        flag = True\n",
    "    \n",
    "    # update right\n",
    "    if j+1 < columns and grid[i][j+1] == 0:\n",
    "        grid[i][j+1] = -1\n",
    "        flag = True\n",
    "        \n",
    "    return flag\n",
    "        \n",
    "def printGrid(rows, columns, grid):\n",
    "    for i in range(rows):\n",
    "        for j in range(columns):\n",
    "            print(grid[i][j], end=' ')\n",
    "        \n",
    "        print('')\n",
    "    print('')\n",
    "\n",
    "def minimumHours(rows, columns, grid):\n",
    "    count = 0\n",
    "    \n",
    "    while True:\n",
    "        f = False\n",
    "        for i in range(rows):\n",
    "            for j in range(columns):\n",
    "                if grid[i][j] == 1:\n",
    "                    flag = updateAdjacent(i, j, rows, columns, grid)\n",
    "                    \n",
    "                    if flag:\n",
    "                        f = True\n",
    "                    \n",
    "        for i in range(rows):\n",
    "            for j in range(columns):\n",
    "                if grid[i][j] == -1:\n",
    "                    grid[i][j] = 1\n",
    "        \n",
    "        if not f:\n",
    "            break\n",
    "            \n",
    "        printGrid(rows, columns, grid)\n",
    "        count += 1\n",
    "        \n",
    "    if count == 0:\n",
    "        if grid and grid[0][0] == 0:\n",
    "            return -1\n",
    "    \n",
    "    return count"
   ]
  },
  {
   "cell_type": "code",
   "execution_count": 121,
   "metadata": {},
   "outputs": [
    {
     "name": "stdout",
     "output_type": "stream",
     "text": [
      "1 1 1 1 1 \n",
      "1 1 1 1 1 \n",
      "0 1 0 1 1 \n",
      "1 1 1 0 1 \n",
      "\n",
      "1 1 1 1 1 \n",
      "1 1 1 1 1 \n",
      "1 1 1 1 1 \n",
      "1 1 1 1 1 \n",
      "\n",
      "1 1 0 0 0 \n",
      "1 0 0 0 0 \n",
      "0 0 0 0 0 \n",
      "0 0 0 0 0 \n",
      "0 0 0 0 0 \n",
      "\n",
      "1 1 1 0 0 \n",
      "1 1 0 0 0 \n",
      "1 0 0 0 0 \n",
      "0 0 0 0 0 \n",
      "0 0 0 0 0 \n",
      "\n",
      "1 1 1 1 0 \n",
      "1 1 1 0 0 \n",
      "1 1 0 0 0 \n",
      "1 0 0 0 0 \n",
      "0 0 0 0 0 \n",
      "\n",
      "1 1 1 1 1 \n",
      "1 1 1 1 0 \n",
      "1 1 1 0 0 \n",
      "1 1 0 0 0 \n",
      "1 0 0 0 0 \n",
      "\n",
      "1 1 1 1 1 \n",
      "1 1 1 1 1 \n",
      "1 1 1 1 0 \n",
      "1 1 1 0 0 \n",
      "1 1 0 0 0 \n",
      "\n",
      "1 1 1 1 1 \n",
      "1 1 1 1 1 \n",
      "1 1 1 1 1 \n",
      "1 1 1 1 0 \n",
      "1 1 1 0 0 \n",
      "\n",
      "1 1 1 1 1 \n",
      "1 1 1 1 1 \n",
      "1 1 1 1 1 \n",
      "1 1 1 1 1 \n",
      "1 1 1 1 0 \n",
      "\n",
      "1 1 1 1 1 \n",
      "1 1 1 1 1 \n",
      "1 1 1 1 1 \n",
      "1 1 1 1 1 \n",
      "1 1 1 1 1 \n",
      "\n"
     ]
    }
   ],
   "source": [
    "assert minimumHours(4, 5, [[0,1,1,0,1],[0,1,0,1,0],[0,0,0,0,1],[0,1,0,0,0]]) == 2\n",
    "assert minimumHours(5, 5, [[1,0,0,0,0],[0,0,0,0,0],[0,0,0,0,0],[0,0,0,0,0],[0,0,0,0,0]]) == 8\n",
    "assert minimumHours(1, 5, [[0,0,0,0,0]]) == -1\n",
    "assert minimumHours(1, 5, [[1,1,1,1,1]]) == 0\n",
    "assert minimumHours(1, 1, [[1]]) == 0\n",
    "assert minimumHours(1, 1, [[0]]) == -1\n",
    "assert minimumHours(0, 0, []) == 0"
   ]
  },
  {
   "cell_type": "code",
   "execution_count": 93,
   "metadata": {},
   "outputs": [],
   "source": [
    "def popularNFeatures(numFeatures, topFeatures, possibleFeatures, numFeatureRequests, featureRequests):\n",
    "    dic = {}\n",
    "    \n",
    "    for i in possibleFeatures:\n",
    "        dic[i.lower()] = 0\n",
    "        \n",
    "    for each_request in featureRequests:\n",
    "        curr_set = set()\n",
    "        for each_word in each_request.split(' '):\n",
    "            word = each_word.lower()\n",
    "            if word in dic:\n",
    "                curr_set.add(word)\n",
    "        \n",
    "        for each_word in curr_set:\n",
    "            dic[each_word] += 1\n",
    "            \n",
    "    print(dic)\n",
    "    \n",
    "    sorted_dic = [k for k, v in sorted(dic.items(), key=lambda item: (-item[1], item[0]))]\n",
    "    \n",
    "    return sorted_dic[:min(topFeatures, len(sorted_dic))]"
   ]
  },
  {
   "cell_type": "code",
   "execution_count": 94,
   "metadata": {},
   "outputs": [
    {
     "name": "stdout",
     "output_type": "stream",
     "text": [
      "{'battery': 2, 'waterproof': 1, 'storage': 1}\n"
     ]
    },
    {
     "data": {
      "text/plain": [
       "['battery', 'storage', 'waterproof']"
      ]
     },
     "execution_count": 94,
     "metadata": {},
     "output_type": "execute_result"
    }
   ],
   "source": [
    "popularNFeatures(3, 20, ['battery', 'waterproof', 'storage'], 3, ['storage storage battery storage', ' i want deepak sood battery', 'i want Neha WATERPROOF WATERPOOF'])"
   ]
  },
  {
   "cell_type": "code",
   "execution_count": 97,
   "metadata": {},
   "outputs": [
    {
     "data": {
      "text/plain": [
       "{'z': 5, 'a': 2, 'b': 2}"
      ]
     },
     "execution_count": 97,
     "metadata": {},
     "output_type": "execute_result"
    }
   ],
   "source": [
    "dic = {'z' : 5,'b': 2,'a': 2}\n",
    "{k:v for k, v in sorted(dic.items(), key=lambda item: (-item[1], item[0]))}"
   ]
  }
 ],
 "metadata": {
  "kernelspec": {
   "display_name": "Python 3",
   "language": "python",
   "name": "python3"
  },
  "language_info": {
   "codemirror_mode": {
    "name": "ipython",
    "version": 3
   },
   "file_extension": ".py",
   "mimetype": "text/x-python",
   "name": "python",
   "nbconvert_exporter": "python",
   "pygments_lexer": "ipython3",
   "version": "3.7.0"
  }
 },
 "nbformat": 4,
 "nbformat_minor": 4
}
