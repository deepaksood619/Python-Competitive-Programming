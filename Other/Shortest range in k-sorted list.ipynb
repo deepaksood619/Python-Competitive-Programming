{
 "cells": [
  {
   "cell_type": "markdown",
   "metadata": {},
   "source": [
    "https://www.youtube.com/watch?v=zplklOy7ENo "
   ]
  },
  {
   "cell_type": "code",
   "execution_count": 5,
   "metadata": {},
   "outputs": [],
   "source": [
    "a = [4,10,15,24,25]\n",
    "b = [0,9,12,20]\n",
    "c = [5,11,22,30]"
   ]
  },
  {
   "cell_type": "code",
   "execution_count": 6,
   "metadata": {},
   "outputs": [
    {
     "name": "stdout",
     "output_type": "stream",
     "text": [
      "2 9 11\n"
     ]
    }
   ],
   "source": [
    "# index\n",
    "x = 0\n",
    "y = 0\n",
    "z = 0\n",
    "\n",
    "min_range = 1000\n",
    "min_range_min = -1\n",
    "min_range_max = -1\n",
    "\n",
    "while x < len(a) and y < len(b) and z < len(c):\n",
    "    curr_min = min(a[x], b[y], c[z])\n",
    "    curr_max = max(a[x], b[y], c[z])\n",
    "    curr_range = curr_max - curr_min\n",
    "    \n",
    "    if curr_range < min_range:\n",
    "        min_range = curr_range\n",
    "        min_range_min = curr_min\n",
    "        min_range_max = curr_max\n",
    "    \n",
    "    # increase the minimum pointer\n",
    "    if curr_min == a[x]:\n",
    "        x += 1\n",
    "    elif curr_min == b[y]:\n",
    "        y += 1\n",
    "    else:\n",
    "        z += 1\n",
    "        \n",
    "print(min_range, min_range_min, min_range_max)"
   ]
  }
 ],
 "metadata": {
  "kernelspec": {
   "display_name": "Python 3",
   "language": "python",
   "name": "python3"
  },
  "language_info": {
   "codemirror_mode": {
    "name": "ipython",
    "version": 3
   },
   "file_extension": ".py",
   "mimetype": "text/x-python",
   "name": "python",
   "nbconvert_exporter": "python",
   "pygments_lexer": "ipython3",
   "version": "3.7.0"
  }
 },
 "nbformat": 4,
 "nbformat_minor": 2
}
