{
 "cells": [
  {
   "cell_type": "code",
   "execution_count": 1,
   "metadata": {},
   "outputs": [],
   "source": [
    "def print_arr(arr):\n",
    "    for row in arr:\n",
    "        for col in row:\n",
    "            print(col, end=' ')\n",
    "        print()"
   ]
  },
  {
   "cell_type": "code",
   "execution_count": 2,
   "metadata": {},
   "outputs": [],
   "source": [
    "def get_zero_position(arr):\n",
    "    for i, row in enumerate(arr):\n",
    "        for j, col in enumerate(row):\n",
    "            if (col == 0):\n",
    "                return (i, j)"
   ]
  },
  {
   "cell_type": "code",
   "execution_count": 3,
   "metadata": {},
   "outputs": [],
   "source": [
    "def is_valid(arr, x, y):\n",
    "    return 0 <= x < len(arr) and 0 <= y < len(arr[0])"
   ]
  },
  {
   "cell_type": "code",
   "execution_count": 22,
   "metadata": {},
   "outputs": [],
   "source": [
    "import copy\n",
    "def get_neighbors(arr):\n",
    "    dirs = [[1, 0], [0, 1], [-1, 0], [0, -1]]\n",
    "    result = []\n",
    "    x, y = get_zero_position(arr)\n",
    "    for dir in dirs:\n",
    "        if is_valid(arr, x+dir[0], y + dir[1]):\n",
    "            neighbor = copy.deepcopy(arr)\n",
    "            neighbor[x][y], neighbor[x+dir[0]][y+dir[1]] = neighbor[x+dir[0]][y+dir[1]], neighbor[x][y]\n",
    "            result.append(neighbor)\n",
    "    return result"
   ]
  },
  {
   "cell_type": "code",
   "execution_count": 23,
   "metadata": {},
   "outputs": [
    {
     "name": "stdout",
     "output_type": "stream",
     "text": [
      "1 2 \n",
      "3 0 \n",
      "1 0 \n",
      "3 2 \n",
      "1 2 \n",
      "0 3 \n",
      "\n",
      "3 0 \n",
      "2 1 \n",
      "\n",
      "3 1 \n",
      "2 0 \n",
      "0 3 \n",
      "2 1 \n"
     ]
    }
   ],
   "source": [
    "final_goal = [[1,2],[3,0]]\n",
    "print_arr(final_goal)\n",
    "for neighbors in get_neighbors(final_goal):\n",
    "    print_arr(neighbors)\n",
    "\n",
    "print()\n",
    "initial_state = [[3,0],[2,1]]\n",
    "print_arr(initial_state)\n",
    "print()\n",
    "for neighbors in get_neighbors(initial_state):\n",
    "    print_arr(neighbors)"
   ]
  },
  {
   "cell_type": "code",
   "execution_count": 24,
   "metadata": {},
   "outputs": [],
   "source": [
    "import copy\n",
    "\n",
    "class Node:\n",
    "    def __init__(self, two_d_arr):\n",
    "        self.matrix = two_d_arr\n",
    "        self.priority = 0\n",
    "        \n",
    "    def is_valid(self, x, y):\n",
    "        return 0 <= x < len(self.matrix) and 0 <= y < len(self.matrix[0])\n",
    "    \n",
    "    def get_zero_position(self):\n",
    "        for i, row in enumerate(self.matrix):\n",
    "            for j, col in enumerate(row):\n",
    "                if (col == 0):\n",
    "                    return (i, j)\n",
    "        \n",
    "    def get_neighbors(self):\n",
    "        dirs = [[1, 0], [0, 1], [-1, 0], [0, -1]]\n",
    "        result = []\n",
    "        x, y = self.get_zero_position()\n",
    "        for dir in dirs:\n",
    "            if self.is_valid(x+dir[0], y + dir[1]):\n",
    "                neighbor = copy.deepcopy(self.matrix)\n",
    "                neighbor[x][y], neighbor[x+dir[0]][y+dir[1]] = neighbor[x+dir[0]][y+dir[1]], neighbor[x][y]\n",
    "                result.append(Node(neighbor))\n",
    "        return result\n",
    "    \n",
    "    def __eq__(self, other):\n",
    "        return self.priority == other.priority\n",
    "    \n",
    "    def __lt__(self, other):\n",
    "        return self.priority < other.priority\n",
    "    \n",
    "    def __str__(self):\n",
    "        return str(self.matrix)"
   ]
  },
  {
   "cell_type": "code",
   "execution_count": 25,
   "metadata": {},
   "outputs": [],
   "source": [
    "import heapq\n",
    "import queue as Queue\n",
    "class PriorityQueue:\n",
    "    def __init__(self):\n",
    "        self.elements = []\n",
    "        \n",
    "    def empty(self):\n",
    "        return len(self.elements) == 0\n",
    "    \n",
    "    def put(self, item, priority):\n",
    "        heapq.heappush(self.elements, (priority, item))\n",
    "        \n",
    "    def get(self):\n",
    "        item = heapq.heappop(self.elements)\n",
    "        return item[1]\n",
    "    \n",
    "def present(visited, next):\n",
    "    for item in visited:\n",
    "        if next.matrix == item.matrix:\n",
    "            return False\n",
    "    return True\n",
    "\n",
    "def bfs(start, final_node):\n",
    "    frontier = Queue.Queue()\n",
    "    frontier.put(start)\n",
    "    visited = []\n",
    "    visited.append(start)\n",
    "    \n",
    "    while not frontier.empty():\n",
    "        current = frontier.get()\n",
    "        \n",
    "        if current.matrix == final_node.matrix:\n",
    "            print(\"break\")\n",
    "            break\n",
    "            \n",
    "        for next in current.get_neighbors():\n",
    "            if present(visited, next):\n",
    "                frontier.put(next)\n",
    "                visited.append(next)\n",
    "    return visited"
   ]
  },
  {
   "cell_type": "code",
   "execution_count": 26,
   "metadata": {},
   "outputs": [
    {
     "name": "stdout",
     "output_type": "stream",
     "text": [
      "break\n",
      "43\n"
     ]
    }
   ],
   "source": [
    "# initial_node = Node([[3,1],[0,2]])\n",
    "# final_node = Node([[1,2],[3,0]])\n",
    "initial_node = Node([[0,1,3],[4,2,5],[7,8,6]])\n",
    "# initial_node = Node([[1,2,3],[0,5,6],[4,7,8]])\n",
    "final_node = Node([[1,2,3],[4,5,6],[7,8,0]])\n",
    "visited = bfs(initial_node, final_node)\n",
    "print(len(visited))"
   ]
  },
  {
   "cell_type": "code",
   "execution_count": null,
   "metadata": {},
   "outputs": [],
   "source": []
  }
 ],
 "metadata": {
  "kernelspec": {
   "display_name": "Python 3",
   "language": "python",
   "name": "python3"
  },
  "language_info": {
   "codemirror_mode": {
    "name": "ipython",
    "version": 3
   },
   "file_extension": ".py",
   "mimetype": "text/x-python",
   "name": "python",
   "nbconvert_exporter": "python",
   "pygments_lexer": "ipython3",
   "version": "3.6.5"
  }
 },
 "nbformat": 4,
 "nbformat_minor": 2
}
