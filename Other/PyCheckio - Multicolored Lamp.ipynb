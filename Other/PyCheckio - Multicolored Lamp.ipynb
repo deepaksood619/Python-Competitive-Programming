{
 "cells": [
  {
   "cell_type": "markdown",
   "metadata": {},
   "source": [
    "### Multicolored Lamp"
   ]
  },
  {
   "cell_type": "markdown",
   "metadata": {},
   "source": [
    "https://py.checkio.org/mission/multicolored-lamp/solve/"
   ]
  },
  {
   "cell_type": "code",
   "execution_count": 1,
   "metadata": {},
   "outputs": [
    {
     "name": "stdout",
     "output_type": "stream",
     "text": [
      "Coding complete? Let's try tests!\n"
     ]
    }
   ],
   "source": [
    "class Lamp:\n",
    "    def __init__(self):\n",
    "        self._state = 'Green'\n",
    "        \n",
    "    def light(self):\n",
    "        current_state = self._state\n",
    "        self.update_state()\n",
    "        return current_state\n",
    "        \n",
    "    def update_state(self):\n",
    "        state = self._state\n",
    "        if state == 'Green':\n",
    "            self._state = 'Red'\n",
    "        elif state == 'Red':\n",
    "            self._state = 'Blue'\n",
    "        elif state == 'Blue':\n",
    "            self._state = 'Yellow'\n",
    "        else:\n",
    "            self._state = 'Green'\n",
    "\n",
    "if __name__ == '__main__':\n",
    "    #These \"asserts\" using only for self-checking and not necessary for auto-testing\n",
    "\n",
    "    lamp_1 = Lamp()\n",
    "    lamp_2 = Lamp()\n",
    "\n",
    "    lamp_1.light() #Green\n",
    "    lamp_1.light() #Red\n",
    "    lamp_2.light() #Green\n",
    "    \n",
    "    assert lamp_1.light() == \"Blue\"\n",
    "    assert lamp_1.light() == \"Yellow\"\n",
    "    assert lamp_1.light() == \"Green\"\n",
    "    assert lamp_2.light() == \"Red\"\n",
    "    assert lamp_2.light() == \"Blue\"\n",
    "    print(\"Coding complete? Let's try tests!\")"
   ]
  },
  {
   "cell_type": "markdown",
   "metadata": {},
   "source": [
    "### Clear Solution Using Cycle"
   ]
  },
  {
   "cell_type": "code",
   "execution_count": 5,
   "metadata": {},
   "outputs": [
    {
     "name": "stdout",
     "output_type": "stream",
     "text": [
      "Completed\n"
     ]
    }
   ],
   "source": [
    "from itertools import cycle\n",
    "\n",
    "class Lamp:\n",
    "    def __init__(self):\n",
    "        colors = ['Green', 'Red', 'Blue', 'Yellow']\n",
    "        self.state = cycle(colors)\n",
    "        \n",
    "    def light(self):\n",
    "        return next(self.state)\n",
    "    \n",
    "if __name__ == '__main__':\n",
    "    lamp_1 = Lamp()\n",
    "    lamp_2 = Lamp()\n",
    "    \n",
    "    assert lamp_1.light() == 'Green'\n",
    "    assert lamp_2.light() == 'Green'\n",
    "    assert lamp_1.light() == 'Red'\n",
    "    \n",
    "    assert lamp_1.light() == \"Blue\"\n",
    "    assert lamp_1.light() == \"Yellow\"\n",
    "    assert lamp_1.light() == \"Green\"\n",
    "    assert lamp_2.light() == \"Red\"\n",
    "    assert lamp_2.light() == \"Blue\"\n",
    "    print('Completed')"
   ]
  },
  {
   "cell_type": "code",
   "execution_count": 5,
   "metadata": {},
   "outputs": [
    {
     "name": "stdout",
     "output_type": "stream",
     "text": [
      "R\n",
      "B\n",
      "G\n",
      "Y\n",
      "R\n",
      "B\n",
      "G\n",
      "Y\n"
     ]
    }
   ],
   "source": [
    "from itertools import cycle\n",
    "colors = ['R', 'B', 'G', 'Y']\n",
    "state = cycle(colors)\n",
    "print(next(state))\n",
    "print(next(state))\n",
    "print(next(state))\n",
    "print(next(state))\n",
    "print(next(state))\n",
    "print(next(state))\n",
    "print(next(state))\n",
    "print(next(state))"
   ]
  }
 ],
 "metadata": {
  "kernelspec": {
   "display_name": "Python 3",
   "language": "python",
   "name": "python3"
  },
  "language_info": {
   "codemirror_mode": {
    "name": "ipython",
    "version": 3
   },
   "file_extension": ".py",
   "mimetype": "text/x-python",
   "name": "python",
   "nbconvert_exporter": "python",
   "pygments_lexer": "ipython3",
   "version": "3.6.5"
  }
 },
 "nbformat": 4,
 "nbformat_minor": 2
}
