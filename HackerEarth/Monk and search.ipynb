{
 "cells": [
  {
   "cell_type": "code",
   "execution_count": null,
   "metadata": {},
   "outputs": [],
   "source": [
    "4\n",
    "1 2 3 4\n",
    "3\n",
    "0 5\n",
    "1 3\n",
    "0 3\n",
    "\n",
    "0\n",
    "1\n",
    "2"
   ]
  },
  {
   "cell_type": "code",
   "execution_count": null,
   "metadata": {},
   "outputs": [],
   "source": [
    "# Solution"
   ]
  },
  {
   "cell_type": "code",
   "execution_count": 2,
   "metadata": {},
   "outputs": [
    {
     "name": "stdout",
     "output_type": "stream",
     "text": [
      "[1, 2, 3, 4]\n",
      "each_query (0, 5)\n",
      "start 0 end 4\n",
      "start 3 end 4\n",
      "val 4\n",
      "0\n",
      "each_query (1, 3)\n",
      "val 3\n",
      "1\n",
      "each_query (0, 3)\n",
      "start 0 end 4\n",
      "start 0 end 2\n",
      "val 2\n",
      "2\n"
     ]
    }
   ],
   "source": [
    "def lower_bound(start,end,item):\n",
    "    while(start<end):\n",
    "        print('start', start, 'end', end)\n",
    "        mid=(start+end)>>1\n",
    "        if(arr[mid]>=item):\n",
    "            end=mid\n",
    "        else:\n",
    "            start=mid+1\n",
    "\n",
    "    return start\n",
    "\n",
    "def upper_bound(start, end, item):\n",
    "    while(start<end):\n",
    "        mid=(start+end)>>1\n",
    "        if(arr[mid]<=item):\n",
    "            start=mid+1\n",
    "        else:\n",
    "            end=mid\n",
    "    return start\n",
    "\n",
    "n = 5\n",
    "n = 4\n",
    "arr = [10, 10 ,10, 10, 10]\n",
    "arr = [4,3,2,1]\n",
    "q = 3\n",
    "q = 3\n",
    "queries = [(1,6), (1,3), (0,5)]\n",
    "queries = [(0,5), (1,3), (0,3)]\n",
    "\n",
    "arr.sort()\n",
    "\n",
    "print(arr)\n",
    "\n",
    "for each_query in queries:\n",
    "    print('each_query', each_query)\n",
    "    \n",
    "    if each_query[0] == 0:\n",
    "        val = lower_bound(0, n, each_query[1])\n",
    "        print('val',val)\n",
    "        print(n-val)\n",
    "    else:\n",
    "        val = upper_bound(0, n, each_query[1])\n",
    "        print('val', val)\n",
    "        print(n-val)"
   ]
  },
  {
   "cell_type": "code",
   "execution_count": 10,
   "metadata": {},
   "outputs": [],
   "source": [
    "# Bruteforce"
   ]
  },
  {
   "cell_type": "code",
   "execution_count": 9,
   "metadata": {},
   "outputs": [
    {
     "name": "stdout",
     "output_type": "stream",
     "text": [
      "(0, 5)\n",
      "0\n",
      "(1, 3)\n",
      "1\n",
      "(0, 3)\n",
      "2\n"
     ]
    }
   ],
   "source": [
    "n = 4\n",
    "lst = [4,3,2,1]\n",
    "\n",
    "max_num = max(lst)\n",
    "\n",
    "max_num += 1\n",
    "\n",
    "arr = [0]*max_num\n",
    "\n",
    "for i in lst:\n",
    "    arr[i] += 1\n",
    "\n",
    "q = 3\n",
    "\n",
    "queries = [(0,5), (1,3), (0,3)]\n",
    "\n",
    "for each_query in queries:\n",
    "    print(each_query)\n",
    "    \n",
    "    if each_query[1] > max_num-1:\n",
    "        print(0)\n",
    "    else:\n",
    "        count = 0\n",
    "        for c in range(each_query[1]+1, max_num):\n",
    "            count += arr[c]\n",
    "\n",
    "        if each_query[0] == 0:\n",
    "            # greater and equal\n",
    "            print(count + arr[each_query[1]])\n",
    "        else:\n",
    "            # strictly greater\n",
    "            print(count)"
   ]
  },
  {
   "cell_type": "code",
   "execution_count": null,
   "metadata": {},
   "outputs": [],
   "source": [
    "# Optimization 1"
   ]
  },
  {
   "cell_type": "code",
   "execution_count": 29,
   "metadata": {},
   "outputs": [
    {
     "name": "stdout",
     "output_type": "stream",
     "text": [
      "[(10, 5)]\n",
      "(1, 6)\n",
      "index 0\n",
      "5\n",
      "(1, 3)\n",
      "index 0\n",
      "5\n",
      "(0, 5)\n",
      "index 0\n",
      "5\n"
     ]
    }
   ],
   "source": [
    "from collections import defaultdict\n",
    "\n",
    "n = 5\n",
    "lst = [10, 10 ,10, 10, 10]\n",
    "\n",
    "max_num = max(lst)\n",
    "\n",
    "dic = defaultdict(int)\n",
    "\n",
    "for i in lst:\n",
    "    dic[i] += 1\n",
    "\n",
    "s_lst = sorted(dic.items())\n",
    "    \n",
    "print(s_lst)\n",
    "\n",
    "q = 3\n",
    "\n",
    "queries = [(1,6), (1,3), (0,5)]\n",
    "\n",
    "for each_query in queries:\n",
    "    print(each_query)\n",
    "    if each_query[1] <= max_num:\n",
    "        \n",
    "        # linear search an item\n",
    "        index = 0\n",
    "        while each_query[1] > s_lst[index][0]:\n",
    "            index += 1\n",
    "        \n",
    "        print('index', index)\n",
    "        count = 0\n",
    "        if each_query[0] == 0:\n",
    "            # greater and equal\n",
    "            for i in range(index, len(s_lst)):\n",
    "                count += s_lst[i][1]\n",
    "            \n",
    "            print(count)\n",
    "        else:\n",
    "            # strictly greater\n",
    "            if each_query[1] == s_lst[index][0]:\n",
    "                for i in range(index+1, len(s_lst)):\n",
    "                    count += s_lst[i][1]\n",
    "            else:\n",
    "                for i in range(index, len(s_lst)):\n",
    "                    count += s_lst[i][1]\n",
    "            \n",
    "            print(count)\n",
    "        \n",
    "    else:\n",
    "        print(0)"
   ]
  },
  {
   "cell_type": "code",
   "execution_count": null,
   "metadata": {},
   "outputs": [],
   "source": [
    "# Optimization 2"
   ]
  },
  {
   "cell_type": "code",
   "execution_count": 5,
   "metadata": {},
   "outputs": [
    {
     "name": "stdout",
     "output_type": "stream",
     "text": [
      "s_lst [(1, 1), (2, 1), (3, 1), (4, 1)]\n",
      "each_query (0, 5)\n",
      "0\n",
      "each_query (1, 3)\n",
      "primary_index 3\n",
      "index 2\n",
      "1\n",
      "each_query (0, 3)\n",
      "primary_index 3\n",
      "index 2\n",
      "2\n"
     ]
    }
   ],
   "source": [
    "from collections import defaultdict\n",
    "\n",
    "n = 5\n",
    "n = 4\n",
    "lst = [10, 10 ,10, 10, 10]\n",
    "lst = [1,2,3,4]\n",
    "q = 3\n",
    "q = 3\n",
    "queries = [(1,6), (1,3), (0,5)]\n",
    "queries = [(0,5), (1,3), (0,3)]\n",
    "\n",
    "max_num = max(lst)\n",
    "\n",
    "dic = defaultdict(int)\n",
    "\n",
    "for i in lst:\n",
    "    dic[i] += 1\n",
    "\n",
    "s_lst = sorted(dic.items())\n",
    "    \n",
    "print('s_lst', s_lst)\n",
    "\n",
    "for each_query in queries:\n",
    "    print('each_query', each_query)\n",
    "    if each_query[1] <= max_num:\n",
    "        \n",
    "        # optimized search an item\n",
    "        if each_query[1] >= len(s_lst):\n",
    "            index = len(s_lst)-1\n",
    "        else:\n",
    "            index = each_query[1]\n",
    "\n",
    "        print('primary_index', index)\n",
    "        while index > 0 and each_query[1] < s_lst[index][0]:\n",
    "            index -= 1\n",
    "        \n",
    "        print('index', index)\n",
    "        count = 0\n",
    "        if each_query[0] == 0:\n",
    "            # greater and equal\n",
    "            for i in range(index, len(s_lst)):\n",
    "                count += s_lst[i][1]\n",
    "            \n",
    "            print(count)\n",
    "        else:\n",
    "            # strictly greater\n",
    "            if each_query[1] == s_lst[index][0]:\n",
    "                for i in range(index+1, len(s_lst)):\n",
    "                    count += s_lst[i][1]\n",
    "            else:\n",
    "                for i in range(index, len(s_lst)):\n",
    "                    count += s_lst[i][1]\n",
    "            \n",
    "            print(count)\n",
    "        \n",
    "    else:\n",
    "        print(0)"
   ]
  },
  {
   "cell_type": "code",
   "execution_count": null,
   "metadata": {},
   "outputs": [],
   "source": [
    "0,1,2"
   ]
  },
  {
   "cell_type": "code",
   "execution_count": null,
   "metadata": {},
   "outputs": [],
   "source": [
    "# Final Bruteforce"
   ]
  },
  {
   "cell_type": "code",
   "execution_count": null,
   "metadata": {},
   "outputs": [],
   "source": [
    "n = int(input())\n",
    "lst = list(map(int, input().split()))\n",
    "\n",
    "max_num = max(lst)\n",
    "\n",
    "max_num += 1\n",
    "\n",
    "arr = [0]*max_num\n",
    "\n",
    "for i in lst:\n",
    "    arr[i] += 1\n",
    "\n",
    "q = int(input())\n",
    "\n",
    "for _ in range(q):\n",
    "    each_query = list(map(int, input().split()))\n",
    "    \n",
    "    if each_query[1] > max_num-1:\n",
    "        print(0)\n",
    "    else:\n",
    "        count = 0\n",
    "        for c in range(each_query[1]+1, max_num):\n",
    "            count += arr[c]\n",
    "\n",
    "        if each_query[0] == 0:\n",
    "            # greater and equal\n",
    "            print(count + arr[each_query[1]])\n",
    "        else:\n",
    "            # strictly greater\n",
    "            print(count)"
   ]
  },
  {
   "cell_type": "code",
   "execution_count": null,
   "metadata": {},
   "outputs": [],
   "source": [
    "# Final optimized with dict Optimization 1"
   ]
  },
  {
   "cell_type": "code",
   "execution_count": 31,
   "metadata": {},
   "outputs": [
    {
     "name": "stdin",
     "output_type": "stream",
     "text": [
      " 5\n",
      " 10 10 10 10 10\n",
      " 10\n",
      " 1 6\n"
     ]
    },
    {
     "name": "stdout",
     "output_type": "stream",
     "text": [
      "5\n"
     ]
    },
    {
     "name": "stdin",
     "output_type": "stream",
     "text": [
      " 1 3\n"
     ]
    },
    {
     "name": "stdout",
     "output_type": "stream",
     "text": [
      "5\n"
     ]
    },
    {
     "name": "stdin",
     "output_type": "stream",
     "text": [
      " 0 5\n"
     ]
    },
    {
     "name": "stdout",
     "output_type": "stream",
     "text": [
      "5\n"
     ]
    },
    {
     "name": "stdin",
     "output_type": "stream",
     "text": [
      " 1 5\n"
     ]
    },
    {
     "name": "stdout",
     "output_type": "stream",
     "text": [
      "5\n"
     ]
    },
    {
     "name": "stdin",
     "output_type": "stream",
     "text": [
      " 1 3\n"
     ]
    },
    {
     "name": "stdout",
     "output_type": "stream",
     "text": [
      "5\n"
     ]
    },
    {
     "name": "stdin",
     "output_type": "stream",
     "text": [
      " 0 3\n"
     ]
    },
    {
     "name": "stdout",
     "output_type": "stream",
     "text": [
      "5\n"
     ]
    },
    {
     "name": "stdin",
     "output_type": "stream",
     "text": [
      " 0 8\n"
     ]
    },
    {
     "name": "stdout",
     "output_type": "stream",
     "text": [
      "5\n"
     ]
    },
    {
     "name": "stdin",
     "output_type": "stream",
     "text": [
      " 1 7\n"
     ]
    },
    {
     "name": "stdout",
     "output_type": "stream",
     "text": [
      "5\n"
     ]
    },
    {
     "name": "stdin",
     "output_type": "stream",
     "text": [
      " 0 10\n"
     ]
    },
    {
     "name": "stdout",
     "output_type": "stream",
     "text": [
      "5\n"
     ]
    },
    {
     "name": "stdin",
     "output_type": "stream",
     "text": [
      " 1 10\n"
     ]
    },
    {
     "name": "stdout",
     "output_type": "stream",
     "text": [
      "0\n"
     ]
    }
   ],
   "source": [
    "from collections import defaultdict\n",
    "\n",
    "n = int(input())\n",
    "lst = list(map(int, input().split()))\n",
    "\n",
    "max_num = max(lst)\n",
    "\n",
    "dic = defaultdict(int)\n",
    "\n",
    "for i in lst:\n",
    "    dic[i] += 1\n",
    "\n",
    "s_lst = sorted(dic.items())\n",
    "\n",
    "q = int(input())\n",
    "\n",
    "for _ in range(q):\n",
    "    each_query = list(map(int, input().split()))\n",
    "\n",
    "    if each_query[1] <= max_num:\n",
    "        \n",
    "        # linear search an item\n",
    "        index = 0\n",
    "        while each_query[1] > s_lst[index][0]:\n",
    "            index += 1\n",
    "        \n",
    "        count = 0\n",
    "        if each_query[0] == 0:\n",
    "            # greater and equal\n",
    "            for i in range(index, len(s_lst)):\n",
    "                count += s_lst[i][1]\n",
    "            \n",
    "            print(count)\n",
    "        else:\n",
    "            # strictly greater\n",
    "            if each_query[1] == s_lst[index][0]:\n",
    "                for i in range(index+1, len(s_lst)):\n",
    "                    count += s_lst[i][1]\n",
    "            else:\n",
    "                for i in range(index, len(s_lst)):\n",
    "                    count += s_lst[i][1]\n",
    "\n",
    "            print(count)\n",
    "        \n",
    "    else:\n",
    "        print(0)"
   ]
  },
  {
   "cell_type": "code",
   "execution_count": null,
   "metadata": {},
   "outputs": [],
   "source": [
    "# Final Optimization 2"
   ]
  },
  {
   "cell_type": "code",
   "execution_count": 42,
   "metadata": {},
   "outputs": [
    {
     "name": "stdin",
     "output_type": "stream",
     "text": [
      " 5\n",
      " 10 10 10 10 10\n",
      " 5\n",
      " 1 6\n"
     ]
    },
    {
     "name": "stdout",
     "output_type": "stream",
     "text": [
      "5\n"
     ]
    },
    {
     "name": "stdin",
     "output_type": "stream",
     "text": [
      " 1 3\n"
     ]
    },
    {
     "name": "stdout",
     "output_type": "stream",
     "text": [
      "5\n"
     ]
    },
    {
     "name": "stdin",
     "output_type": "stream",
     "text": [
      " 0 5\n"
     ]
    },
    {
     "name": "stdout",
     "output_type": "stream",
     "text": [
      "5\n"
     ]
    },
    {
     "name": "stdin",
     "output_type": "stream",
     "text": [
      " 1 10\n"
     ]
    },
    {
     "name": "stdout",
     "output_type": "stream",
     "text": [
      "0\n"
     ]
    },
    {
     "name": "stdin",
     "output_type": "stream",
     "text": [
      " 0 10\n"
     ]
    },
    {
     "name": "stdout",
     "output_type": "stream",
     "text": [
      "5\n"
     ]
    }
   ],
   "source": [
    "from collections import defaultdict\n",
    "\n",
    "n = int(input())\n",
    "lst = list(map(int, input().split()))\n",
    "\n",
    "max_num = max(lst)\n",
    "\n",
    "dic = defaultdict(int)\n",
    "\n",
    "for i in lst:\n",
    "    dic[i] += 1\n",
    "\n",
    "s_lst = sorted(dic.items())\n",
    "\n",
    "q = int(input())\n",
    "\n",
    "for _ in range(q):\n",
    "    each_query = list(map(int, input().split()))\n",
    "\n",
    "    if each_query[1] <= max_num:\n",
    "        \n",
    "        # optimized search an item\n",
    "        if each_query[1] >= len(s_lst):\n",
    "            index = len(s_lst)-1\n",
    "        else:\n",
    "            index = each_query[1]\n",
    "\n",
    "        while index > 0 and each_query[1] < s_lst[index][0]:\n",
    "            index -= 1\n",
    "        \n",
    "        count = 0\n",
    "        if each_query[0] == 0:\n",
    "            # greater and equal\n",
    "            for i in range(index, len(s_lst)):\n",
    "                count += s_lst[i][1]\n",
    "            \n",
    "            print(count)\n",
    "        else:\n",
    "            # strictly greater\n",
    "            if each_query[1] == s_lst[index][0]:\n",
    "                for i in range(index+1, len(s_lst)):\n",
    "                    count += s_lst[i][1]\n",
    "            else:\n",
    "                for i in range(index, len(s_lst)):\n",
    "                    count += s_lst[i][1]\n",
    "\n",
    "            print(count)\n",
    "        \n",
    "    else:\n",
    "        print(0)"
   ]
  },
  {
   "cell_type": "code",
   "execution_count": 4,
   "metadata": {},
   "outputs": [
    {
     "name": "stdin",
     "output_type": "stream",
     "text": [
      " 4\n",
      " 1 2 3 4\n",
      " 3\n",
      " 0 5\n"
     ]
    },
    {
     "name": "stdout",
     "output_type": "stream",
     "text": [
      "val 4\n",
      "0\n"
     ]
    },
    {
     "name": "stdin",
     "output_type": "stream",
     "text": [
      " 1 3\n"
     ]
    },
    {
     "name": "stdout",
     "output_type": "stream",
     "text": [
      "val 3\n",
      "1\n"
     ]
    },
    {
     "name": "stdin",
     "output_type": "stream",
     "text": [
      " 0 3\n"
     ]
    },
    {
     "name": "stdout",
     "output_type": "stream",
     "text": [
      "val 2\n",
      "2\n"
     ]
    }
   ],
   "source": [
    "def lower_bound(start, end, item):\n",
    "    while start < end:\n",
    "        mid=(start+end)>>1\n",
    "        if(arr[mid]>=item):\n",
    "            end=mid\n",
    "        else:\n",
    "            start=mid+1\n",
    "\n",
    "    return start\n",
    "\n",
    "def upper_bound(start, end, item):\n",
    "    while start < end:\n",
    "        mid=(start+end)>>1\n",
    "        if(arr[mid]<=item):\n",
    "            start=mid+1\n",
    "        else:\n",
    "            end=mid\n",
    "    return start\n",
    "\n",
    "n = int(input())\n",
    "arr = list(map(int, input().split()))\n",
    "q = int(input())\n",
    "arr.sort()\n",
    "\n",
    "for _ in range(q):\n",
    "    each_query = list(map(int, input().split()))\n",
    "    \n",
    "    if each_query[0] == 0:\n",
    "        val = lower_bound(0, n, each_query[1])\n",
    "        print(n-val)\n",
    "    else:\n",
    "        val = upper_bound(0, n, each_query[1])\n",
    "        print(n-val)"
   ]
  },
  {
   "cell_type": "code",
   "execution_count": null,
   "metadata": {},
   "outputs": [],
   "source": [
    "4\n",
    "1 2 3 4\n",
    "3\n",
    "0 5\n",
    "1 3\n",
    "0 3\n",
    "\n",
    "0\n",
    "1\n",
    "2\n",
    "\n",
    "5\n",
    "10 10 10 10 10\n",
    "10\n",
    "1 6\n",
    "1 3\n",
    "0 5\n",
    "1 5\n",
    "1 3\n",
    "0 3\n",
    "0 8\n",
    "1 7\n",
    "0 10\n",
    "1 10\n",
    "\n",
    "5\n",
    "5\n",
    "5\n",
    "5\n",
    "5\n",
    "5\n",
    "5\n",
    "5\n",
    "0"
   ]
  },
  {
   "cell_type": "code",
   "execution_count": null,
   "metadata": {},
   "outputs": [],
   "source": [
    "4\n",
    "1 2 3 4\n",
    "3\n",
    "0 5\n",
    "1 3\n",
    "0 3\n"
   ]
  }
 ],
 "metadata": {
  "kernelspec": {
   "display_name": "Python 3",
   "language": "python",
   "name": "python3"
  },
  "language_info": {
   "codemirror_mode": {
    "name": "ipython",
    "version": 3
   },
   "file_extension": ".py",
   "mimetype": "text/x-python",
   "name": "python",
   "nbconvert_exporter": "python",
   "pygments_lexer": "ipython3",
   "version": "3.7.0"
  }
 },
 "nbformat": 4,
 "nbformat_minor": 2
}
