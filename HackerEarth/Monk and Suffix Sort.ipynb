{
 "cells": [
  {
   "cell_type": "code",
   "execution_count": null,
   "metadata": {},
   "outputs": [],
   "source": [
    "https://www.hackerearth.com/problem/algorithm/monk-and-suffix-sort/"
   ]
  },
  {
   "cell_type": "code",
   "execution_count": null,
   "metadata": {},
   "outputs": [],
   "source": [
    "aacb 3\n",
    "\n",
    "aacb\n",
    "acb\n",
    "b\n",
    "cb\n",
    "\n",
    "b"
   ]
  },
  {
   "cell_type": "code",
   "execution_count": 6,
   "metadata": {},
   "outputs": [
    {
     "name": "stdin",
     "output_type": "stream",
     "text": [
      " aacb 3\n"
     ]
    },
    {
     "name": "stdout",
     "output_type": "stream",
     "text": [
      "['aacb', 'acb', 'cb', 'b']\n",
      "b\n"
     ]
    }
   ],
   "source": [
    "s, k = input().split()\n",
    "k = int(k)\n",
    "\n",
    "l = []\n",
    "for i in range(len(s)):\n",
    "    l.append(s[i:])\n",
    "\n",
    "l.sort()\n",
    "\n",
    "print(l[k-1])"
   ]
  }
 ],
 "metadata": {
  "kernelspec": {
   "display_name": "Python 3",
   "language": "python",
   "name": "python3"
  },
  "language_info": {
   "codemirror_mode": {
    "name": "ipython",
    "version": 3
   },
   "file_extension": ".py",
   "mimetype": "text/x-python",
   "name": "python",
   "nbconvert_exporter": "python",
   "pygments_lexer": "ipython3",
   "version": "3.7.0"
  }
 },
 "nbformat": 4,
 "nbformat_minor": 2
}
