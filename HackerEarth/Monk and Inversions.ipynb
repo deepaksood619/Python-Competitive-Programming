{
 "cells": [
  {
   "cell_type": "markdown",
   "metadata": {},
   "source": [
    "https://www.hackerearth.com/practice/data-structures/arrays/multi-dimensional/practice-problems/algorithm/monk-and-inversions-arrays-strings/"
   ]
  },
  {
   "cell_type": "code",
   "execution_count": null,
   "metadata": {},
   "outputs": [],
   "source": [
    "1 2 3\n",
    "4 5 6\n",
    "7 8 9\n",
    "\n",
    "4 3\n",
    "1 4\n",
    "\n",
    "0\n",
    "2"
   ]
  },
  {
   "cell_type": "code",
   "execution_count": 10,
   "metadata": {},
   "outputs": [
    {
     "name": "stdin",
     "output_type": "stream",
     "text": [
      " 2\n",
      " 2\n",
      " 4 3\n",
      " 1 4\n"
     ]
    },
    {
     "name": "stdout",
     "output_type": "stream",
     "text": [
      "4 3\n",
      "4 1\n",
      "2\n"
     ]
    },
    {
     "name": "stdin",
     "output_type": "stream",
     "text": [
      " 3\n",
      " 1 2 3\n",
      " 4 5 6\n",
      " 7 8 9\n"
     ]
    },
    {
     "name": "stdout",
     "output_type": "stream",
     "text": [
      "0\n"
     ]
    }
   ],
   "source": [
    "T = int(input())\n",
    "\n",
    "for _ in range(T):\n",
    "    n = int(input())\n",
    "\n",
    "    m = []\n",
    "    for i in range(n):\n",
    "        m.append(list(map(int, input().split())))\n",
    "\n",
    "    count = 0\n",
    "\n",
    "    for i in range(n):\n",
    "        for j in range(n):\n",
    "\n",
    "            for k in range(i, n):\n",
    "                for l in range(j, n):\n",
    "                    if m[i][j] > m[k][l]:\n",
    "                        count += 1\n",
    "\n",
    "    print(count)"
   ]
  },
  {
   "cell_type": "code",
   "execution_count": 5,
   "metadata": {},
   "outputs": [
    {
     "name": "stdout",
     "output_type": "stream",
     "text": [
      "4 3 \n",
      "1 4 \n",
      "9 3\n",
      "9 1\n",
      "2\n"
     ]
    }
   ],
   "source": [
    "n = 3\n",
    "m = [[1,2,3],[4,5,6],[7,8,9]]\n",
    "\n",
    "n = 2\n",
    "m = [[4,3],[1,4]]\n",
    "\n",
    "\n",
    "count = 0\n",
    "\n",
    "for i in range(n):\n",
    "    for j in range(n):\n",
    "        \n",
    "        for k in range(i, n):\n",
    "            for l in range(j, n):\n",
    "                if m[i][j] > m[k][l]:\n",
    "                    count += 1\n",
    "                    print(check, m[k][l])\n",
    "\n",
    "print(count)"
   ]
  }
 ],
 "metadata": {
  "kernelspec": {
   "display_name": "Python 3",
   "language": "python",
   "name": "python3"
  },
  "language_info": {
   "codemirror_mode": {
    "name": "ipython",
    "version": 3
   },
   "file_extension": ".py",
   "mimetype": "text/x-python",
   "name": "python",
   "nbconvert_exporter": "python",
   "pygments_lexer": "ipython3",
   "version": "3.7.0"
  }
 },
 "nbformat": 4,
 "nbformat_minor": 2
}
