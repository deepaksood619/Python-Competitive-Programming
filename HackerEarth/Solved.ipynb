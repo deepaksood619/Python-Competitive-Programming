{
 "cells": [
  {
   "cell_type": "code",
   "execution_count": 1,
   "metadata": {},
   "outputs": [
    {
     "name": "stdout",
     "output_type": "stream",
     "text": [
      "defaultdict(<class 'int'>, {'key': 1})\n",
      "{'key': 1}\n"
     ]
    }
   ],
   "source": [
    "from collections import defaultdict\n",
    "dic = defaultdict(int)\n",
    "dic['key'] += 1\n",
    "print(str(dic))\n",
    "\n",
    "dic2 = {}\n",
    "dic2['key'] = 1\n",
    "print(str(dic2))"
   ]
  },
  {
   "cell_type": "code",
   "execution_count": 2,
   "metadata": {},
   "outputs": [
    {
     "name": "stdout",
     "output_type": "stream",
     "text": [
      "3\n",
      "1 2 1\n",
      "Yes\n"
     ]
    }
   ],
   "source": [
    "# tree or graph, order of a tree = 2*(n-1) where n = num of vertices\n",
    "n = int(input())\n",
    "x = list(map(int, input().split()))\n",
    "y = sum(x)\n",
    "if (y == 2*(n-1)):\n",
    "    print('Yes')\n",
    "else:\n",
    "    print('No')"
   ]
  },
  {
   "cell_type": "code",
   "execution_count": 3,
   "metadata": {},
   "outputs": [
    {
     "name": "stdout",
     "output_type": "stream",
     "text": [
      "1000000\n",
      "1\n",
      "Sorry, sorry!\n"
     ]
    }
   ],
   "source": [
    "num=input()\n",
    "print(num.find(\"000000\"))\n",
    "if(num.find(\"000000\")==-1 and num.find(\"111111\")==-1):\n",
    "    print (\"Good luck!\")\n",
    "else:\n",
    "    print (\"Sorry, sorry!\")"
   ]
  },
  {
   "cell_type": "code",
   "execution_count": 4,
   "metadata": {},
   "outputs": [
    {
     "name": "stdout",
     "output_type": "stream",
     "text": [
      "1000000\n",
      "Sorry, sorry!\n"
     ]
    }
   ],
   "source": [
    "num = input()\n",
    "print ('Sorry, sorry!' if '000000' in num or '111111' in num else 'Good luck!')"
   ]
  },
  {
   "cell_type": "code",
   "execution_count": 13,
   "metadata": {},
   "outputs": [
    {
     "name": "stdout",
     "output_type": "stream",
     "text": [
      "1\n",
      "50 100 50\n",
      "1750\n"
     ]
    }
   ],
   "source": [
    "t = int(input())\n",
    "for _ in range(t):\n",
    "    x, y, n = map(int, input().split())\n",
    "    res = x + y\n",
    "    for i in range(2, n):\n",
    "        val = abs(x - y)\n",
    "        res += val\n",
    "        x = y\n",
    "        y = val\n",
    "    print(res)"
   ]
  },
  {
   "cell_type": "code",
   "execution_count": 17,
   "metadata": {},
   "outputs": [
    {
     "ename": "ValueError",
     "evalue": "stmt is neither a string nor callable",
     "output_type": "error",
     "traceback": [
      "\u001b[0;31m---------------------------------------------------------------------------\u001b[0m",
      "\u001b[0;31mValueError\u001b[0m                                Traceback (most recent call last)",
      "\u001b[0;32m<ipython-input-17-8cf049b84a2f>\u001b[0m in \u001b[0;36m<module>\u001b[0;34m()\u001b[0m\n\u001b[1;32m     10\u001b[0m         \u001b[0my\u001b[0m \u001b[0;34m=\u001b[0m \u001b[0mval\u001b[0m\u001b[0;34m\u001b[0m\u001b[0m\n\u001b[1;32m     11\u001b[0m \u001b[0;34m\u001b[0m\u001b[0m\n\u001b[0;32m---> 12\u001b[0;31m \u001b[0mtimeit\u001b[0m\u001b[0;34m.\u001b[0m\u001b[0mtimeit\u001b[0m\u001b[0;34m(\u001b[0m\u001b[0mans\u001b[0m\u001b[0;34m(\u001b[0m\u001b[0;34m)\u001b[0m\u001b[0;34m,\u001b[0m \u001b[0mnumber\u001b[0m\u001b[0;34m=\u001b[0m\u001b[0;36m1000\u001b[0m\u001b[0;34m)\u001b[0m\u001b[0;34m\u001b[0m\u001b[0m\n\u001b[0m",
      "\u001b[0;32m/usr/local/Cellar/python3/3.6.4/Frameworks/Python.framework/Versions/3.6/lib/python3.6/timeit.py\u001b[0m in \u001b[0;36mtimeit\u001b[0;34m(stmt, setup, timer, number, globals)\u001b[0m\n\u001b[1;32m    231\u001b[0m            number=default_number, globals=None):\n\u001b[1;32m    232\u001b[0m     \u001b[0;34m\"\"\"Convenience function to create Timer object and call timeit method.\"\"\"\u001b[0m\u001b[0;34m\u001b[0m\u001b[0m\n\u001b[0;32m--> 233\u001b[0;31m     \u001b[0;32mreturn\u001b[0m \u001b[0mTimer\u001b[0m\u001b[0;34m(\u001b[0m\u001b[0mstmt\u001b[0m\u001b[0;34m,\u001b[0m \u001b[0msetup\u001b[0m\u001b[0;34m,\u001b[0m \u001b[0mtimer\u001b[0m\u001b[0;34m,\u001b[0m \u001b[0mglobals\u001b[0m\u001b[0;34m)\u001b[0m\u001b[0;34m.\u001b[0m\u001b[0mtimeit\u001b[0m\u001b[0;34m(\u001b[0m\u001b[0mnumber\u001b[0m\u001b[0;34m)\u001b[0m\u001b[0;34m\u001b[0m\u001b[0m\n\u001b[0m\u001b[1;32m    234\u001b[0m \u001b[0;34m\u001b[0m\u001b[0m\n\u001b[1;32m    235\u001b[0m def repeat(stmt=\"pass\", setup=\"pass\", timer=default_timer,\n",
      "\u001b[0;32m/usr/local/Cellar/python3/3.6.4/Frameworks/Python.framework/Versions/3.6/lib/python3.6/timeit.py\u001b[0m in \u001b[0;36m__init__\u001b[0;34m(self, stmt, setup, timer, globals)\u001b[0m\n\u001b[1;32m    128\u001b[0m             \u001b[0mstmt\u001b[0m \u001b[0;34m=\u001b[0m \u001b[0;34m'_stmt()'\u001b[0m\u001b[0;34m\u001b[0m\u001b[0m\n\u001b[1;32m    129\u001b[0m         \u001b[0;32melse\u001b[0m\u001b[0;34m:\u001b[0m\u001b[0;34m\u001b[0m\u001b[0m\n\u001b[0;32m--> 130\u001b[0;31m             \u001b[0;32mraise\u001b[0m \u001b[0mValueError\u001b[0m\u001b[0;34m(\u001b[0m\u001b[0;34m\"stmt is neither a string nor callable\"\u001b[0m\u001b[0;34m)\u001b[0m\u001b[0;34m\u001b[0m\u001b[0m\n\u001b[0m\u001b[1;32m    131\u001b[0m         \u001b[0msrc\u001b[0m \u001b[0;34m=\u001b[0m \u001b[0mtemplate\u001b[0m\u001b[0;34m.\u001b[0m\u001b[0mformat\u001b[0m\u001b[0;34m(\u001b[0m\u001b[0mstmt\u001b[0m\u001b[0;34m=\u001b[0m\u001b[0mstmt\u001b[0m\u001b[0;34m,\u001b[0m \u001b[0msetup\u001b[0m\u001b[0;34m=\u001b[0m\u001b[0msetup\u001b[0m\u001b[0;34m,\u001b[0m \u001b[0minit\u001b[0m\u001b[0;34m=\u001b[0m\u001b[0minit\u001b[0m\u001b[0;34m)\u001b[0m\u001b[0;34m\u001b[0m\u001b[0m\n\u001b[1;32m    132\u001b[0m         \u001b[0mself\u001b[0m\u001b[0;34m.\u001b[0m\u001b[0msrc\u001b[0m \u001b[0;34m=\u001b[0m \u001b[0msrc\u001b[0m  \u001b[0;31m# Save for traceback display\u001b[0m\u001b[0;34m\u001b[0m\u001b[0m\n",
      "\u001b[0;31mValueError\u001b[0m: stmt is neither a string nor callable"
     ]
    }
   ],
   "source": [
    "import timeit\n",
    "\n",
    "def ans():\n",
    "    x, y, n = 50,100,50\n",
    "    res = x + y\n",
    "    for i in range(2, n):\n",
    "        val = abs(x - y)\n",
    "        res += val\n",
    "        x = y\n",
    "        y = val\n",
    "    \n",
    "timeit.timeit(ans(), number=1000)"
   ]
  },
  {
   "cell_type": "code",
   "execution_count": 10,
   "metadata": {},
   "outputs": [
    {
     "data": {
      "text/plain": [
       "0.3501259259937797"
      ]
     },
     "execution_count": 10,
     "metadata": {},
     "output_type": "execute_result"
    }
   ],
   "source": [
    "import timeit\n",
    "timeit.timeit('\"-\".join(str(n) for n in range(100))', number=10000)"
   ]
  },
  {
   "cell_type": "code",
   "execution_count": 29,
   "metadata": {},
   "outputs": [
    {
     "name": "stdout",
     "output_type": "stream",
     "text": [
      "1.1920055840164423e-06\n"
     ]
    }
   ],
   "source": [
    "# importing the required module\n",
    "import timeit\n",
    " \n",
    "# code snippet whose execution time is to be measured\n",
    "mycode = '''\n",
    "def ans():\n",
    "    x, y, n = 1000000000,999999999,1000000000\n",
    "    res = x + y\n",
    "    for i in range(2, n):\n",
    "        val = abs(x - y)\n",
    "        res += val\n",
    "        x = y\n",
    "        y = val\n",
    "    print(res)\n",
    "'''\n",
    " \n",
    "# timeit statement\n",
    "print(timeit.timeit(stmt = mycode,\n",
    "                    number = 1))"
   ]
  },
  {
   "cell_type": "code",
   "execution_count": 2,
   "metadata": {},
   "outputs": [
    {
     "name": "stdout",
     "output_type": "stream",
     "text": [
      "1\n",
      "11:00 AM\n",
      "12:00 AM\n",
      "p: 660\n",
      "now: 1\n",
      "2\n"
     ]
    }
   ],
   "source": [
    "def solve(p):\n",
    "    p=p//60\n",
    " \n",
    "    if 18>p>6:\n",
    "        return 1+ abs(12-p)\n",
    "    else:\n",
    "        return min(p,24-p)\n",
    "    return p\n",
    "t = int(input())\n",
    "for _ in range(t):\n",
    "    a=input()\n",
    "    b=input()\n",
    "    h1=int(a[0:2])\n",
    "    h2=int(b[0:2])\n",
    "    m1=int(a[3:5])\n",
    "    m2=int(b[3:5])\n",
    "    if h1==12: h1=0\n",
    "    if h2==12: h2=0\n",
    "    if a[-2:]==\"pm\": h1 +=12\n",
    "    if b[-2:]==\"pm\": h2 +=12\n",
    "    t1= h1*60 + m1\n",
    "    t2= h2*60 + m2\n",
    "    p=abs(t2-t1)\n",
    "    print(\"p:\",p)\n",
    " \n",
    "    g=0\n",
    "    if(p%60>=30):\n",
    "        g+=60-p%60\n",
    "        if(p%60>30):\n",
    "            p+=60-p%60\n",
    "        else:\n",
    "            g=30\n",
    "            if solve(p+30) > solve(p-30):\n",
    "                p-=30\n",
    "            else:\n",
    "                p+=30\n",
    "    else:\n",
    "        g+=p%60\n",
    "        p-=p%60\n",
    " \n",
    "    p=p//60\n",
    " \n",
    "    if 18>p>6:\n",
    "        g+=1\n",
    "        p=abs(12-p)\n",
    "        print(\"now:\", p)\n",
    "    else:\n",
    "        p=min(p,24-p)\n",
    "    g+=p\n",
    "    print(g)"
   ]
  }
 ],
 "metadata": {
  "kernelspec": {
   "display_name": "Python 3",
   "language": "python",
   "name": "python3"
  },
  "language_info": {
   "codemirror_mode": {
    "name": "ipython",
    "version": 3
   },
   "file_extension": ".py",
   "mimetype": "text/x-python",
   "name": "python",
   "nbconvert_exporter": "python",
   "pygments_lexer": "ipython3",
   "version": "3.6.4"
  }
 },
 "nbformat": 4,
 "nbformat_minor": 2
}
