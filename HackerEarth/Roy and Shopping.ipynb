{
 "cells": [
  {
   "cell_type": "code",
   "execution_count": null,
   "metadata": {},
   "outputs": [],
   "source": [
    "n = int(input())\n",
    "lst = []\n",
    "for _ in range(n):\n",
    "    r = int(input())\n",
    "    lst.append(r)\n",
    "    \n",
    "print(lst)\n",
    "x = max(lst)\n",
    "print(x)\n",
    "\n",
    "sie = [-1]*(x+1)\n",
    "def sieve(x):\n",
    "    for i in range(2, x+1):\n",
    "        if sie[2] == -1\n",
    "    \n",
    "sieve(x)"
   ]
  },
  {
   "cell_type": "code",
   "execution_count": 2,
   "metadata": {},
   "outputs": [
    {
     "name": "stdout",
     "output_type": "stream",
     "text": [
      "2\n",
      "5\n",
      "0\n",
      "10\n",
      "8\n"
     ]
    }
   ],
   "source": [
    "# not using sieve of erasthones\n",
    "\n",
    "def min_prime_factor(x):\n",
    "    for i in range(2, x+1):\n",
    "        if (x%i == 0):\n",
    "            return i;\n",
    "\n",
    "n = int(input())\n",
    "for _ in range(n):\n",
    "    r = int(input())\n",
    "    marian_share = min_prime_factor(r);\n",
    "    print(r - marian_share)"
   ]
  },
  {
   "cell_type": "code",
   "execution_count": null,
   "metadata": {},
   "outputs": [],
   "source": [
    "# calculating all prime factors till max of all numbers\n",
    "# saving in list and only checking division by that numbers\n",
    "\n",
    "def sieve(x):\n",
    "    prime = [True]*(x+1)\n",
    "    \n",
    "    for i in range(2, x+1):\n",
    "        if (prime[i]):\n",
    "            for j in range(i+i, x+1, i):\n",
    "                prime[j] = False\n",
    "                \n",
    "    return prime\n",
    "    \n",
    "n = int(input())\n",
    "lst = []\n",
    "for _ in range(n):\n",
    "    lst.append(int(input()))\n",
    "\n",
    "maximum = max(lst)\n",
    "sie = sieve(maximum)\n",
    "prime_lst = []\n",
    "\n",
    "for i in range(2, maximum+1):\n",
    "    if (sie[i]):\n",
    "        prime_lst.append(i)\n",
    "        \n",
    "\n",
    "def min_prime(x, prime_lst):\n",
    "    for i in prime_lst:\n",
    "        if x%i == 0:\n",
    "            return i\n",
    "    return x\n",
    "\n",
    "for i in lst:\n",
    "    print(i - min_prime(i, prime_lst))"
   ]
  },
  {
   "cell_type": "code",
   "execution_count": 26,
   "metadata": {},
   "outputs": [
    {
     "name": "stdout",
     "output_type": "stream",
     "text": [
      "2\n",
      "5\n",
      "10\n",
      "[0, 1, 2, 3, 2, 5, 2, 7, 2, 9, 2]\n",
      "[0, 1, 2, 3, 2, 5, 2, 7, 2, 3, 2]\n",
      "[0, 1, 2, 3, 2, 5, 2, 7, 2, 3, 2]\n",
      "[0, 1, 2, 3, 2, 5, 2, 7, 2, 3, 2]\n",
      "[0, 1, 2, 3, 2, 5, 2, 7, 2, 3, 2]\n",
      "0\n",
      "8\n"
     ]
    }
   ],
   "source": [
    "# calculating all prime factors till max of all numbers\n",
    "# saving in list and only checking division by that numbers\n",
    "\n",
    "# IMP: saving the least prime of each number in seive itself\n",
    "\n",
    "def sieve(x):\n",
    "    prime = [i for i in range(0, x+1)]\n",
    "    \n",
    "    for i in range(2, x+1):\n",
    "        if (prime[i] == i):\n",
    "            for j in range(i+i, x+1, i):\n",
    "                if (prime[j] == j):\n",
    "                    prime[j] = i\n",
    "                \n",
    "    return prime\n",
    "    \n",
    "n = int(input())\n",
    "lst = []\n",
    "for _ in range(n):\n",
    "    lst.append(int(input()))\n",
    "\n",
    "maximum = max(lst)\n",
    "sie = sieve(maximum)\n",
    "print(sie)\n",
    "\n",
    "for i in lst:\n",
    "    print(i - sie[i])"
   ]
  }
 ],
 "metadata": {
  "kernelspec": {
   "display_name": "Python 3",
   "language": "python",
   "name": "python3"
  },
  "language_info": {
   "codemirror_mode": {
    "name": "ipython",
    "version": 3
   },
   "file_extension": ".py",
   "mimetype": "text/x-python",
   "name": "python",
   "nbconvert_exporter": "python",
   "pygments_lexer": "ipython3",
   "version": "3.6.4"
  }
 },
 "nbformat": 4,
 "nbformat_minor": 2
}
