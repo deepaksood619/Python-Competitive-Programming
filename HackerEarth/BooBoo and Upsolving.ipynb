{
 "cells": [
  {
   "cell_type": "markdown",
   "metadata": {},
   "source": [
    "https://www.geeksforgeeks.org/split-the-given-array-into-k-sub-arrays-such-that-maximum-sum-of-all-sub-arrays-is-minimum/\n",
    "\n",
    "\n",
    "    \n",
    "5 3\n",
    "1 2 2 1 3\n",
    "\n",
    "3"
   ]
  },
  {
   "cell_type": "code",
   "execution_count": 2,
   "metadata": {},
   "outputs": [
    {
     "name": "stdout",
     "output_type": "stream",
     "text": [
      "4\n"
     ]
    }
   ],
   "source": [
    "# Function to check if mid can \n",
    "# be maximum sub - arrays sum \n",
    "def check(mid, array, n, K): \n",
    "    count = 0\n",
    "    sum = 0\n",
    "    for i in range(n): \n",
    "          \n",
    "        # If individual element is greater \n",
    "        # maximum possible sum \n",
    "        if (array[i] > mid): \n",
    "            return False\n",
    "  \n",
    "        # Increase sum of current sub - array \n",
    "        sum += array[i] \n",
    "  \n",
    "        # If the sum is greater than  \n",
    "        # mid increase count \n",
    "        if (sum > mid): \n",
    "            count += 1\n",
    "            sum = array[i] \n",
    "    count += 1\n",
    "  \n",
    "    # Check condition \n",
    "    if (count <= K): \n",
    "        return True\n",
    "    return False\n",
    "  \n",
    "# Function to find maximum subarray sum \n",
    "# which is minimum \n",
    "def solve(array, n, K): \n",
    "    start = 1\n",
    "    end = 0\n",
    "  \n",
    "    for i in range(n): \n",
    "        end += array[i] \n",
    "  \n",
    "    # Answer stores possible  \n",
    "    # maximum sub array sum \n",
    "    answer = 0\n",
    "    while (start <= end): \n",
    "        mid = (start + end) // 2\n",
    "  \n",
    "        # If mid is possible solution \n",
    "        # Put answer = mid; \n",
    "        if (check(mid, array, n, K)): \n",
    "            answer = mid \n",
    "            end = mid - 1\n",
    "        else: \n",
    "            start = mid + 1\n",
    "  \n",
    "    return answer"
   ]
  },
  {
   "cell_type": "code",
   "execution_count": 7,
   "metadata": {},
   "outputs": [],
   "source": [
    "assert solve([1,2,3,4], 4, 3) == 4\n",
    "assert solve([1, 2, 2, 1, 3], 5, 3) == 3\n",
    "assert solve([4,4,4,4,4], 5, 3) == 8\n",
    "assert solve([5,3,6,4,2], 5, 3) == 8"
   ]
  },
  {
   "cell_type": "code",
   "execution_count": null,
   "metadata": {},
   "outputs": [],
   "source": [
    "def check(mid, array, n, k):\n",
    "    count = 0\n",
    "    sum_t = 0\n",
    "    \n",
    "    for i in array:\n",
    "        if i > mid:\n",
    "            return False\n",
    "            \n",
    "        sum_t += i\n",
    "        \n",
    "        if sum_t > mid:\n",
    "            count += 1\n",
    "            sum_t = i\n",
    "    \n",
    "    count += 1\n",
    "    \n",
    "    if count <= k:\n",
    "        return True\n",
    "        \n",
    "    return False\n",
    "    \n",
    "def solve(array, n, k):\n",
    "    start = 1\n",
    "    end = 0\n",
    "    \n",
    "    for i in array:\n",
    "        end += i\n",
    "        \n",
    "    ans = 0\n",
    "    \n",
    "    while start <= end:\n",
    "        mid = (start+end)//2\n",
    "        \n",
    "        if check(mid, array, n, k):\n",
    "            ans = mid\n",
    "            end = mid - 1\n",
    "        else:\n",
    "            start = mid + 1\n",
    "            \n",
    "    return ans\n",
    "    \n",
    "n, k = map(int, input().split())\n",
    "lst = list(map(int, input().split()))\n",
    "print(solve(lst, n, k))"
   ]
  }
 ],
 "metadata": {
  "kernelspec": {
   "display_name": "Python 3",
   "language": "python",
   "name": "python3"
  },
  "language_info": {
   "codemirror_mode": {
    "name": "ipython",
    "version": 3
   },
   "file_extension": ".py",
   "mimetype": "text/x-python",
   "name": "python",
   "nbconvert_exporter": "python",
   "pygments_lexer": "ipython3",
   "version": "3.7.0"
  }
 },
 "nbformat": 4,
 "nbformat_minor": 4
}
