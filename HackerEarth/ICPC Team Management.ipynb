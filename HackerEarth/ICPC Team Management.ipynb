{
 "cells": [
  {
   "cell_type": "markdown",
   "metadata": {},
   "source": [
    "n - number of students\n",
    "\n",
    "divide in camps of k students\n",
    "\n",
    "length of names of all the students are equal\n",
    "\n",
    "T - number of test cases\n",
    "\n",
    "n, k - total students, number of students in each camp\n",
    "\n",
    "n lines - names of all students\n",
    "\n",
    "Possible/ Not possible"
   ]
  },
  {
   "cell_type": "code",
   "execution_count": null,
   "metadata": {},
   "outputs": [],
   "source": [
    "t = int(input())\n",
    "for _ in range(t):\n",
    "    n, k = map(int, input().split())\n",
    "    dic = {}\n",
    "    for __ in range(n):\n",
    "        val = len(input())\n",
    "        if val in dic:\n",
    "            dic[val] = dic[val] + 1\n",
    "        else:\n",
    "            dic[val] = 1\n",
    "    ans = True\n",
    "    for key, value in dic.items():\n",
    "        if value%k != 0:\n",
    "            ans = False\n",
    "            break\n",
    "    if ans:\n",
    "        print('Possible')\n",
    "    else:\n",
    "        print('Not possible')"
   ]
  },
  {
   "cell_type": "code",
   "execution_count": null,
   "metadata": {},
   "outputs": [],
   "source": [
    "# Best submission\n",
    "tc = int(raw_input())\n",
    "assert(tc>0 and tc<51)\n",
    "for i in xrange(tc):\n",
    "\tn, k = map(int, raw_input().split())\n",
    "\tl = [0]*1000\n",
    "\tok = True\n",
    "\tassert(n>0 and n<1001)\n",
    "\tassert(k>0 and k<1001)\n",
    "\tassert(n>=k)\n",
    "\tassert(n%k==0)\n",
    "\tfor j in xrange(n):\n",
    "\t\ta = raw_input()\n",
    "\t\tl[len(a)] +=1\n",
    "\tfor z in l:\n",
    "\t\tif z%k!=0:\n",
    "\t\t\tok = False\n",
    "\t\t\tbreak\n",
    "\tif (ok):\n",
    "\t\tprint \"Possible\"\n",
    "\telse:\n",
    "\t\tprint \"Not possible\""
   ]
  }
 ],
 "metadata": {
  "kernelspec": {
   "display_name": "Python 3",
   "language": "python",
   "name": "python3"
  },
  "language_info": {
   "codemirror_mode": {
    "name": "ipython",
    "version": 3
   },
   "file_extension": ".py",
   "mimetype": "text/x-python",
   "name": "python",
   "nbconvert_exporter": "python",
   "pygments_lexer": "ipython3",
   "version": "3.6.4"
  }
 },
 "nbformat": 4,
 "nbformat_minor": 2
}
