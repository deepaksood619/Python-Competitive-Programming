{
 "cells": [
  {
   "cell_type": "code",
   "execution_count": 34,
   "metadata": {},
   "outputs": [],
   "source": [
    "def getTimeUtil(x1, x2, y1, y2, v):\n",
    "    return ((((x2 - x1) * (x2 - x1)) + ((y2 - y1) * (y2 - y1))) ** 0.5) / v\n",
    " \n",
    " \n",
    "def getTime(xcross, ycross, v1, v2, x1, x2, y1, y2):\n",
    "    return getTimeUtil(x1, xcross, y1, 0, v1) + getTimeUtil(xcross, x2, 0, y2, v2)\n",
    " \n",
    "def func(x1, y1, x2, y2, v1, v2):\n",
    "    # UniModal function\n",
    "    if x1 > x2:\n",
    "        x1, x2 = x2, x1\n",
    "    res, a, b = 10**9, x1, x2\n",
    " \n",
    "    while a <= b:\n",
    "        if a == b:\n",
    "            res = min([res, getTime(a, 0, v1, v2, x1, x2, y1, y2)])\n",
    "            break\n",
    "        # Doing a Ternary Search\n",
    "        m1 = a + (b - a) / 3\n",
    "        m2 = b - (b - a) / 3\n",
    "        time1 = getTime(m1, 0, v1, v2, x1, x2, y1, y2)\n",
    "        time2 = getTime(m2, 0, v1, v2, x1, x2, y1, y2)\n",
    " \n",
    "        if time1 > time2:\n",
    "            res = min([res, time2])\n",
    "            a = m1 + 1\n",
    "        elif time1 < time2:\n",
    "            res = min([res, time1])\n",
    "            b = m2 - 1\n",
    "        else:\n",
    "            res = min([res, time1])\n",
    "            a = m1 + 1\n",
    "            b = m2 - 1\n",
    " \n",
    "    # print('res is', res)\n",
    "    return '{0:.5f}'.format(res)\n",
    " "
   ]
  },
  {
   "cell_type": "code",
   "execution_count": 18,
   "metadata": {},
   "outputs": [],
   "source": [
    "import math\n",
    "\n",
    "def calc_dist(x1, y1, x2, y2):\n",
    "    return math.sqrt((x2-x1)**2 + (y2-y1)**2)\n",
    "\n",
    "def calc_time(dist_land, dist_sea, v1, v2):\n",
    "    return dist_sea/v2 + dist_land/v1\n",
    "\n",
    "def func(x1, y1, x2, y2, v1, v2):\n",
    "    x_intercept = ((-y1*(x2-x1))/(y2-y1)) + x1\n",
    "    \n",
    "    # direct a to b\n",
    "    dist_sea = calc_dist(x2, y2, x_intercept, 0)\n",
    "    dist_land = calc_dist(x_intercept, 0, x1, y1)\n",
    "    total_time_direct = calc_time(dist_land, dist_sea, v1, v2)\n",
    "    print(dist_sea, dist_land, total_time_direct)\n",
    "    \n",
    "    # maximize land\n",
    "    dist_sea = calc_dist(x2, y2, x2, 0)\n",
    "    dist_land = calc_dist(x2, 0, x1, y1)\n",
    "    total_time_max_land = calc_time(dist_land, dist_sea, v1, v2)\n",
    "    print(dist_sea, dist_land, total_time_max_land)\n",
    "    \n",
    "    # maximize sea\n",
    "    dist_sea = calc_dist(x2, y2, x1, 0)\n",
    "    dist_land = calc_dist(x1, 0, x1, y1)\n",
    "    total_time_max_sea = calc_time(dist_land, dist_sea, v1, v2)\n",
    "    print(dist_sea, dist_land, total_time_max_sea)\n",
    "    \n",
    "    min_time = min(total_time_direct, total_time_max_land, total_time_max_sea)\n",
    "    \n",
    "    return '{:.5f}'.format(min_time)\n",
    "    "
   ]
  },
  {
   "cell_type": "code",
   "execution_count": 38,
   "metadata": {},
   "outputs": [
    {
     "name": "stdout",
     "output_type": "stream",
     "text": [
      "5.50487\n",
      "40.37644\n",
      "1.78909\n",
      "0.98573\n",
      "1.38686\n",
      "3.13545\n"
     ]
    }
   ],
   "source": [
    "print(func(3, -20, 6, 25, 40, 5))\n",
    "print(func(100, -100, -100, 100, 10, 5))\n",
    "print(func(-5,-4,5,4,10,5))\n",
    "print(func(-3,-2,3,2,10,5))\n",
    "print(func(-4,-3,4,3,10,5))\n",
    "#0 -1 4 2 1 2\n",
    "print(func(0,-1,4,2,1,2))"
   ]
  },
  {
   "cell_type": "code",
   "execution_count": 39,
   "metadata": {},
   "outputs": [],
   "source": [
    "assert func(3, -20, 3, 25, 40, 5) == '5.50000'\n",
    "assert func(-4, -3, 4, 3, 10, 5) == '1.38686'"
   ]
  }
 ],
 "metadata": {
  "kernelspec": {
   "display_name": "Python 3",
   "language": "python",
   "name": "python3"
  },
  "language_info": {
   "codemirror_mode": {
    "name": "ipython",
    "version": 3
   },
   "file_extension": ".py",
   "mimetype": "text/x-python",
   "name": "python",
   "nbconvert_exporter": "python",
   "pygments_lexer": "ipython3",
   "version": "3.7.0"
  }
 },
 "nbformat": 4,
 "nbformat_minor": 4
}
