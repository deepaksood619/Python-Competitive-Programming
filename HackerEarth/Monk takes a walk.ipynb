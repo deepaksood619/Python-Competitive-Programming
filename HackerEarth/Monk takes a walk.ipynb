{
 "cells": [
  {
   "cell_type": "code",
   "execution_count": null,
   "metadata": {},
   "outputs": [],
   "source": [
    "2\n",
    "nBBZLaosnm\n",
    "JHkIsnZtTL"
   ]
  },
  {
   "cell_type": "code",
   "execution_count": 5,
   "metadata": {},
   "outputs": [],
   "source": [
    "vowels = 'aAeEiIoOuU'\n",
    "def count_v(s):\n",
    "    count = 0\n",
    "    for c in s:\n",
    "        if c in vowels:\n",
    "            count += 1\n",
    "\n",
    "    return count"
   ]
  },
  {
   "cell_type": "code",
   "execution_count": 8,
   "metadata": {},
   "outputs": [],
   "source": [
    "assert(count_v('nBBZLaosnm') == 2)\n",
    "assert(count_v('JHkIsnZtTL') == 1)"
   ]
  },
  {
   "cell_type": "code",
   "execution_count": null,
   "metadata": {},
   "outputs": [],
   "source": [
    "T = int(input())\n",
    "\n",
    "vowels = 'aAeEiIoOuU'\n",
    "\n",
    "for _ in range(T):\n",
    "    s = input()\n",
    "    \n",
    "    count = 0\n",
    "    for c in s:\n",
    "        if c in vowels:\n",
    "            count += 1\n",
    "    \n",
    "    print(count)"
   ]
  }
 ],
 "metadata": {
  "kernelspec": {
   "display_name": "Python 3",
   "language": "python",
   "name": "python3"
  },
  "language_info": {
   "codemirror_mode": {
    "name": "ipython",
    "version": 3
   },
   "file_extension": ".py",
   "mimetype": "text/x-python",
   "name": "python",
   "nbconvert_exporter": "python",
   "pygments_lexer": "ipython3",
   "version": "3.7.0"
  }
 },
 "nbformat": 4,
 "nbformat_minor": 2
}
