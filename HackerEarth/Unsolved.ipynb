{
 "cells": [
  {
   "cell_type": "markdown",
   "metadata": {},
   "source": [
    " a - acceleration/deceleration\n",
    " v - maximum speed\n",
    " l - road length km\n",
    " d - limiting speed sign placement from end \n",
    " w - limiting speed\n",
    "(radiator springs)\n",
    " from california to radiator spring\n",
    " \n",
    " ex-\n",
    " a - 1, v - 1, L - 2 km, d - 1, w = 3km/hr"
   ]
  },
  {
   "cell_type": "code",
   "execution_count": 2,
   "metadata": {},
   "outputs": [
    {
     "name": "stdout",
     "output_type": "stream",
     "text": [
      "1 1\n",
      "2 1 3\n",
      "0.5\n",
      "1.5\n",
      "2.0\n"
     ]
    }
   ],
   "source": [
    "x, y = map(int, input().split())\n",
    "l, d, w = map(int, input().split())\n",
    "\n",
    "t = y / x\n",
    "s = 0.5 * x * t * t\n",
    "print (s)\n",
    "if s <= l:\n",
    "    r1 = l - s\n",
    "    t1 = r1 / y\n",
    "    print(t1)\n",
    "    print(s + t1)"
   ]
  }
 ],
 "metadata": {
  "kernelspec": {
   "display_name": "Python 3",
   "language": "python",
   "name": "python3"
  },
  "language_info": {
   "codemirror_mode": {
    "name": "ipython",
    "version": 3
   },
   "file_extension": ".py",
   "mimetype": "text/x-python",
   "name": "python",
   "nbconvert_exporter": "python",
   "pygments_lexer": "ipython3",
   "version": "3.6.4"
  }
 },
 "nbformat": 4,
 "nbformat_minor": 2
}
