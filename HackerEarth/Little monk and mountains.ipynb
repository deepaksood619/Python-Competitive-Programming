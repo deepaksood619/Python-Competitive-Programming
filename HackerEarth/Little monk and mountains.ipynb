{
 "cells": [
  {
   "cell_type": "code",
   "execution_count": 14,
   "metadata": {},
   "outputs": [
    {
     "name": "stdin",
     "output_type": "stream",
     "text": [
      " 3 3\n",
      " 1 10\n",
      " 11 20\n",
      " 21 30\n",
      " 5\n",
      " 15\n",
      " 25\n"
     ]
    },
    {
     "name": "stdout",
     "output_type": "stream",
     "text": [
      "5\n",
      "15\n",
      "25\n"
     ]
    }
   ],
   "source": [
    "n, q = map(int, input().split())\n",
    "\n",
    "mon = []\n",
    "for _ in range(n):\n",
    "    mon.append(list(map(int, input().split())))\n",
    "\n",
    "que = []\n",
    "for _ in range(q):\n",
    "    que.append(int(input()))\n",
    "\n",
    "lst = []\n",
    "\n",
    "count = 0\n",
    "for m in mon:\n",
    "    count += 1\n",
    "    lst.append((count,m[0]))\n",
    "    count += m[1] - m[0]\n",
    "    lst.append((count, m[1]))\n",
    "    \n",
    "def lower_bound(arr, left, n, key):\n",
    "    right = n\n",
    "    mid = 0\n",
    "    while left < right:\n",
    "        mid = (left+right)>>1\n",
    "        \n",
    "        # check if key is present at mid\n",
    "        if arr[mid][0] == key:\n",
    "            break\n",
    "        \n",
    "        # if key is smaller, ignore right half\n",
    "        elif arr[mid][0] > key:\n",
    "            right = mid\n",
    "        \n",
    "        # if key is greater, ignore left half\n",
    "        else:\n",
    "            left = mid+1\n",
    "            \n",
    "    # if key is not found in array then it will be before mid\n",
    "    while(mid > -1 and arr[mid][0] > key):\n",
    "        mid -= 1\n",
    "        \n",
    "    # return mid+1 because of 0-based indexing of array\n",
    "    return mid + 1\n",
    "    \n",
    "for eq in que:\n",
    "    lb = lower_bound(lst, 0, n, eq)\n",
    "    diff = eq - lst[lb][0]\n",
    "    print(lst[lb][1]+diff)"
   ]
  },
  {
   "cell_type": "code",
   "execution_count": null,
   "metadata": {},
   "outputs": [],
   "source": [
    "3 3\n",
    "1 10\n",
    "11 20\n",
    "21 30\n",
    "5\n",
    "15\n",
    "25\n",
    "\n",
    "5\n",
    "15\n",
    "25"
   ]
  },
  {
   "cell_type": "code",
   "execution_count": 13,
   "metadata": {},
   "outputs": [
    {
     "name": "stdout",
     "output_type": "stream",
     "text": [
      "[(1, 1), (20, 20), (21, 60), (41, 80)]\n",
      "eq 5 lb 1\n",
      "5\n",
      "eq 21 lb 3\n",
      "60\n",
      "eq 39 lb 3\n",
      "78\n"
     ]
    }
   ],
   "source": [
    "n = 3\n",
    "q = 3\n",
    "mon = [(1,10),(11,20),(21,30)]\n",
    "mon = [(1,20),(60,80)]\n",
    "que = [5,15,25]\n",
    "que = [5,21,39]\n",
    "\n",
    "lst = []\n",
    "\n",
    "count = 0\n",
    "for m in mon:\n",
    "    count += 1\n",
    "    lst.append((count,m[0]))\n",
    "    count += m[1] - m[0]\n",
    "    lst.append((count, m[1]))\n",
    "    \n",
    "def lower_bound(arr, left, n, key):\n",
    "    right = n\n",
    "    mid = 0\n",
    "    while left < right:\n",
    "        mid = (left+right)>>1\n",
    "        \n",
    "        # check if key is present at mid\n",
    "        if arr[mid][0] == key:\n",
    "            break\n",
    "        \n",
    "        # if key is smaller, ignore right half\n",
    "        elif arr[mid][0] > key:\n",
    "            right = mid\n",
    "        \n",
    "        # if key is greater, ignore left half\n",
    "        else:\n",
    "            left = mid+1\n",
    "            \n",
    "    # if key is not found in array then it will be before mid\n",
    "    while(mid > -1 and arr[mid][0] > key):\n",
    "        mid -= 1\n",
    "        \n",
    "    # return mid+1 because of 0-based indexing of array\n",
    "    return mid + 1\n",
    "    \n",
    "print(lst)\n",
    "    \n",
    "for eq in que:\n",
    "    lb = lower_bound(lst, 0, n, eq)\n",
    "    print('eq', eq, 'lb', lb)\n",
    "    diff = eq - lst[lb][0]\n",
    "    print(lst[lb][1]+diff)"
   ]
  }
 ],
 "metadata": {
  "kernelspec": {
   "display_name": "Python 3",
   "language": "python",
   "name": "python3"
  },
  "language_info": {
   "codemirror_mode": {
    "name": "ipython",
    "version": 3
   },
   "file_extension": ".py",
   "mimetype": "text/x-python",
   "name": "python",
   "nbconvert_exporter": "python",
   "pygments_lexer": "ipython3",
   "version": "3.7.0"
  }
 },
 "nbformat": 4,
 "nbformat_minor": 2
}
