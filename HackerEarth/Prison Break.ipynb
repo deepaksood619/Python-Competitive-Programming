{
 "cells": [
  {
   "cell_type": "code",
   "execution_count": 10,
   "metadata": {},
   "outputs": [
    {
     "name": "stdout",
     "output_type": "stream",
     "text": [
      "320\n",
      "1\n"
     ]
    }
   ],
   "source": [
    "import copy\n",
    "\n",
    "def adj(matrix, x, y):\n",
    "    lst = []\n",
    "    \n",
    "    # prioritize right and down since dfs is use\n",
    "    # right\n",
    "    if (y+1 < n and matrix[x][y+1] != 1):\n",
    "        lst.append([x, y+1])\n",
    "        \n",
    "    # down\n",
    "    if (x+1 < n and matrix[x+1][y] != 1):\n",
    "        lst.append([x+1, y])\n",
    "        \n",
    "    # up\n",
    "    if (x-1 >= 0 and matrix[x-1][y] != 1):\n",
    "        lst.append([x-1, y])\n",
    "    \n",
    "    # left\n",
    "    if (y-1 >= 0 and matrix[x][y-1] != 1):\n",
    "        lst.append([x, y-1])\n",
    "\n",
    "    return lst\n",
    "\n",
    "def dfs(matrix, x, y):\n",
    "    mat = copy.deepcopy(matrix)\n",
    "    mat[x][y] = 1\n",
    "    for item in adj(mat, x, y):\n",
    "        if (item[0] == n-1 and item[1] == n-1):\n",
    "            global count\n",
    "            count += 1\n",
    "        else:    \n",
    "            dfs(mat, item[0], item[1])\n",
    "\n",
    "fo = open('test.txt', 'r')\n",
    "t = int(fo.readline())\n",
    "for _ in range(t):\n",
    "    n = int(fo.readline())\n",
    "    matrix = []\n",
    "    for _ in range(n):\n",
    "        matrix.append(list(map(int, fo.readline().split())))\n",
    "    \n",
    "    count = 0\n",
    "\n",
    "    if (matrix[0][0] == 0 or matrix[n-1][n-1] == 0):\n",
    "        dfs(matrix, 0, 0)\n",
    "\n",
    "    print(count)"
   ]
  },
  {
   "cell_type": "code",
   "execution_count": 14,
   "metadata": {},
   "outputs": [
    {
     "name": "stdout",
     "output_type": "stream",
     "text": [
      "defaultdict(<class 'list'>, {(0, 1): [(1, 1)], (0, 4): [(1, 4)], (0, 6): [(0, 7)], (0, 7): [(0, 6)], (1, 0): [(1, 1), (2, 0)], (1, 1): [(1, 2), (1, 0), (0, 1)], (1, 2): [(1, 3), (2, 2), (1, 1)], (1, 3): [(1, 4), (2, 3), (1, 2)], (1, 4): [(1, 5), (2, 4), (1, 3), (0, 4)], (1, 5): [(1, 4)], (1, 8): [(2, 8)], (2, 0): [(3, 0), (1, 0)], (2, 2): [(2, 3), (3, 2), (1, 2)], (2, 3): [(2, 4), (3, 3), (2, 2), (1, 3)], (2, 4): [(3, 4), (2, 3), (1, 4)], (2, 8): [(3, 8), (1, 8)], (3, 0): [(2, 0)], (3, 2): [(3, 3), (2, 2)], (3, 3): [(3, 4), (4, 3), (3, 2), (2, 3)], (3, 4): [(3, 5), (4, 4), (3, 3), (2, 4)], (3, 5): [(4, 5), (3, 4)], (3, 7): [(3, 8), (4, 7)], (3, 8): [(3, 7), (2, 8)], (4, 3): [(4, 4), (5, 3), (3, 3)], (4, 4): [(4, 5), (4, 3), (3, 4)], (4, 5): [(4, 6), (4, 4), (3, 5)], (4, 6): [(4, 7), (5, 6), (4, 5)], (4, 7): [(5, 7), (4, 6), (3, 7)], (5, 0): [(5, 1), (6, 0)], (5, 1): [(6, 1), (5, 0)], (5, 3): [(4, 3)], (5, 6): [(5, 7), (4, 6)], (5, 7): [(5, 8), (6, 7), (5, 6), (4, 7)], (5, 8): [(6, 8), (5, 7)], (6, 0): [(6, 1), (5, 0)], (6, 1): [(6, 0), (5, 1)], (6, 7): [(6, 8), (7, 7), (5, 7)], (6, 8): [(6, 7), (5, 8)], (7, 4): [(7, 5)], (7, 5): [(7, 4)], (7, 7): [(8, 7), (6, 7)], (8, 7): [(8, 8), (7, 7)], (8, 8): [(8, 7)]})\n",
      "320\n",
      "defaultdict(<class 'list'>, {(0, 1): [(0, 2)], (0, 2): [(1, 2), (0, 1)], (1, 2): [(2, 2), (0, 2)], (2, 1): [(2, 2)], (2, 2): [(2, 1), (1, 2)]})\n",
      "1\n"
     ]
    }
   ],
   "source": [
    "from collections import defaultdict, deque\n",
    " \n",
    "def dfs(start, end, count):\n",
    "    if start == end:\n",
    "        count += 1\n",
    "    else:\n",
    "        for next_node in adjlist[start]:\n",
    "            if not visited[next_node[0]][next_node[1]]:\n",
    "                visited[next_node[0]][next_node[1]] = 1\n",
    "                count = dfs(next_node, end, count)\n",
    "                visited[next_node[0]][next_node[1]] = 0\n",
    "    return count\n",
    "\n",
    "fo = open('test.txt', 'r')\n",
    "for x in range(int(fo.readline())):\n",
    "    N = int(fo.readline())\n",
    "    matrix = list()\n",
    "    adjlist = defaultdict(list)\n",
    "    for i in range(N):\n",
    "        row = list(map(int, fo.readline().split()))\n",
    "        matrix.append(row)\n",
    "    visited = [[0] * N for x in range(N)]\n",
    "    visited[0][0] = 1\n",
    "    for i in range(N):\n",
    "        for j in range(N):\n",
    "            if matrix[i][j] == 0:\n",
    "                if j < N - 1 and matrix[i][j+ 1] == 0:\n",
    "                    adjlist[(i, j)].append((i, j + 1))\n",
    "                if i < N - 1 and matrix[i + 1][j] == 0:\n",
    "                    adjlist[(i,j)].append((i+1, j))\n",
    "                if j > 0 and matrix[i][j-1] == 0:\n",
    "                    adjlist[(i,j)].append((i, j - 1))\n",
    "                if i > 0 and matrix[i-1][j] == 0:\n",
    "                    adjlist[(i,j)].append((i-1, j))\n",
    "    print(adjlist)\n",
    "    if matrix[N - 1][N - 1] != 0:\n",
    "        print(0)\n",
    "    elif matrix[N - 1][N - 1] == 0 and matrix[0][0] != 0:\n",
    "        try1 = dfs((1, 0), (N - 1, N - 1), 0)\n",
    "        try2 = dfs((0, 1), (N-1, N-1), 0)\n",
    "        print(max(try1, try2))\n",
    "    else:\n",
    "        print(dfs((0, 0), (N-1, N-1), 0))"
   ]
  }
 ],
 "metadata": {
  "kernelspec": {
   "display_name": "Python 3",
   "language": "python",
   "name": "python3"
  },
  "language_info": {
   "codemirror_mode": {
    "name": "ipython",
    "version": 3
   },
   "file_extension": ".py",
   "mimetype": "text/x-python",
   "name": "python",
   "nbconvert_exporter": "python",
   "pygments_lexer": "ipython3",
   "version": "3.6.4"
  }
 },
 "nbformat": 4,
 "nbformat_minor": 2
}
