{
 "cells": [
  {
   "cell_type": "code",
   "execution_count": null,
   "metadata": {},
   "outputs": [],
   "source": [
    "n, m = map(int, input().split())\n",
    "lst = []\n",
    "for _ in range(n):\n",
    "    lst.append(list(map(int, input().split())))\n",
    "rows = []\n",
    "for x in range(n):\n",
    "    rows.append(sum(lst[x]))\n",
    "     \n",
    "cols = []\n",
    "for x in range(m):\n",
    "    val = 0\n",
    "    for y in range(n):\n",
    "        val += lst[y][x]\n",
    "    cols.append(val)\n",
    "\n",
    "max_xor = 0\n",
    "for i in rows:\n",
    "    for j in cols:\n",
    "        xor = i ^ j\n",
    "        max_xor = max(xor, max_xor)\n",
    "print(max_xor)"
   ]
  },
  {
   "cell_type": "code",
   "execution_count": 3,
   "metadata": {},
   "outputs": [
    {
     "name": "stdout",
     "output_type": "stream",
     "text": [
      "2 2\n",
      "1 2\n",
      "3 4\n",
      "7\n"
     ]
    }
   ],
   "source": [
    "# more optimized\n",
    "# remove lst no need to save matrix\n",
    "# directly calculate the sum of row and col\n",
    "\n",
    "n, m = map(int, input().split())\n",
    "\n",
    "rowsum = []\n",
    "colsum = [0]*m\n",
    "\n",
    "for _ in range(n):\n",
    "    lst = list(map(int, input().split()))\n",
    "    rowsum.append(sum(lst))\n",
    "    for index, val in enumerate(lst):\n",
    "        colsum[index] += val\n",
    "        \n",
    "xor = []\n",
    "for i in rowsum:\n",
    "    for j in colsum:\n",
    "        xor.append(i ^ j)\n",
    "print(max(xor))"
   ]
  }
 ],
 "metadata": {
  "kernelspec": {
   "display_name": "Python 3",
   "language": "python",
   "name": "python3"
  },
  "language_info": {
   "codemirror_mode": {
    "name": "ipython",
    "version": 3
   },
   "file_extension": ".py",
   "mimetype": "text/x-python",
   "name": "python",
   "nbconvert_exporter": "python",
   "pygments_lexer": "ipython3",
   "version": "3.6.4"
  }
 },
 "nbformat": 4,
 "nbformat_minor": 2
}
