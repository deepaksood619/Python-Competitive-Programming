{
 "cells": [
  {
   "cell_type": "code",
   "execution_count": 1,
   "metadata": {},
   "outputs": [],
   "source": [
    "from collections import defaultdict\n",
    "\n",
    "def monitor(n, l):\n",
    "    d = defaultdict(int)\n",
    "\n",
    "    for i in l:\n",
    "        d[i] += 1\n",
    "\n",
    "    # key = height, value = number of students of that height\n",
    "    sorted_d = sorted(d.items(), key = lambda x : x[1])\n",
    "    \n",
    "    val = sorted_d[len(sorted_d)-1][1] - sorted_d[0][1]\n",
    "    if val == 0:\n",
    "        return -1\n",
    "\n",
    "    return val"
   ]
  },
  {
   "cell_type": "code",
   "execution_count": 2,
   "metadata": {},
   "outputs": [],
   "source": [
    "n = 6\n",
    "n1 = 1\n",
    "l = [3, 1, 3, 2, 3, 2]\n",
    "l2 = [1]\n",
    "\n",
    "assert(monitor(n, l)==2)\n",
    "assert(monitor(n1, l2)==-1)"
   ]
  },
  {
   "cell_type": "code",
   "execution_count": 3,
   "metadata": {},
   "outputs": [
    {
     "name": "stdin",
     "output_type": "stream",
     "text": [
      " 1\n",
      " 6\n",
      " 3 1 3 2 3 2\n"
     ]
    },
    {
     "name": "stdout",
     "output_type": "stream",
     "text": [
      "2\n"
     ]
    }
   ],
   "source": [
    "from collections import defaultdict\n",
    "\n",
    "def monitor(n, l):\n",
    "    d = defaultdict(int)\n",
    "\n",
    "    for i in l:\n",
    "        d[i] += 1\n",
    "\n",
    "    # key = height, value = number of students of that height\n",
    "    sorted_d = sorted(d.items(), key = lambda x : x[1])\n",
    "    \n",
    "    val = sorted_d[len(sorted_d)-1][1] - sorted_d[0][1]\n",
    "    if val == 0:\n",
    "        return -1\n",
    "\n",
    "    return val\n",
    "    \n",
    "T = int(input())\n",
    "\n",
    "for _ in range(T):\n",
    "    n = int(input())\n",
    "    l = list(map(int, input().split()))\n",
    "    print(monitor(n, l))"
   ]
  }
 ],
 "metadata": {
  "kernelspec": {
   "display_name": "Python 3",
   "language": "python",
   "name": "python3"
  },
  "language_info": {
   "codemirror_mode": {
    "name": "ipython",
    "version": 3
   },
   "file_extension": ".py",
   "mimetype": "text/x-python",
   "name": "python",
   "nbconvert_exporter": "python",
   "pygments_lexer": "ipython3",
   "version": "3.7.0"
  }
 },
 "nbformat": 4,
 "nbformat_minor": 2
}
