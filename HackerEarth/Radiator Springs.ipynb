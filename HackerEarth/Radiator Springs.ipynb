{
 "cells": [
  {
   "cell_type": "markdown",
   "metadata": {},
   "source": [
    " a - acceleration/deceleration\n",
    " v - maximum speed\n",
    " l - road length km\n",
    " d - limiting speed sign placement from end \n",
    " w - limiting speed\n",
    "(radiator springs)\n",
    " from california to radiator spring\n",
    " \n",
    " ex-\n",
    " a - 1, v - 1, L - 2 km, d - 1, w = 3km/hr"
   ]
  },
  {
   "cell_type": "code",
   "execution_count": 1,
   "metadata": {},
   "outputs": [
    {
     "name": "stdout",
     "output_type": "stream",
     "text": [
      "1 1\n",
      "2 1 3\n",
      "2.500000000\n"
     ]
    }
   ],
   "source": [
    "# x - acceleration\n",
    "# y - max speed\n",
    "# l - length\n",
    "# d - distance of speed board from radiator springs\n",
    "# w - limiting speed\n",
    "\n",
    "x, y = map(int, input().split())\n",
    "l, d, w = map(int, input().split())\n",
    "\n",
    "time_to_accelerate = y/x\n",
    "dist_covered = (x * time_to_accelerate * time_to_accelerate) / 2\n",
    "dist_left = l - dist_covered\n",
    "t = dist_left / y\n",
    "\n",
    "total_time = time_to_accelerate + t\n",
    "print('%.9f'% total_time)\n",
    "\n",
    "# 1 1\n",
    "# 2 1 3\n",
    "# ans - 2.5"
   ]
  }
 ],
 "metadata": {
  "kernelspec": {
   "display_name": "Python 3",
   "language": "python",
   "name": "python3"
  },
  "language_info": {
   "codemirror_mode": {
    "name": "ipython",
    "version": 3
   },
   "file_extension": ".py",
   "mimetype": "text/x-python",
   "name": "python",
   "nbconvert_exporter": "python",
   "pygments_lexer": "ipython3",
   "version": "3.6.4"
  }
 },
 "nbformat": 4,
 "nbformat_minor": 2
}
