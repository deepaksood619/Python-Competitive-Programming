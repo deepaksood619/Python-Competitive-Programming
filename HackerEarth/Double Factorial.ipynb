{
 "cells": [
  {
   "cell_type": "code",
   "execution_count": 28,
   "metadata": {},
   "outputs": [
    {
     "name": "stdout",
     "output_type": "stream",
     "text": [
      "2\n",
      "3 2\n",
      "20\n",
      "4 1\n",
      "0\n"
     ]
    }
   ],
   "source": [
    "# using math.factorial\n",
    "import math\n",
    "\n",
    "t = int(input())\n",
    "\n",
    "for _ in range(t):\n",
    "    n, m = map(int, input().split())\n",
    "    \n",
    "    print(math.factorial(math.factorial(n)) % (10**m))\n",
    "    \n",
    "# only 2 test cases passed"
   ]
  },
  {
   "cell_type": "code",
   "execution_count": 34,
   "metadata": {},
   "outputs": [
    {
     "name": "stdout",
     "output_type": "stream",
     "text": [
      "2\n",
      "2 2\n",
      "2\n",
      "2\n",
      "3 1\n",
      "720\n",
      "0\n"
     ]
    }
   ],
   "source": [
    "# using user defined factorial function (non-recursive, to save recursive overhead)\n",
    "\n",
    "def fact(n):\n",
    "    result = 1\n",
    "    \n",
    "    for i in range(1, n+1):\n",
    "        result *= i\n",
    "\n",
    "    return result\n",
    "\n",
    "t = int(input())\n",
    "\n",
    "for _ in range(t):\n",
    "    n, m = map(int, input().split())\n",
    "    val = fact(fact(n))\n",
    "    print(val)\n",
    "    print(val % (10**m))"
   ]
  },
  {
   "cell_type": "code",
   "execution_count": 37,
   "metadata": {},
   "outputs": [
    {
     "name": "stdout",
     "output_type": "stream",
     "text": [
      "2\n",
      "2 2\n",
      "3 1\n",
      "[1, 1, 2, 6]\n",
      "[1, 1, 2, 6, 24, 120, 720]\n",
      "2\n",
      "0\n"
     ]
    }
   ],
   "source": [
    "## using sieve for calculating factorial using user defined non-recursive factorial function\n",
    "\n",
    "sieve = [1]\n",
    "\n",
    "def fact(start, n):\n",
    "    result = sieve[start-1]\n",
    "    \n",
    "    for i in range(start, n+1):\n",
    "        result *= i\n",
    "        sieve.append(result)\n",
    "\n",
    "    return result\n",
    "\n",
    "t = int(input())\n",
    "lst = []\n",
    "\n",
    "for _ in range(t):\n",
    "    n, m = map(int, input().split())\n",
    "    lst.append((n, m))\n",
    "\n",
    "fact(len(sieve), max(lst)[0])\n",
    "\n",
    "print(sieve)\n",
    "\n",
    "fact(len(sieve), sieve[len(sieve)-1])\n",
    "\n",
    "print(sieve)\n",
    "\n",
    "for i in range(t):\n",
    "    n, m = lst[i]\n",
    "    print(sieve[sieve[n]] % (10**m))"
   ]
  },
  {
   "cell_type": "code",
   "execution_count": 12,
   "metadata": {},
   "outputs": [
    {
     "name": "stdout",
     "output_type": "stream",
     "text": [
      "2\n",
      "4 1\n",
      "1\n",
      "5 1\n",
      "1\n"
     ]
    }
   ],
   "source": [
    "# When we have a glance at factorial (n) for n >=5, \n",
    "# total digits in output is much greater than 19 thus if we do (n!)!%10^m for 0<=m<=19 , \n",
    "# answer is always 0 and for other input that is if n<5 we evaluate factorial as is evaluated normally .\n",
    "import math\n",
    "\n",
    "t = int(input())\n",
    "\n",
    "for _ in range(t):\n",
    "    n, m = map(int, input().split())\n",
    "    \n",
    "    if n < 6:\n",
    "        print(math.fact(math.fact(n)) % (10**m))\n",
    "    else:\n",
    "        print(0)\n",
    "        \n",
    "# all test cases passed"
   ]
  }
 ],
 "metadata": {
  "kernelspec": {
   "display_name": "Python 3",
   "language": "python",
   "name": "python3"
  },
  "language_info": {
   "codemirror_mode": {
    "name": "ipython",
    "version": 3
   },
   "file_extension": ".py",
   "mimetype": "text/x-python",
   "name": "python",
   "nbconvert_exporter": "python",
   "pygments_lexer": "ipython3",
   "version": "3.6.4"
  }
 },
 "nbformat": 4,
 "nbformat_minor": 2
}
