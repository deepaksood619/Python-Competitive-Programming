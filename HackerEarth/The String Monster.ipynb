{
 "cells": [
  {
   "cell_type": "code",
   "execution_count": null,
   "metadata": {},
   "outputs": [],
   "source": [
    "2\n",
    "4\n",
    "hey\n",
    "rain\n",
    "day\n",
    "wet\n",
    "draaxiny\n",
    "4\n",
    "bump\n",
    "ud\n",
    "bish\n",
    "chau\n",
    "bichhusa"
   ]
  },
  {
   "cell_type": "code",
   "execution_count": null,
   "metadata": {},
   "outputs": [],
   "source": [
    "sorted('hey')\n",
    "\n",
    "\n",
    "def all_subsets(s):\n",
    "    return chain(*map(lambda x: combinations(s, x), range(2, len(s)+1)))\n",
    "\n",
    "for i in all_subsets(['rain','day']):\n",
    "    print (i)\n",
    "    print(''.join(sorted(i)))"
   ]
  },
  {
   "cell_type": "markdown",
   "metadata": {},
   "source": [
    "You can't pick up a partial string or discard part of any string that you pick. \n",
    "Answer me, little girl, can you use these strings to form the string that shall \n",
    "make the monster sleep and get you out alive?"
   ]
  },
  {
   "cell_type": "code",
   "execution_count": 1,
   "metadata": {},
   "outputs": [
    {
     "name": "stdout",
     "output_type": "stream",
     "text": [
      "1\n",
      "4\n",
      "hey\n",
      "rain\n",
      "day\n",
      "wet\n",
      "('ehy', 'ainr')\n",
      "('ehy', 'ady')\n",
      "('ehy', 'etw')\n",
      "('ainr', 'ady')\n",
      "('ainr', 'etw')\n",
      "('ady', 'etw')\n",
      "('ehy', 'ainr', 'ady')\n",
      "('ehy', 'ainr', 'etw')\n",
      "('ehy', 'ady', 'etw')\n",
      "('ainr', 'ady', 'etw')\n",
      "('ehy', 'ainr', 'ady', 'etw')\n",
      "['ehy', 'ainr', 'ady', 'etw', 'aehinry', 'adehyy', 'eehtwy', 'aadinry', 'aeinrtw', 'adetwy', 'aadehinryy', 'aeehinrtwy', 'adeehtwyy', 'aadeinrtwy', 'aadeehinrtwyy']\n",
      "draainys\n",
      "check aadinrsy\n",
      "NO\n"
     ]
    }
   ],
   "source": [
    "from itertools import chain, combinations\n",
    "\n",
    "def all_subsets(s):\n",
    "    return chain(*map(lambda x: combinations(s, x), range(2, len(s)+1)))\n",
    "\n",
    "t = int(input())\n",
    "\n",
    "for _ in range(t):\n",
    "    n = int(input())\n",
    "    \n",
    "    lst_input = []\n",
    "    \n",
    "    for _ in range(n):\n",
    "        lst_input.append(''.join(sorted(input())))\n",
    "        \n",
    "    for i in all_subsets(lst_input):\n",
    "        print(i)\n",
    "        lst_input.append(''.join(sorted(''.join(i))))\n",
    "    \n",
    "    print(lst_input)\n",
    "    \n",
    "    check = ''.join(sorted(input()))\n",
    "    print('check',check)\n",
    "    \n",
    "    if check in lst_input:\n",
    "        print('YES')\n",
    "    else:\n",
    "        print('NO')"
   ]
  },
  {
   "cell_type": "code",
   "execution_count": 3,
   "metadata": {},
   "outputs": [
    {
     "data": {
      "text/plain": [
       "{'len': 0,\n",
       " 'chars': [0,\n",
       "  0,\n",
       "  0,\n",
       "  0,\n",
       "  0,\n",
       "  0,\n",
       "  0,\n",
       "  0,\n",
       "  0,\n",
       "  0,\n",
       "  0,\n",
       "  0,\n",
       "  0,\n",
       "  0,\n",
       "  0,\n",
       "  0,\n",
       "  0,\n",
       "  0,\n",
       "  0,\n",
       "  0,\n",
       "  0,\n",
       "  0,\n",
       "  0,\n",
       "  0,\n",
       "  0,\n",
       "  0]}"
      ]
     },
     "execution_count": 3,
     "metadata": {},
     "output_type": "execute_result"
    }
   ],
   "source": [
    "import copy\n",
    "\n",
    "alphabet_size = ord('z') - ord('a') + 1\n",
    "alphabet = []\n",
    "for i in range(0, alphabet_size):\n",
    "    alphabet.append(0)\n",
    "\n",
    "total = {\n",
    "        'len': 0,\n",
    "        'chars': copy.deepcopy(alphabet),\n",
    "        # 'mask': 0,\n",
    "    }\n",
    "\n",
    "total"
   ]
  },
  {
   "cell_type": "code",
   "execution_count": 5,
   "metadata": {},
   "outputs": [
    {
     "data": {
      "text/plain": [
       "0"
      ]
     },
     "execution_count": 5,
     "metadata": {},
     "output_type": "execute_result"
    }
   ],
   "source": [
    "count = [0]*26\n",
    "\n",
    "ord('a')-97\n"
   ]
  },
  {
   "cell_type": "code",
   "execution_count": 10,
   "metadata": {},
   "outputs": [
    {
     "name": "stdout",
     "output_type": "stream",
     "text": [
      "1\n",
      "4\n",
      "hey\n",
      "rain\n",
      "day\n",
      "wet\n",
      "draainy\n",
      "YES\n"
     ]
    }
   ],
   "source": [
    "t = int(input())\n",
    "\n",
    "for _ in range(t):\n",
    "    bool_check = True\n",
    "    count = [0]*26\n",
    "    n = int(input())\n",
    "    \n",
    "    for _ in range(n):\n",
    "        s = input()\n",
    "        for char in s:\n",
    "            count[ord(char)-97] += 1\n",
    "            \n",
    "    check = input()\n",
    "    for char in check:\n",
    "        val = ord(char)-97\n",
    "        if count[val] > 0:\n",
    "            count[val] -= 1\n",
    "        else:\n",
    "            bool_check = False\n",
    "            break\n",
    "    \n",
    "    print('YES') if bool_check else print('NO')"
   ]
  }
 ],
 "metadata": {
  "kernelspec": {
   "display_name": "Python 3",
   "language": "python",
   "name": "python3"
  },
  "language_info": {
   "codemirror_mode": {
    "name": "ipython",
    "version": 3
   },
   "file_extension": ".py",
   "mimetype": "text/x-python",
   "name": "python",
   "nbconvert_exporter": "python",
   "pygments_lexer": "ipython3",
   "version": "3.7.0"
  }
 },
 "nbformat": 4,
 "nbformat_minor": 2
}
