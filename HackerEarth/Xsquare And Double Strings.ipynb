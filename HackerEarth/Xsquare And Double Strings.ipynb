{
 "cells": [
  {
   "cell_type": "code",
   "execution_count": 13,
   "metadata": {},
   "outputs": [
    {
     "name": "stdout",
     "output_type": "stream",
     "text": [
      "2\n",
      "baba\n",
      "[2, 2, 0, 0, 0, 0, 0, 0, 0, 0, 0, 0, 0, 0, 0, 0, 0, 0, 0, 0, 0, 0, 0, 0, 0, 0]\n",
      "Yes\n",
      "wow\n",
      "[0, 0, 0, 0, 0, 0, 0, 0, 0, 0, 0, 0, 0, 0, 1, 0, 0, 0, 0, 0, 0, 0, 2, 0, 0, 0]\n",
      "Yes\n"
     ]
    }
   ],
   "source": [
    "# count number of characters, atleast one character must be even\n",
    "# if there are even characters than string can be made \n",
    "\n",
    "t = int(input())\n",
    "\n",
    "for _ in range(t):\n",
    "    s = input()\n",
    "    if len(s) < 2:\n",
    "        print('No')\n",
    "    else:\n",
    "        count = [0]*26\n",
    "        for i in s:\n",
    "            count[ord(i)-97] += 1\n",
    "        print(count)\n",
    "        even_present = False\n",
    "        for i in count:\n",
    "            if i > 1:\n",
    "                even_present = True\n",
    "        \n",
    "        if even_present:\n",
    "            print('Yes')\n",
    "        else:\n",
    "            print('No')\n",
    "            \n",
    "# test cases passed - 2/3"
   ]
  },
  {
   "cell_type": "code",
   "execution_count": 15,
   "metadata": {},
   "outputs": [
    {
     "name": "stdout",
     "output_type": "stream",
     "text": [
      "2\n",
      "baba\n",
      "Yes\n",
      "abx\n",
      "No\n"
     ]
    }
   ],
   "source": [
    "# just check if there is more than one character for any character, if yes then print 'Yes'\n",
    "from collections import defaultdict\n",
    "\n",
    "t = int(input())\n",
    "\n",
    "for _ in range(t):\n",
    "    s = input()\n",
    "    if len(s) < 2:\n",
    "        print('No')\n",
    "        continue\n",
    "        \n",
    "    d = defaultdict(int)\n",
    "    flag = False\n",
    "    for ch in s:\n",
    "        d[ch] += 1\n",
    "        if d[ch] > 1:\n",
    "            flag = True\n",
    "            break\n",
    "    print('Yes' if flag else 'No')"
   ]
  }
 ],
 "metadata": {
  "kernelspec": {
   "display_name": "Python 3",
   "language": "python",
   "name": "python3"
  },
  "language_info": {
   "codemirror_mode": {
    "name": "ipython",
    "version": 3
   },
   "file_extension": ".py",
   "mimetype": "text/x-python",
   "name": "python",
   "nbconvert_exporter": "python",
   "pygments_lexer": "ipython3",
   "version": "3.6.4"
  }
 },
 "nbformat": 4,
 "nbformat_minor": 2
}
