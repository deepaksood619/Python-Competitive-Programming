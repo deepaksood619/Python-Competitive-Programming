{
 "cells": [
  {
   "cell_type": "code",
   "execution_count": 2,
   "metadata": {},
   "outputs": [
    {
     "name": "stdout",
     "output_type": "stream",
     "text": [
      "2\n",
      "2 2\n",
      "4\n",
      "2 0\n",
      "1\n"
     ]
    }
   ],
   "source": [
    "import math\n",
    "\n",
    "memo = [[-1 for x in range(1000)] for y in range(1000)]\n",
    "\n",
    "def nCr(n,r):\n",
    "    if memo[n][r] == -1:\n",
    "        f = math.factorial\n",
    "        memo[n][r] = f(n) // f(r) // f(n-r)\n",
    "    return memo[n][r]\n",
    "\n",
    "t = int(input())\n",
    "MOD = 1000000007\n",
    "for _ in range(t):\n",
    "    n, p = map(int, input().split())\n",
    "    add = 0\n",
    "    for i in range(p+1):\n",
    "        add += nCr(n, i)\n",
    "    modulo = add%MOD\n",
    "    print(modulo)"
   ]
  },
  {
   "cell_type": "code",
   "execution_count": 5,
   "metadata": {},
   "outputs": [
    {
     "name": "stdout",
     "output_type": "stream",
     "text": [
      "2\n",
      "2 2\n",
      "4\n",
      "2 0\n",
      "1\n"
     ]
    }
   ],
   "source": [
    "import sys, math\n",
    "t = int(input())\n",
    "mod = (10**9)+7\n",
    "for i in range(t):\n",
    "    s = 1\n",
    "    c = 1\n",
    "    n,p = map(int,input().split())\n",
    "    for j in range(1,p+1):\n",
    "        tmp = c*(n-j+1)//j\n",
    "        s += tmp\n",
    "        c = tmp\n",
    "    print(s%mod)"
   ]
  }
 ],
 "metadata": {
  "kernelspec": {
   "display_name": "Python 3",
   "language": "python",
   "name": "python3"
  },
  "language_info": {
   "codemirror_mode": {
    "name": "ipython",
    "version": 3
   },
   "file_extension": ".py",
   "mimetype": "text/x-python",
   "name": "python",
   "nbconvert_exporter": "python",
   "pygments_lexer": "ipython3",
   "version": "3.6.4"
  }
 },
 "nbformat": 4,
 "nbformat_minor": 2
}
