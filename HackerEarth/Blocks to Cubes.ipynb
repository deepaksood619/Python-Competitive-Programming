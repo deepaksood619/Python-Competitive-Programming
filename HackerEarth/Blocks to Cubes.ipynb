{
 "cells": [
  {
   "cell_type": "code",
   "execution_count": 26,
   "metadata": {},
   "outputs": [
    {
     "name": "stdout",
     "output_type": "stream",
     "text": [
      "2\n",
      "1 2 3\n",
      "1 6\n",
      "2 4 6\n",
      "2 6\n"
     ]
    }
   ],
   "source": [
    "# final solution\n",
    "# can also split vol into multiple parts\n",
    "\n",
    "import math\n",
    "\n",
    "t = int(input())\n",
    "\n",
    "modulo = 1000000007\n",
    "\n",
    "for _ in range(t):\n",
    "    a, b, c = map(int, input().split())\n",
    "    s1 = math.gcd(math.gcd(a, b), c)\n",
    "    vol = (a//s1)%modulo;\n",
    "    vol = vol*(b//s1)%modulo;\n",
    "    vol = vol*(c//s1)%modulo;\n",
    "    print(s1, vol)"
   ]
  }
 ],
 "metadata": {
  "kernelspec": {
   "display_name": "Python 3",
   "language": "python",
   "name": "python3"
  },
  "language_info": {
   "codemirror_mode": {
    "name": "ipython",
    "version": 3
   },
   "file_extension": ".py",
   "mimetype": "text/x-python",
   "name": "python",
   "nbconvert_exporter": "python",
   "pygments_lexer": "ipython3",
   "version": "3.6.4"
  }
 },
 "nbformat": 4,
 "nbformat_minor": 2
}
