{
 "cells": [
  {
   "cell_type": "code",
   "execution_count": null,
   "metadata": {},
   "outputs": [],
   "source": [
    "https://www.hackerearth.com/practice/algorithms/sorting/merge-sort/practice-problems/algorithm/monk-and-modulo-based-sorting/"
   ]
  },
  {
   "cell_type": "code",
   "execution_count": null,
   "metadata": {},
   "outputs": [],
   "source": [
    "5 6\n",
    "12 18 17 65 46\n",
    "\n",
    "12 18 46 17 65 \n",
    "\n",
    "10 20\n",
    "384 387 278 416 294 336 387 493 150 422"
   ]
  },
  {
   "cell_type": "code",
   "execution_count": 13,
   "metadata": {},
   "outputs": [
    {
     "name": "stdin",
     "output_type": "stream",
     "text": [
      " 10 20\n",
      " 384 387 278 416 294 336 387 493 150 422\n"
     ]
    },
    {
     "name": "stdout",
     "output_type": "stream",
     "text": [
      "[(4, 384), (7, 387), (18, 278), (16, 416), (14, 294), (16, 336), (7, 387), (13, 493), (10, 150), (2, 422)]\n",
      "422 384 387 387 150 493 294 416 336 278\n"
     ]
    }
   ],
   "source": [
    "n, k = map(int, input().split())\n",
    "\n",
    "lst = list(map(int, input().split()))\n",
    "\n",
    "m_lst = []\n",
    "\n",
    "for a in lst:\n",
    "    m_lst.append((a%k, a))\n",
    "\n",
    "m_lst.sort(key = lambda x: x[0])\n",
    "print(' '.join([str(a[1]) for a in m_lst]))\n"
   ]
  },
  {
   "cell_type": "code",
   "execution_count": 14,
   "metadata": {},
   "outputs": [
    {
     "data": {
      "text/plain": [
       "[12, 18, 46, 17, 65]"
      ]
     },
     "execution_count": 14,
     "metadata": {},
     "output_type": "execute_result"
    }
   ],
   "source": [
    "n, k = 5,6\n",
    "\n",
    "lst = [12,18,17,65,46]\n",
    "\n",
    "m_lst = []\n",
    "\n",
    "for a in lst:\n",
    "    m_lst.append((a%k, a))\n",
    "    \n",
    "m_lst.sort(key = lambda x: x[0])\n",
    "[a[1] for a in m_lst]"
   ]
  }
 ],
 "metadata": {
  "kernelspec": {
   "display_name": "Python 3",
   "language": "python",
   "name": "python3"
  },
  "language_info": {
   "codemirror_mode": {
    "name": "ipython",
    "version": 3
   },
   "file_extension": ".py",
   "mimetype": "text/x-python",
   "name": "python",
   "nbconvert_exporter": "python",
   "pygments_lexer": "ipython3",
   "version": "3.7.0"
  }
 },
 "nbformat": 4,
 "nbformat_minor": 2
}
