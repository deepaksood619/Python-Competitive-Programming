{
 "cells": [
  {
   "cell_type": "markdown",
   "metadata": {},
   "source": [
    "1\n",
    "706 4\n",
    "3 5 13 19\n",
    ">>> 376\n",
    "\n",
    "1\n",
    "15 3\n",
    "2 3 5\n",
    ">>> 11"
   ]
  },
  {
   "cell_type": "code",
   "execution_count": 7,
   "metadata": {},
   "outputs": [
    {
     "name": "stdout",
     "output_type": "stream",
     "text": [
      "1\n",
      "42 5\n",
      "2 5 11 23 29\n",
      "[2, 4, 5, 6, 8, 10, 11, 12, 14, 15, 16, 18, 20, 22, 23, 24, 25, 26, 28, 29, 30, 32, 33, 34, 35, 36, 38, 40, 42]\n",
      "29\n"
     ]
    }
   ],
   "source": [
    "# naive implementation\n",
    "# running time - O(n^2)\n",
    "\n",
    "t = int(input())\n",
    "for i in range(t):\n",
    "    n, p = map(int, input().split())\n",
    "    lst = list(map(int, input().split()))\n",
    "    count = 0\n",
    "    vals = []\n",
    "    for j in range(1, n+1):\n",
    "        for k in lst:\n",
    "            if j % k == 0:\n",
    "                vals.append(j)\n",
    "                count += 1\n",
    "                break\n",
    "    print(vals)\n",
    "    print(count)\n",
    "# 706 4\n",
    "# 3 5 13 19"
   ]
  },
  {
   "cell_type": "code",
   "execution_count": 16,
   "metadata": {},
   "outputs": [
    {
     "name": "stdout",
     "output_type": "stream",
     "text": [
      "0 ()\n",
      "1 (2,)\n",
      "2 (3,)\n",
      "3 (5,)\n",
      "4 (2, 3)\n",
      "5 (2, 5)\n",
      "6 (3, 5)\n",
      "7 (2, 3, 5)\n"
     ]
    }
   ],
   "source": [
    "# get all subsets of a list\n",
    "\n",
    "from itertools import chain, combinations\n",
    "def all_subsets(s):\n",
    "    return chain(*map(lambda x: combinations(s, x), range(0, len(s)+1)))\n",
    "\n",
    "for index, item in enumerate(all_subsets([2,3,5])):\n",
    "    print(index, item)"
   ]
  },
  {
   "cell_type": "code",
   "execution_count": 9,
   "metadata": {},
   "outputs": [
    {
     "name": "stdout",
     "output_type": "stream",
     "text": [
      "1\n",
      "1000 10\n",
      "2 2 2 2 2 2 2 2 2 2\n",
      "500\n"
     ]
    }
   ],
   "source": [
    "# logic - \n",
    "# add all odd length subsets to count\n",
    "# subtract all even length subsets from count\n",
    "# \n",
    "\n",
    "from itertools import chain, combinations\n",
    "\n",
    "def all_subsets(ss):\n",
    "    return chain(*map(lambda x: combinations(ss, x), range(0, len(ss)+1)))\n",
    "\n",
    "def mul(x):\n",
    "    res = 1\n",
    "    for item in x:\n",
    "        res *= item\n",
    "    return res\n",
    "    \n",
    "\n",
    "t = int(input())\n",
    "for i in range(t):\n",
    "    n, p = map(int, input().split())\n",
    "    lst = list(map(int, input().split()))\n",
    "    lst = set(lst)\n",
    "    count = 0\n",
    "    for subset in all_subsets(lst):\n",
    "        x = mul(subset)\n",
    "        if x > 1:\n",
    "            if len(subset) % 2 == 0:\n",
    "                count -= n // x\n",
    "            else:\n",
    "                count += n // x\n",
    "                \n",
    "    print(count)"
   ]
  }
 ],
 "metadata": {
  "kernelspec": {
   "display_name": "Python 3",
   "language": "python",
   "name": "python3"
  },
  "language_info": {
   "codemirror_mode": {
    "name": "ipython",
    "version": 3
   },
   "file_extension": ".py",
   "mimetype": "text/x-python",
   "name": "python",
   "nbconvert_exporter": "python",
   "pygments_lexer": "ipython3",
   "version": "3.6.4"
  }
 },
 "nbformat": 4,
 "nbformat_minor": 2
}
