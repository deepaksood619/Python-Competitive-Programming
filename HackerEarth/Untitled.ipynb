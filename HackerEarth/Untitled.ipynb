{
 "cells": [
  {
   "cell_type": "code",
   "execution_count": 14,
   "metadata": {},
   "outputs": [
    {
     "name": "stdout",
     "output_type": "stream",
     "text": [
      "10 7 20\n",
      "10 7\n",
      "3\n",
      "4\n",
      "1\n",
      "3\n",
      "2\n",
      "1\n",
      "1\n",
      "0\n",
      "1\n",
      "1\n",
      "0\n",
      "1\n",
      "1\n",
      "0\n",
      "1\n",
      "1\n",
      "0\n",
      "1\n",
      "39\n"
     ]
    }
   ],
   "source": [
    "x, y, n = map(int, input().split())\n",
    "print(x, y)\n",
    "res = x + y\n",
    "for i in range(2, n):\n",
    "    val = abs(x - y)\n",
    "    res += val\n",
    "    x = y\n",
    "    y = val\n",
    "    print(val)\n",
    "print(res)"
   ]
  },
  {
   "cell_type": "code",
   "execution_count": null,
   "metadata": {},
   "outputs": [],
   "source": [
    "t = int(input())\n",
    "for _ in range(t):\n",
    "    x, y, n = map(int, input().split())\n",
    "    lst = []\n",
    "    lst.append(x)\n",
    "    lst.append(y)\n",
    "    \n",
    "    for i in range(2, n):\n",
    "        val = abs(lst[i-1] - lst[i-2])\n",
    "        lst.append(val)\n",
    "    print(sum(lst))"
   ]
  },
  {
   "cell_type": "code",
   "execution_count": null,
   "metadata": {},
   "outputs": [],
   "source": [
    "t = int(input())\n",
    "for _ in range(t):\n",
    "    x, y, n = map(int, input().split())\n",
    "    res = x + y\n",
    "    for i in range(2, n):\n",
    "        val = abs(x - y)\n",
    "        res += val\n",
    "        x = y\n",
    "        y = val\n",
    "    print(res)"
   ]
  },
  {
   "cell_type": "code",
   "execution_count": 18,
   "metadata": {},
   "outputs": [
    {
     "name": "stdout",
     "output_type": "stream",
     "text": [
      "1\n",
      "1000000000 999999999 1000000000\n",
      "4.444444452222223e+17\n"
     ]
    }
   ],
   "source": [
    "def g(x,y,n):\n",
    "\ts = 0\n",
    "\twhile (n > 0):\n",
    "\t\tif n == 1:\n",
    "\t\t\ts += x\n",
    "\t\t\tbreak\n",
    "\t\telif n == 2:\n",
    "\t\t\ts += x+y\n",
    "\t\t\tbreak\n",
    "\t\telif y == 0:\n",
    "\t\t\ts += x * (2 * ((n-2)//3) + (n-2)%3 + 1)\n",
    "\t\t\tbreak\n",
    "\t\telif x<=y: \n",
    "\t\t\ts += x\n",
    "\t\t\tx,y = y,y-x\n",
    "\t\t\tn -= 1\n",
    "\t\telse:\n",
    "\t\t\td = x-y\n",
    "\t\t\tk = x//d\n",
    "\t\t\tif k % 2 == 0:\n",
    "                k -= 1\n",
    "\t\t\tt = (k+1)/2\n",
    "\t\t\tr = 3*t\n",
    "\t\t\tif n <= r:\n",
    "\t\t\t\tt = n//3\n",
    "\t\t\t\tr = 3*t\n",
    "\t\t\t\tk = 2*t-1\n",
    "\t\t\ts += d*(t-1) + 2*x*t - d*k*(k+1)/2\n",
    "\t\t\tnx = d\n",
    "\t\t\tny = abs(x - k*d - d)\n",
    "\t\t\tx,y = nx,ny\n",
    "\t\t\tn -= r-1\n",
    "\treturn s\n",
    "\n",
    "x,y,n = map(int, input().split())\n",
    "print (g(x,y,n))"
   ]
  },
  {
   "cell_type": "code",
   "execution_count": 9,
   "metadata": {},
   "outputs": [
    {
     "name": "stdout",
     "output_type": "stream",
     "text": [
      "100101\n",
      "-100101\n",
      "-0b10100\n",
      "-0b100\n"
     ]
    }
   ],
   "source": [
    "print(\"{0:b}\".format(37))\n",
    "print(\"{0:b}\".format(-37))\n",
    "print(bin(-20))\n",
    "print(bin(-1 << 2))"
   ]
  },
  {
   "cell_type": "code",
   "execution_count": 15,
   "metadata": {},
   "outputs": [
    {
     "name": "stdout",
     "output_type": "stream",
     "text": [
      "0b1111\n",
      "-0b1111\n",
      "7\n",
      "-8\n",
      "-0b1000\n"
     ]
    }
   ],
   "source": [
    "print(bin(15))\n",
    "print(bin(-15))\n",
    "print(15 >> 1)\n",
    "print(-15 >> 1)\n",
    "print(bin(-15 >> 1))\n"
   ]
  },
  {
   "cell_type": "code",
   "execution_count": 1,
   "metadata": {},
   "outputs": [
    {
     "name": "stdout",
     "output_type": "stream",
     "text": [
      "1\n"
     ]
    }
   ],
   "source": [
    "x = 1 << (1 << 36)\n",
    "print(x)"
   ]
  },
  {
   "cell_type": "code",
   "execution_count": 6,
   "metadata": {},
   "outputs": [
    {
     "name": "stdout",
     "output_type": "stream",
     "text": [
      "['e', 'b', 'd', 'a', 'c']\n"
     ]
    }
   ],
   "source": [
    "graph ={\n",
    "'a':['c'],\n",
    "'b':['d'],\n",
    "'c':['e'],\n",
    "'d':['a', 'd'],\n",
    "'e':['b']\n",
    "}\n",
    " \n",
    "# function to find the shortest path\n",
    "def find_shortest_path(graph, start, end, path =[]):\n",
    "        path = path + [start]\n",
    "        if start == end:\n",
    "            return path\n",
    "        shortest = None\n",
    "        for node in graph[start]:\n",
    "            if node not in path:\n",
    "                newpath = find_shortest_path(graph, node, end, path)\n",
    "                if newpath:\n",
    "                    if not shortest or len(newpath) < len(shortest):\n",
    "                        shortest = newpath\n",
    "        return shortest\n",
    "         \n",
    "# Driver function call to print\n",
    "# the shortest path\n",
    "print(find_shortest_path(graph, 'e', 'c'))"
   ]
  },
  {
   "cell_type": "code",
   "execution_count": 46,
   "metadata": {},
   "outputs": [
    {
     "name": "stdout",
     "output_type": "stream",
     "text": [
      "2\n",
      "abcdef\n",
      "fghi\n",
      "['abcdef', 'fghi']\n",
      "found\n"
     ]
    }
   ],
   "source": [
    "n = int(input())\n",
    "lst = []\n",
    "for _ in range(n):\n",
    "    lst.append(input())\n",
    "    \n",
    "lst.sort()\n",
    "print(lst)\n",
    "fin = ''\n",
    "for i in range(n-1):\n",
    "    j = 0; k = 0\n",
    "    while(j < len(lst[i]) and lst[i][j] != lst[i+1][k]):\n",
    "        j += 1\n",
    "    if (j < len(lst[i])):\n",
    "        while(j < len(lst[i]) and lst[i][j] == lst[i+1][k]):\n",
    "            j += 1\n",
    "            k += 1\n",
    "        fin += lst[i][:j] + lst[]"
   ]
  },
  {
   "cell_type": "code",
   "execution_count": 53,
   "metadata": {},
   "outputs": [
    {
     "name": "stdout",
     "output_type": "stream",
     "text": [
      "3\n",
      "abcd\n",
      "befghi\n",
      "cdbef\n",
      "0 2 2 4 cd\n",
      "abcdbef\n"
     ]
    }
   ],
   "source": [
    "n = int(input())\n",
    "lst = []\n",
    "for _ in range(n):\n",
    "    lst.append(input())\n",
    "    \n",
    "lst.sort()\n",
    "\n",
    "fin = ''\n",
    "for i in range(n):\n",
    "    size1 = len(lst[i])\n",
    "    for j in range(i+1, n):\n",
    "        for m in range(size1):\n",
    "            if lst[j].startswith(lst[i][m:size1]):\n",
    "                print(i,j, m,size1, lst[i][m:size1])\n",
    "                fin += lst[i][:m] + lst[j]\n",
    "                print(fin)\n",
    "    "
   ]
  },
  {
   "cell_type": "code",
   "execution_count": 10,
   "metadata": {},
   "outputs": [
    {
     "name": "stdout",
     "output_type": "stream",
     "text": [
      "('instance method called', <__main__.MyClass object at 0x1109926d8>)\n",
      "('instance method called', <__main__.MyClass object at 0x1109926d8>)\n",
      "('class method called', <class '__main__.MyClass'>)\n",
      "('class method called', <class '__main__.MyClass'>)\n",
      "static method called\n",
      "static method called\n"
     ]
    },
    {
     "ename": "TypeError",
     "evalue": "method() missing 1 required positional argument: 'self'",
     "output_type": "error",
     "traceback": [
      "\u001b[0;31m---------------------------------------------------------------------------\u001b[0m",
      "\u001b[0;31mTypeError\u001b[0m                                 Traceback (most recent call last)",
      "\u001b[0;32m<ipython-input-10-2238f0af8ab6>\u001b[0m in \u001b[0;36m<module>\u001b[0;34m()\u001b[0m\n\u001b[1;32m     19\u001b[0m \u001b[0mprint\u001b[0m\u001b[0;34m(\u001b[0m\u001b[0mobj\u001b[0m\u001b[0;34m.\u001b[0m\u001b[0mstaticmethod\u001b[0m\u001b[0;34m(\u001b[0m\u001b[0;34m)\u001b[0m\u001b[0;34m)\u001b[0m\u001b[0;34m\u001b[0m\u001b[0m\n\u001b[1;32m     20\u001b[0m \u001b[0mprint\u001b[0m\u001b[0;34m(\u001b[0m\u001b[0mMyClass\u001b[0m\u001b[0;34m.\u001b[0m\u001b[0mstaticmethod\u001b[0m\u001b[0;34m(\u001b[0m\u001b[0;34m)\u001b[0m\u001b[0;34m)\u001b[0m\u001b[0;34m\u001b[0m\u001b[0m\n\u001b[0;32m---> 21\u001b[0;31m \u001b[0mMyClass\u001b[0m\u001b[0;34m.\u001b[0m\u001b[0mmethod\u001b[0m\u001b[0;34m(\u001b[0m\u001b[0;34m)\u001b[0m\u001b[0;34m\u001b[0m\u001b[0m\n\u001b[0m",
      "\u001b[0;31mTypeError\u001b[0m: method() missing 1 required positional argument: 'self'"
     ]
    }
   ],
   "source": [
    "class MyClass:\n",
    "    def method(self):\n",
    "        return 'instance method called', self\n",
    "    \n",
    "    @classmethod\n",
    "    def classmethod(cls):\n",
    "        return 'class method called', cls\n",
    "    \n",
    "    @staticmethod\n",
    "    def staticmethod():\n",
    "        return 'static method called'\n",
    "    \n",
    "obj = MyClass()\n",
    "print(obj.method())\n",
    "print(MyClass.method(obj))\n",
    "# MyClass.method()\n",
    "print(obj.classmethod())\n",
    "print(MyClass.classmethod())\n",
    "print(obj.staticmethod())\n",
    "print(MyClass.staticmethod())\n",
    "MyClass.method()"
   ]
  },
  {
   "cell_type": "code",
   "execution_count": 12,
   "metadata": {},
   "outputs": [
    {
     "name": "stdout",
     "output_type": "stream",
     "text": [
      "Pizza(['cheese', 'tomatoes'])\n",
      "Pizza(['mozzarella', 'tomatoes'])\n",
      "Pizza(['mozzarella', 'tomatoes', 'ham', 'mushrooms'])\n",
      "Pizza(['mozzarella', 'mozzarella', 'mozzarella', 'mozzarella'])\n"
     ]
    }
   ],
   "source": [
    "class Pizza:\n",
    "    def __init__(self, ingredients):\n",
    "        self.ingredients = ingredients\n",
    "        \n",
    "    def __repr__(self):\n",
    "        return f'Pizza({self.ingredients!r})'\n",
    "    \n",
    "    @classmethod\n",
    "    def margherita(cls):\n",
    "        return cls(['mozzarella', 'tomatoes'])\n",
    "    \n",
    "    @classmethod\n",
    "    def prosciutto(cls):\n",
    "        return cls(['mozzarella', 'tomatoes', 'ham'])\n",
    "\n",
    "print(Pizza(['cheese', 'tomatoes']))\n",
    "print(Pizza(['mozzarella', 'tomatoes']))\n",
    "print(Pizza(['mozzarella', 'tomatoes', 'ham', 'mushrooms']))\n",
    "print(Pizza(['mozzarella'] * 4))"
   ]
  }
 ],
 "metadata": {
  "kernelspec": {
   "display_name": "Python 3",
   "language": "python",
   "name": "python3"
  },
  "language_info": {
   "codemirror_mode": {
    "name": "ipython",
    "version": 3
   },
   "file_extension": ".py",
   "mimetype": "text/x-python",
   "name": "python",
   "nbconvert_exporter": "python",
   "pygments_lexer": "ipython3",
   "version": "3.6.4"
  }
 },
 "nbformat": 4,
 "nbformat_minor": 2
}
