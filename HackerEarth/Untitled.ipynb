{
 "cells": [
  {
   "cell_type": "code",
   "execution_count": 14,
   "metadata": {},
   "outputs": [
    {
     "name": "stdout",
     "output_type": "stream",
     "text": [
      "10 7 20\n",
      "10 7\n",
      "3\n",
      "4\n",
      "1\n",
      "3\n",
      "2\n",
      "1\n",
      "1\n",
      "0\n",
      "1\n",
      "1\n",
      "0\n",
      "1\n",
      "1\n",
      "0\n",
      "1\n",
      "1\n",
      "0\n",
      "1\n",
      "39\n"
     ]
    }
   ],
   "source": [
    "x, y, n = map(int, input().split())\n",
    "print(x, y)\n",
    "res = x + y\n",
    "for i in range(2, n):\n",
    "    val = abs(x - y)\n",
    "    res += val\n",
    "    x = y\n",
    "    y = val\n",
    "    print(val)\n",
    "print(res)"
   ]
  },
  {
   "cell_type": "code",
   "execution_count": null,
   "metadata": {},
   "outputs": [],
   "source": [
    "t = int(input())\n",
    "for _ in range(t):\n",
    "    x, y, n = map(int, input().split())\n",
    "    lst = []\n",
    "    lst.append(x)\n",
    "    lst.append(y)\n",
    "    \n",
    "    for i in range(2, n):\n",
    "        val = abs(lst[i-1] - lst[i-2])\n",
    "        lst.append(val)\n",
    "    print(sum(lst))"
   ]
  },
  {
   "cell_type": "code",
   "execution_count": null,
   "metadata": {},
   "outputs": [],
   "source": [
    "t = int(input())\n",
    "for _ in range(t):\n",
    "    x, y, n = map(int, input().split())\n",
    "    res = x + y\n",
    "    for i in range(2, n):\n",
    "        val = abs(x - y)\n",
    "        res += val\n",
    "        x = y\n",
    "        y = val\n",
    "    print(res)"
   ]
  },
  {
   "cell_type": "code",
   "execution_count": 18,
   "metadata": {},
   "outputs": [
    {
     "name": "stdout",
     "output_type": "stream",
     "text": [
      "1\n",
      "1000000000 999999999 1000000000\n",
      "4.444444452222223e+17\n"
     ]
    }
   ],
   "source": [
    "def g(x,y,n):\n",
    "\ts = 0\n",
    "\twhile (n > 0):\n",
    "\t\tif n == 1:\n",
    "\t\t\ts += x\n",
    "\t\t\tbreak\n",
    "\t\telif n == 2:\n",
    "\t\t\ts += x+y\n",
    "\t\t\tbreak\n",
    "\t\telif y == 0:\n",
    "\t\t\ts += x * (2 * ((n-2)//3) + (n-2)%3 + 1)\n",
    "\t\t\tbreak\n",
    "\t\telif x<=y: \n",
    "\t\t\ts += x\n",
    "\t\t\tx,y = y,y-x\n",
    "\t\t\tn -= 1\n",
    "\t\telse:\n",
    "\t\t\td = x-y\n",
    "\t\t\tk = x//d\n",
    "\t\t\tif k % 2 == 0:\n",
    "                k -= 1\n",
    "\t\t\tt = (k+1)/2\n",
    "\t\t\tr = 3*t\n",
    "\t\t\tif n <= r:\n",
    "\t\t\t\tt = n//3\n",
    "\t\t\t\tr = 3*t\n",
    "\t\t\t\tk = 2*t-1\n",
    "\t\t\ts += d*(t-1) + 2*x*t - d*k*(k+1)/2\n",
    "\t\t\tnx = d\n",
    "\t\t\tny = abs(x - k*d - d)\n",
    "\t\t\tx,y = nx,ny\n",
    "\t\t\tn -= r-1\n",
    "\treturn s\n",
    "\n",
    "x,y,n = map(int, input().split())\n",
    "print (g(x,y,n))"
   ]
  },
  {
   "cell_type": "code",
   "execution_count": 9,
   "metadata": {},
   "outputs": [
    {
     "name": "stdout",
     "output_type": "stream",
     "text": [
      "100101\n",
      "-100101\n",
      "-0b10100\n",
      "-0b100\n"
     ]
    }
   ],
   "source": [
    "print(\"{0:b}\".format(37))\n",
    "print(\"{0:b}\".format(-37))\n",
    "print(bin(-20))\n",
    "print(bin(-1 << 2))"
   ]
  },
  {
   "cell_type": "code",
   "execution_count": 15,
   "metadata": {},
   "outputs": [
    {
     "name": "stdout",
     "output_type": "stream",
     "text": [
      "0b1111\n",
      "-0b1111\n",
      "7\n",
      "-8\n",
      "-0b1000\n"
     ]
    }
   ],
   "source": [
    "print(bin(15))\n",
    "print(bin(-15))\n",
    "print(15 >> 1)\n",
    "print(-15 >> 1)\n",
    "print(bin(-15 >> 1))\n"
   ]
  },
  {
   "cell_type": "code",
   "execution_count": 1,
   "metadata": {},
   "outputs": [
    {
     "name": "stdout",
     "output_type": "stream",
     "text": [
      "1\n"
     ]
    }
   ],
   "source": [
    "x = 1 << (1 << 36)\n",
    "print(x)"
   ]
  },
  {
   "cell_type": "code",
   "execution_count": 6,
   "metadata": {},
   "outputs": [
    {
     "name": "stdout",
     "output_type": "stream",
     "text": [
      "['e', 'b', 'd', 'a', 'c']\n"
     ]
    }
   ],
   "source": [
    "graph ={\n",
    "'a':['c'],\n",
    "'b':['d'],\n",
    "'c':['e'],\n",
    "'d':['a', 'd'],\n",
    "'e':['b']\n",
    "}\n",
    " \n",
    "# function to find the shortest path\n",
    "def find_shortest_path(graph, start, end, path =[]):\n",
    "        path = path + [start]\n",
    "        if start == end:\n",
    "            return path\n",
    "        shortest = None\n",
    "        for node in graph[start]:\n",
    "            if node not in path:\n",
    "                newpath = find_shortest_path(graph, node, end, path)\n",
    "                if newpath:\n",
    "                    if not shortest or len(newpath) < len(shortest):\n",
    "                        shortest = newpath\n",
    "        return shortest\n",
    "         \n",
    "# Driver function call to print\n",
    "# the shortest path\n",
    "print(find_shortest_path(graph, 'e', 'c'))"
   ]
  },
  {
   "cell_type": "code",
   "execution_count": 46,
   "metadata": {},
   "outputs": [
    {
     "name": "stdout",
     "output_type": "stream",
     "text": [
      "2\n",
      "abcdef\n",
      "fghi\n",
      "['abcdef', 'fghi']\n",
      "found\n"
     ]
    }
   ],
   "source": [
    "n = int(input())\n",
    "lst = []\n",
    "for _ in range(n):\n",
    "    lst.append(input())\n",
    "    \n",
    "lst.sort()\n",
    "print(lst)\n",
    "fin = ''\n",
    "for i in range(n-1):\n",
    "    j = 0; k = 0\n",
    "    while(j < len(lst[i]) and lst[i][j] != lst[i+1][k]):\n",
    "        j += 1\n",
    "    if (j < len(lst[i])):\n",
    "        while(j < len(lst[i]) and lst[i][j] == lst[i+1][k]):\n",
    "            j += 1\n",
    "            k += 1\n",
    "        fin += lst[i][:j] + lst[]"
   ]
  },
  {
   "cell_type": "code",
   "execution_count": 53,
   "metadata": {},
   "outputs": [
    {
     "name": "stdout",
     "output_type": "stream",
     "text": [
      "3\n",
      "abcd\n",
      "befghi\n",
      "cdbef\n",
      "0 2 2 4 cd\n",
      "abcdbef\n"
     ]
    }
   ],
   "source": [
    "n = int(input())\n",
    "lst = []\n",
    "for _ in range(n):\n",
    "    lst.append(input())\n",
    "    \n",
    "lst.sort()\n",
    "\n",
    "fin = ''\n",
    "for i in range(n):\n",
    "    size1 = len(lst[i])\n",
    "    for j in range(i+1, n):\n",
    "        for m in range(size1):\n",
    "            if lst[j].startswith(lst[i][m:size1]):\n",
    "                print(i,j, m,size1, lst[i][m:size1])\n",
    "                fin += lst[i][:m] + lst[j]\n",
    "                print(fin)\n",
    "    "
   ]
  },
  {
   "cell_type": "code",
   "execution_count": 10,
   "metadata": {},
   "outputs": [
    {
     "name": "stdout",
     "output_type": "stream",
     "text": [
      "()\n",
      "(1,)\n",
      "(2,)\n",
      "(3,)\n",
      "(1, 2)\n",
      "(1, 3)\n",
      "(2, 3)\n",
      "(1, 2, 3)\n"
     ]
    }
   ],
   "source": [
    "from itertools import chain, combinations\n",
    "def all_subsets(s):\n",
    "    return chain(*map(lambda x: combinations(s, x), range(0, len(s)+1)))\n",
    "\n",
    "for item in all_subsets([1,2,3]):\n",
    "    print(item)"
   ]
  },
  {
   "cell_type": "code",
   "execution_count": 2,
   "metadata": {},
   "outputs": [
    {
     "name": "stdout",
     "output_type": "stream",
     "text": [
      "['abc', '123']\n",
      "['abc', '123']\n"
     ]
    }
   ],
   "source": [
    "# Path += [start] and path = path + [start] is giving different answers\n",
    "\n",
    "path = ['abc']\n",
    "start = '123'\n",
    "\n",
    "path1 = ['abc']\n",
    "start1 = '123'\n",
    "\n",
    "path += [start]\n",
    "\n",
    "print(path)\n",
    "\n",
    "path1 = path1 + [start1]\n",
    "\n",
    "print(path1)"
   ]
  },
  {
   "cell_type": "code",
   "execution_count": 1,
   "metadata": {},
   "outputs": [
    {
     "name": "stdout",
     "output_type": "stream",
     "text": [
      "3\n"
     ]
    }
   ],
   "source": [
    "counter = {}\n",
    "\n",
    "def addToCounter(country):\n",
    "    if country in counter:\n",
    "        counter[country] += 1\n",
    "    else:\n",
    "        counter[country] = 1\n",
    "        \n",
    "addToCounter('China')\n",
    "addToCounter('Japan')\n",
    "addToCounter('china')\n",
    "\n",
    "print(len(counter))"
   ]
  },
  {
   "cell_type": "code",
   "execution_count": 6,
   "metadata": {},
   "outputs": [
    {
     "name": "stdout",
     "output_type": "stream",
     "text": [
      "True\n",
      "True\n",
      "True\n"
     ]
    }
   ],
   "source": [
    "a = ['a', 'a', 'a']\n",
    "\n",
    "print(len(set(a)) == 1)\n",
    "\n",
    "print(all(x == a[0] for x in a))\n",
    "\n",
    "print(a.count(a[0]) == len(a))"
   ]
  },
  {
   "cell_type": "code",
   "execution_count": 10,
   "metadata": {},
   "outputs": [
    {
     "name": "stdout",
     "output_type": "stream",
     "text": [
      "None\n"
     ]
    },
    {
     "ename": "ValueError",
     "evalue": "Needle not found",
     "output_type": "error",
     "traceback": [
      "\u001b[0;31m---------------------------------------------------------------------------\u001b[0m",
      "\u001b[0;31mValueError\u001b[0m                                Traceback (most recent call last)",
      "\u001b[0;32m<ipython-input-10-24d2bfe2abe5>\u001b[0m in \u001b[0;36m<module>\u001b[0;34m()\u001b[0m\n\u001b[1;32m     15\u001b[0m \u001b[0;34m\u001b[0m\u001b[0m\n\u001b[1;32m     16\u001b[0m \u001b[0mprint\u001b[0m\u001b[0;34m(\u001b[0m\u001b[0mcontains\u001b[0m\u001b[0;34m(\u001b[0m\u001b[0;34m[\u001b[0m\u001b[0;36m23\u001b[0m\u001b[0;34m,\u001b[0m \u001b[0;34m'needle'\u001b[0m\u001b[0;34m,\u001b[0m \u001b[0;36m0xbadc0ffee\u001b[0m\u001b[0;34m]\u001b[0m\u001b[0;34m,\u001b[0m \u001b[0;34m'needle'\u001b[0m\u001b[0;34m)\u001b[0m\u001b[0;34m)\u001b[0m\u001b[0;34m\u001b[0m\u001b[0m\n\u001b[0;32m---> 17\u001b[0;31m \u001b[0mprint\u001b[0m\u001b[0;34m(\u001b[0m\u001b[0mcontains\u001b[0m\u001b[0;34m(\u001b[0m\u001b[0;34m[\u001b[0m\u001b[0;36m23\u001b[0m\u001b[0;34m,\u001b[0m \u001b[0;36m42\u001b[0m\u001b[0;34m,\u001b[0m \u001b[0;36m0xbadc0ffee\u001b[0m\u001b[0;34m]\u001b[0m\u001b[0;34m,\u001b[0m \u001b[0;34m'needle'\u001b[0m\u001b[0;34m)\u001b[0m\u001b[0;34m)\u001b[0m\u001b[0;34m\u001b[0m\u001b[0m\n\u001b[0m",
      "\u001b[0;32m<ipython-input-10-24d2bfe2abe5>\u001b[0m in \u001b[0;36mcontains\u001b[0;34m(haystack, needle)\u001b[0m\n\u001b[1;32m     12\u001b[0m         \u001b[0;31m# only if the loop ran to completion\u001b[0m\u001b[0;34m\u001b[0m\u001b[0;34m\u001b[0m\u001b[0m\n\u001b[1;32m     13\u001b[0m         \u001b[0;31m# without hitting a `break` statement.\u001b[0m\u001b[0;34m\u001b[0m\u001b[0;34m\u001b[0m\u001b[0m\n\u001b[0;32m---> 14\u001b[0;31m         \u001b[0;32mraise\u001b[0m \u001b[0mValueError\u001b[0m\u001b[0;34m(\u001b[0m\u001b[0;34m'Needle not found'\u001b[0m\u001b[0;34m)\u001b[0m\u001b[0;34m\u001b[0m\u001b[0m\n\u001b[0m\u001b[1;32m     15\u001b[0m \u001b[0;34m\u001b[0m\u001b[0m\n\u001b[1;32m     16\u001b[0m \u001b[0mprint\u001b[0m\u001b[0;34m(\u001b[0m\u001b[0mcontains\u001b[0m\u001b[0;34m(\u001b[0m\u001b[0;34m[\u001b[0m\u001b[0;36m23\u001b[0m\u001b[0;34m,\u001b[0m \u001b[0;34m'needle'\u001b[0m\u001b[0;34m,\u001b[0m \u001b[0;36m0xbadc0ffee\u001b[0m\u001b[0;34m]\u001b[0m\u001b[0;34m,\u001b[0m \u001b[0;34m'needle'\u001b[0m\u001b[0;34m)\u001b[0m\u001b[0;34m)\u001b[0m\u001b[0;34m\u001b[0m\u001b[0m\n",
      "\u001b[0;31mValueError\u001b[0m: Needle not found"
     ]
    }
   ],
   "source": [
    "def contains(haystack, needle):\n",
    "    \"\"\"\n",
    "    Throw a ValueError if `needle` not\n",
    "    in `haystack`.\n",
    "    \"\"\"\n",
    "    for item in haystack:\n",
    "        if item == needle:\n",
    "            break\n",
    "    else:\n",
    "        # The `else` here is a\n",
    "        # \"completion clause\" that runs\n",
    "        # only if the loop ran to completion\n",
    "        # without hitting a `break` statement.\n",
    "        raise ValueError('Needle not found')\n",
    "        \n",
    "print(contains([23, 'needle', 0xbadc0ffee], 'needle'))\n",
    "print(contains([23, 42, 0xbadc0ffee], 'needle'))"
   ]
  },
  {
   "cell_type": "code",
   "execution_count": 11,
   "metadata": {},
   "outputs": [
    {
     "data": {
      "text/plain": [
       "{'In': ['',\n",
       "  \"counter = {}\\n\\ndef addToCounter(country):\\n    if country in counter:\\n        counter[country] += 1\\n    else:\\n        counter[country] = 1\\n        \\naddToCounter('China')\\naddToCounter('Japan')\\naddToCounter('china')\\n\\nprint(len(counter))\",\n",
       "  \"a = ['a', 'a', 'a']\\na\",\n",
       "  \"a = ['a', 'a', 'a']\\n\\nprint(set(a))\",\n",
       "  \"a = ['a', 'a', 'a']\\n\\nprint(len(set(a)) == 1)\",\n",
       "  \"a = ['a', 'a', 'a']\\n\\nprint(len(set(a)) == 1)\\n\\nprint(all(x == a[0] for x in a))\",\n",
       "  \"a = ['a', 'a', 'a']\\n\\nprint(len(set(a)) == 1)\\n\\nprint(all(x == a[0] for x in a))\\n\\nprint(a.count(a[0]) == len(a))\",\n",
       "  'def contains(haystack, needle):\\n    \"\"\"\\n    Throw a ValueError if `needle` not\\n    in `haystack`.\\n    \"\"\"\\n    for item in haystack:\\n        if item == needle:\\n            break\\n    else:\\n        # The `else` here is a\\n        # \"completion clause\" that runs\\n        # only if the loop ran to completion\\n        # without hitting a `break` statement.\\n        raise ValueError(\\'Needle not found\\')\\n        \\ncontains([23, \\'needle\\', 0xbadc0ffee], \\'needle\\')',\n",
       "  'def contains(haystack, needle):\\n    \"\"\"\\n    Throw a ValueError if `needle` not\\n    in `haystack`.\\n    \"\"\"\\n    for item in haystack:\\n        if item == needle:\\n            break\\n    else:\\n        # The `else` here is a\\n        # \"completion clause\" that runs\\n        # only if the loop ran to completion\\n        # without hitting a `break` statement.\\n        raise ValueError(\\'Needle not found\\')\\n        \\nprint(contains([23, \\'needle\\', 0xbadc0ffee], \\'needle\\'))',\n",
       "  'def contains(haystack, needle):\\n    \"\"\"\\n    Throw a ValueError if `needle` not\\n    in `haystack`.\\n    \"\"\"\\n    for item in haystack:\\n        if item == needle:\\n            break\\n    else:\\n        # The `else` here is a\\n        # \"completion clause\" that runs\\n        # only if the loop ran to completion\\n        # without hitting a `break` statement.\\n        raise ValueError(\\'Needle not found\\')\\n        \\nprint(contains([23, \\'needle\\', 0xbadc0ffee], \\'needle\\'))\\nprint(contains([23, 42, 0xbadc0ffee], \\'needle\\'))',\n",
       "  'def contains(haystack, needle):\\n    \"\"\"\\n    Throw a ValueError if `needle` not\\n    in `haystack`.\\n    \"\"\"\\n    for item in haystack:\\n        if item == needle:\\n            break\\n    else:\\n        # The `else` here is a\\n        # \"completion clause\" that runs\\n        # only if the loop ran to completion\\n        # without hitting a `break` statement.\\n        raise ValueError(\\'Needle not found\\')\\n        \\nprint(contains([23, \\'needle\\', 0xbadc0ffee], \\'needle\\'))\\nprint(contains([23, 42, 0xbadc0ffee], \\'needle\\'))',\n",
       "  'globals()'],\n",
       " 'Out': {2: ['a', 'a', 'a']},\n",
       " '_': ['a', 'a', 'a'],\n",
       " '_2': ['a', 'a', 'a'],\n",
       " '__': '',\n",
       " '___': '',\n",
       " '__builtin__': <module 'builtins' (built-in)>,\n",
       " '__builtins__': <module 'builtins' (built-in)>,\n",
       " '__doc__': 'Automatically created module for IPython interactive environment',\n",
       " '__loader__': None,\n",
       " '__name__': '__main__',\n",
       " '__package__': None,\n",
       " '__spec__': None,\n",
       " '_dh': ['/Users/deepak/Repositories/Python-Notebook/HackerEarth'],\n",
       " '_i': 'def contains(haystack, needle):\\n    \"\"\"\\n    Throw a ValueError if `needle` not\\n    in `haystack`.\\n    \"\"\"\\n    for item in haystack:\\n        if item == needle:\\n            break\\n    else:\\n        # The `else` here is a\\n        # \"completion clause\" that runs\\n        # only if the loop ran to completion\\n        # without hitting a `break` statement.\\n        raise ValueError(\\'Needle not found\\')\\n        \\nprint(contains([23, \\'needle\\', 0xbadc0ffee], \\'needle\\'))\\nprint(contains([23, 42, 0xbadc0ffee], \\'needle\\'))',\n",
       " '_i1': \"counter = {}\\n\\ndef addToCounter(country):\\n    if country in counter:\\n        counter[country] += 1\\n    else:\\n        counter[country] = 1\\n        \\naddToCounter('China')\\naddToCounter('Japan')\\naddToCounter('china')\\n\\nprint(len(counter))\",\n",
       " '_i10': 'def contains(haystack, needle):\\n    \"\"\"\\n    Throw a ValueError if `needle` not\\n    in `haystack`.\\n    \"\"\"\\n    for item in haystack:\\n        if item == needle:\\n            break\\n    else:\\n        # The `else` here is a\\n        # \"completion clause\" that runs\\n        # only if the loop ran to completion\\n        # without hitting a `break` statement.\\n        raise ValueError(\\'Needle not found\\')\\n        \\nprint(contains([23, \\'needle\\', 0xbadc0ffee], \\'needle\\'))\\nprint(contains([23, 42, 0xbadc0ffee], \\'needle\\'))',\n",
       " '_i11': 'globals()',\n",
       " '_i2': \"a = ['a', 'a', 'a']\\na\",\n",
       " '_i3': \"a = ['a', 'a', 'a']\\n\\nprint(set(a))\",\n",
       " '_i4': \"a = ['a', 'a', 'a']\\n\\nprint(len(set(a)) == 1)\",\n",
       " '_i5': \"a = ['a', 'a', 'a']\\n\\nprint(len(set(a)) == 1)\\n\\nprint(all(x == a[0] for x in a))\",\n",
       " '_i6': \"a = ['a', 'a', 'a']\\n\\nprint(len(set(a)) == 1)\\n\\nprint(all(x == a[0] for x in a))\\n\\nprint(a.count(a[0]) == len(a))\",\n",
       " '_i7': 'def contains(haystack, needle):\\n    \"\"\"\\n    Throw a ValueError if `needle` not\\n    in `haystack`.\\n    \"\"\"\\n    for item in haystack:\\n        if item == needle:\\n            break\\n    else:\\n        # The `else` here is a\\n        # \"completion clause\" that runs\\n        # only if the loop ran to completion\\n        # without hitting a `break` statement.\\n        raise ValueError(\\'Needle not found\\')\\n        \\ncontains([23, \\'needle\\', 0xbadc0ffee], \\'needle\\')',\n",
       " '_i8': 'def contains(haystack, needle):\\n    \"\"\"\\n    Throw a ValueError if `needle` not\\n    in `haystack`.\\n    \"\"\"\\n    for item in haystack:\\n        if item == needle:\\n            break\\n    else:\\n        # The `else` here is a\\n        # \"completion clause\" that runs\\n        # only if the loop ran to completion\\n        # without hitting a `break` statement.\\n        raise ValueError(\\'Needle not found\\')\\n        \\nprint(contains([23, \\'needle\\', 0xbadc0ffee], \\'needle\\'))',\n",
       " '_i9': 'def contains(haystack, needle):\\n    \"\"\"\\n    Throw a ValueError if `needle` not\\n    in `haystack`.\\n    \"\"\"\\n    for item in haystack:\\n        if item == needle:\\n            break\\n    else:\\n        # The `else` here is a\\n        # \"completion clause\" that runs\\n        # only if the loop ran to completion\\n        # without hitting a `break` statement.\\n        raise ValueError(\\'Needle not found\\')\\n        \\nprint(contains([23, \\'needle\\', 0xbadc0ffee], \\'needle\\'))\\nprint(contains([23, 42, 0xbadc0ffee], \\'needle\\'))',\n",
       " '_ih': ['',\n",
       "  \"counter = {}\\n\\ndef addToCounter(country):\\n    if country in counter:\\n        counter[country] += 1\\n    else:\\n        counter[country] = 1\\n        \\naddToCounter('China')\\naddToCounter('Japan')\\naddToCounter('china')\\n\\nprint(len(counter))\",\n",
       "  \"a = ['a', 'a', 'a']\\na\",\n",
       "  \"a = ['a', 'a', 'a']\\n\\nprint(set(a))\",\n",
       "  \"a = ['a', 'a', 'a']\\n\\nprint(len(set(a)) == 1)\",\n",
       "  \"a = ['a', 'a', 'a']\\n\\nprint(len(set(a)) == 1)\\n\\nprint(all(x == a[0] for x in a))\",\n",
       "  \"a = ['a', 'a', 'a']\\n\\nprint(len(set(a)) == 1)\\n\\nprint(all(x == a[0] for x in a))\\n\\nprint(a.count(a[0]) == len(a))\",\n",
       "  'def contains(haystack, needle):\\n    \"\"\"\\n    Throw a ValueError if `needle` not\\n    in `haystack`.\\n    \"\"\"\\n    for item in haystack:\\n        if item == needle:\\n            break\\n    else:\\n        # The `else` here is a\\n        # \"completion clause\" that runs\\n        # only if the loop ran to completion\\n        # without hitting a `break` statement.\\n        raise ValueError(\\'Needle not found\\')\\n        \\ncontains([23, \\'needle\\', 0xbadc0ffee], \\'needle\\')',\n",
       "  'def contains(haystack, needle):\\n    \"\"\"\\n    Throw a ValueError if `needle` not\\n    in `haystack`.\\n    \"\"\"\\n    for item in haystack:\\n        if item == needle:\\n            break\\n    else:\\n        # The `else` here is a\\n        # \"completion clause\" that runs\\n        # only if the loop ran to completion\\n        # without hitting a `break` statement.\\n        raise ValueError(\\'Needle not found\\')\\n        \\nprint(contains([23, \\'needle\\', 0xbadc0ffee], \\'needle\\'))',\n",
       "  'def contains(haystack, needle):\\n    \"\"\"\\n    Throw a ValueError if `needle` not\\n    in `haystack`.\\n    \"\"\"\\n    for item in haystack:\\n        if item == needle:\\n            break\\n    else:\\n        # The `else` here is a\\n        # \"completion clause\" that runs\\n        # only if the loop ran to completion\\n        # without hitting a `break` statement.\\n        raise ValueError(\\'Needle not found\\')\\n        \\nprint(contains([23, \\'needle\\', 0xbadc0ffee], \\'needle\\'))\\nprint(contains([23, 42, 0xbadc0ffee], \\'needle\\'))',\n",
       "  'def contains(haystack, needle):\\n    \"\"\"\\n    Throw a ValueError if `needle` not\\n    in `haystack`.\\n    \"\"\"\\n    for item in haystack:\\n        if item == needle:\\n            break\\n    else:\\n        # The `else` here is a\\n        # \"completion clause\" that runs\\n        # only if the loop ran to completion\\n        # without hitting a `break` statement.\\n        raise ValueError(\\'Needle not found\\')\\n        \\nprint(contains([23, \\'needle\\', 0xbadc0ffee], \\'needle\\'))\\nprint(contains([23, 42, 0xbadc0ffee], \\'needle\\'))',\n",
       "  'globals()'],\n",
       " '_ii': 'def contains(haystack, needle):\\n    \"\"\"\\n    Throw a ValueError if `needle` not\\n    in `haystack`.\\n    \"\"\"\\n    for item in haystack:\\n        if item == needle:\\n            break\\n    else:\\n        # The `else` here is a\\n        # \"completion clause\" that runs\\n        # only if the loop ran to completion\\n        # without hitting a `break` statement.\\n        raise ValueError(\\'Needle not found\\')\\n        \\nprint(contains([23, \\'needle\\', 0xbadc0ffee], \\'needle\\'))\\nprint(contains([23, 42, 0xbadc0ffee], \\'needle\\'))',\n",
       " '_iii': 'def contains(haystack, needle):\\n    \"\"\"\\n    Throw a ValueError if `needle` not\\n    in `haystack`.\\n    \"\"\"\\n    for item in haystack:\\n        if item == needle:\\n            break\\n    else:\\n        # The `else` here is a\\n        # \"completion clause\" that runs\\n        # only if the loop ran to completion\\n        # without hitting a `break` statement.\\n        raise ValueError(\\'Needle not found\\')\\n        \\nprint(contains([23, \\'needle\\', 0xbadc0ffee], \\'needle\\'))',\n",
       " '_oh': {2: ['a', 'a', 'a']},\n",
       " 'a': ['a', 'a', 'a'],\n",
       " 'addToCounter': <function __main__.addToCounter>,\n",
       " 'contains': <function __main__.contains>,\n",
       " 'counter': {'China': 1, 'Japan': 1, 'china': 1},\n",
       " 'exit': <IPython.core.autocall.ZMQExitAutocall at 0x102b94f98>,\n",
       " 'get_ipython': <bound method InteractiveShell.get_ipython of <ipykernel.zmqshell.ZMQInteractiveShell object at 0x102b46780>>,\n",
       " 'quit': <IPython.core.autocall.ZMQExitAutocall at 0x102b94f98>}"
      ]
     },
     "execution_count": 11,
     "metadata": {},
     "output_type": "execute_result"
    }
   ],
   "source": [
    "globals()"
   ]
  },
  {
   "cell_type": "code",
   "execution_count": 12,
   "metadata": {},
   "outputs": [
    {
     "data": {
      "text/plain": [
       "{'In': ['',\n",
       "  \"counter = {}\\n\\ndef addToCounter(country):\\n    if country in counter:\\n        counter[country] += 1\\n    else:\\n        counter[country] = 1\\n        \\naddToCounter('China')\\naddToCounter('Japan')\\naddToCounter('china')\\n\\nprint(len(counter))\",\n",
       "  \"a = ['a', 'a', 'a']\\na\",\n",
       "  \"a = ['a', 'a', 'a']\\n\\nprint(set(a))\",\n",
       "  \"a = ['a', 'a', 'a']\\n\\nprint(len(set(a)) == 1)\",\n",
       "  \"a = ['a', 'a', 'a']\\n\\nprint(len(set(a)) == 1)\\n\\nprint(all(x == a[0] for x in a))\",\n",
       "  \"a = ['a', 'a', 'a']\\n\\nprint(len(set(a)) == 1)\\n\\nprint(all(x == a[0] for x in a))\\n\\nprint(a.count(a[0]) == len(a))\",\n",
       "  'def contains(haystack, needle):\\n    \"\"\"\\n    Throw a ValueError if `needle` not\\n    in `haystack`.\\n    \"\"\"\\n    for item in haystack:\\n        if item == needle:\\n            break\\n    else:\\n        # The `else` here is a\\n        # \"completion clause\" that runs\\n        # only if the loop ran to completion\\n        # without hitting a `break` statement.\\n        raise ValueError(\\'Needle not found\\')\\n        \\ncontains([23, \\'needle\\', 0xbadc0ffee], \\'needle\\')',\n",
       "  'def contains(haystack, needle):\\n    \"\"\"\\n    Throw a ValueError if `needle` not\\n    in `haystack`.\\n    \"\"\"\\n    for item in haystack:\\n        if item == needle:\\n            break\\n    else:\\n        # The `else` here is a\\n        # \"completion clause\" that runs\\n        # only if the loop ran to completion\\n        # without hitting a `break` statement.\\n        raise ValueError(\\'Needle not found\\')\\n        \\nprint(contains([23, \\'needle\\', 0xbadc0ffee], \\'needle\\'))',\n",
       "  'def contains(haystack, needle):\\n    \"\"\"\\n    Throw a ValueError if `needle` not\\n    in `haystack`.\\n    \"\"\"\\n    for item in haystack:\\n        if item == needle:\\n            break\\n    else:\\n        # The `else` here is a\\n        # \"completion clause\" that runs\\n        # only if the loop ran to completion\\n        # without hitting a `break` statement.\\n        raise ValueError(\\'Needle not found\\')\\n        \\nprint(contains([23, \\'needle\\', 0xbadc0ffee], \\'needle\\'))\\nprint(contains([23, 42, 0xbadc0ffee], \\'needle\\'))',\n",
       "  'def contains(haystack, needle):\\n    \"\"\"\\n    Throw a ValueError if `needle` not\\n    in `haystack`.\\n    \"\"\"\\n    for item in haystack:\\n        if item == needle:\\n            break\\n    else:\\n        # The `else` here is a\\n        # \"completion clause\" that runs\\n        # only if the loop ran to completion\\n        # without hitting a `break` statement.\\n        raise ValueError(\\'Needle not found\\')\\n        \\nprint(contains([23, \\'needle\\', 0xbadc0ffee], \\'needle\\'))\\nprint(contains([23, 42, 0xbadc0ffee], \\'needle\\'))',\n",
       "  'globals()',\n",
       "  'locals()'],\n",
       " 'Out': {2: ['a', 'a', 'a'], 11: {...}},\n",
       " '_': {...},\n",
       " '_11': {...},\n",
       " '_2': ['a', 'a', 'a'],\n",
       " '__': ['a', 'a', 'a'],\n",
       " '___': '',\n",
       " '__builtin__': <module 'builtins' (built-in)>,\n",
       " '__builtins__': <module 'builtins' (built-in)>,\n",
       " '__doc__': 'Automatically created module for IPython interactive environment',\n",
       " '__loader__': None,\n",
       " '__name__': '__main__',\n",
       " '__package__': None,\n",
       " '__spec__': None,\n",
       " '_dh': ['/Users/deepak/Repositories/Python-Notebook/HackerEarth'],\n",
       " '_i': 'globals()',\n",
       " '_i1': \"counter = {}\\n\\ndef addToCounter(country):\\n    if country in counter:\\n        counter[country] += 1\\n    else:\\n        counter[country] = 1\\n        \\naddToCounter('China')\\naddToCounter('Japan')\\naddToCounter('china')\\n\\nprint(len(counter))\",\n",
       " '_i10': 'def contains(haystack, needle):\\n    \"\"\"\\n    Throw a ValueError if `needle` not\\n    in `haystack`.\\n    \"\"\"\\n    for item in haystack:\\n        if item == needle:\\n            break\\n    else:\\n        # The `else` here is a\\n        # \"completion clause\" that runs\\n        # only if the loop ran to completion\\n        # without hitting a `break` statement.\\n        raise ValueError(\\'Needle not found\\')\\n        \\nprint(contains([23, \\'needle\\', 0xbadc0ffee], \\'needle\\'))\\nprint(contains([23, 42, 0xbadc0ffee], \\'needle\\'))',\n",
       " '_i11': 'globals()',\n",
       " '_i12': 'locals()',\n",
       " '_i2': \"a = ['a', 'a', 'a']\\na\",\n",
       " '_i3': \"a = ['a', 'a', 'a']\\n\\nprint(set(a))\",\n",
       " '_i4': \"a = ['a', 'a', 'a']\\n\\nprint(len(set(a)) == 1)\",\n",
       " '_i5': \"a = ['a', 'a', 'a']\\n\\nprint(len(set(a)) == 1)\\n\\nprint(all(x == a[0] for x in a))\",\n",
       " '_i6': \"a = ['a', 'a', 'a']\\n\\nprint(len(set(a)) == 1)\\n\\nprint(all(x == a[0] for x in a))\\n\\nprint(a.count(a[0]) == len(a))\",\n",
       " '_i7': 'def contains(haystack, needle):\\n    \"\"\"\\n    Throw a ValueError if `needle` not\\n    in `haystack`.\\n    \"\"\"\\n    for item in haystack:\\n        if item == needle:\\n            break\\n    else:\\n        # The `else` here is a\\n        # \"completion clause\" that runs\\n        # only if the loop ran to completion\\n        # without hitting a `break` statement.\\n        raise ValueError(\\'Needle not found\\')\\n        \\ncontains([23, \\'needle\\', 0xbadc0ffee], \\'needle\\')',\n",
       " '_i8': 'def contains(haystack, needle):\\n    \"\"\"\\n    Throw a ValueError if `needle` not\\n    in `haystack`.\\n    \"\"\"\\n    for item in haystack:\\n        if item == needle:\\n            break\\n    else:\\n        # The `else` here is a\\n        # \"completion clause\" that runs\\n        # only if the loop ran to completion\\n        # without hitting a `break` statement.\\n        raise ValueError(\\'Needle not found\\')\\n        \\nprint(contains([23, \\'needle\\', 0xbadc0ffee], \\'needle\\'))',\n",
       " '_i9': 'def contains(haystack, needle):\\n    \"\"\"\\n    Throw a ValueError if `needle` not\\n    in `haystack`.\\n    \"\"\"\\n    for item in haystack:\\n        if item == needle:\\n            break\\n    else:\\n        # The `else` here is a\\n        # \"completion clause\" that runs\\n        # only if the loop ran to completion\\n        # without hitting a `break` statement.\\n        raise ValueError(\\'Needle not found\\')\\n        \\nprint(contains([23, \\'needle\\', 0xbadc0ffee], \\'needle\\'))\\nprint(contains([23, 42, 0xbadc0ffee], \\'needle\\'))',\n",
       " '_ih': ['',\n",
       "  \"counter = {}\\n\\ndef addToCounter(country):\\n    if country in counter:\\n        counter[country] += 1\\n    else:\\n        counter[country] = 1\\n        \\naddToCounter('China')\\naddToCounter('Japan')\\naddToCounter('china')\\n\\nprint(len(counter))\",\n",
       "  \"a = ['a', 'a', 'a']\\na\",\n",
       "  \"a = ['a', 'a', 'a']\\n\\nprint(set(a))\",\n",
       "  \"a = ['a', 'a', 'a']\\n\\nprint(len(set(a)) == 1)\",\n",
       "  \"a = ['a', 'a', 'a']\\n\\nprint(len(set(a)) == 1)\\n\\nprint(all(x == a[0] for x in a))\",\n",
       "  \"a = ['a', 'a', 'a']\\n\\nprint(len(set(a)) == 1)\\n\\nprint(all(x == a[0] for x in a))\\n\\nprint(a.count(a[0]) == len(a))\",\n",
       "  'def contains(haystack, needle):\\n    \"\"\"\\n    Throw a ValueError if `needle` not\\n    in `haystack`.\\n    \"\"\"\\n    for item in haystack:\\n        if item == needle:\\n            break\\n    else:\\n        # The `else` here is a\\n        # \"completion clause\" that runs\\n        # only if the loop ran to completion\\n        # without hitting a `break` statement.\\n        raise ValueError(\\'Needle not found\\')\\n        \\ncontains([23, \\'needle\\', 0xbadc0ffee], \\'needle\\')',\n",
       "  'def contains(haystack, needle):\\n    \"\"\"\\n    Throw a ValueError if `needle` not\\n    in `haystack`.\\n    \"\"\"\\n    for item in haystack:\\n        if item == needle:\\n            break\\n    else:\\n        # The `else` here is a\\n        # \"completion clause\" that runs\\n        # only if the loop ran to completion\\n        # without hitting a `break` statement.\\n        raise ValueError(\\'Needle not found\\')\\n        \\nprint(contains([23, \\'needle\\', 0xbadc0ffee], \\'needle\\'))',\n",
       "  'def contains(haystack, needle):\\n    \"\"\"\\n    Throw a ValueError if `needle` not\\n    in `haystack`.\\n    \"\"\"\\n    for item in haystack:\\n        if item == needle:\\n            break\\n    else:\\n        # The `else` here is a\\n        # \"completion clause\" that runs\\n        # only if the loop ran to completion\\n        # without hitting a `break` statement.\\n        raise ValueError(\\'Needle not found\\')\\n        \\nprint(contains([23, \\'needle\\', 0xbadc0ffee], \\'needle\\'))\\nprint(contains([23, 42, 0xbadc0ffee], \\'needle\\'))',\n",
       "  'def contains(haystack, needle):\\n    \"\"\"\\n    Throw a ValueError if `needle` not\\n    in `haystack`.\\n    \"\"\"\\n    for item in haystack:\\n        if item == needle:\\n            break\\n    else:\\n        # The `else` here is a\\n        # \"completion clause\" that runs\\n        # only if the loop ran to completion\\n        # without hitting a `break` statement.\\n        raise ValueError(\\'Needle not found\\')\\n        \\nprint(contains([23, \\'needle\\', 0xbadc0ffee], \\'needle\\'))\\nprint(contains([23, 42, 0xbadc0ffee], \\'needle\\'))',\n",
       "  'globals()',\n",
       "  'locals()'],\n",
       " '_ii': 'def contains(haystack, needle):\\n    \"\"\"\\n    Throw a ValueError if `needle` not\\n    in `haystack`.\\n    \"\"\"\\n    for item in haystack:\\n        if item == needle:\\n            break\\n    else:\\n        # The `else` here is a\\n        # \"completion clause\" that runs\\n        # only if the loop ran to completion\\n        # without hitting a `break` statement.\\n        raise ValueError(\\'Needle not found\\')\\n        \\nprint(contains([23, \\'needle\\', 0xbadc0ffee], \\'needle\\'))\\nprint(contains([23, 42, 0xbadc0ffee], \\'needle\\'))',\n",
       " '_iii': 'def contains(haystack, needle):\\n    \"\"\"\\n    Throw a ValueError if `needle` not\\n    in `haystack`.\\n    \"\"\"\\n    for item in haystack:\\n        if item == needle:\\n            break\\n    else:\\n        # The `else` here is a\\n        # \"completion clause\" that runs\\n        # only if the loop ran to completion\\n        # without hitting a `break` statement.\\n        raise ValueError(\\'Needle not found\\')\\n        \\nprint(contains([23, \\'needle\\', 0xbadc0ffee], \\'needle\\'))\\nprint(contains([23, 42, 0xbadc0ffee], \\'needle\\'))',\n",
       " '_oh': {2: ['a', 'a', 'a'], 11: {...}},\n",
       " 'a': ['a', 'a', 'a'],\n",
       " 'addToCounter': <function __main__.addToCounter>,\n",
       " 'contains': <function __main__.contains>,\n",
       " 'counter': {'China': 1, 'Japan': 1, 'china': 1},\n",
       " 'exit': <IPython.core.autocall.ZMQExitAutocall at 0x102b94f98>,\n",
       " 'get_ipython': <bound method InteractiveShell.get_ipython of <ipykernel.zmqshell.ZMQInteractiveShell object at 0x102b46780>>,\n",
       " 'quit': <IPython.core.autocall.ZMQExitAutocall at 0x102b94f98>}"
      ]
     },
     "execution_count": 12,
     "metadata": {},
     "output_type": "execute_result"
    }
   ],
   "source": [
    "locals()"
   ]
  },
  {
   "cell_type": "code",
   "execution_count": 4,
   "metadata": {},
   "outputs": [
    {
     "ename": "TypeError",
     "evalue": "'str' object cannot be interpreted as an integer",
     "output_type": "error",
     "traceback": [
      "\u001b[0;31m---------------------------------------------------------------------------\u001b[0m",
      "\u001b[0;31mTypeError\u001b[0m                                 Traceback (most recent call last)",
      "\u001b[0;32m<ipython-input-4-a2bd4f804c1c>\u001b[0m in \u001b[0;36m<module>\u001b[0;34m()\u001b[0m\n\u001b[0;32m----> 1\u001b[0;31m \u001b[0;34m'hello'\u001b[0m\u001b[0;34m.\u001b[0m\u001b[0mzfill\u001b[0m\u001b[0;34m(\u001b[0m\u001b[0;34m'a'\u001b[0m\u001b[0;34m)\u001b[0m\u001b[0;34m\u001b[0m\u001b[0m\n\u001b[0m",
      "\u001b[0;31mTypeError\u001b[0m: 'str' object cannot be interpreted as an integer"
     ]
    }
   ],
   "source": [
    "import re\n",
    "x = re.compile(r'(?!.*(.).*\\1)(?=.*\\d.*\\d.*\\d)(?=.*[A-Z].*[A-Z])[A-Za-z0-9]{10}')\n",
    "\n",
    "t = int(input())\n",
    "\n",
    "for _ in range(t):\n",
    "    uid = input()\n",
    "    if x.match(uid):\n",
    "        print('Valid')\n",
    "    else:\n",
    "        print('Invalid')"
   ]
  },
  {
   "cell_type": "code",
   "execution_count": 3,
   "metadata": {},
   "outputs": [
    {
     "data": {
      "text/plain": [
       "<_sre.SRE_Match object; span=(0, 10), match='B1CDEF2354'>"
      ]
     },
     "execution_count": 3,
     "metadata": {},
     "output_type": "execute_result"
    }
   ],
   "source": [
    "# regex\n",
    "# if else contains\n",
    "import re\n",
    "x = re.compile(r'(?!.*(.).*\\1)(?=.*\\d.*\\d.*\\d)(?=.*[A-Z].*[A-Z])[A-Za-z0-9]{10}')\n",
    "\n",
    "x.match('B1CDEF2354')"
   ]
  },
  {
   "cell_type": "code",
   "execution_count": 15,
   "metadata": {},
   "outputs": [
    {
     "name": "stdout",
     "output_type": "stream",
     "text": [
      "deepak['one'] deepak['one']\n",
      "sood['one', 'two'] deepak['one', 'two']\n",
      "sood['one', 'two'] deepak['one', 'two']\n"
     ]
    }
   ],
   "source": [
    "class Check:\n",
    "    test = 'deepak'\n",
    "    lst = ['one']\n",
    "    \n",
    "    def __str__(self):\n",
    "        return self.test + str(self.lst)\n",
    "    \n",
    "check1 = Check()\n",
    "check2 = Check()\n",
    "print(check1, check2)\n",
    "\n",
    "check1.test = 'sood'\n",
    "check1.lst.append('two')\n",
    "print(check1, check2)\n",
    "print(check1, check2)"
   ]
  },
  {
   "cell_type": "code",
   "execution_count": 29,
   "metadata": {},
   "outputs": [
    {
     "name": "stdout",
     "output_type": "stream",
     "text": [
      "returning x, which is 1\n",
      "setting x to 4\n"
     ]
    }
   ],
   "source": [
    "class My2Vector(object):\n",
    "    def __init__(self, x, y):\n",
    "            self._x = x\n",
    "            self._y = y\n",
    "    def get_x(self):\n",
    "        print(\"returning x, which is {}\".format(self._x))\n",
    "        return self._x\n",
    "    def set_x(self, x):\n",
    "        print(\"setting x to {}\".format(x))\n",
    "        self._x = x\n",
    "            \n",
    "    x = property(get_x, set_x)\n",
    "            \n",
    "\n",
    "v1 = My2Vector(1, 2)\n",
    "x = v1.x # uses the getter, which prints the value \n",
    "v1.x = 4 # uses the setter, printing the value"
   ]
  }
 ],
 "metadata": {
  "kernelspec": {
   "display_name": "Python 3",
   "language": "python",
   "name": "python3"
  },
  "language_info": {
   "codemirror_mode": {
    "name": "ipython",
    "version": 3
   },
   "file_extension": ".py",
   "mimetype": "text/x-python",
   "name": "python",
   "nbconvert_exporter": "python",
   "pygments_lexer": "ipython3",
   "version": "3.7.0"
  }
 },
 "nbformat": 4,
 "nbformat_minor": 2
}
