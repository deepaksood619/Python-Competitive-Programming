{
 "cells": [
  {
   "cell_type": "code",
   "execution_count": 3,
   "metadata": {},
   "outputs": [
    {
     "data": {
      "text/plain": [
       "UUID('251bb32c-3f44-585c-a2fb-fceb6ddfc652')"
      ]
     },
     "execution_count": 3,
     "metadata": {},
     "output_type": "execute_result"
    }
   ],
   "source": [
    "import uuid\n",
    "\n",
    "GLOBAL_UUID = uuid.UUID('c3ca3cf0-34c8-11e1-9bca-030e8139310d')\n",
    "test = uuid.uuid5(GLOBAL_UUID, 'abc')\n",
    "test"
   ]
  },
  {
   "cell_type": "code",
   "execution_count": 4,
   "metadata": {},
   "outputs": [
    {
     "data": {
      "text/plain": [
       "UUID('251bb32c-3f44-585c-a2fb-fceb6ddfc652')"
      ]
     },
     "execution_count": 4,
     "metadata": {},
     "output_type": "execute_result"
    }
   ],
   "source": [
    "test"
   ]
  },
  {
   "cell_type": "code",
   "execution_count": 13,
   "metadata": {},
   "outputs": [
    {
     "name": "stdout",
     "output_type": "stream",
     "text": [
      "{10, 20, 5}\n"
     ]
    },
    {
     "data": {
      "text/plain": [
       "[5, 10, 20]"
      ]
     },
     "execution_count": 13,
     "metadata": {},
     "output_type": "execute_result"
    }
   ],
   "source": [
    "a = set()\n",
    "a.add(20)\n",
    "a.add(10)\n",
    "a.add(5)\n",
    "\n",
    "print(a)\n",
    "sorted(a)\n",
    "# random.choices(a)"
   ]
  },
  {
   "cell_type": "code",
   "execution_count": null,
   "metadata": {},
   "outputs": [],
   "source": [
    "Input:\n",
    "1\n",
    "5\n",
    "31 5 2 1 7\n",
    "Output:\n",
    "5 7 2 1 31"
   ]
  },
  {
   "cell_type": "code",
   "execution_count": null,
   "metadata": {},
   "outputs": [],
   "source": [
    "def sieve(n): \n",
    "    prime = [True for i in range(n + 1)] \n",
    "    p = 2\n",
    "    while (p * p <= n): \n",
    "          \n",
    "        # If prime[p] is not changed, then it is a prime \n",
    "        if (prime[p] == True): \n",
    "              \n",
    "            # Update all multiples of p\n",
    "            for i in range(p * 2, n + 1, p): \n",
    "                prime[i] = False\n",
    "        p += 1\n",
    "    prime[0]= False\n",
    "    prime[1]= False\n",
    "    \n",
    "    lst = []\n",
    "    for p in range(n + 1): \n",
    "        if prime[p]: \n",
    "            lst.append(p)\n",
    "            \n",
    "    return lst\n",
    "            \n",
    "def func(lst, n, prime_lst):\n",
    "    primes = []\n",
    "    sp_primes = []\n",
    "    np_primes = []\n",
    "    \n",
    "#     for \n",
    "    \n",
    "# t = int(input())\n",
    "# prime_lst = sieve(10000000)\n",
    "\n",
    "# for _ in range(t):\n",
    "#     n = int(input())\n",
    "#     lst = list(map(int, input().split()))\n",
    "#     print(func(lst, n, prime_lst))\n",
    "    "
   ]
  },
  {
   "cell_type": "code",
   "execution_count": 2,
   "metadata": {},
   "outputs": [],
   "source": [
    "prime_lst = sieve(10000000)"
   ]
  },
  {
   "cell_type": "code",
   "execution_count": 3,
   "metadata": {},
   "outputs": [
    {
     "data": {
      "text/plain": [
       "[2, 3, 5, 7, 11, 13, 17, 19, 23, 29, 31, 37, 41, 43, 47, 53, 59, 61, 67, 71]"
      ]
     },
     "execution_count": 3,
     "metadata": {},
     "output_type": "execute_result"
    }
   ],
   "source": [
    "prime_lst[:20]"
   ]
  },
  {
   "cell_type": "code",
   "execution_count": null,
   "metadata": {},
   "outputs": [],
   "source": [
    "special_prime = []\n",
    "\n",
    "for i in prime_lst:\n",
    "    "
   ]
  },
  {
   "cell_type": "code",
   "execution_count": null,
   "metadata": {},
   "outputs": [],
   "source": [
    "func([31, 5, 2, 1, 7], 5, prime_lst)"
   ]
  },
  {
   "cell_type": "code",
   "execution_count": null,
   "metadata": {},
   "outputs": [],
   "source": [
    "Input:\n",
    "2\n",
    "6\n",
    "7 9 8 10 12 6\n",
    "5\n",
    "3 5 4 6 9\n",
    "Output:\n",
    "15\n",
    "15\n",
    "\n",
    "Ti = (S1 | (S1 & S2)) ^ (S2 & (S2 | S1))"
   ]
  },
  {
   "cell_type": "code",
   "execution_count": 25,
   "metadata": {},
   "outputs": [],
   "source": [
    "def func(lst, n):\n",
    "    ti = 0\n",
    "    for i in range(0, n-1):\n",
    "        for j in range(i+1, n):\n",
    "            s1 = lst[i]\n",
    "            s2 = lst[j]\n",
    "            in_ti = s1 ^ s2\n",
    "            if in_ti > ti:\n",
    "                ti = in_ti\n",
    "\n",
    "    return ti\n",
    "\n",
    "# t = int(input())\n",
    "\n",
    "# for _ in range(t):\n",
    "#     n = int(input())\n",
    "#     lst = list(map(int, input().split()))\n",
    "#     print(func(lst, n))\n",
    "    "
   ]
  },
  {
   "cell_type": "code",
   "execution_count": 28,
   "metadata": {},
   "outputs": [
    {
     "data": {
      "text/plain": [
       "15"
      ]
     },
     "execution_count": 28,
     "metadata": {},
     "output_type": "execute_result"
    }
   ],
   "source": [
    "func([7, 9, 8, 10, 12, 6], 6)"
   ]
  },
  {
   "cell_type": "code",
   "execution_count": 27,
   "metadata": {},
   "outputs": [],
   "source": [
    "assert func([7, 9, 8, 10, 12, 6], 6) == 15\n",
    "assert func([3, 5, 4, 6, 9], 5) == 15"
   ]
  },
  {
   "cell_type": "code",
   "execution_count": null,
   "metadata": {},
   "outputs": [],
   "source": [
    "Input:\n",
    "2\n",
    "E#R##C\n",
    "FTA##\n",
    "B\n",
    "C\n",
    "Output:\n",
    "Yes\n",
    "No"
   ]
  },
  {
   "cell_type": "code",
   "execution_count": 17,
   "metadata": {},
   "outputs": [
    {
     "data": {
      "text/plain": [
       "'ABCDEFGHIJKLMNOPQRSTUVWXYZ'"
      ]
     },
     "execution_count": 17,
     "metadata": {},
     "output_type": "execute_result"
    }
   ],
   "source": [
    "import string\n",
    "string.ascii_uppercase"
   ]
  },
  {
   "cell_type": "code",
   "execution_count": 37,
   "metadata": {},
   "outputs": [],
   "source": [
    "import string\n",
    "\n",
    "def transform(str1):\n",
    "    lst1 = []\n",
    "    \n",
    "    for i, value in enumerate(str1):\n",
    "        if value == '#':\n",
    "            key = ord(lst1[-1])\n",
    "            if key == 90:\n",
    "                lst1[-1] = 'A'\n",
    "            else:\n",
    "                lst1[-1] = chr(key+1)\n",
    "        else:\n",
    "            lst1.append(value)\n",
    "            \n",
    "    return lst1\n",
    "\n",
    "def func(str1, str2):\n",
    "    lst1 = transform(str1)\n",
    "    lst2 = transform(str2)\n",
    "    print(lst1, lst2)\n",
    "    if transform(str1) == transform(str2):\n",
    "        return 'Yes'\n",
    "    else:\n",
    "        return 'No'\n",
    "\n",
    "t = int(input())\n",
    "\n",
    "for _ in range(t):\n",
    "    str1 = input()\n",
    "    str2 = input()\n",
    "    print(func(str1, str2))"
   ]
  },
  {
   "cell_type": "code",
   "execution_count": 43,
   "metadata": {},
   "outputs": [
    {
     "name": "stdout",
     "output_type": "stream",
     "text": [
      "['F', 'T', 'C'] ['F', 'T', 'C']\n",
      "['B'] ['C']\n",
      "['A', 'B', 'C', 'A'] ['A', 'B', 'C', 'A']\n"
     ]
    },
    {
     "data": {
      "text/plain": [
       "'Yes'"
      ]
     },
     "execution_count": 43,
     "metadata": {},
     "output_type": "execute_result"
    }
   ],
   "source": [
    "func('E#R##C', 'FTA##')\n",
    "func('B', 'C')\n",
    "func('ABCZ#', 'ABCA')"
   ]
  },
  {
   "cell_type": "code",
   "execution_count": null,
   "metadata": {},
   "outputs": [],
   "source": [
    "assert func([5, 7, 9, 10, 11, 13 ,14], 7) == 2\n",
    "assert func([0, 1, 2, 4, 5, 7], 6) == 2\n",
    "assert func([1, 0, 2, 9, 3, 8, 6], 7) == 0\n",
    "assert func([1], 1) == 0\n",
    "assert func([1,2,3,5,6,7,9,10,12,15,14,13], 12) == 3"
   ]
  },
  {
   "cell_type": "code",
   "execution_count": null,
   "metadata": {},
   "outputs": [],
   "source": [
    "Input:\n",
    "3\n",
    "7\n",
    "5 7 9 10 11 13 14\n",
    "6\n",
    "\n",
    "7\n",
    "\n",
    "Output:\n",
    "2\n",
    "2\n",
    "0\n",
    "\n",
    "Expl"
   ]
  },
  {
   "cell_type": "code",
   "execution_count": 9,
   "metadata": {},
   "outputs": [],
   "source": [
    "def func(lst, n):\n",
    "    i = 1\n",
    "    count = 0\n",
    "    flag = False\n",
    "    while i < n:\n",
    "        print('out',i)\n",
    "        while i < n and lst[i] == lst[i-1]+1:\n",
    "            print('int', i)\n",
    "            i += 1\n",
    "            flag = True\n",
    "            \n",
    "        if flag:\n",
    "            count += 1\n",
    "            flag = False\n",
    "        \n",
    "        i += 1\n",
    "        \n",
    "    return count\n",
    "\n",
    "t = int(input())\n",
    "\n",
    "for _ in range(t):\n",
    "    n = int(input())\n",
    "    lst = list(map(int, input().split()))\n",
    "    print(func(lst, n))"
   ]
  },
  {
   "cell_type": "code",
   "execution_count": 15,
   "metadata": {},
   "outputs": [
    {
     "name": "stdout",
     "output_type": "stream",
     "text": [
      "out 1\n",
      "out 2\n",
      "out 3\n",
      "int 3\n",
      "int 4\n",
      "out 6\n",
      "int 6\n",
      "out 1\n",
      "int 1\n",
      "int 2\n",
      "out 4\n",
      "int 4\n",
      "out 1\n",
      "out 2\n",
      "out 3\n",
      "out 4\n",
      "out 5\n",
      "out 6\n",
      "out 1\n",
      "int 1\n",
      "int 2\n",
      "out 4\n",
      "int 4\n",
      "int 5\n",
      "out 7\n",
      "int 7\n",
      "out 9\n",
      "out 10\n",
      "out 11\n"
     ]
    }
   ],
   "source": [
    "assert func([5, 7, 9, 10, 11, 13 ,14], 7) == 2\n",
    "assert func([0, 1, 2, 4, 5, 7], 6) == 2\n",
    "assert func([1, 0, 2, 9, 3, 8, 6], 7) == 0\n",
    "assert func([1], 1) == 0\n",
    "assert func([1,2,3,5,6,7,9,10,12,15,14,13], 12) == 3"
   ]
  },
  {
   "cell_type": "code",
   "execution_count": 2,
   "metadata": {},
   "outputs": [
    {
     "name": "stdout",
     "output_type": "stream",
     "text": [
      "Collecting pyspark\n",
      "\u001b[?25l  Downloading https://files.pythonhosted.org/packages/87/21/f05c186f4ddb01d15d0ddc36ef4b7e3cedbeb6412274a41f26b55a650ee5/pyspark-2.4.4.tar.gz (215.7MB)\n",
      "\u001b[K     |████████████████████████████████| 215.7MB 6.7MB/s eta 0:00:01\n",
      "\u001b[?25hCollecting py4j==0.10.7 (from pyspark)\n",
      "\u001b[?25l  Downloading https://files.pythonhosted.org/packages/e3/53/c737818eb9a7dc32a7cd4f1396e787bd94200c3997c72c1dbe028587bd76/py4j-0.10.7-py2.py3-none-any.whl (197kB)\n",
      "\u001b[K     |████████████████████████████████| 204kB 8.4MB/s eta 0:00:01\n",
      "\u001b[?25hBuilding wheels for collected packages: pyspark\n",
      "  Building wheel for pyspark (setup.py) ... \u001b[?25ldone\n",
      "\u001b[?25h  Created wheel for pyspark: filename=pyspark-2.4.4-py2.py3-none-any.whl size=216130388 sha256=378a904a4a61b8cc383164d522bcbe38738de3f3f95e20eeef7f98fc67e95944\n",
      "  Stored in directory: /Users/deepaksood/Library/Caches/pip/wheels/ab/09/4d/0d184230058e654eb1b04467dbc1292f00eaa186544604b471\n",
      "Successfully built pyspark\n",
      "Installing collected packages: py4j, pyspark\n",
      "Successfully installed py4j-0.10.7 pyspark-2.4.4\n",
      "\u001b[33mWARNING: You are using pip version 19.2.1, however version 19.3.1 is available.\n",
      "You should consider upgrading via the 'pip install --upgrade pip' command.\u001b[0m\n"
     ]
    }
   ],
   "source": [
    "!pip install pyspark"
   ]
  },
  {
   "cell_type": "code",
   "execution_count": 3,
   "metadata": {},
   "outputs": [
    {
     "ename": "ModuleNotFoundError",
     "evalue": "No module named 'pyspark'",
     "output_type": "error",
     "traceback": [
      "\u001b[0;31m---------------------------------------------------------------------------\u001b[0m",
      "\u001b[0;31mModuleNotFoundError\u001b[0m                       Traceback (most recent call last)",
      "\u001b[0;32m<ipython-input-3-088f29363b0f>\u001b[0m in \u001b[0;36m<module>\u001b[0;34m\u001b[0m\n\u001b[0;32m----> 1\u001b[0;31m \u001b[0;32mimport\u001b[0m \u001b[0mpyspark\u001b[0m\u001b[0;34m\u001b[0m\u001b[0m\n\u001b[0m\u001b[1;32m      2\u001b[0m \u001b[0msc\u001b[0m \u001b[0;34m=\u001b[0m \u001b[0mpyspark\u001b[0m\u001b[0;34m.\u001b[0m\u001b[0mSparkContext\u001b[0m\u001b[0;34m(\u001b[0m\u001b[0;34m'local[*]'\u001b[0m\u001b[0;34m)\u001b[0m\u001b[0;34m\u001b[0m\u001b[0m\n\u001b[1;32m      3\u001b[0m \u001b[0;34m\u001b[0m\u001b[0m\n\u001b[1;32m      4\u001b[0m \u001b[0mtxt\u001b[0m \u001b[0;34m=\u001b[0m \u001b[0msc\u001b[0m\u001b[0;34m.\u001b[0m\u001b[0mtextFile\u001b[0m\u001b[0;34m(\u001b[0m\u001b[0;34m'file:////usr/share/doc/python/copyright'\u001b[0m\u001b[0;34m)\u001b[0m\u001b[0;34m\u001b[0m\u001b[0m\n\u001b[1;32m      5\u001b[0m \u001b[0mprint\u001b[0m\u001b[0;34m(\u001b[0m\u001b[0mtxt\u001b[0m\u001b[0;34m.\u001b[0m\u001b[0mcount\u001b[0m\u001b[0;34m(\u001b[0m\u001b[0;34m)\u001b[0m\u001b[0;34m)\u001b[0m\u001b[0;34m\u001b[0m\u001b[0m\n",
      "\u001b[0;31mModuleNotFoundError\u001b[0m: No module named 'pyspark'"
     ]
    }
   ],
   "source": [
    "import pyspark\n",
    "sc = pyspark.SparkContext('local[*]')\n",
    "\n",
    "txt = sc.textFile('file:////usr/local/Cellar/ncurses/6.1/test/package/debian/copyright')\n",
    "print(txt.count())\n",
    "\n",
    "python_lines = txt.filter(lambda line: 'python' in line.lower())\n",
    "print(python_lines.count())"
   ]
  }
 ],
 "metadata": {
  "kernelspec": {
   "display_name": "Python 3",
   "language": "python",
   "name": "python3"
  },
  "language_info": {
   "codemirror_mode": {
    "name": "ipython",
    "version": 3
   },
   "file_extension": ".py",
   "mimetype": "text/x-python",
   "name": "python",
   "nbconvert_exporter": "python",
   "pygments_lexer": "ipython3",
   "version": "3.7.0"
  }
 },
 "nbformat": 4,
 "nbformat_minor": 4
}
